{
 "cells": [
  {
   "cell_type": "code",
   "execution_count": 2,
   "metadata": {},
   "outputs": [
    {
     "data": {
      "text/plain": [
       "'1. Co to oznacza \"LangChain\"?\\n\\n2. Jest to nazwa jakiejś większej jednostki lub platformy, ale nie wiem szczegółowo.\\n\\n3. Możesz dodać, że jest to może program, narzędzie czy serwis internetowy, lecz nie wiem dokładniej.\\n\\n4. Aby dowiedzieć się więcej mamy kilka opcji:\\n- Sprawdzenie strony WWW, gdy jesteś pewien, że jest coś na ten temat na Internetu.\\n- Zadanie pytania w internecie, aby uzyskać szczegółowe informacje o LangChainie.\\n- Skontaktowanie się z firmą lub osobą która go stworzyła, jeśli jesteś pewien, że jest ktoś taki.\\n- Przeglądanie literatury fachowej lub artykułów na ten temat.\\n\\n5. Wybierz jedną z powyższych opcji i dowiedz się więcej o LangChainie!'"
      ]
     },
     "execution_count": 2,
     "metadata": {},
     "output_type": "execute_result"
    }
   ],
   "source": [
    "from langchain_core.prompts import ChatPromptTemplate\n",
    "from langchain_ollama.llms import OllamaLLM\n",
    "\n",
    "template = \"\"\"Question: {question}\n",
    "\n",
    "Answer: Pomyślmy krok po kroku.\"\"\"\n",
    "\n",
    "prompt = ChatPromptTemplate.from_template(template)\n",
    "\n",
    "model = OllamaLLM(model=\"mistral\")\n",
    "\n",
    "chain = prompt | model\n",
    "\n",
    "chain.invoke({\"question\": \"Czym jest LangChain?\"})"
   ]
  },
  {
   "cell_type": "code",
   "execution_count": 3,
   "metadata": {},
   "outputs": [],
   "source": [
    "from langchain_ollama import OllamaEmbeddings\n",
    "\n",
    "embeddings = OllamaEmbeddings(model=\"mistral\")"
   ]
  },
  {
   "cell_type": "code",
   "execution_count": 16,
   "metadata": {},
   "outputs": [],
   "source": [
    "from langchain_qdrant import QdrantVectorStore, RetrievalMode\n",
    "from qdrant_client import QdrantClient\n",
    "from qdrant_client.http.models import Distance, VectorParams\n",
    "\n",
    "client = QdrantClient(\":memory:\")\n",
    "\n",
    "client.create_collection(\n",
    "    collection_name=\"papers_collection\",\n",
    "    vectors_config=VectorParams(size=4096, distance=Distance.COSINE),\n",
    ")\n",
    "\n",
    "vector_store = QdrantVectorStore(\n",
    "    client=client,\n",
    "    collection_name=\"papers_collection\",\n",
    "    embedding=embeddings,\n",
    "    retrieval_mode=RetrievalMode.DENSE\n",
    ")"
   ]
  },
  {
   "cell_type": "code",
   "execution_count": 17,
   "metadata": {},
   "outputs": [],
   "source": [
    "from langchain.document_loaders import PyPDFLoader\n",
    "from langchain.text_splitter import RecursiveCharacterTextSplitter\n",
    "\n",
    "def load_chunks(pdf_path):\n",
    "    loader = PyPDFLoader(pdf_path)\n",
    "    documents = loader.load()\n",
    "\n",
    "    text_splitter = RecursiveCharacterTextSplitter(\n",
    "        chunk_size=1000,\n",
    "        chunk_overlap=200,\n",
    "        length_function=len\n",
    "    )\n",
    "\n",
    "    return text_splitter.split_documents(documents)"
   ]
  },
  {
   "cell_type": "code",
   "execution_count": 18,
   "metadata": {},
   "outputs": [],
   "source": [
    "def vectorize_pdf_content(pdf_path):\n",
    "    chunks = load_chunks(pdf_path)\n",
    "    _ = vector_store.add_documents(documents=chunks)\n",
    "\n",
    "pdf_path = \"Aspirin C.pdf\"\n",
    "vectorize_pdf_content(pdf_path)"
   ]
  },
  {
   "cell_type": "code",
   "execution_count": 19,
   "metadata": {},
   "outputs": [],
   "source": [
    "from langchain_core.runnables import RunnablePassthrough\n",
    "\n",
    "retriever = vector_store.as_retriever(search_kwargs={\"k\": 3})\n",
    "retriever_runnable = {\"question\": RunnablePassthrough(), \"context\": retriever}"
   ]
  },
  {
   "cell_type": "code",
   "execution_count": 34,
   "metadata": {},
   "outputs": [
    {
     "name": "stderr",
     "output_type": "stream",
     "text": [
      "/Users/mwardynski/Documents/ds/_semestr_9/przetwarzanie_jezyka_naturalnego/labs/lab10/.venv/lib/python3.12/site-packages/langsmith/client.py:256: LangSmithMissingAPIKeyWarning: API key must be provided when using hosted LangSmith API\n",
      "  warnings.warn(\n"
     ]
    }
   ],
   "source": [
    "from langchain import hub\n",
    "from langchain_core.output_parsers import StrOutputParser\n",
    "from langchain.schema import SystemMessage\n",
    "\n",
    "prompt = hub.pull(\"rlm/rag-prompt\")\n",
    "\n",
    "prompt_instruction = SystemMessage(\n",
    "    content = \"Zawsze odpowiadaj w języku, w którym otrzymałeś pytanie. \" +\n",
    "    \"Udzielaj zwięzłych odpowiedzi i upewnij się, że twoja odpowiedź jest mocno powiązana z dostarczonym kontekstem.\"\n",
    ")\n",
    "updated_messages = [prompt_instruction] + prompt.messages\n",
    "prompt.messages = updated_messages\n",
    "\n",
    "generator_runnable = prompt | model | StrOutputParser()\n"
   ]
  },
  {
   "cell_type": "code",
   "execution_count": 35,
   "metadata": {},
   "outputs": [],
   "source": [
    "chain = retriever_runnable | generator_runnable"
   ]
  },
  {
   "cell_type": "code",
   "execution_count": 36,
   "metadata": {},
   "outputs": [
    {
     "name": "stdout",
     "output_type": "stream",
     "text": [
      "1. Lek Aspirin C jest przeznaczony dla dorosłych.\n",
      "2. Składnikami czynnymi leku Aspirin C są kwas acetylosalicylowy i witamina C, a pozostałe składniki to sodu cytrynian bezwodny, sodu wodorowęglan, kwas cytrynowy bezwodny oraz sodu węglan bezwodny.\n",
      "3. Pacjentom ze zmniejszoną czynnością nerek i pacjentom kontrolujących zawartość sodu w diecie należy podążać za zaleceniami lekarza lub farmaceuty w stosowaniu leku Aspirin C.\n"
     ]
    }
   ],
   "source": [
    "question = \"dla kogo jest to lek?\"\n",
    "\n",
    "result = chain.invoke(question)\n",
    "print(result)"
   ]
  }
 ],
 "metadata": {
  "kernelspec": {
   "display_name": ".venv",
   "language": "python",
   "name": "python3"
  },
  "language_info": {
   "codemirror_mode": {
    "name": "ipython",
    "version": 3
   },
   "file_extension": ".py",
   "mimetype": "text/x-python",
   "name": "python",
   "nbconvert_exporter": "python",
   "pygments_lexer": "ipython3",
   "version": "3.12.8"
  }
 },
 "nbformat": 4,
 "nbformat_minor": 2
}
