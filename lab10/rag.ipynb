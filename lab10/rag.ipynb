{
 "cells": [
  {
   "cell_type": "markdown",
   "metadata": {},
   "source": [
    "Marcin Wardyński\n",
    "czwartek, 8:00\n",
    "\n",
    "## Laboratorium 10 - RAG"
   ]
  },
  {
   "cell_type": "markdown",
   "metadata": {},
   "source": [
    "Testy jakości odpowiedzi oraz wydajności RAGa wykonam w oparciu o dwa modele: `Mistral` oraz `Llama 3.2`\n",
    "\n",
    "W poniższym kodzie inicjalizuję embeddingi dla Ollama z Langchain:"
   ]
  },
  {
   "cell_type": "code",
   "execution_count": 220,
   "metadata": {},
   "outputs": [],
   "source": [
    "from langchain_ollama import OllamaEmbeddings\n",
    "\n",
    "model_name = \"llama3.2\" # mistral\n",
    "\n",
    "embeddings = OllamaEmbeddings(model=model_name)\n"
   ]
  },
  {
   "cell_type": "markdown",
   "metadata": {},
   "source": [
    "Poniżej tworzę wektorową bazę danych `Qdrant` dla gęstych wektorów osadzenia, oraz definiuję kolekcję: `aspirin`:"
   ]
  },
  {
   "cell_type": "code",
   "execution_count": 221,
   "metadata": {},
   "outputs": [],
   "source": [
    "from langchain_qdrant import QdrantVectorStore, RetrievalMode\n",
    "from qdrant_client import QdrantClient\n",
    "from qdrant_client.http.models import Distance, VectorParams\n",
    "\n",
    "client = QdrantClient(\":memory:\")\n",
    "\n",
    "vecotor_size = 3072 # 4096\n",
    "collection_name = \"aspirin-l-1500\"\n",
    "\n",
    "\n",
    "client.create_collection(\n",
    "    collection_name=collection_name,\n",
    "    vectors_config=VectorParams(size=vecotor_size, distance=Distance.COSINE),\n",
    ")\n",
    "\n",
    "vector_store = QdrantVectorStore(\n",
    "    client=client,\n",
    "    collection_name=collection_name,\n",
    "    embedding=embeddings,\n",
    "    retrieval_mode=RetrievalMode.DENSE\n",
    ")"
   ]
  },
  {
   "cell_type": "markdown",
   "metadata": {},
   "source": [
    "Testy przeprowadzę dla dwóch różnych rozmiarów chunków: 500 i 1500.\n",
    "\n",
    "Poniższa funkcja dzieli tekst z podanego pliku pdf na fragmenty o długości możliwie bliskich zadanym:"
   ]
  },
  {
   "cell_type": "code",
   "execution_count": 222,
   "metadata": {},
   "outputs": [],
   "source": [
    "from langchain.document_loaders import PyPDFLoader\n",
    "from langchain.text_splitter import RecursiveCharacterTextSplitter\n",
    "\n",
    "chunk_size = 1500 # 1500\n",
    "\n",
    "def load_chunks(pdf_path):\n",
    "    loader = PyPDFLoader(pdf_path)\n",
    "    documents = loader.load()\n",
    "\n",
    "    text_splitter = RecursiveCharacterTextSplitter(\n",
    "        chunk_size=chunk_size,\n",
    "        chunk_overlap=chunk_size/5,\n",
    "        length_function=len\n",
    "    )\n",
    "\n",
    "    return text_splitter.split_documents(documents)"
   ]
  },
  {
   "cell_type": "markdown",
   "metadata": {},
   "source": [
    "W tym bloku tekst zostaje przetworzony na osadzenia wektorowe i zapisany w stworzeonej uprzednio kolekcji. Dodatkowo mierzę czas indeksowania pliku.  \n",
    "\n",
    "Plikiem użytym w ćwiczeniu będzie ulotka informacyjna do leku Aspiryna C. Wybrałem taki plik, gdyż zawiera on szerag informacji, na których można testować działanie RAGu, a dodatkowo działanie aspiryny jest szeroko znane, a wiedzę o samym leku można uznać za wiedzę ogólną. Fakt o wiedzy ogólnej chcę wykorzystać w porównaniu RAGa z czystym modelem językowym dla swoistego wyrównania szans, a przynajmniej dla zniwelownia znacznej przewagi jaką uzyskuje RAG otrzymując kontekst dla części generwatywnej. Używając wyłącznie modelu językowego w mojej konfiguracji, cała ulotka jest zbyt długa, by zawrzeć ją w kontekście, więc przeprowadzę test \"closed-book\" i będę bazował wyłącznie na wewnętrznej wiedzy modelu mając nadzieję, że w trakcie treningu poznał on kilka informacji o aspirynie."
   ]
  },
  {
   "cell_type": "code",
   "execution_count": 223,
   "metadata": {},
   "outputs": [
    {
     "name": "stdout",
     "output_type": "stream",
     "text": [
      "execution time: 15.971174240112305\n"
     ]
    }
   ],
   "source": [
    "import time\n",
    "\n",
    "def vectorize_pdf_content(pdf_path):\n",
    "    chunks = load_chunks(pdf_path)\n",
    "    _ = vector_store.add_documents(documents=chunks)\n",
    "\n",
    "start_time = time.time()\n",
    "\n",
    "pdf_path = \"Aspirin C.pdf\"\n",
    "vectorize_pdf_content(pdf_path)\n",
    "\n",
    "execution_time = time.time() - start_time\n",
    "\n",
    "print(f\"execution time: {execution_time}\")"
   ]
  },
  {
   "cell_type": "markdown",
   "metadata": {},
   "source": [
    "Poniższa tabela przedstawia czas indeksowania w zależności od rozmiaru chunka i użytego modelu dla osadzeń wektorowych:\n",
    "\n",
    "| rozmiar chunka | czas indeksowania - mistral | czas indeksowania - llama3.2 |\n",
    "|----------------|-----------------------------|------------------------------|\n",
    "| 500            | 37.7s                       | 17.5s                        |\n",
    "| 1500           | 40.1s                       | 16.5s                        |\n",
    "\n",
    "Jak widzimy, model `Mistral` o 7 miliardach parametrów ma ponad dwókrotnie dłuższy czas indeksowania, niż `Llama 3.2` 3 miliardach parametrów. Na tym przykłazie możnaby stwierdzić, że czas indeksowania rośnie proporcjonalnie do wzrostu liczby parametrów modelu.  \n",
    "Wielkość chunków ma niewielki wpływ na czas trwania indeksowania.\n",
    "\n",
    "Poniższy blok implementuje element Retrievera, który zwaraca trzy fragmenty tekstu z indeksu."
   ]
  },
  {
   "cell_type": "code",
   "execution_count": 224,
   "metadata": {},
   "outputs": [],
   "source": [
    "from langchain_core.runnables import RunnablePassthrough\n",
    "\n",
    "retriever = vector_store.as_retriever(search_kwargs={\"k\": 3})\n",
    "retriever_runnable = {\"question\": RunnablePassthrough(), \"context\": retriever}"
   ]
  },
  {
   "cell_type": "markdown",
   "metadata": {},
   "source": [
    "Zadanie wykonam na kilku promptach dla modelu językowego. Oto rodzaje promptów, które chcę wypróbować:\n",
    "- Zero-shot jedynie z pytaniem i krótkim poleceniem dla modelu\n",
    "- Zero-shot z dodatkową specyfikacją zachowania modelu\n",
    "- Few-shot z jednym przykładem i specyfikacją zachowania modelu"
   ]
  },
  {
   "cell_type": "code",
   "execution_count": 225,
   "metadata": {},
   "outputs": [],
   "source": [
    "template_1_rag = \"\"\"\n",
    "Jesteś asystente w zadaniu odpowiadania na pytania. Użyj podpowiedzi zawartej w kontekście.\n",
    "\n",
    "Kontekst: {context}\n",
    "Pytanie: {question}\n",
    "Odpowiedź:\n",
    "\"\"\"\n",
    "\n",
    "template_2_rag = \"\"\"\n",
    "Jesteś asystente w zadaniu odpowiadania na pytania. Użyj podpowiedzi zawartej w kontekście.\n",
    "Udzielaj zwięzłych odpowiedzi i upewnij się, że twoja odpowiedź jest mocno powiązana z dostarczonym kontekstem.\n",
    "\n",
    "Kontekst: {context}\n",
    "Pytanie: {question}\n",
    "Odpowiedź:\n",
    "\"\"\"\n",
    "\n",
    "template_3_rag = \"\"\"\n",
    "Jesteś asystente w zadaniu odpowiadania na pytania. Użyj podpowiedzi zawartej w kontekście.\n",
    "Udzielaj zwięzłych odpowiedzi i upewnij się, że twoja odpowiedź jest mocno powiązana z dostarczonym kontekstem.\n",
    "Wzoruj się na poniższych przykładach:\n",
    "\n",
    "Przykład 1:\n",
    "Kontekst: Prowadzenie pojazdów i obsługiwanie maszyn: Lek nie ma wpływu.\n",
    "Pytanie: Czy po zażyciu Aspirin C można prowadzić samochód?\n",
    "Odpowiedź: Tak, lek nie ma wpływu na możliwość prowadzenia samochodu.\n",
    "\n",
    "Przykład 2:\n",
    "Kontekst: Jedna tabletka musująca zawiera 467 mg sodu (głównego składnika soli kuchennej).\n",
    "Pytanie: Ile mg sodu zawiera jedna tabletka?\n",
    "Odpowiedź: Jedna tabletka zawiera 467 mg sodu.\n",
    "\n",
    "Przykład 3:\n",
    "Kontekst: W przypadku pominięcia dawki leku i utrzymywania się dolegliwości należy przyjąć następną dawkę leku Aspirin C. Nie należy stosować dawki podwójnej w celu uzupełnienia pominiętej dawki.\n",
    "Pytanie: Co zrobić, gdy dawka leku została pominięta?\n",
    "Odpowiedź: Należy przyjąć następną dawkę i nie stosować dawki podwójnej. \n",
    "\n",
    "Twoje zadanie:\n",
    "Kontekst: {context}\n",
    "Pytanie: {question}\n",
    "\n",
    "Odpowiedź:\n",
    "\"\"\""
   ]
  },
  {
   "cell_type": "code",
   "execution_count": 264,
   "metadata": {},
   "outputs": [],
   "source": [
    "from langchain_core.output_parsers import StrOutputParser\n",
    "from langchain.prompts import PromptTemplate\n",
    "from langchain.schema import SystemMessage\n",
    "from langchain_ollama.llms import OllamaLLM\n",
    "\n",
    "prompt = PromptTemplate(\n",
    "    input_variables=[\"context\", \"question\"],\n",
    "    template=template_3_rag\n",
    ")\n",
    "\n",
    "model = OllamaLLM(model=model_name)\n",
    "\n",
    "generator_runnable = prompt | model | StrOutputParser()\n"
   ]
  },
  {
   "cell_type": "code",
   "execution_count": 265,
   "metadata": {},
   "outputs": [],
   "source": [
    "rag_chain = retriever_runnable | generator_runnable"
   ]
  },
  {
   "cell_type": "markdown",
   "metadata": {},
   "source": [
    "Pytania do sprawdzenia działania RAGa:\n",
    "- Jaką substancję czynną zawiera Aspirin C?\n",
    "- W jakim wieku można przyjmować Aspirin C?\n",
    "- Czy kobiety ciężarne mogą przyjmować ten lek?\n",
    "- Czy lek można łączyć z alkoholem?\n",
    "- Jak przechowywać Aspirin C?\n",
    "\n",
    "Odpowiedzi:\n",
    "- kwas acetylosalicylowy oraz witaminę C\n",
    "- od 12 roku życia\n",
    "- W trzecim trymestrze mogą, a w pierwszym i drugim nie powinny\n",
    "- Alkohol może zwiększyć ryzyko wystąpienia działań niepożądanych ze strony przewodu pokarmowego, tj. owrzodzenie błony śluzowej lub krwawienia.\n",
    "- Przechowywać w temperaturze poniżej 25ºC."
   ]
  },
  {
   "cell_type": "code",
   "execution_count": 280,
   "metadata": {},
   "outputs": [
    {
     "name": "stdout",
     "output_type": "stream",
     "text": [
      "Lek na receptę powinien być przechowywany w miejscu niedostępnym dzieciom i osobom niepełnoletnimi.\n"
     ]
    }
   ],
   "source": [
    "question = \"Jak przechowywać Aspirin C?\"\n",
    "\n",
    "result = rag_chain.invoke(question)\n",
    "print(result)"
   ]
  },
  {
   "cell_type": "markdown",
   "metadata": {},
   "source": [
    "Model: `Llama 3.2`, rozmiar chunk-ów: 1500 znaków, numer prompta: 1, czas wykonania: 6s\n",
    "Pytanie: *Jaką substancję czynną zawiera Aspirin C?*  \n",
    "Odpowiedź: *Substancją czynną w leku Aspirin C jest kwas acetylosalicylowy.*\n",
    "\n",
    "Pytanie: *W jakim wieku można przyjmować Aspirin C?*  \n",
    "Odpowiedź: *Lek Aspirin C nie może być przyjmowany u dzieci poniżej 12 roku życia.*\n",
    "\n",
    "Pytanie: *Czy kobiety ciężarne mogą przyjmować ten lek?*  \n",
    "Odpowiedź: *Kobiety ciężarne nie powinny przyjmować leku Aspirin C, poza przypadkami w których konieczna jest jego przyjęcie za zgodą lekarza.*\n",
    "\n",
    "Pytanie: *Czy lek można łączyć z alkoholem?*  \n",
    "Odpowiedź: *Nie, lek Aspirin C nie powinien być łączony z alkoholem. Alkohol może pogorszyć efekty leku i powodować negatywne interakcje.*\n",
    "\n",
    "Pytanie: *Jak przechowywać Aspirin C?*  \n",
    "Odpowiedź: *Niestety, nie ma informacji o sposobach przechowywania leku Aspirin C w dostępnym treści.*\n",
    "\n",
    "===================================================================\n",
    "\n",
    "Model: `Llama 3.2`, rozmiar chunk-ów: 1500 znaków, numer prompta: 2, czas wykonania: 6s\n",
    "Pytanie: *Jaką substancję czynną zawiera Aspirin C?*  \n",
    "Odpowiedź: *Aspirin C zawiera jako substancję czynną kwas acetylosalicylowy.*\n",
    "\n",
    "Pytanie: *W jakim wieku można przyjmować Aspirin C?*  \n",
    "Odpowiedź: *Lek Aspirin C powinien być przyjmowany tylko przez osoby w wieku ponad 12 roku życia.*\n",
    "\n",
    "Pytanie: *Czy kobiety ciężarne mogą przyjmować ten lek?*  \n",
    "Odpowiedź: *Nie, kobiety ciężarne nie powinny przyjmować tego leku.*\n",
    "\n",
    "Pytanie: *Czy lek można łączyć z alkoholem?*  \n",
    "Odpowiedź: *Nie, lek Aspirin C powinien być stosowany bezpośrednio przed lub po przyjęciu alkoholu. Alkohol może rozwijać niepożądane działania leku, takie jak zwiększone ryzyko niesawietności i śpiączki.*\n",
    "\n",
    "Pytanie: *Jak przechowywać Aspirin C?*  \n",
    "Odpowiedź: *Przestrzeń magazynowej drygą i szubienicą na wysokości 15-20°C i w miejscach nie narażonych dla promieni UV.*\n",
    "\n",
    "===================================================================\n",
    "\n",
    "Model: `Llama 3.2`, rozmiar chunk-ów: 1500 znaków, numer prompta: 3, czas wykonania: 7s\n",
    "Pytanie: *Jaką substancję czynną zawiera Aspirin C?*  \n",
    "Odpowiedź: *Lek Aspirin C zawiera kwas acetylosalicylowy.*\n",
    "\n",
    "Pytanie: *W jakim wieku można przyjmować Aspirin C?*  \n",
    "Odpowiedź: *U dzieci poniżej 12 roku życia leków zawierających kwas acetylosalicylowy nie należy stosować, a u młodzieży powyżej 12 roku życia leki zawierające kwas acetylosalicylowy można stosować wyłącznie na zlecenie lekarza.*\n",
    "\n",
    "Pytanie: *Czy kobiety ciężarne mogą przyjmować ten lek?*  \n",
    "Odpowiedź: *Nie, lek Aspirin C nie powinien być wykorzystywany przez kobiety w trakcie ciąży i w okresie późniejszym po porodzie.*\n",
    "\n",
    "Pytanie: *Czy lek można łączyć z alkoholem?*  \n",
    "Odpowiedź: *Nie, lek Aspirin C nie może być łączony z alkoholem. W razie jakichkolwiek wątpliwości związanych ze stosowaniem tego leku należy zwrócić się do lekarza lub farmaceuty.*\n",
    "\n",
    "Pytanie: *Jak przechowywać Aspirin C?*  \n",
    "Odpowiedź: *Lek na receptę powinien być przechowywany w miejscu niedostępnym dzieciom i osobom niepełnoletnimi.*"
   ]
  },
  {
   "cell_type": "markdown",
   "metadata": {},
   "source": [
    "Model: `Llama 3.2`, rozmiar chunk-ów: 500 znaków, numer prompta: 1, czas wykonania: ok 2.5s\n",
    "Pytanie: *Jaką substancję czynną zawiera Aspirin C?*  \n",
    "Odpowiedź: *Substancją czynną leku Aspirin C jest kwas acetylosalicylowy.*\n",
    "\n",
    "Pytanie: *W jakim wieku można przyjmować Aspirin C?*  \n",
    "Odpowiedź: *Lek Aspirin C może być przyjmowany przez dorośli w wieku od 1 roku życia.*\n",
    "\n",
    "Pytanie: *Czy kobiety ciężarne mogą przyjmować ten lek?*  \n",
    "Odpowiedź: *Nie należy stosować leków zawierających kwas acetylosalicylowy u kobiet w pierwszym i drugim trymestrze ciąży, chyba że jest to bezwzględnie konieczne.*\n",
    "\n",
    "Pytanie: *Czy lek można łączyć z alkoholem?*  \n",
    "Odpowiedź: *Nie.*\n",
    "\n",
    "Pytanie: *Jak przechowywać Aspirin C?*  \n",
    "Odpowiedź: *Nie ma informacji w dokumentach o sposobie przechowywania leku Aspirin C.*\n",
    "\n",
    "===================================================================\n",
    "\n",
    "Model: `Llama 3.2`, rozmiar chunk-ów: 500 znaków, numer prompta: 2, czas wykonania: ok 2.5s\n",
    "Pytanie: *Jaką substancję czynną zawiera Aspirin C?*  \n",
    "Odpowiedź: *Aspirin C zawiera kwas acetylosalicylowy jako substancję czynną.*\n",
    "\n",
    "Pytanie: *W jakim wieku można przyjmować Aspirin C?*  \n",
    "Odpowiedź: *Aspirin C powinno być przepisane tylko dla dorosłych osób zgodnie z opisem w ulotce, a nie dla dzieci. Oznacza to, że Aspirin C nie powinno być przyjmowane przez dzieci poniżej 12 lat.*\n",
    "\n",
    "Pytanie: *Czy kobiety ciężarne mogą przyjmować ten lek?*  \n",
    "Odpowiedź: *Nie. Kobiety w pierwszym i drugim trymestrze ciąży nie powinny zawsze przyjmować leku Aspirin C, chyba że jest to bezwzględnie konieczne.*\n",
    "\n",
    "Pytanie: *Czy lek można łączyć z alkoholem?*  \n",
    "Odpowiedź: *Nie jest zalecane łączyć leku Aspirin C z alkoholem.*\n",
    "\n",
    "Pytanie: *Jak przechowywać Aspirin C?*  \n",
    "Odpowiedź: *Odpowiedź nie jest dostępna w kontekście podanym. Kontekst opisuje korzystanie z leku Aspirin C i jego dawkowanie, ale nie omawia sposobu przechowywania leku.*\n",
    "\n",
    "===================================================================\n",
    "\n",
    "Model: `Llama 3.2`, rozmiar chunk-ów: 500 znaków, numer prompta: 3, czas wykonania: ok 4s\n",
    "Pytanie: *Jaką substancję czynną zawiera Aspirin C?*  \n",
    "Odpowiedź: *Substancją czynną leku Aspirin C jest kwas acetylosalicylowy.*\n",
    "\n",
    "Pytanie: *W jakim wieku można przyjmować Aspirin C?*  \n",
    "Odpowiedź: *W związku z treścią dokumentu, aspektem, który powinien być uwzględniony, kiedy dziecko może przyjąć Aspirin C to wiek 12 lat.*\n",
    "\n",
    "Pytanie: *Czy kobiety ciężarne mogą przyjmować ten lek?*  \n",
    "Odpowiedź: *Nie. Według ulotki do pacjenta, nie należy stosować leków zawierających kwas acetylosalicylowy u kobiet w pierwszym i drugim trymestrze ciąży, chyba że jest to bezwzględnie konieczne.*\n",
    "\n",
    "Pytanie: *Czy lek można łączyć z alkoholem?*  \n",
    "Odpowiedź: *Nie. Lek Aspirin C nie powinien być łączony z alkoholem, ponieważ może przyczynić się do zwiększenia ryzyka zatrucia.*\n",
    "\n",
    "Pytanie: *Jak przechowywać Aspirin C?*  \n",
    "Odpowiedź: *Z powodu braku informacji na temat przechowywania leku Aspirin C w kontekście zadanejapytania, nie udzielę konkretnych zaleceń.*"
   ]
  },
  {
   "cell_type": "markdown",
   "metadata": {},
   "source": [
    "Poniżej definiuję szablony do użycia z modelem językowym, który występuje samodzielnie i nie jest częścią RAGa. Szablony odpowiadają tym dla RAGa, tylko została z nich usunięta sekcja odpowiedzialna za kontekst."
   ]
  },
  {
   "cell_type": "code",
   "execution_count": 267,
   "metadata": {},
   "outputs": [],
   "source": [
    "template_1_lm = \"\"\"\n",
    "Jesteś asystente w zadaniu odpowiadania na pytania.\n",
    "\n",
    "Pytanie: {question}\n",
    "Odpowiedź:\n",
    "\"\"\"\n",
    "\n",
    "template_2_lm = \"\"\"\n",
    "Jesteś asystente w zadaniu odpowiadania na pytania. Udzielaj zwięzłych odpowiedzi.\n",
    "\n",
    "Pytanie: {question}\n",
    "Odpowiedź:\n",
    "\"\"\"\n",
    "\n",
    "template_3_lm = \"\"\"\n",
    "Jesteś asystente w zadaniu odpowiadania na pytania. Udzielaj zwięzłych odpowiedzi.\n",
    "Wzoruj się na poniższych przykładach:\n",
    "\n",
    "Przykład 1:\n",
    "Pytanie: Czy po zażyciu Aspirin C można prowadzić samochód?\n",
    "Odpowiedź: Tak, lek nie ma wpływu na możliwość prowadzenia samochodu.\n",
    "\n",
    "Przykład 2:\n",
    "Pytanie: Ile mg sodu zawiera jedna tabletka?\n",
    "Odpowiedź: Jedna tabletka zawiera 467 mg sodu.\n",
    "\n",
    "Przykład 3:\n",
    "Pytanie: Co zrobić, gdy dawka leku została pominięta?\n",
    "Odpowiedź: Należy przyjąć następną dawkę i nie stosować dawki podwójnej. \n",
    "\n",
    "Twoje zadanie:\n",
    "Pytanie: {question}\n",
    "Odpowiedź:\n",
    "\"\"\""
   ]
  },
  {
   "cell_type": "code",
   "execution_count": 268,
   "metadata": {},
   "outputs": [
    {
     "data": {
      "text/plain": [
       "'Aspirin C to produkt farmakologiczny, który zawiera acetaminofen jako substancję czynną.'"
      ]
     },
     "execution_count": 268,
     "metadata": {},
     "output_type": "execute_result"
    }
   ],
   "source": [
    "from langchain_core.prompts import ChatPromptTemplate\n",
    "from langchain_ollama.llms import OllamaLLM\n",
    "\n",
    "prompt = ChatPromptTemplate.from_template(template_1_lm)\n",
    "\n",
    "model = OllamaLLM(model=model_name)\n",
    "\n",
    "lm_chain = prompt | model | StrOutputParser()\n",
    "\n",
    "lm_chain.invoke({\"question\": question})"
   ]
  },
  {
   "cell_type": "markdown",
   "metadata": {},
   "source": [
    "Model: `Llama 3.2`, numer prompta: 1, czas wykonania: 1s  \n",
    "Pytanie: *Jaką substancję czynną zawiera Aspirin C?*  \n",
    "Odpowiedź: *Substancją czynną w Aspirine C jest acetylozyd kwasu parabenzojsowego (ACETAMINOFEN).*\n",
    "\n",
    "Pytanie: *W jakim wieku można przyjmować Aspirin C?*  \n",
    "Odpowiedź: *Aspirin C (w postaci tabletek lub rozcieńczonych w lekach) jest stosowana głównie u dzieci i młodych dorosłych. Optymalna wieku do przyjęcia Aspirin C to:\\n\\n- Dzieci w wieku od 6 lat, jeżeli są zdiagnozowane choroba w której Aspirin C jest zaproponowany przez lekarza.\\n- Dzieci w wieku od 2-5 lat mogą otrzymywać Aspirin C pod nadzorem lekarskim i dopiero wtedy, jeśli zdiagnozowana choroba to powyższy wiek.*\n",
    "\n",
    "Pytanie: *Czy kobiety ciężarne mogą przyjmować ten lek?*  \n",
    "Odpowiedź: *Mam przerwać Ci - nie jestem lekarzem, ale mogę przeglądnąć przewodowy informacje. \\n\\nCzemu takiego pytania? Ten lek jest przeznaczony głównie dla mężczyzn z objawami choroby na płcie, takimi jak bóle podczas ejakulacji, astenia lub zaburzenia erekcji. Kobiety ciężarne nie powinny przyjmować tego leku bez specjalnej wizyty u lekarza, chyba że jest to konieczne w przypadku life-savingowej medycyny.\\n\\nJeśli kobieta jest w ciąży lub maceriuje, powinna skonsultować swojego lekara o moim leku. On/ona może określić, czy jest to bezpieczne dla fetus i dlaczego.*\n",
    "\n",
    "Pytanie: *Czy lek można łączyć z alkoholem?*  \n",
    "Odpowiedź: *Nie rekomenduje się łączenia leków z alkoholem, ponieważ może to powodować negatywnie interagujące efekty.\\n\\nAlkohol może wpłynąć na metabolizm leków, zmniejszając ich skuteczność lub przyczyniając do wytworzenia nowych efektywnych substancji w organizmie. Zadane interakcje mogą być poważne i grozić życiem.\\n\\nJeśli jesteś zainteresowany przyjmowaniem leków, zawsze skonsultuj się z lekarzem lub farmaceutycznym specjalistą. On/ona może poinformować o semua potencjalnych interakcjach z alkoholem i wskazać najlepszą strategię użytkownika.*\n",
    "\n",
    "Pytanie: *Jak przechowywać Aspirin C?*  \n",
    "Odpowiedź: *Aspirin C powinny być przechowywane w lodzie, aby utrzymać skuteczność leku.*\n",
    "\n",
    "=========================================================\n",
    "\n",
    "Model: `Llama 3.2`, numer prompta: 2, czas wykonania: 1s  \n",
    "Pytanie: *Jaką substancję czynną zawiera Aspirin C?*  \n",
    "Odpowiedź: *Aspirin C zawiera fenacetyd w ilości około 80%.*\n",
    "\n",
    "Pytanie: *W jakim wieku można przyjmować Aspirin C?*  \n",
    "Odpowiedź: *Aspirin C można przyjmować od 6 roku życia, ale powinno być poddawane szczególnym uzgodnieniom z lekarzem.*\n",
    "\n",
    "Pytanie: *Czy kobiety ciężarne mogą przyjmować ten lek?*  \n",
    "Odpowiedź: *Nie, kobiety ciężarne nie powinny przyjmować tego leku bez wcześniejszego uzgodnienia z lekarzem.*\n",
    "\n",
    "Pytanie: *Czy lek można łączyć z alkoholem?*  \n",
    "Odpowiedź: *Nie, nie zalecane jest łączenie leku z alkoholem, ponieważ może to spowodować niepożądane reakcje lub zmniejsza skuteczność leku.*\n",
    "\n",
    "Pytanie: *Jak przechowywać Aspirin C?*  \n",
    "Odpowiedź: *Aspirin C powinien być przechowywany w suchym i ciemnym miejscu, odlotnie od źródła światła. Powinien być chroniony przed wilgomością i mechanicznym uszkodzeniem.*\n",
    "\n",
    "=========================================================\n",
    "\n",
    "Model: `Llama 3.2`, numer prompta: 3, czas wykonania: 2s  \n",
    "Pytanie: *Jaką substancję czynną zawiera Aspirin C?*  \n",
    "Odpowiedź: *Substancją czynną Aspirin C jest acetylosalicylan.*\n",
    "\n",
    "Pytanie: *W jakim wieku można przyjmować Aspirin C?*  \n",
    "Odpowiedź: *Wiek, w którym można przyjmować Aspirin C, to od 16 lat.*\n",
    "\n",
    "Pytanie: *Czy kobiety ciężarne mogą przyjmować ten lek?*  \n",
    "Odpowiedź: *Nie, należy zdecydowanie unikać przyjęcia Aspirinu C podczas ciąży. Lek może wywołać negatywny wpływ na ciążę i poczęcie.*\n",
    "\n",
    "Pytanie: *Czy lek można łączyć z alkoholem?*  \n",
    "Odpowiedź: *Nie, nie recommenduje się łączenia leku z alkoholem.*\n",
    "\n",
    "Pytanie: *Jak przechowywać Aspirin C?*  \n",
    "Odpowiedź: *Aspirin C powinno być przechowywane w miejscu drymowym, na wysokości 10-20°C. Unikaj jego zastygania w temperaturze poniżej 8°C lub przekroczenia 25°C.*"
   ]
  },
  {
   "cell_type": "markdown",
   "metadata": {},
   "source": [
    "=========================================================\n",
    "\n",
    "Model: `Mistral`, numer prompta: 1\n",
    "Pytanie: *Jaką substancję czynną zawiera Aspirin C?*  \n",
    "Odpowiedź: **\n",
    "\n",
    "Pytanie: *W jakim wieku można przyjmować Aspirin C?*  \n",
    "Odpowiedź: **\n",
    "\n",
    "Pytanie: *Czy kobiety ciężarne mogą przyjmować ten lek?*  \n",
    "Odpowiedź: **\n",
    "\n",
    "Pytanie: *Czy lek można łączyć z alkoholem?*  \n",
    "Odpowiedź: **\n",
    "\n",
    "Pytanie: *Jak przechowywać Aspirin C?*  \n",
    "Odpowiedź: **"
   ]
  }
 ],
 "metadata": {
  "kernelspec": {
   "display_name": ".venv",
   "language": "python",
   "name": "python3"
  },
  "language_info": {
   "codemirror_mode": {
    "name": "ipython",
    "version": 3
   },
   "file_extension": ".py",
   "mimetype": "text/x-python",
   "name": "python",
   "nbconvert_exporter": "python",
   "pygments_lexer": "ipython3",
   "version": "3.12.8"
  }
 },
 "nbformat": 4,
 "nbformat_minor": 2
}
