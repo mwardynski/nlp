{
 "cells": [
  {
   "cell_type": "markdown",
   "metadata": {},
   "source": [
    "Marcin Wardyński  \n",
    "czwartek, 8:00\n",
    "\n",
    "## Lab 2\n",
    "\n",
    "Używam zdockeryzowanego Elasticsearch z repozytorium i zakładam, że przed wykonaniem jakichkolwiek zapytań kontener ten zostanie uruchomiony."
   ]
  },
  {
   "cell_type": "markdown",
   "metadata": {},
   "source": [
    "Definiuję nazwę indeksu oraz adres url Elastichsearch:"
   ]
  },
  {
   "cell_type": "code",
   "execution_count": 104,
   "metadata": {},
   "outputs": [],
   "source": [
    "es_url = \"http://localhost:9200\"\n",
    "index_name = \"mw_nlp_lab2\"\n",
    "\n",
    "index_url = F\"{es_url}/{index_name}\""
   ]
  },
  {
   "cell_type": "markdown",
   "metadata": {},
   "source": [
    "Usuwam indeks, jeśli już istniał:"
   ]
  },
  {
   "cell_type": "code",
   "execution_count": null,
   "metadata": {},
   "outputs": [
    {
     "name": "stdout",
     "output_type": "stream",
     "text": [
      "Index 'mw_nlp_lab2' deleted successfully.\n"
     ]
    }
   ],
   "source": [
    "import requests\n",
    "\n",
    "delete_response = requests.delete(f\"{index_url}\")\n",
    "\n",
    "# Check if the deletion was successful\n",
    "if delete_response.status_code == 200:\n",
    "    print(f\"Index '{index_name}' deleted successfully.\")\n",
    "else:\n",
    "    print(f\"Failed to delete index '{index_name}': {delete_response.text}\")"
   ]
  },
  {
   "cell_type": "markdown",
   "metadata": {},
   "source": [
    "Listuję istniejące indeksy, żeby sprawdzić skuteczność usunięcia indeksu."
   ]
  },
  {
   "cell_type": "code",
   "execution_count": 106,
   "metadata": {},
   "outputs": [
    {
     "data": {
      "text/plain": [
       "b'[]'"
      ]
     },
     "execution_count": 106,
     "metadata": {},
     "output_type": "execute_result"
    }
   ],
   "source": [
    "import requests\n",
    "\n",
    "index_list_response = requests.get(f\"{es_url}/_cat/indices?format=json\")\n",
    "index_list_response.content"
   ]
  },
  {
   "cell_type": "markdown",
   "metadata": {},
   "source": [
    "Tworzę indeks na dokumenty ze zbioru FiQA-PL, oraz analizatory zgodnie z poleceniem 3, 4 i 5.\n",
    "Różne analizatory definiuję na poziomie pól wewnętrzenych pola `text`, co pozwala zdefiniować tylko pole nadrzędne przy indeksowaniu danych."
   ]
  },
  {
   "cell_type": "code",
   "execution_count": null,
   "metadata": {},
   "outputs": [
    {
     "name": "stdout",
     "output_type": "stream",
     "text": [
      "Index created.\n"
     ]
    }
   ],
   "source": [
    "import requests\n",
    "import json\n",
    "\n",
    "fiqa_index_settings = {\n",
    "    \"settings\": {\n",
    "        \"analysis\": {\n",
    "            \"filter\": {\n",
    "                \"polish_months_synonym\": {\n",
    "                    \"type\": \"synonym\",\n",
    "                    \"synonyms\": [\n",
    "                        \"kwiecień, kwi, IV\",\n",
    "                    ]\n",
    "                },\n",
    "                \"polish_morfologik\": {\n",
    "                    \"type\": \"morfologik_stem\"\n",
    "                }\n",
    "            },\n",
    "            \"analyzer\": {\n",
    "                \"polish_analyzer_syn_morf\": {\n",
    "                    \"type\": \"custom\",\n",
    "                    \"tokenizer\": \"standard\",\n",
    "                    \"filter\": [\n",
    "                        \"lowercase\",\n",
    "                        \"polish_months_synonym\",\n",
    "                        \"polish_morfologik\",\n",
    "                        \"lowercase\"\n",
    "                    ]\n",
    "                },\n",
    "                \"polish_analyzer_nsyn_morf\": {\n",
    "                    \"type\": \"custom\",\n",
    "                    \"tokenizer\": \"standard\",\n",
    "                    \"filter\": [\n",
    "                        \"lowercase\",\n",
    "                        \"polish_morfologik\",\n",
    "                        \"lowercase\"\n",
    "                    ]\n",
    "                }\n",
    "            }\n",
    "        }\n",
    "    },\n",
    "    \"mappings\": {\n",
    "        \"properties\": {\n",
    "            \"text\": {\n",
    "                \"type\": \"text\",\n",
    "                \"fields\": {\n",
    "                    \"analyzed_1\": {\n",
    "                        \"type\": \"text\",\n",
    "                        \"analyzer\": \"polish_analyzer_syn_morf\"\n",
    "                    },\n",
    "                    \"analyzed_2\": {\n",
    "                        \"type\": \"text\",\n",
    "                        \"analyzer\": \"polish_analyzer_nsyn_morf\"\n",
    "                    }\n",
    "                }\n",
    "            }\n",
    "        }\n",
    "  }\n",
    "}\n",
    "\n",
    "response = requests.put(index_url, headers={\"Content-Type\": \"application/json\"}, data=json.dumps(fiqa_index_settings))\n",
    "if response.status_code == 200:\n",
    "    print(\"Index created.\")\n",
    "else:\n",
    "    print(f\"Index creation failed: {response.text}\")\n"
   ]
  },
  {
   "cell_type": "markdown",
   "metadata": {},
   "source": [
    "Ładuję dane do indeksu w formie pojedyńczego batcha:"
   ]
  },
  {
   "cell_type": "code",
   "execution_count": 108,
   "metadata": {},
   "outputs": [
    {
     "name": "stdout",
     "output_type": "stream",
     "text": [
      "All documents indexed successfully.\n"
     ]
    }
   ],
   "source": [
    "from datasets import load_dataset\n",
    "\n",
    "fiqa_dataset = load_dataset(\"clarin-knext/fiqa-pl\", name=\"corpus\")\n",
    "\n",
    "bulk_data = \"\"\n",
    "for entry in fiqa_dataset[\"corpus\"]:\n",
    "    doc_id = entry[\"_id\"]\n",
    "    bulk_data += json.dumps({\"index\": {\"_index\": index_name, \"_id\": doc_id}}) + \"\\n\"\n",
    "    bulk_data += json.dumps({\"text\": entry['text']}) + \"\\n\"\n",
    "\n",
    "        \n",
    "\n",
    "bulk_response = requests.post(f\"{es_url}/_bulk\", headers={\"Content-Type\": \"application/x-ndjson\"}, data=bulk_data)\n",
    "\n",
    "if bulk_response.status_code == 200:\n",
    "    response_data = bulk_response.json()\n",
    "    if any(item.get(\"index\", {}).get(\"error\") for item in response_data[\"items\"]):\n",
    "        print(\"Some documents failed to index:\")\n",
    "        for item in response_data[\"items\"]:\n",
    "            if \"error\" in item[\"index\"]:\n",
    "                print(item[\"index\"][\"error\"])\n",
    "    else:\n",
    "        print(\"All documents indexed successfully.\")\n",
    "else:\n",
    "    print(f\"Failed to index data: {bulk_response.text}\")"
   ]
  },
  {
   "cell_type": "markdown",
   "metadata": {},
   "source": [
    "Punkt 7: Znajduję liczbę dokumentów oraz dopasowań dla słowa \"kwiecień\".  \n",
    "Do wyszukania dokumentów wystarczy wywołać endpoint `/_search`, natomiast dla znalezienia ilości dopasowań przekazuję w zapytaniu parametr `highlight`, który instruuje Elasticsearch w celu zaznaczenia poszukiwanej frazy w znalezionych dokumentach. Po zliczeniu i zsumowaniu \"zakreślonych\" fraz, uzyskujemy kompletną liczbę dopasowań."
   ]
  },
  {
   "cell_type": "code",
   "execution_count": 179,
   "metadata": {},
   "outputs": [
    {
     "name": "stdout",
     "output_type": "stream",
     "text": [
      "Found 306 documents and 439 matches of 'kwiecień' in text.analyzed_1.\n"
     ]
    }
   ],
   "source": [
    "search_word = \"kwiecień\" \n",
    "search_field = \"text.analyzed_1\"\n",
    "\n",
    "max_docs_no = 1000\n",
    "max_highlights_no = 100\n",
    "\n",
    "search_query = {\n",
    "    \"size\": max_docs_no,\n",
    "    \"query\": {\n",
    "        \"match\": {\n",
    "            search_field: search_word\n",
    "        }\n",
    "    },\n",
    "    \"highlight\": {\n",
    "        \"fields\": {\n",
    "            search_field: {\n",
    "                \"type\": \"plain\",\n",
    "                \"fragment_size\": 0,\n",
    "                \"number_of_fragments\": max_highlights_no\n",
    "            }\n",
    "        }\n",
    "    }\n",
    "}\n",
    "\n",
    "response = requests.get(f\"{index_url}/_search\", headers={\"Content-Type\": \"application/json\"}, data=json.dumps(search_query))\n",
    "\n",
    "docs_found = set([])\n",
    "\n",
    "if response.status_code == 200:\n",
    "    search_results = response.json()\n",
    "        \n",
    "    matches_counter = 0\n",
    "    for hit in search_results[\"hits\"][\"hits\"]:\n",
    "        docs_found.add(hit['_id'])\n",
    "        matches_counter += len(hit['highlight'][search_field])\n",
    "\n",
    "    print(f\"Found {search_results['hits']['total']['value']} documents and {matches_counter} matches of '{search_word}' in {search_field}.\")\n",
    "else:\n",
    "    print(f\"Search failed: {response.text}\")\n"
   ]
  },
  {
   "cell_type": "markdown",
   "metadata": {},
   "source": [
    "Powyższy kod zwraca przy wyszukiwaniu z synoniami 306 dokumentów i 439 dopasowania. Namiast bez synonimów 257 dokumentów i 353 dopasowania.\n",
    "\n",
    "W poprzednim laboratorium mieliśmy za zadanie utworzyć wyrażenie regularne, które znajduje \"kwiecień\" w pełnej odmianie przez przypadki obydwu liczb. Poniżej użyję tego kodu jeszcze raz, żeby sprawdzić, jak się mają jego wyniki do wynikamów analizatora bez synonimów. (Porównanie z synonimami nie ma większego sensu, gdyż wyrażenie regularne nie miało ich uwzględniać)."
   ]
  },
  {
   "cell_type": "code",
   "execution_count": 176,
   "metadata": {},
   "outputs": [
    {
     "name": "stdout",
     "output_type": "stream",
     "text": [
      "'Kwiecien' (directly) found in 265 documents in total 362 times.\n"
     ]
    }
   ],
   "source": [
    "import regex\n",
    "\n",
    "corpus = fiqa_dataset['corpus']\n",
    "\n",
    "april_p = r\"kwie(cień|tni)\"\n",
    "april_pattern = regex.compile(april_p, flags=regex.IGNORECASE | regex.MULTILINE)\n",
    "\n",
    "def count_april_occurrences(what, pattern):\n",
    "    occurrences = {}\n",
    "    counter = 0\n",
    "\n",
    "    for entry in corpus:\n",
    "        found = regex.findall(pattern, entry['text'])\n",
    "        \n",
    "        counter += len(found)\n",
    "        if found:\n",
    "            occurrences[entry[\"_id\"]] = len(found)\n",
    "\n",
    "        \n",
    "        \n",
    "    print(f\"{what} found in {len(occurrences.keys())} documents in total {counter} times.\")\n",
    "    return occurrences\n",
    "\n",
    "\n",
    "occ_april = count_april_occurrences(\"'Kwiecien' (directly)\", april_pattern)\n",
    "regex_docs_found = occ_april.keys()"
   ]
  },
  {
   "cell_type": "markdown",
   "metadata": {},
   "source": [
    "Widać różnicę zarówno w ilości dokumentów, jak i dopasowań. Sprawdźmy skąd ona wynika poprzez obiczenie różnicy zbiorów dokumentów dostarczonych Elasticsearch oraz wyrażenie regularne:"
   ]
  },
  {
   "cell_type": "code",
   "execution_count": 111,
   "metadata": {},
   "outputs": [
    {
     "data": {
      "text/plain": [
       "set()"
      ]
     },
     "execution_count": 111,
     "metadata": {},
     "output_type": "execute_result"
    }
   ],
   "source": [
    "docs_found-regex_docs_found"
   ]
  },
  {
   "cell_type": "markdown",
   "metadata": {},
   "source": [
    "Jak widać, nie ma dokumentów ze słowem bazującym na \"kwiecień\", które by zostało znalezione przez Elasticsearch, ale nie przez wyrażenie regularne.  \n",
    "Wykonajmy różnicę zbiorów w odwrotnej kolejności."
   ]
  },
  {
   "cell_type": "code",
   "execution_count": 173,
   "metadata": {},
   "outputs": [
    {
     "data": {
      "text/plain": [
       "{'109292', '159500', '166563', '208216', '265866', '441143', '469888', '82284'}"
      ]
     },
     "execution_count": 173,
     "metadata": {},
     "output_type": "execute_result"
    }
   ],
   "source": [
    "regex_docs_found-docs_found"
   ]
  },
  {
   "cell_type": "markdown",
   "metadata": {},
   "source": [
    "Istnieje osiem dokumentów odnalezionych przez wyrażenie regularne, ale nie przez FTS. Po przyglądnięciu się zawartości tych dokumentów można stwierdzić, że różnica w wynikach bierze się z faktu, iż wyrażenie regularne zostało sformuowane dość luźno, przez co znajduje przymiotnik od rzeczownika \"kwiecień\", czyli \"kwietniowy\", wraz z jego pełną fleksją."
   ]
  },
  {
   "cell_type": "markdown",
   "metadata": {},
   "source": [
    "Poniższy kod pobiera zbiór par QA dla FiQA-PL i używając podzbioru `test` przygotowuje bazowe struktury do obliczenia metryki NDCG.\n",
    "\n",
    "W tym celu przygotowany zostanie słownik prowadzący od zapytania, do pożądanych w odpowiedzi dokumentów, wraz z punktacją ich istotności, oraz lista zapytań które mają zdefiniowane pożądane wyniki, gdyż tylko dla nich jesteśmy w stanie obliczyć NDCG."
   ]
  },
  {
   "cell_type": "code",
   "execution_count": 180,
   "metadata": {},
   "outputs": [],
   "source": [
    "from datasets import load_dataset\n",
    "\n",
    "def prepare_fiqa_qrels():\n",
    "    subset = 'test'\n",
    "    query_to_corpus_dict = {}\n",
    "\n",
    "    qrels_dataset = load_dataset(\"clarin-knext/fiqa-pl-qrels\")\n",
    "\n",
    "    for item in qrels_dataset[subset]:\n",
    "        if item['query-id'] not in query_to_corpus_dict:\n",
    "            query_to_corpus_dict[item['query-id']] = {}\n",
    "\n",
    "        query_to_corpus_dict[item['query-id']][item['corpus-id']] = item['score']\n",
    "\n",
    "    for query_id in query_to_corpus_dict:\n",
    "        sorted_corpuses_by_score = dict(sorted(query_to_corpus_dict[query_id].items(), key=lambda item: item[1]))\n",
    "        query_to_corpus_dict[query_id] = sorted_corpuses_by_score\n",
    "\n",
    "    return query_to_corpus_dict\n",
    "\n",
    "def prepare_existing_fiqa_queries(query_to_corpus_dict):\n",
    "    queries_dict = {}\n",
    "\n",
    "    fiqa_dataset_queries = load_dataset(\"clarin-knext/fiqa-pl\", name=\"queries\")\n",
    "\n",
    "    queries_dataset = fiqa_dataset_queries['queries']\n",
    "    for entry in queries_dataset:\n",
    "        if int(entry['_id']) in query_to_corpus_dict.keys():\n",
    "            queries_dict[int(entry['_id'])] = entry['text']\n",
    "\n",
    "    return queries_dict\n",
    "\n",
    "\n",
    "query_to_corpus_dict = prepare_fiqa_qrels()\n",
    "queries_dict = prepare_existing_fiqa_queries(query_to_corpus_dict)"
   ]
  },
  {
   "cell_type": "markdown",
   "metadata": {},
   "source": [
    "W jednym z zapytań musimy nadpisać na czaz zapytania analizator, który został zdefiniowany na poziomie indeksu. W tym celu definiuję ten analizator, ale nie mapuję go do żadnego z pól dokumentu.\n",
    "\n",
    "Jak widać, po usunięciu analizatora morfologicznego, oraz towarzyszącego mu dodatkowego filtra zmniejszającego litery po lematyzacji tokenów, zestaw filtrów pozostałych w analizatorze nie niesie ze sobą większej warości. W tokenach zostanie zmieniona wielkość liter na małe, co faktycznie jest przydatne, ale właściwie to wszystko, gdyż skonfigurowany zestaw synonimów nie będzie miał większego wpływu na przebieg tego ćwiczenia."
   ]
  },
  {
   "cell_type": "code",
   "execution_count": 181,
   "metadata": {},
   "outputs": [
    {
     "name": "stdout",
     "output_type": "stream",
     "text": [
      "Analyzer added to settings successfully.\n"
     ]
    },
    {
     "data": {
      "text/plain": [
       "<Response [200]>"
      ]
     },
     "execution_count": 181,
     "metadata": {},
     "output_type": "execute_result"
    }
   ],
   "source": [
    "settings_payload = {\n",
    "    \"analysis\": {\n",
    "        \"analyzer\": {\n",
    "            \"polish_analyzer_syn_nmorf\": {\n",
    "                \"type\": \"custom\",\n",
    "                \"tokenizer\": \"standard\",\n",
    "                \"filter\": [\n",
    "                    \"lowercase\",\n",
    "                    \"polish_months_synonym\"\n",
    "                ]\n",
    "            }\n",
    "        }\n",
    "    }\n",
    "}\n",
    "\n",
    "requests.post(f\"{index_url}/_close\")\n",
    "settings_response = requests.put(f\"{index_url}/_settings\", json=settings_payload)\n",
    "if settings_response.status_code == 200:\n",
    "    print(\"Analyzer added to settings successfully.\")\n",
    "else:\n",
    "    print(f\"Failed to update settings: {settings_response.text}\")\n",
    "requests.post(f\"{index_url}/_open\")"
   ]
  },
  {
   "cell_type": "markdown",
   "metadata": {},
   "source": [
    "Poniżej przygotowałem funkcję, która opakowuje wywołanie wyszukiwania w Elasticsearch. Można za jej pomocą wybrać poszukiwaną frazę, przeszukiwane pole oraz nadpisać domyślny analizator."
   ]
  },
  {
   "cell_type": "code",
   "execution_count": 206,
   "metadata": {},
   "outputs": [],
   "source": [
    "dcg_limit = 5\n",
    "\n",
    "def find_for_phrase(search_phrase, search_field, custom_analyzer):\n",
    "    search_query = {\n",
    "        \"size\": dcg_limit,\n",
    "        \"query\": {\n",
    "            \"match\": {\n",
    "                search_field: {\n",
    "                    \"query\": search_phrase,\n",
    "                }\n",
    "            }\n",
    "        }\n",
    "    }\n",
    "\n",
    "    if custom_analyzer:\n",
    "        search_query['query']['match'][search_field]['analyzer'] = custom_analyzer\n",
    "\n",
    "    response = requests.get(f\"{index_url}/_search\", headers={\"Content-Type\": \"application/json\"}, data=json.dumps(search_query))\n",
    "\n",
    "    if response.status_code == 200:\n",
    "        search_results = response.json()\n",
    "        return dict(list(map(lambda hit: (int(hit['_id']), float(hit['_score'])), search_results[\"hits\"][\"hits\"])))\n",
    "    else:\n",
    "        print(f\"Search failed: {response.text}\")"
   ]
  },
  {
   "cell_type": "markdown",
   "metadata": {},
   "source": [
    "Poniższy zestaw funkcji oblicza współczynnik NDCG@5 oraz przedstawia wyniki w formie średnich wartości, oraz wizualizuje rozkład wartości NDCG@5 na wykresach."
   ]
  },
  {
   "cell_type": "code",
   "execution_count": 220,
   "metadata": {},
   "outputs": [],
   "source": [
    "import math\n",
    "\n",
    "relevant_doc_number = 0\n",
    "relevant_docs = []\n",
    "\n",
    "def calculate_dcg(docs, docs_scoring):\n",
    "    sum = 0\n",
    "    relevant_doc_id = None\n",
    "    for i, doc_id in enumerate(docs):\n",
    "        if doc_id in docs_scoring.keys():\n",
    "            sum += (2**docs_scoring[doc_id]-1)/(math.log2(i+1+1))\n",
    "            if i == relevant_doc_number:\n",
    "                relevant_doc_id = doc_id\n",
    "    return sum, relevant_doc_id\n",
    "\n",
    "def calculate_ndcgs(search_field, custom_analyzer):\n",
    "    \n",
    "    ndcgs = []\n",
    "\n",
    "    for q_id, q_text in queries_dict.items():\n",
    "        ideal_search = list(query_to_corpus_dict[q_id].keys())[:dcg_limit]\n",
    "        idcg, _ = calculate_dcg(ideal_search, query_to_corpus_dict[q_id])\n",
    "\n",
    "        real_search_with_scores = find_for_phrase(q_text, search_field, custom_analyzer)\n",
    "        dcg, relevant_doc_id = calculate_dcg(real_search_with_scores.keys(), query_to_corpus_dict[q_id])\n",
    "\n",
    "        ndcgs.append(dcg/idcg)\n",
    "\n",
    "        if relevant_doc_id:\n",
    "            relevant_docs.append((relevant_doc_id, real_search_with_scores[relevant_doc_id], real_search_with_scores.values(), q_text))\n",
    "\n",
    "    return ndcgs\n",
    "\n",
    "import matplotlib.pyplot as plt\n",
    "import numpy as np\n",
    "def present_results(ndcgs):\n",
    "\n",
    "    zeros = []\n",
    "    non_zeros = []\n",
    "\n",
    "    for ndcg in ndcgs:\n",
    "        if ndcg == 0:\n",
    "            zeros.append(ndcg)\n",
    "        else:\n",
    "            non_zeros.append(ndcg)\n",
    "\n",
    "    labels = ['>0 Results', '0 Results']\n",
    "    sizes = [len(non_zeros), len(zeros)]\n",
    "\n",
    "    plt.pie(sizes, labels=labels, autopct='%1.1f%%')\n",
    "    plt.title('NDCG@5 Results Proportion: 0 to >0')\n",
    "    plt.show()\n",
    "\n",
    "    plt.hist(non_zeros, bins=10, edgecolor='black')\n",
    "    plt.title(\"Histogram of Non-Zero NDCG@5\")\n",
    "    plt.xlabel(\"Score\")\n",
    "    plt.ylabel(\"Number of Documents\")\n",
    "    plt.show()\n",
    "\n",
    "    print(f\"NDCG@5 Mean: {np.mean(ndcgs)} and Std: {np.std(ndcgs)}\")\n",
    "    print(f\"NDCG@5 > 0 Mean: {np.mean(non_zeros)} and Std: {np.std(non_zeros)}\")\n",
    "\n"
   ]
  },
  {
   "cell_type": "markdown",
   "metadata": {},
   "source": [
    "Pierwsze wywołanie funkcji obliczającej NDCG@5 zostanie wykonane dla pola `text.analyzed_1`, które to uwzględnia synonimy i zawiera tokeny poddane lematyzacji.\n",
    "\n",
    "Widzimy dość słabe wyniki NDCG@5, gdyż prawie 2/3 rezultatów wyszukiwania zostały ocenione na 0. Jest to spowodowane dość agresywnym odcinaniem wyników z Elasticsearch po pięciu najlepszych trafienia. Problem w tym, że nawet w przypadku pola `text.analyzed_1`, które w największej mierze obfituje w zaaplikwane filtry, stopień przygotowania tekstu do FTS jest dość słaby. W moim mniemaniu, przede wszystkim brakuje tu filtra typu `stop-words`, który pozwoliłby na skupieniu się podczas wyszukiwania na prawdziwie istotnych wyrazach wyrażenia.  \n",
    "Bez użycia bardziej zaawansowanego przetwarzania tokenów, pożądane dokumenty są zapewne odnajdowane, lecz niestety giną wśród dopasowań mniej istotych wyrazów, przez co najczęściej nie kwalifikują się do TOP5 wyników, na podstawie których obliczane jest NDCG@5.\n",
    "\n",
    "Wśród dokumentów, które otrzymały ocenę NDCG@5 większą niż 0, widać sporą grupę dokumentów odpowiadających idealnemu wyszukiwaniu, ale jeszcze większa liczba dokumentów otrzymała ocenę w okolicy 0.6 i 0.33.  \n",
    "Średnia dla pozytywnych wyników wypada przy wartości 0.53, a odchylenie standardowe wynosi ok 0.26. Wartości te wskazują na całkie spory rozrzut wartości mierząc od środka przyjętej skali."
   ]
  },
  {
   "cell_type": "code",
   "execution_count": 221,
   "metadata": {},
   "outputs": [
    {
     "data": {
      "image/png": "[encoded data removed]",
      "text/plain": [
       "<Figure size 640x480 with 1 Axes>"
      ]
     },
     "metadata": {},
     "output_type": "display_data"
    },
    {
     "data": {
      "image/png": "[encoded data removed]",
      "text/plain": [
       "<Figure size 640x480 with 1 Axes>"
      ]
     },
     "metadata": {},
     "output_type": "display_data"
    },
    {
     "name": "stdout",
     "output_type": "stream",
     "text": [
      "NDCG@5 Mean: 0.1851291130797741 and Std: 0.2968688062149335\n",
      "NDCG@5 > 0 Mean: 0.5379536559448144 and Std: 0.2574697485799596\n"
     ]
    }
   ],
   "source": [
    "ndcgs = calculate_ndcgs('text.analyzed_1', \"\")\n",
    "present_results(ndcgs)"
   ]
  },
  {
   "cell_type": "markdown",
   "metadata": {},
   "source": [
    "Poniżej przedstawiam obliczone metryki NDCG@5 dla pola `text.analyzed_2`, które pomija użycie synonimów. Wyniki są identyczne z tymi, które otrzymałem przy uwzględnieniu synonimów, co potwierdza moje wcześniejsze założenie na temat nieistotności tego filtra w tym zadaniu."
   ]
  },
  {
   "cell_type": "code",
   "execution_count": 170,
   "metadata": {},
   "outputs": [
    {
     "data": {
      "image/png": "[encoded data removed]",
      "text/plain": [
       "<Figure size 640x480 with 1 Axes>"
      ]
     },
     "metadata": {},
     "output_type": "display_data"
    },
    {
     "data": {
      "image/png": "[encoded data removed]",
      "text/plain": [
       "<Figure size 640x480 with 1 Axes>"
      ]
     },
     "metadata": {},
     "output_type": "display_data"
    },
    {
     "name": "stdout",
     "output_type": "stream",
     "text": [
      "NDCG@5 Mean: 0.1851291130797741 and Std: 0.2968688062149335\n",
      "NDCG@5 > 0 Mean: 0.5379536559448144 and Std: 0.2574697485799596\n"
     ]
    }
   ],
   "source": [
    "ndcgs = calculate_ndcgs('text.analyzed_2', \"\")\n",
    "present_results(ndcgs)"
   ]
  },
  {
   "cell_type": "markdown",
   "metadata": {},
   "source": [
    "Ostatecznie nadpisuję używany zestaw filtrów, filtrowaniem tymczasowym, które nie wykonuje lematyzacji tokenów przy zapytaniu.\n",
    "\n",
    "Już przed wykonaniem tego polecenia należałoby się spodziewać dość słabych wyników, gdyż pole użyte do wyszukiwania bazuje na zlematyzowanych tokenach, natomiast wyszukiwana fraza nie. Taka rozbieżność prowadzi do małej liczby dopasowań, gdyż tylko frazy w których tokeny mają bezpośdrednią formę lematów mają szansę na odnalezienie dopasowań.  \n",
    "W przypadu porzucenia lematyzacji podczas zapytania, zasadnym byłoby porzucenie jej również przy inksowaniu.\n",
    "\n",
    "Prezentowane poniżej wyniki przedstawiają, że jedynie 15% dokumentów otrzymało ocenę wyższą od 0. Wśród pozytywnych wyników i tym razem nie brakuje idealnych trafień, jednakże histogram pokazuje większość dopasowań z oceną 0.6, a także ok 0.1-0.33.  \n",
    "Średnia dla pozytywnych ocen jest niższa, niż w poprzednim podpunkcie i wynosi 0.52, natomiast odchylenie standardowe jest większe i z wartością 0.28 wskazuje na spore rozproszeni przyznanych ocen w metryce NDGC. "
   ]
  },
  {
   "cell_type": "code",
   "execution_count": 171,
   "metadata": {},
   "outputs": [
    {
     "data": {
      "image/png": "[encoded data removed]",
      "text/plain": [
       "<Figure size 640x480 with 1 Axes>"
      ]
     },
     "metadata": {},
     "output_type": "display_data"
    },
    {
     "data": {
      "image/png": "[encoded data removed]",
      "text/plain": [
       "<Figure size 640x480 with 1 Axes>"
      ]
     },
     "metadata": {},
     "output_type": "display_data"
    },
    {
     "name": "stdout",
     "output_type": "stream",
     "text": [
      "NDCG@5 Mean: 0.07962045797605899 and Std: 0.2156011491971515\n",
      "NDCG@5 > 0 Mean: 0.5159405676848623 and Std: 0.2758625360069333\n"
     ]
    }
   ],
   "source": [
    "ndcgs = calculate_ndcgs('text.analyzed_1', \"polish_analyzer_syn_nmorf\")\n",
    "present_results(ndcgs)"
   ]
  },
  {
   "cell_type": "markdown",
   "metadata": {},
   "source": [
    "##### Sprawdzanie istotnych dokumentów na konkretnych pozycjach w wynikach\n",
    "\n",
    "**Pozycja 1.**"
   ]
  },
  {
   "cell_type": "code",
   "execution_count": 222,
   "metadata": {},
   "outputs": [
    {
     "data": {
      "text/plain": [
       "(131996,\n",
       " 27.351522,\n",
       " dict_values([27.351522, 21.07628, 20.436228, 18.99711, 18.589794]),\n",
       " 'Jaka jest różnica między „handlowcem” a „maklerem giełdowym”?')"
      ]
     },
     "execution_count": 222,
     "metadata": {},
     "output_type": "execute_result"
    }
   ],
   "source": [
    "relevant_docs[0]"
   ]
  },
  {
   "cell_type": "markdown",
   "metadata": {},
   "source": [
    "Zapytanie: \"Jaka jest różnica między „handlowcem” a „maklerem giełdowym”?\",\n",
    "\n",
    "Score dokumentu: 27.35  \n",
    "Score dokumentów z TOP 5: [27.351522, 21.07628, 20.436228, 18.99711, 18.589794]\n",
    "\n",
    "Tekst dokumentu:  \n",
    "\"Handlowcy zarabiają na życie, maklerzy giełdowi mówią ludziom, aby angażowali się w transakcje na życie. Aby zostać zatrudnionym jako trader, potrzebujesz udokumentowanego doświadczenia w zakresie konsekwentnego zarabiania pieniędzy. Aby być zatrudnionym jako makler giełdowy, musisz uzyskać licencję, ale nie musisz udowadniać, że możesz konsekwentnie zarabiać pieniądze.\"\n",
    "\n",
    "Widać ewidentnie, że wyrażenia z zapytania, typu \"handlowiec\" i \"makler giełdowy\", występują w odnalezionym zapytaniu, ale również słówka pomocnicze, jak \"jaka-jako\". Podobieństwo to dobrze odzwierciedla score o wartości 27.35."
   ]
  },
  {
   "cell_type": "markdown",
   "metadata": {},
   "source": [
    "**Pozycja 5.**"
   ]
  },
  {
   "cell_type": "code",
   "execution_count": 217,
   "metadata": {},
   "outputs": [
    {
     "data": {
      "text/plain": [
       "(64263,\n",
       " 24.981318,\n",
       " dict_values([27.668133, 26.61875, 26.554457, 25.088612, 24.981318]),\n",
       " 'Dlaczego stacje benzynowe pobierają różne kwoty w tej samej okolicy?')"
      ]
     },
     "execution_count": 217,
     "metadata": {},
     "output_type": "execute_result"
    }
   ],
   "source": [
    "relevant_docs[0]"
   ]
  },
  {
   "cell_type": "markdown",
   "metadata": {},
   "source": [
    "Zapytanie: \"Dlaczego stacje benzynowe pobierają różne kwoty w tej samej okolicy?\"\n",
    "\n",
    "Score dokumentu: 24.981318  \n",
    "Score dokumentów z TOP5: [27.668133, 26.61875, 26.554457, 25.088612, 24.981318]\n",
    "\n",
    "Tekst dokumentu:  \n",
    "\"„Jest to znane jako „Ceny strefowe” lub „Ceny geograficzne”. http://articles.latimes.com/2005/jun/19/business/fi-calprice19 Takie różnice cen mogą wydawać się dziwne, ale są nie tylko w Anaheim. Każdego dnia, w dowolnym większym mieście w USA, jedna marka benzyny będzie sprzedawana w szerokim zakresie cen, nawet jeśli koszty produkcji i dostawy paliwa są takie same. Głównym winowajcą są ceny strefowe, tajna i wszechobecna strategia koncernu naftowego polegająca na zwiększaniu zysków poprzez pobieranie od dealerów różnych kwot za paliwo w zależności od natężenia ruchu, udogodnień na stacji, dochodów gospodarstw domowych w pobliżu, siły konkurentów itp. Jest to kontrowersyjna strategia, ale jak dotąd sądy uznały ją za legalne, a Federalna Komisja Handlu stwierdziła niedawno, że wpływ na konsumentów był niejednoznaczny, ponieważ niektórzy klienci ucierpieli z powodu wyższych cen, podczas gdy inni skorzystali z niższych. http://en.wikipedia.org/wiki/Geographical_pricing przemysł benzynowy w Stanach Zjednoczonych s, to wycena benzyny oparta na złożonej i tajnej wadze czynników, takich jak liczba konkurujących stacji, liczba pojazdów, średni przepływ ruchu, gęstość zaludnienia i charakterystyka geograficzna. Może to spowodować, że dwie markowe stacje benzynowe oddalone od siebie o zaledwie kilka mil sprzedają benzynę w cenie nawet 0,50 USD za galon. Ale krótka odpowiedź brzmi „ponieważ mogą”. Jest to legalne, pod warunkiem, że niektórzy płacą mniej, a inni więcej. Zasadniczo większa, bogatsza publiczność subsydiuje produkt w innych obszarach. Nie różni się to strasznie od sposobu, w jaki wycenia się większość leków na świecie”.\"\n",
    "\n",
    "Porównując zapytanie z tekstem dokumentu widać wyraźnie, że wiele słówek z zapytania powtarza się w dokumencie, stąd też jego wysoka pozycja, bo aż w TOP 5. Wartość score jest równa prawie 25, więc wysoko, lecz nie aż tak wysoko, jak wartości dokumentów z pierwszej czwórki.  \n",
    "Warto zwrócić uwagę, że pozycja w wynikach nie zależy od wartości absolutnej przyznanego score, lecz od score pozostałych dopasowanych dokumentów. W tym wyszukiwaniu badany dokument ma miejsce piąte, gdyby score odnalezionych dokumentów odpowiadał uprzednio analizowanemu przypadku, to byłoby to miejsce drugie. Ale zapewne bez problemu możnaby sformłować zapytanie, w którym ten dokument nie zakwalifikowałby się ani do TOP 5, ani nawet do wyników zwróconych przez Elasticsearch.\n"
   ]
  },
  {
   "cell_type": "markdown",
   "metadata": {},
   "source": [
    "**Brak istotnego dokumentu w wynikach Elasticsearch**\n",
    "\n",
    "Ten przypadek jest nader częsty, gdyż odpowiada wszystkim przypadkom gdzie NDCG@5 wynosi 0, czyli TOP 5 istotnych dokumentów, oraz TOP 5 zwrócone przez Elasticsearch stanowią zbiory rozłączne. Ewidentnie istotne dokumenty nie otrzymały od Elasticsearch wystarczającego wyniku score, żeby przebić się do pierwszej piątki."
   ]
  },
  {
   "cell_type": "markdown",
   "metadata": {},
   "source": [
    "#### Porównanie wyrażeń regularnych z FTS\n",
    "\n",
    "|                       | RegEx                                                                                                                                                                                                                                                                                                                                   | FTS                                                                                                                                                                                                                                                                                                                                                                                                                                                                                                                                                                                  |\n",
    "|-----------------------|-----------------------------------------------------------------------------------------------------------------------------------------------------------------------------------------------------------------------------------------------------------------------------------------------------------------------------------------|--------------------------------------------------------------------------------------------------------------------------------------------------------------------------------------------------------------------------------------------------------------------------------------------------------------------------------------------------------------------------------------------------------------------------------------------------------------------------------------------------------------------------------------------------------------------------------------|\n",
    "| Poziom szczegółowości | Operuje na znakach i wymaga dużej rozwagi w ich formułowaniu                                                                                                                                                                                                                                                                            | Operuje na tokenach, co jest w zasadzie poziomem słów, przez co prościej człowiekowi o właściwe sformułowanie transformacji                                                                                                                                                                                                                                                                                                                                                                                                                                                          |\n",
    "| Dostępne narzędzia    | Szeroko uznana składnia wyrażeń pozwalających budować skomplikowane konstrukcje znakowe                                                                                                                                                                                                                                                 | Zestaw filtrów pozwalających przetwarzać tekst w formie zdefiniowanego pipeline'u                                                                                                                                                                                                                                                                                                                                                                                                                                                                                                    |\n",
    "| Zastosowanie          | Idealne do przetwarzania wyjścia maszynowego (logi), przy NLP potrzeba dużo pracy, lub doświadczenia, aby uzyskać zadawalające wyniki                                                                                                                                                                                                   | Bardzo dobre i przez długi czas \"jedyne słuszne\" narzędzie do przetwarzania i przeszukiwania tekstu naturalnego. Duża liczba dostępnych rozszerzeń oraz obsługiwanych języków.                                                                                                                                                                                                                                                                                                                                                                                                                                                                      |\n",
    "| Czas przetwarzania    | Zależny od wielkości korpusu i ilości wykorzystanych wyrażeń:<br> - przy małych zbiorach danych zdecydowanie szybsze <br>- przy zbiorze danych z ćwiczenia porównywalnie szybkie <br>- przy bardzo dużych zbiorach danych mogą ustępować wydajności FTS. <br><br>Generalnie widoczny jest brak potrzeby przetwarzania wstępnego, w przeciwieństwie do FTS. | Również zależny od wielkości korpusu i wykonywanych zapytań: <br>- małe zbiory będą obciążone sporym narzutem potrzebnym na komunikację <br>- zapytania dla zbioru z ćwiczenia daje zbliżony czas wykonania zapytania, co przetwarzanie regex <br>- bardzo duże zbiory powinny działać szybciej, dzięki etapowi przygotowania dodatkowych struktur ułatwiających przetwarzanie, jak \"reverse index\"<br><br> Nie można zapomnieć, że używanie FTS wiąże się z potrzebą zbudowania indeksu, a proces ten w zależności od poziomu skomplikowania indeksu, oraz wielkości korpusu, może trwać bardzo długo |\n",
    "| Wymagania sprzętowe | Działają na właściwie każdym urządzeniu, również w przeglądarce internetowej | Potrzebna bardziej wydajnej konfiguracja do uruchomienia serwera FTS lub też łącznóść z zewnętrznym serwerem przez internet. |\n",
    "\n",
    "Jak widać w powyższej tabeli, każde z tych narzędzi ma swój zakres zastosowania, który łączy się z pewnymi cechami specyficznymi. Warto dodać, że rozwiązania te można łączyć i np. korzystać z FTS z użyciem wyrażeń regularnych."
   ]
  },
  {
   "cell_type": "markdown",
   "metadata": {},
   "source": [
    "#### Czy LLM nadaje się do przeszukiwania dokumentów?\n",
    "\n",
    "Generalnie, odpowiedź brzmi tak, ale pytaniem pozostaje, czy wybór LLM do przeszukiwania dokumentów jest odpowiednim wyborem dla naszych celów.\n",
    "\n",
    "Nawiązując do poziomów szczegółowści z powyższej tabeli, LLM wchodzi na jeszcze wyższy poziom abstrakcji niż FTS i posługuje się wyrazem z ich kontakstem, można wręcz powiedzieć, że całymi zdaniami. Najpewniej odpowiedzi odnalezione przez LLM dla podpunktu szukającego pasujących dokumentów dla zapytań QA zbioru FiQA-PL byłyby najlepsze.\n",
    "\n",
    "LLM potrafi również wyjść poza zarkes dokumentu i udzielać odpowiedzi zsyntetyzowanej na bazie zawartości wielu dokumentów. Co jest sytuacją bardzo pożądaną przez człowieka używającego LLM jako narzędzia.\n",
    "\n",
    "Po drugiej stronie szali należy postawić inne cechy LLM, które mogą do niego zniechęcać:\n",
    "- infrastrutura potrzebna do uruchomia LLM jest nieporównywalnie większa od tej potrzebnej dla RegEx lub FTS, a infrastruktura potrzebna do nauki modelu jest wręcz nieosiągalna dla pojedyńczej osoby\n",
    "- czas nauki modelu jest bardzo długi, dużo dłuższy od indeksowania FTS.\n",
    "- czas potrzebny na pojedyńczą odpowiedź także trwa dużo dłużej od FTS lub RegEx\n",
    "\n",
    "Podsumowując, jeśli potrzebujemy prawdziwie interakcyjnego wyszukiwania, który rozumie na poziomie semantycznym zapytania użytkowników, oraz godzimy się na spore wymagania sprzętowe, jak i narzut czasowy przy uczeniu oraz używaniu wytrenowanego modelu, to LLM wydaje się być dobrą opcją. Naturalnie, należy też liczyć się halucynacjami modelu.  \n",
    "Jednakże w dość sporej liczbie przypadków, użytkownikowi wystarcza zrozumienie jego zapytań jedynie na poziomie syntaktycznym i dostarczenie wyników w mgnieniu oka, co zapewnia serwer FTS, przy jednoczesnych małych wymaganiach sprzętowych. Serwer FTS przy kiepskiej konfiguracji móże dostarczać wyniki gorszej jakości, ale dalece temu do halucynacji LLM."
   ]
  }
 ],
 "metadata": {
  "kernelspec": {
   "display_name": ".venv",
   "language": "python",
   "name": "python3"
  },
  "language_info": {
   "codemirror_mode": {
    "name": "ipython",
    "version": 3
   },
   "file_extension": ".py",
   "mimetype": "text/x-python",
   "name": "python",
   "nbconvert_exporter": "python",
   "pygments_lexer": "ipython3",
   "version": "3.12.7"
  }
 },
 "nbformat": 4,
 "nbformat_minor": 2
}
