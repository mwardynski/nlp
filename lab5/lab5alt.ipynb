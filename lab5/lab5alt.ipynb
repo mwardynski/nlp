{
 "cells": [
  {
   "cell_type": "markdown",
   "metadata": {},
   "source": [
    "Marcin Wardyński  \n",
    "czwartek, 8:00\n",
    "\n",
    "### Laboratorium 5: Klasyfikacja"
   ]
  },
  {
   "cell_type": "markdown",
   "metadata": {},
   "source": [
    "Tym razem wyekstrahowałem wiele funkcji pomocniczych do zewnętrzenego pliku utils, żeby zwiększyć przejrzystość tego notatnika. Funkcje te najczęściej pojawiały się w poprzednich laboratoriach i zostały tylko trochę dopasowane na potrzeby tego laboratorium. Są to m.in. funkcje do:\n",
    "- wczytywania dataset-ów i ich obróbki\n",
    "- operacji na Elasticsearch, typu: zakładanie indeksu, bulk eksport danych oraz wyszukiwanie\n",
    "- obliczanie NDCG z uwzględnieniem rerankera"
   ]
  },
  {
   "cell_type": "markdown",
   "metadata": {},
   "source": [
    "### Przygotowanie danych\n",
    "\n",
    "Ćwiczenie zaczynam od wczytania dobrze już nam znanego zbioru danych FIQA-PL:"
   ]
  },
  {
   "cell_type": "code",
   "execution_count": 1,
   "metadata": {},
   "outputs": [
    {
     "name": "stderr",
     "output_type": "stream",
     "text": [
      "/Users/mwardynski/Documents/ds/_semestr_9/przetwarzanie_jezyka_naturalnego/labs/.venv/lib/python3.12/site-packages/tqdm/auto.py:21: TqdmWarning: IProgress not found. Please update jupyter and ipywidgets. See https://ipywidgets.readthedocs.io/en/stable/user_install.html\n",
      "  from .autonotebook import tqdm as notebook_tqdm\n"
     ]
    }
   ],
   "source": [
    "import lab5_utils as utils\n",
    "\n",
    "corpus, queries, qrels = utils.load_fiqa()"
   ]
  },
  {
   "cell_type": "code",
   "execution_count": 2,
   "metadata": {},
   "outputs": [],
   "source": [
    "#TODO check the intersection between test, validation and test. Reconsider sizes of the datasets."
   ]
  },
  {
   "cell_type": "markdown",
   "metadata": {},
   "source": [
    "Ponieważ do przygotowania danych z FIQA na potrzeby transformera potrzebuję znać używany w jego tokenizerze separator, ładuję już na tym etapie ten tokenizer i zapisuję seperator w zmiennej pomocniczej."
   ]
  },
  {
   "cell_type": "code",
   "execution_count": 2,
   "metadata": {},
   "outputs": [],
   "source": [
    "from transformers import AutoTokenizer\n",
    "\n",
    "pl_tokenizer = AutoTokenizer.from_pretrained(\"allegro/herbert-base-cased\")\n",
    "separator = pl_tokenizer.sep_token"
   ]
  },
  {
   "cell_type": "markdown",
   "metadata": {},
   "source": [
    "Do zrozumienia kolejnych kroków w notatniku podam kilka decyzji, które podjąłem w sprawie przygotowanych danych:\n",
    "1. korzystam z predifiniowanego podziału zapytań w zbioze FIQA na zbiory: `train`, `validation` oraz `test`.\n",
    "2. Odpowiedzi z korpusu, które nie są odpowiedzią na żadne pytanie z powyższych zbiorów, również zostaną uwzglęnione.\n",
    "3. Stosunek danych z klasy pozytywnej do negatywnej ustalam na 1:3.\n",
    "4. W celu stworzenia klasy negatywnej, wybieram odpowiedzi na pytania, które zostały zwrócone przez Elasticsearch na zadane pytanie, lecz nie są poprawnymi odpowiedziami wg zbioru danych.\n",
    "\n",
    "AD.1. Podjąłem taką decyzję, gdyż ostatecznie NDCG będzie porównywane z tym z lab2, a tam użyliśmy zbioru `test` z FIQA. `validation` odpowiada rozmiarem zbiorowi `test`, więc go również nie zmieniałem. W tym wypadku pozostajemy z dość sporym zbiorem `train` o wielkości 14166, `validation` i `test` mają odpowiednio 1238 i 1706 relacji pytania do odpowiedzi. Przyglądając się różnym zbiorom danych tekstowych, można zauważyć, że tak duży zbiór `train` jest częstą praktyką.\n",
    "\n",
    "AD.2. Nie ma powodu, żeby ograniczać zbiór odpowiedzi wyłącznie do tych, które nadają się na odpowiedź, w lab2 postępowałem identycznie. Poza tym zbiory danych do treningu, walidacji i testowania budowane są w ten sposób, żeby odpowiedzi nie przenikały z jednego kroku do drugiego.\n",
    "\n",
    "AD.3. Zgodnie z poleceniem danych z klas negatywnych ma być znacznie więcej, niż tych z klasy pozytywnej, stąd stosunek 1:3. Ponieważ FIQA zawiera tylko prawdziwe relacje pomiędzy zapytaniami i korpusem, elementy z klasy negatywnej tworzę sam. Więcej o tym procesie w kolejnym punkcie.\n",
    "\n",
    "AD.4. Ostatecznie trenowany transformer ma pełnić funkcję rerankera w pipeline FTS. Skoro taki jest jego cel, to budując dane treningowe należy skupić się na właśnie takim przypadku i już w trakcie treningu wskazywać transformerowi wśród dokumentów wysoko ocenianych przez FTS, które z nich faktycznie są poprawnymi odpowiedziami, a które nie. W związku z tym, już na etapie budowania zbiorów danych dla treningu i walidacji modelu językowego posiłkuję się różnymi indeksami Elasticsearch i do klasy negatywnej wybieram wysoko-punktowane odpowiedzi Elasticsearch.  \n",
    "Zdaję sobie sprawę, że syntaktycznie odpowiedzi te będą podobne do siebie i istnieje ryzyko, że przy dość małym zbiorze danych jakim dysponujemy, oraz małej bazowej wersji użytego transformera, nauka nie przyniesie pożądanych wyników, jednakże samo podejście wydaje mi się prawidłowym dla rozważanego przypadku użycia transformera jako reranker.\n",
    "\n",
    "Znając podstawowe założenia możemy kontynuować, zaczynam od budowy indeksu dla danych treningowych, który wyklucza odpowiedzi pojawiające się dla pytań z zbiorów `validation` oraz `test`:"
   ]
  },
  {
   "cell_type": "code",
   "execution_count": 3,
   "metadata": {},
   "outputs": [],
   "source": [
    "\n",
    "vate_query_to_corpus_dict = utils.prepare_fiqa_qrels(qrels, ['validation', 'test'])\n",
    "no_vate_corpus_dict = utils.prepare_fiqa_corpus_related_to_selected_subsets(corpus, vate_query_to_corpus_dict, False)"
   ]
  },
  {
   "cell_type": "code",
   "execution_count": 4,
   "metadata": {},
   "outputs": [
    {
     "name": "stdout",
     "output_type": "stream",
     "text": [
      "Index 'mw_nlp_lab5_train' deleted successfully.\n",
      "Index created.\n",
      "All documents indexed successfully.\n"
     ]
    }
   ],
   "source": [
    "train_index_name = \"mw_nlp_lab5_train\"\n",
    "fts_url, train_index_url = utils.create_fts_index(train_index_name)\n",
    "utils.bulk_load(fts_url, train_index_name, no_vate_corpus_dict)"
   ]
  },
  {
   "cell_type": "markdown",
   "metadata": {},
   "source": [
    "To samo co wyżej, tylko tym razem dla zbioru walidacyjnego:"
   ]
  },
  {
   "cell_type": "code",
   "execution_count": 5,
   "metadata": {},
   "outputs": [
    {
     "name": "stdout",
     "output_type": "stream",
     "text": [
      "Index 'mw_nlp_lab5_validation' deleted successfully.\n",
      "Index created.\n",
      "All documents indexed successfully.\n"
     ]
    }
   ],
   "source": [
    "va_query_to_corpus_dict = utils.prepare_fiqa_qrels(qrels, ['validation'])\n",
    "va_corpus_dict = utils.prepare_fiqa_corpus_related_to_selected_subsets(corpus, va_query_to_corpus_dict, True)\n",
    "\n",
    "validation_index_name = \"mw_nlp_lab5_validation\"\n",
    "fts_url, validation_index_url = utils.create_fts_index(validation_index_name)\n",
    "utils.bulk_load(fts_url, validation_index_name, va_corpus_dict)"
   ]
  },
  {
   "cell_type": "markdown",
   "metadata": {},
   "source": [
    "Mając odpowiednie dane wyizolowane i poindeksowane w Elasticsearch, przygotowuję funkcje pomocnicze do zbudowania krotek w formacie odpowiadającym transformerowi:"
   ]
  },
  {
   "cell_type": "code",
   "execution_count": 39,
   "metadata": {},
   "outputs": [],
   "source": [
    "from datasets import Dataset\n",
    "import random\n",
    "\n",
    "def collect_training_dataset(index_url, corpus_dict, subsets, separator):\n",
    "    query_to_corpus_dict = utils.prepare_fiqa_qrels(qrels, subsets)\n",
    "    queries_dict = utils.prepare_fiqa_queries_for_selected_subset(queries, query_to_corpus_dict)\n",
    "\n",
    "    results = []\n",
    "\n",
    "    for q_id, q_text in queries_dict.items():\n",
    "        collect_passages_for_query(q_id, q_text, corpus_dict, query_to_corpus_dict, index_url, results, separator)\n",
    "\n",
    "    return Dataset.from_list(results)\n",
    "\n",
    "def collect_passages_for_query(q_id, q_text, p_dict, q_to_p_dict, index_url, results, separator):\n",
    "    q_p_ids = list(q_to_p_dict[q_id].keys())\n",
    "\n",
    "    for q_p_id in q_p_ids:\n",
    "        results.append(convert_to_json(q_text, p_dict[q_p_id], 1, separator))\n",
    "        \n",
    "    fts_results = utils.find_for_phrase_with_exclusion(index_url, q_text, 'text', 50, q_p_ids)\n",
    "    fts_results_keys = list(fts_results.keys())\n",
    "    for fts_result_id in random.sample(fts_results_keys, min(3*len(q_p_ids), len(fts_results_keys))):\n",
    "        results.append(convert_to_json(q_text, p_dict[fts_result_id], 0, separator))\n",
    "\n",
    "def convert_to_json(q_text, p_text, label, separator):\n",
    "    return {\n",
    "            \"text\": f\"{q_text}{separator}{p_text}\",\n",
    "            \"label\": label,\n",
    "        }\n",
    "        "
   ]
  },
  {
   "cell_type": "markdown",
   "metadata": {},
   "source": [
    "Po czym używam tych funkcji do zbudowania dataset-ów dla etapu trenowania i walidacji transformera. Zbudowane zbiory umieszczam w słowniku zbiorów, a ponieważ sam proces ich przygotowania był trochę pracochłonny, zapisuję gotowe zbiory na dysku."
   ]
  },
  {
   "cell_type": "code",
   "execution_count": 40,
   "metadata": {},
   "outputs": [],
   "source": [
    "train_dataset = collect_training_dataset(train_index_url, no_vate_corpus_dict, ['train'], separator)"
   ]
  },
  {
   "cell_type": "code",
   "execution_count": 41,
   "metadata": {},
   "outputs": [],
   "source": [
    "validation_dataset = collect_training_dataset(validation_index_url, va_corpus_dict, ['validation'], separator)"
   ]
  },
  {
   "cell_type": "code",
   "execution_count": 42,
   "metadata": {},
   "outputs": [
    {
     "name": "stderr",
     "output_type": "stream",
     "text": [
      "\n",
      "\u001b[A\n",
      "Saving the dataset (1/1 shards): 100%|██████████| 56552/56552 [00:00<00:00, 627217.98 examples/s]\n",
      "\n",
      "\u001b[A\n",
      "Saving the dataset (1/1 shards): 100%|██████████| 4942/4942 [00:00<00:00, 163086.16 examples/s]\n"
     ]
    }
   ],
   "source": [
    "from datasets import DatasetDict\n",
    "\n",
    "datasets = DatasetDict({\"train\": train_dataset, \"validation\": validation_dataset})\n",
    "datasets.save_to_disk(\"./question-passage-classification\")\n"
   ]
  },
  {
   "cell_type": "markdown",
   "metadata": {},
   "source": [
    "### Przygotowanie modelu\n",
    "\n",
    "Ustalam funkcję tokenizującą o paddingu maksymalnej długości oraz obcinaniem zbyt długich wpisów, a następnie wykorzystuję ją w zdefiniowanym już wcześniej tokenizerze, żeby stokenizować zbiory `train` i `validation`."
   ]
  },
  {
   "cell_type": "code",
   "execution_count": 44,
   "metadata": {},
   "outputs": [
    {
     "name": "stderr",
     "output_type": "stream",
     "text": [
      "\n",
      "\u001b[A\n",
      "\u001b[A\n",
      "\u001b[A\n",
      "\u001b[A\n",
      "\u001b[A\n",
      "\u001b[A\n",
      "\u001b[A\n",
      "\u001b[A\n",
      "\u001b[A\n",
      "\u001b[A\n",
      "\u001b[A\n",
      "\u001b[A\n",
      "\u001b[A\n",
      "\u001b[A\n",
      "\u001b[A\n",
      "\u001b[A\n",
      "\u001b[A\n",
      "\u001b[A\n",
      "\u001b[A\n",
      "\u001b[A\n",
      "\u001b[A\n",
      "\u001b[A\n",
      "\u001b[A\n",
      "\u001b[A\n",
      "\u001b[A\n",
      "\u001b[A\n",
      "\u001b[A\n",
      "\u001b[A\n",
      "\u001b[A\n",
      "\u001b[A\n",
      "\u001b[A\n",
      "\u001b[A\n",
      "\u001b[A\n",
      "\u001b[A\n",
      "\u001b[A\n",
      "\u001b[A\n",
      "\u001b[A\n",
      "\u001b[A\n",
      "\u001b[A\n",
      "\u001b[A\n",
      "\u001b[A\n",
      "\u001b[A\n",
      "\u001b[A\n",
      "\u001b[A\n",
      "\u001b[A\n",
      "\u001b[A\n",
      "\u001b[A\n",
      "\u001b[A\n",
      "\u001b[A\n",
      "\u001b[A\n",
      "\u001b[A\n",
      "\u001b[A\n",
      "\u001b[A\n",
      "\u001b[A\n",
      "\u001b[A\n",
      "\u001b[A\n",
      "\u001b[A\n",
      "Map: 100%|██████████| 56552/56552 [00:12<00:00, 4397.30 examples/s]\n",
      "\n",
      "\u001b[A\n",
      "\u001b[A\n",
      "\u001b[A\n",
      "\u001b[A\n",
      "\u001b[A\n",
      "Map: 100%|██████████| 4942/4942 [00:01<00:00, 3984.31 examples/s]\n"
     ]
    },
    {
     "data": {
      "text/plain": [
       "Dataset({\n",
       "    features: ['text', 'label', 'input_ids', 'token_type_ids', 'attention_mask'],\n",
       "    num_rows: 56552\n",
       "})"
      ]
     },
     "execution_count": 44,
     "metadata": {},
     "output_type": "execute_result"
    }
   ],
   "source": [
    "def tokenize_function(examples):\n",
    "    return pl_tokenizer(examples[\"text\"], padding=\"max_length\", truncation=True)\n",
    "\n",
    "\n",
    "tokenized_datasets = datasets.map(tokenize_function, batched=True)\n",
    "tokenized_datasets[\"train\"]"
   ]
  },
  {
   "cell_type": "markdown",
   "metadata": {},
   "source": [
    "Pokrótce sprawdzam, czy dane zostały przygotowane prawidłowo"
   ]
  },
  {
   "cell_type": "code",
   "execution_count": 45,
   "metadata": {},
   "outputs": [
    {
     "name": "stdout",
     "output_type": "stream",
     "text": [
      "Co jest uważane za wydatek służbowy w podróży służbowej?</s>Wytyczne IRS dotyczące tematu. Ogólnie rzecz biorąc, najlepsze, co mogę powiedzieć, to to, że Twój wydatek biznesowy może podlegać odliczeniu. Ale to zależy od okoliczności i tego, co chcesz odliczyć. Podróże Podatnicy, którzy wyjeżdżają z domu w celach służbowych, mogą odliczyć związane z tym wydatki, w tym koszty dotarcia do miejsca docelowego, koszty zakwaterowania i wyżywienia oraz inne zwykłe i niezbędne wydatki. Podatnicy są uważani za „wyjeżdżających poza dom”, jeśli ich obowiązki wymagają od nich przebywania poza domem znacznie dłużej niż zwykły dzień pracy i muszą spać lub odpoczywać, aby sprostać wymogom pracy. Można odliczyć rzeczywisty koszt posiłków i nieprzewidziane wydatki lub skorzystać ze standardowej diety żywieniowej i obniżonych wymogów ewidencji. Niezależnie od zastosowanej metody odliczenia posiłków są zazwyczaj ograniczone do 50 procent, jak wspomniano wcześniej. Jako koszt można zgłaszać tylko rzeczywiste koszty zakwaterowania, a rachunki należy przechowywać do dokumentacji. Wydatki muszą być rozsądne i odpowiednie; potrącenia z tytułu nadmiernych wydatków nie są dopuszczalne. Więcej informacji można znaleźć w publikacji 463, Podróże, rozrywka, prezenty i wydatki na samochód. Rozrywka Wydatki na rozrywkę dla klientów, klientów lub pracowników mogą być odliczane, jeśli są one zarówno zwyczajne, jak i konieczne oraz spełniają jeden z następujących testów: Test bezpośrednio związany: Głównym celem działalności rozrywkowej jest prowadzenie działalności, działalność była faktycznie prowadzona podczas działalność i podatnik mieli więcej niż ogólne oczekiwanie uzyskania dochodu lub innej konkretnej korzyści biznesowej w przyszłości. Powiązany test: rozrywka była związana z aktywnym prowadzeniem działalności handlowej lub biznesowej podatnika i miała miejsce bezpośrednio przed lub po istotnej dyskusji biznesowej. Publikacja 463 zawiera obszerniejsze wyjaśnienie tych testów, jak również innych ograniczeń i wymagań dotyczących odliczania wydatków na rozrywkę. Prezenty Podatnicy mogą odliczyć część lub całość kosztów prezentów wręczanych w ramach ich działalności handlowej lub biznesowej. Ogólnie rzecz biorąc, odliczenie jest ograniczone do 25 USD za prezenty wręczane bezpośrednio lub pośrednio jednej osobie w ciągu roku podatkowego. Więcej omówienia zasad i ograniczeń można znaleźć w Publikacji 463. Jeśli Twoja spółka LLC zwróci Ci wydatki wykraczające poza te wytyczne, należy je traktować jako dochód dla celów podatkowych. Edytuj koszty posiłków: Kwota standardowego dodatku na posiłki. Standardowy dodatek na posiłki to federalna stawka M&IE. W przypadku podróży w 2010 r. stawka dla większości małych miejscowości w Stanach Zjednoczonych wynosi 46 USD dziennie. Źródło IRS P463 Alternatywnie możesz dokonać zwrotu według stawki dziennej\n",
      "[0, 3407, 2092, 39104, 2163, 23004, 11418, 2348, 1019, 10273, 45454, 1550, 2, 2331, 4603, 45, 19295, 5666, 16094, 1899, 38126, 4662, 13786, 1947, 9104, 1947, 2249, 5492, 4041, 1947, 2063, 2063, 1947, 2040, 22761, 23004, 6596, 11088, 2402, 36663, 21386, 4068, 1899, 2894, 2063, 6466, 2173, 11056, 1009, 2210, 1947, 2249, 13792, 43844, 1899, 2579, 19886, 38900, 2510, 1947, 2634, 28991, 1046, 3537, 1019, 24173, 25502, 1947, 3065, 43844, 5307, 1046, 2194, 10166, 1947, 1019, 2194, 6159, 7578, 2333, 2041, 3845, 33663, 2512, 1947, 6159, 26226, 9578, 1009, 20440, 4397, 2248, 3914, 22717, 1009, 11434, 10166, 1899, 38900, 2510, 2264, 3329, 2572, 2163, 1791, 10138, 3862, 4445, 5157, 1956, 1947, 3346, 2186, 11137, 13899, 2173, 2531, 45946, 4445, 16713, 4432, 7847, 2876, 17533, 3501, 2631, 1009, 4730, 17088, 2491, 14714, 2726, 1947, 2802, 29335, 15040, 14229, 2631, 1899, 5354, 43844, 48244, 8890, 28069, 1009, 2013, 21070, 10166, 2491, 8981, 2343, 6740, 11577, 21308, 30022, 6910, 1009, 9997, 2589, 17834, 20116, 1899, 23897, 2173, 6171, 4695, 11244, 21386, 2700, 28069, 2264, 10307, 22454, 2041, 2693, 5195, 1947, 2217, 7640, 2890, 3695, 1899, 6843, 8890, 2545, 16451, 2308, 36870, 6159, 26226, 9578, 1947, 1011, 18567, 3406, 13465, 2726, 2041, 14348, 1899, 44001, 4730, 2458, 14482, 2079, 1009, 10161, 1195, 17877, 4081, 1046, 6234, 12631, 2089, 9752, 1997, 2264, 34310, 1899, 10249, 4338, 2545, 5378, 1019, 14020, 24, 5783, 1947, 2579, 19886, 1947, 11932, 6958, 1947, 24274, 1009, 10166, 1998, 6704, 1899, 44942, 6958, 44001, 1998, 11932, 14335, 2211, 7128, 1947, 7128, 2491, 4424, 3065, 2458, 2021, 2519, 2414, 1947, 3346, 2264, 2290, 4635, 10073, 2079, 1947, 2217, 1009, 10375, 2248, 23352, 3247, 1046, 22358, 26641, 1335, 39309, 7616, 10743, 1335, 11692, 7432, 4654, 19695, 4137, 2092, 4649, 4654, 1947, 5142, 2663, 11782, 11786, 3095, 5142, 1009, 39055, 4153, 2944, 2876, 18991, 18687, 10521, 16776, 2491, 8049, 24278, 10948, 6596, 8906, 1019, 6174, 1899, 52, 2945, 2003, 2067, 14825, 1335, 11932, 6958, 2663, 13413, 1046, 43885, 16481, 4654, 25243, 2491, 6596, 8906, 29951, 1009, 3943, 2963, 7616, 2534, 2491, 2184, 4666, 2130, 6204, 6596, 8906, 1899, 6787, 20292, 24, 5783, 9138, 15150, 3955, 18880, 2513, 26641, 1947, 2217, 2604, 3112, 18609, 1009, 20702, 7371, 21386, 6819, 9752, 1998, 11932, 14335, 1899, 16244, 2162, 38900, 2510, 3065, 43844, 3865, 2491, 13680, 6510, 38641, 5004, 1988, 2826, 1019, 4300, 2186, 4654, 25243, 2491, 6596, 8906, 1899, 38126, 4662, 13786, 1947, 21386, 2824, 2092, 22454, 2041, 2698, 20123, 2163, 24274, 5004, 39803, 7616, 2491, 24424, 4192, 14507, 1019, 3747, 2254, 23934, 1899, 10249, 83, 17304, 8045, 1009, 18609, 2545, 5378, 1019, 6787, 4712, 24, 5783, 1899, 3484, 13462, 10160, 48, 48, 1023, 32547, 7086, 10166, 23787, 43725, 4445, 2322, 48866, 1947, 3406, 2193, 16217, 2628, 13131, 2211, 10664, 15415, 1899, 12828, 41956, 6159, 28069, 1335, 33892, 6740, 13975, 10276, 1998, 25520, 1899, 27336, 10962, 11080, 1998, 25520, 2063, 11098, 18957, 20941, 1058, 1664, 12065, 1899, 1049, 3714, 10273, 1019, 9441, 1024, 1899, 20941, 2211, 6043, 7918, 6020, 1019, 13531, 9034, 5979, 3523, 20123, 9216, 1899, 23301, 45, 19295, 52, 24, 5783, 34465, 17643, 11814, 12241, 13452, 2]\n",
      "[1, 1, 1, 1, 1, 1, 1, 1, 1, 1, 1, 1, 1, 1, 1, 1, 1, 1, 1, 1, 1, 1, 1, 1, 1, 1, 1, 1, 1, 1, 1, 1, 1, 1, 1, 1, 1, 1, 1, 1, 1, 1, 1, 1, 1, 1, 1, 1, 1, 1, 1, 1, 1, 1, 1, 1, 1, 1, 1, 1, 1, 1, 1, 1, 1, 1, 1, 1, 1, 1, 1, 1, 1, 1, 1, 1, 1, 1, 1, 1, 1, 1, 1, 1, 1, 1, 1, 1, 1, 1, 1, 1, 1, 1, 1, 1, 1, 1, 1, 1, 1, 1, 1, 1, 1, 1, 1, 1, 1, 1, 1, 1, 1, 1, 1, 1, 1, 1, 1, 1, 1, 1, 1, 1, 1, 1, 1, 1, 1, 1, 1, 1, 1, 1, 1, 1, 1, 1, 1, 1, 1, 1, 1, 1, 1, 1, 1, 1, 1, 1, 1, 1, 1, 1, 1, 1, 1, 1, 1, 1, 1, 1, 1, 1, 1, 1, 1, 1, 1, 1, 1, 1, 1, 1, 1, 1, 1, 1, 1, 1, 1, 1, 1, 1, 1, 1, 1, 1, 1, 1, 1, 1, 1, 1, 1, 1, 1, 1, 1, 1, 1, 1, 1, 1, 1, 1, 1, 1, 1, 1, 1, 1, 1, 1, 1, 1, 1, 1, 1, 1, 1, 1, 1, 1, 1, 1, 1, 1, 1, 1, 1, 1, 1, 1, 1, 1, 1, 1, 1, 1, 1, 1, 1, 1, 1, 1, 1, 1, 1, 1, 1, 1, 1, 1, 1, 1, 1, 1, 1, 1, 1, 1, 1, 1, 1, 1, 1, 1, 1, 1, 1, 1, 1, 1, 1, 1, 1, 1, 1, 1, 1, 1, 1, 1, 1, 1, 1, 1, 1, 1, 1, 1, 1, 1, 1, 1, 1, 1, 1, 1, 1, 1, 1, 1, 1, 1, 1, 1, 1, 1, 1, 1, 1, 1, 1, 1, 1, 1, 1, 1, 1, 1, 1, 1, 1, 1, 1, 1, 1, 1, 1, 1, 1, 1, 1, 1, 1, 1, 1, 1, 1, 1, 1, 1, 1, 1, 1, 1, 1, 1, 1, 1, 1, 1, 1, 1, 1, 1, 1, 1, 1, 1, 1, 1, 1, 1, 1, 1, 1, 1, 1, 1, 1, 1, 1, 1, 1, 1, 1, 1, 1, 1, 1, 1, 1, 1, 1, 1, 1, 1, 1, 1, 1, 1, 1, 1, 1, 1, 1, 1, 1, 1, 1, 1, 1, 1, 1, 1, 1, 1, 1, 1, 1, 1, 1, 1, 1, 1, 1, 1, 1, 1, 1, 1, 1, 1, 1, 1, 1, 1, 1, 1, 1, 1, 1, 1, 1, 1, 1, 1, 1, 1, 1, 1, 1, 1, 1, 1, 1, 1, 1, 1, 1, 1, 1, 1, 1, 1, 1, 1, 1, 1, 1, 1, 1, 1, 1, 1, 1, 1, 1, 1, 1, 1, 1, 1, 1, 1, 1, 1, 1, 1, 1, 1, 1, 1, 1, 1, 1, 1, 1, 1, 1, 1, 1, 1, 1, 1, 1, 1, 1, 1, 1, 1, 1, 1, 1, 1, 1, 1, 1, 1]\n",
      "<s>|Co</w>|jest</w>|uważane</w>|za</w>|wydatek</w>|służb|owy</w>|w</w>|podróży</w>|służbowej</w>|?</w>|</s>|Wy|tyczne</w>|I|RS</w>|dotyczące</w>|tematu</w>|.</w>|Ogólnie</w>|rzecz</w>|biorąc</w>|,</w>|najlepsze</w>|,</w>|co</w>|mogę</w>|powiedzieć</w>|,</w>|to</w>|to</w>|,</w>|że</w>|Twój</w>|wydatek</w>|bizne|sowy</w>|może</w>|podlegać</w>|odli|czeniu</w>|.</w>|Ale</w>|to</w>|zależy</w>|od</w>|okoliczności</w>|i</w>|tego</w>|,</w>|co</w>|chcesz</w>|odliczyć</w>|.</w>|Pod|róże</w>|Podat|nicy</w>|,</w>|którzy</w>|wyjeżdżają</w>|z</w>|domu</w>|w</w>|celach</w>|służbowych</w>|,</w>|mogą</w>|odliczyć</w>|związane</w>|z</w>|tym</w>|wydatki</w>|,</w>|w</w>|tym</w>|koszty</w>|dotar|cia</w>|do</w>|miejsca</w>|docel|owego</w>|,</w>|koszty</w>|zakwate|rowania</w>|i</w>|wyży|wienia</w>|oraz</w>|inne</w>|zwykłe</w>|i</w>|niezbędne</w>|wydatki</w>|.</w>|Podat|nicy</w>|są</w>|uważ|ani</w>|za</w>|„</w>|wyjeżdż|ających</w>|poza</w>|dom</w>|”</w>|,</w>|jeśli</w>|ich</w>|obowiązki</w>|wymagają</w>|od</w>|nich</w>|przebywania</w>|poza</w>|domem</w>|znacznie</w>|dłużej</w>|niż</w>|zwykły</w>|dzień</w>|pracy</w>|i</w>|muszą</w>|spać</w>|lub</w>|odpoczy|wać</w>|,</w>|aby</w>|sprostać</w>|wymo|gom</w>|pracy</w>|.</w>|Można</w>|odliczyć</w>|rzeczywisty</w>|koszt</w>|posiłków</w>|i</w>|nie|przewidziane</w>|wydatki</w>|lub</w>|skorzystać</w>|ze</w>|standar|dowej</w>|diety</w>|żywie|niowej</w>|i</w>|obniż|onych</w>|wymogów</w>|ewidencji</w>|.</w>|Niezależnie</w>|od</w>|zastos|owanej</w>|metody</w>|odli|czenia</w>|posiłków</w>|są</w>|zazwyczaj</w>|ograniczone</w>|do</w>|50</w>|procent</w>|,</w>|jak</w>|wspomni|ano</w>|wcześniej</w>|.</w>|Jako</w>|koszt</w>|można</w>|zgłaszać</w>|tylko</w>|rzeczywiste</w>|koszty</w>|zakwate|rowania</w>|,</w>|a</w>|rachunki</w>|należy</w>|przechowy|wać</w>|do</w>|dokumentacji</w>|.</w>|Wydatki</w>|muszą</w>|być</w>|rozsąd|ne</w>|i</w>|odpowiednie</w>|;</w>|potrą|cenia</w>|z</w>|tytułu</w>|nadmier|nych</w>|wydatków</w>|nie</w>|są</w>|dopuszczalne</w>|.</w>|Więcej</w>|informacji</w>|można</w>|znaleźć</w>|w</w>|publikacji</w>|4|63</w>|,</w>|Pod|róże</w>|,</w>|rozry|wka</w>|,</w>|prezenty</w>|i</w>|wydatki</w>|na</w>|samochód</w>|.</w>|Rozry|wka</w>|Wydatki</w>|na</w>|rozry|wkę</w>|dla</w>|klientów</w>|,</w>|klientów</w>|lub</w>|pracowników</w>|mogą</w>|być</w>|od|licz|ane</w>|,</w>|jeśli</w>|są</w>|one</w>|zarówno</w>|zwyczaj|ne</w>|,</w>|jak</w>|i</w>|konieczne</w>|oraz</w>|spełniają</w>|jeden</w>|z</w>|następujących</w>|testów</w>|:</w>|Test</w>|bezpośrednio</w>|związany</w>|:</w>|Głównym</w>|celem</w>|działalności</w>|rozryw|kowej</w>|jest</w>|prowadzenie</w>|działalności</w>|,</w>|działalność</w>|była</w>|faktycznie</w>|prowadzona</w>|podczas</w>|działalność</w>|i</w>|podatnik</w>|mieli</w>|więcej</w>|niż</w>|ogólne</w>|oczekiwanie</w>|uzyskania</w>|dochodu</w>|lub</w>|innej</w>|konkretnej</w>|korzyści</w>|bizne|sowej</w>|w</w>|przyszłości</w>|.</w>|P|owią|za|ny</w>|test</w>|:</w>|rozry|wka</w>|była</w>|związana</w>|z</w>|aktywnym</w>|prowadzeniem</w>|działalności</w>|handlowej</w>|lub</w>|bizne|sowej</w>|podatnika</w>|i</w>|miała</w>|miejsce</w>|bezpośrednio</w>|przed</w>|lub</w>|po</w>|istot|nej</w>|dyskusji</w>|bizne|sowej</w>|.</w>|Publi|kacja</w>|4|63</w>|zawiera</w>|obszer|niejsze</w>|wyjaśnienie</w>|tych</w>|testów</w>|,</w>|jak</w>|również</w>|innych</w>|ograniczeń</w>|i</w>|wymagań</w>|dotyczących</w>|odli|czania</w>|wydatków</w>|na</w>|rozry|wkę</w>|.</w>|Prezen|ty</w>|Podat|nicy</w>|mogą</w>|odliczyć</w>|część</w>|lub</w>|całość</w>|kosztów</w>|prezentów</w>|wrę|cz|anych</w>|w</w>|ramach</w>|ich</w>|działalności</w>|handlowej</w>|lub</w>|bizne|sowej</w>|.</w>|Ogólnie</w>|rzecz</w>|biorąc</w>|,</w>|odli|czenie</w>|jest</w>|ograniczone</w>|do</w>|25</w>|USD</w>|za</w>|prezenty</w>|wrę|czane</w>|bezpośrednio</w>|lub</w>|pośrednio</w>|jednej</w>|osobie</w>|w</w>|ciągu</w>|roku</w>|podatkowego</w>|.</w>|Więcej</w>|o|mówienia</w>|zasad</w>|i</w>|ograniczeń</w>|można</w>|znaleźć</w>|w</w>|Publi|kacji</w>|4|63</w>|.</w>|Jeśli</w>|Twoja</w>|spółka</w>|L|L|C</w>|zwróci</w>|Ci</w>|wydatki</w>|wykra|czające</w>|poza</w>|te</w>|wytyczne</w>|,</w>|należy</w>|je</w>|traktować</w>|jako</w>|dochód</w>|dla</w>|celów</w>|podatkowych</w>|.</w>|Edy|tuj</w>|koszty</w>|posiłków</w>|:</w>|Kwota</w>|standar|dowego</w>|dodatku</w>|na</w>|posiłki</w>|.</w>|Standar|dowy</w>|dodatek</w>|na</w>|posiłki</w>|to</w>|fede|ralna</w>|stawka</w>|M</w>|&</w>|IE</w>|.</w>|W</w>|przypadku</w>|podróży</w>|w</w>|2010</w>|r</w>|.</w>|stawka</w>|dla</w>|większości</w>|małych</w>|miejscowości</w>|w</w>|Stanach</w>|Zjednoczonych</w>|wynosi</w>|46</w>|USD</w>|dziennie</w>|.</w>|Źródło</w>|I|RS</w>|P|4|63</w>|Alterna|tywnie</w>|możesz</w>|dokonać</w>|zwrotu</w>|</s>\n",
      "512\n",
      "512\n"
     ]
    }
   ],
   "source": [
    "example = tokenized_datasets[\"train\"][0]\n",
    "print(example[\"text\"])\n",
    "print(example[\"input_ids\"])\n",
    "print(example[\"attention_mask\"])\n",
    "print(\"|\".join(pl_tokenizer.convert_ids_to_tokens(list(example[\"input_ids\"]))))\n",
    "\n",
    "print(len([e for e in example[\"input_ids\"] if e != 1]))\n",
    "print(len([e for e in example[\"attention_mask\"] if e == 1]))"
   ]
  },
  {
   "cell_type": "markdown",
   "metadata": {},
   "source": [
    "Instancjonuję model językowy klasyfikujący, bazujący na `allegro/herbert-base-cased`. Jak widzimy w komunikacie poniżej, należy w nim ustawić niektóre wagi, co zostanie uczynione w procesie trenowania."
   ]
  },
  {
   "cell_type": "code",
   "execution_count": 46,
   "metadata": {},
   "outputs": [
    {
     "name": "stderr",
     "output_type": "stream",
     "text": [
      "Some weights of BertForSequenceClassification were not initialized from the model checkpoint at allegro/herbert-base-cased and are newly initialized: ['classifier.bias', 'classifier.weight']\n",
      "You should probably TRAIN this model on a down-stream task to be able to use it for predictions and inference.\n"
     ]
    },
    {
     "data": {
      "text/plain": [
       "BertForSequenceClassification(\n",
       "  (bert): BertModel(\n",
       "    (embeddings): BertEmbeddings(\n",
       "      (word_embeddings): Embedding(50000, 768, padding_idx=1)\n",
       "      (position_embeddings): Embedding(514, 768)\n",
       "      (token_type_embeddings): Embedding(2, 768)\n",
       "      (LayerNorm): LayerNorm((768,), eps=1e-12, elementwise_affine=True)\n",
       "      (dropout): Dropout(p=0.1, inplace=False)\n",
       "    )\n",
       "    (encoder): BertEncoder(\n",
       "      (layer): ModuleList(\n",
       "        (0-11): 12 x BertLayer(\n",
       "          (attention): BertAttention(\n",
       "            (self): BertSdpaSelfAttention(\n",
       "              (query): Linear(in_features=768, out_features=768, bias=True)\n",
       "              (key): Linear(in_features=768, out_features=768, bias=True)\n",
       "              (value): Linear(in_features=768, out_features=768, bias=True)\n",
       "              (dropout): Dropout(p=0.1, inplace=False)\n",
       "            )\n",
       "            (output): BertSelfOutput(\n",
       "              (dense): Linear(in_features=768, out_features=768, bias=True)\n",
       "              (LayerNorm): LayerNorm((768,), eps=1e-12, elementwise_affine=True)\n",
       "              (dropout): Dropout(p=0.1, inplace=False)\n",
       "            )\n",
       "          )\n",
       "          (intermediate): BertIntermediate(\n",
       "            (dense): Linear(in_features=768, out_features=3072, bias=True)\n",
       "            (intermediate_act_fn): GELUActivation()\n",
       "          )\n",
       "          (output): BertOutput(\n",
       "            (dense): Linear(in_features=3072, out_features=768, bias=True)\n",
       "            (LayerNorm): LayerNorm((768,), eps=1e-12, elementwise_affine=True)\n",
       "            (dropout): Dropout(p=0.1, inplace=False)\n",
       "          )\n",
       "        )\n",
       "      )\n",
       "    )\n",
       "    (pooler): BertPooler(\n",
       "      (dense): Linear(in_features=768, out_features=768, bias=True)\n",
       "      (activation): Tanh()\n",
       "    )\n",
       "  )\n",
       "  (dropout): Dropout(p=0.1, inplace=False)\n",
       "  (classifier): Linear(in_features=768, out_features=2, bias=True)\n",
       ")"
      ]
     },
     "execution_count": 46,
     "metadata": {},
     "output_type": "execute_result"
    }
   ],
   "source": [
    "from transformers import AutoModelForSequenceClassification\n",
    "\n",
    "model = AutoModelForSequenceClassification.from_pretrained(\n",
    "    \"allegro/herbert-base-cased\", num_labels=2\n",
    ")\n",
    "\n",
    "model"
   ]
  },
  {
   "cell_type": "markdown",
   "metadata": {},
   "source": [
    "Poniższej znajdują się argumenty dla trenera wybranego modelu. Wiele wartości jest typowymi wartościami używanymi przy uczeniu transformerów, niestety zasoby sprzętowe nie pozwalają mi na skorzystanie z optymalizatorów uczenia typu Optuna.\n",
    "\n",
    "Większość użytych argumentów powinna nie wymagać wyjaśnień. Zaznaczę tylko, że ewaluacji modelu dokonuję co 300 kroków, zapisuję trzy najlepsze modele a kończąc etap uczenia, ładuję ten dotychczas najlepszy.\n",
    "\n",
    "Warto zauważyć, że do oceny jakości modelu używam metryki `f1-score`. Jest to odpowiednia metryka w przypadku niezbalansowanego zbioru danych, jakim dysponujemy, gdyż uwzględnia recall, co w przypadku klasyfikacji nad dwoma klasami sprowadza się do penalizacji rozwiązań, które pomijają pewne klasy, które nie powinny być puste.  \n",
    "Użycie metryki `accuracy` przy tak niezbalansowanym zbiorze danych zachęcałoby model do bezmyślnego wrzucania wszystkich przypadków testowych do jednej klasy. W naszym przypadku, gdzie stosunek ilości elementów z klasy pozytywnej do negatywnej wynosi 1:3, skutkowałoby `accuracy=0.75`."
   ]
  },
  {
   "cell_type": "code",
   "execution_count": 47,
   "metadata": {},
   "outputs": [],
   "source": [
    "from transformers import TrainingArguments\n",
    "\n",
    "arguments = TrainingArguments(\n",
    "    output_dir=\"./output\",\n",
    "    do_train=True,\n",
    "    do_eval=True,\n",
    "    eval_strategy=\"steps\",\n",
    "    eval_steps=300,\n",
    "    per_device_train_batch_size=16,\n",
    "    per_device_eval_batch_size=16,\n",
    "    learning_rate=5e-05,\n",
    "    num_train_epochs=1,\n",
    "    logging_first_step=True,\n",
    "    logging_strategy=\"steps\",\n",
    "    logging_steps=50,\n",
    "    save_strategy=\"steps\",\n",
    "    save_steps=300,\n",
    "    fp16=False,\n",
    "    load_best_model_at_end=True,\n",
    "    metric_for_best_model=\"f1\",\n",
    "    save_total_limit=3,\n",
    ")"
   ]
  },
  {
   "cell_type": "markdown",
   "metadata": {},
   "source": [
    "Przygotowana przeze mnie funkcja obliczająca jakość modelu w różnych metrykach daje nam wybór czterech różnych metryk. Jak pisałem wyżej, skupiam się na użyciu f1-score."
   ]
  },
  {
   "cell_type": "code",
   "execution_count": 48,
   "metadata": {},
   "outputs": [],
   "source": [
    "from sklearn.metrics import accuracy_score, precision_recall_fscore_support\n",
    "import numpy as np\n",
    "\n",
    "def compute_metrics(p):\n",
    "    preds, labels = p\n",
    "    preds = np.argmax(preds, axis=1)\n",
    "    accuracy = accuracy_score(labels, preds)\n",
    "    precision, recall, f1, _ = precision_recall_fscore_support(labels, preds, average='binary')\n",
    "    return {\n",
    "        'accuracy': accuracy,\n",
    "        'precision': precision,\n",
    "        'recall': recall,\n",
    "        'f1': f1\n",
    "    }"
   ]
  },
  {
   "cell_type": "markdown",
   "metadata": {},
   "source": [
    "Instancjonuję trenera dla modelu:"
   ]
  },
  {
   "cell_type": "code",
   "execution_count": 51,
   "metadata": {},
   "outputs": [],
   "source": [
    "from transformers import Trainer\n",
    "\n",
    "trainer = Trainer(\n",
    "    model=model,\n",
    "    args=arguments,\n",
    "    train_dataset=tokenized_datasets[\"train\"].shuffle(seed=42),\n",
    "    eval_dataset=tokenized_datasets[\"validation\"].shuffle(seed=42),\n",
    "    compute_metrics=compute_metrics,\n",
    ")"
   ]
  },
  {
   "cell_type": "markdown",
   "metadata": {},
   "source": [
    "oraz tablicę umożliwiającą podgląd postepu treningu:"
   ]
  },
  {
   "cell_type": "code",
   "execution_count": 52,
   "metadata": {},
   "outputs": [
    {
     "name": "stdout",
     "output_type": "stream",
     "text": [
      "The tensorboard extension is already loaded. To reload it, use:\n",
      "  %reload_ext tensorboard\n"
     ]
    },
    {
     "data": {
      "text/plain": [
       "Reusing TensorBoard on port 6006 (pid 11113), started 14:16:15 ago. (Use '!kill 11113' to kill it.)"
      ]
     },
     "metadata": {},
     "output_type": "display_data"
    },
    {
     "data": {
      "text/html": [
       "\n",
       "      <iframe id=\"tensorboard-frame-1c80317fa3b1799d\" width=\"100%\" height=\"800\" frameborder=\"0\">\n",
       "      </iframe>\n",
       "      <script>\n",
       "        (function() {\n",
       "          const frame = document.getElementById(\"tensorboard-frame-1c80317fa3b1799d\");\n",
       "          const url = new URL(\"http://localhost\");\n",
       "          const port = 6006;\n",
       "          if (port) {\n",
       "            url.port = port;\n",
       "          }\n",
       "          frame.src = url;\n",
       "        })();\n",
       "      </script>\n",
       "    "
      ],
      "text/plain": [
       "<IPython.core.display.HTML object>"
      ]
     },
     "metadata": {},
     "output_type": "display_data"
    }
   ],
   "source": [
    "%load_ext tensorboard\n",
    "%tensorboard --logdir ./output/runs\n",
    "%reload_ext tensorboard"
   ]
  },
  {
   "cell_type": "markdown",
   "metadata": {},
   "source": [
    "Sam trening na architekturze MPS (Apple M1 Pro) zajmuje sporo czasu, jedna epoko to +/- 2,5h."
   ]
  },
  {
   "cell_type": "code",
   "execution_count": 53,
   "metadata": {},
   "outputs": [
    {
     "name": "stderr",
     "output_type": "stream",
     "text": [
      "  0%|          | 1/3535 [00:07<7:41:09,  7.83s/it]"
     ]
    },
    {
     "name": "stdout",
     "output_type": "stream",
     "text": [
      "{'loss': 0.9219, 'grad_norm': 11.778884887695312, 'learning_rate': 4.998585572842999e-05, 'epoch': 0.0}\n"
     ]
    },
    {
     "name": "stderr",
     "output_type": "stream",
     "text": [
      "  1%|▏         | 50/3535 [01:54<2:02:17,  2.11s/it]"
     ]
    },
    {
     "name": "stdout",
     "output_type": "stream",
     "text": [
      "{'loss': 0.5819, 'grad_norm': 5.938379287719727, 'learning_rate': 4.9292786421499294e-05, 'epoch': 0.01}\n"
     ]
    },
    {
     "name": "stderr",
     "output_type": "stream",
     "text": [
      "  3%|▎         | 100/3535 [03:42<2:14:07,  2.34s/it]"
     ]
    },
    {
     "name": "stdout",
     "output_type": "stream",
     "text": [
      "{'loss': 0.5976, 'grad_norm': 1.6365619897842407, 'learning_rate': 4.858557284299859e-05, 'epoch': 0.03}\n"
     ]
    },
    {
     "name": "stderr",
     "output_type": "stream",
     "text": [
      "  4%|▍         | 150/3535 [05:30<1:58:16,  2.10s/it]"
     ]
    },
    {
     "name": "stdout",
     "output_type": "stream",
     "text": [
      "{'loss': 0.5506, 'grad_norm': 2.243593454360962, 'learning_rate': 4.787835926449788e-05, 'epoch': 0.04}\n"
     ]
    },
    {
     "name": "stderr",
     "output_type": "stream",
     "text": [
      "  6%|▌         | 200/3535 [07:15<1:55:31,  2.08s/it]"
     ]
    },
    {
     "name": "stdout",
     "output_type": "stream",
     "text": [
      "{'loss': 0.5767, 'grad_norm': 6.4254679679870605, 'learning_rate': 4.7171145685997174e-05, 'epoch': 0.06}\n"
     ]
    },
    {
     "name": "stderr",
     "output_type": "stream",
     "text": [
      "  7%|▋         | 250/3535 [08:59<1:54:50,  2.10s/it]"
     ]
    },
    {
     "name": "stdout",
     "output_type": "stream",
     "text": [
      "{'loss': 0.5375, 'grad_norm': 3.623126983642578, 'learning_rate': 4.6463932107496465e-05, 'epoch': 0.07}\n"
     ]
    },
    {
     "name": "stderr",
     "output_type": "stream",
     "text": [
      "  8%|▊         | 300/3535 [10:44<1:52:45,  2.09s/it]"
     ]
    },
    {
     "name": "stdout",
     "output_type": "stream",
     "text": [
      "{'loss': 0.5665, 'grad_norm': 2.623850107192993, 'learning_rate': 4.5756718528995756e-05, 'epoch': 0.08}\n"
     ]
    },
    {
     "name": "stderr",
     "output_type": "stream",
     "text": [
      "\n",
      "  8%|▊         | 300/3535 [14:11<1:52:45,  2.09s/it]"
     ]
    },
    {
     "name": "stdout",
     "output_type": "stream",
     "text": [
      "{'eval_loss': 0.5369582772254944, 'eval_accuracy': 0.7594091460946985, 'eval_precision': 0.7168141592920354, 'eval_recall': 0.0654281098546042, 'eval_f1': 0.11991117690599556, 'eval_runtime': 207.7307, 'eval_samples_per_second': 23.79, 'eval_steps_per_second': 1.488, 'epoch': 0.08}\n"
     ]
    },
    {
     "name": "stderr",
     "output_type": "stream",
     "text": [
      " 10%|▉         | 350/3535 [16:02<1:50:23,  2.08s/it] "
     ]
    },
    {
     "name": "stdout",
     "output_type": "stream",
     "text": [
      "{'loss': 0.5793, 'grad_norm': 1.9398109912872314, 'learning_rate': 4.5049504950495054e-05, 'epoch': 0.1}\n"
     ]
    },
    {
     "name": "stderr",
     "output_type": "stream",
     "text": [
      " 11%|█▏        | 400/3535 [17:46<1:50:07,  2.11s/it]"
     ]
    },
    {
     "name": "stdout",
     "output_type": "stream",
     "text": [
      "{'loss': 0.5808, 'grad_norm': 4.862649917602539, 'learning_rate': 4.4342291371994345e-05, 'epoch': 0.11}\n"
     ]
    },
    {
     "name": "stderr",
     "output_type": "stream",
     "text": [
      " 13%|█▎        | 450/3535 [19:31<1:47:00,  2.08s/it]"
     ]
    },
    {
     "name": "stdout",
     "output_type": "stream",
     "text": [
      "{'loss': 0.5649, 'grad_norm': 2.6544313430786133, 'learning_rate': 4.363507779349364e-05, 'epoch': 0.13}\n"
     ]
    },
    {
     "name": "stderr",
     "output_type": "stream",
     "text": [
      " 14%|█▍        | 500/3535 [21:15<1:45:36,  2.09s/it]"
     ]
    },
    {
     "name": "stdout",
     "output_type": "stream",
     "text": [
      "{'loss': 0.534, 'grad_norm': 2.5952727794647217, 'learning_rate': 4.292786421499293e-05, 'epoch': 0.14}\n"
     ]
    },
    {
     "name": "stderr",
     "output_type": "stream",
     "text": [
      " 16%|█▌        | 550/3535 [22:59<1:43:18,  2.08s/it]"
     ]
    },
    {
     "name": "stdout",
     "output_type": "stream",
     "text": [
      "{'loss': 0.5478, 'grad_norm': 6.2346510887146, 'learning_rate': 4.222065063649222e-05, 'epoch': 0.16}\n"
     ]
    },
    {
     "name": "stderr",
     "output_type": "stream",
     "text": [
      " 17%|█▋        | 600/3535 [24:43<1:42:17,  2.09s/it]"
     ]
    },
    {
     "name": "stdout",
     "output_type": "stream",
     "text": [
      "{'loss': 0.5582, 'grad_norm': 2.61783504486084, 'learning_rate': 4.151343705799152e-05, 'epoch': 0.17}\n"
     ]
    },
    {
     "name": "stderr",
     "output_type": "stream",
     "text": [
      "\n",
      " 17%|█▋        | 600/3535 [28:11<1:42:17,  2.09s/it]"
     ]
    },
    {
     "name": "stdout",
     "output_type": "stream",
     "text": [
      "{'eval_loss': 0.5362422466278076, 'eval_accuracy': 0.7608255766895994, 'eval_precision': 0.6037037037037037, 'eval_recall': 0.13166397415185785, 'eval_f1': 0.21618037135278514, 'eval_runtime': 207.1385, 'eval_samples_per_second': 23.858, 'eval_steps_per_second': 1.492, 'epoch': 0.17}\n"
     ]
    },
    {
     "name": "stderr",
     "output_type": "stream",
     "text": [
      " 18%|█▊        | 650/3535 [30:01<1:39:38,  2.07s/it] "
     ]
    },
    {
     "name": "stdout",
     "output_type": "stream",
     "text": [
      "{'loss': 0.527, 'grad_norm': 7.961179256439209, 'learning_rate': 4.080622347949081e-05, 'epoch': 0.18}\n"
     ]
    },
    {
     "name": "stderr",
     "output_type": "stream",
     "text": [
      " 20%|█▉        | 700/3535 [31:46<1:48:38,  2.30s/it]"
     ]
    },
    {
     "name": "stdout",
     "output_type": "stream",
     "text": [
      "{'loss': 0.5258, 'grad_norm': 9.529830932617188, 'learning_rate': 4.0099009900990106e-05, 'epoch': 0.2}\n"
     ]
    },
    {
     "name": "stderr",
     "output_type": "stream",
     "text": [
      " 21%|██        | 750/3535 [33:35<1:42:16,  2.20s/it]"
     ]
    },
    {
     "name": "stdout",
     "output_type": "stream",
     "text": [
      "{'loss': 0.536, 'grad_norm': 2.5974643230438232, 'learning_rate': 3.939179632248939e-05, 'epoch': 0.21}\n"
     ]
    },
    {
     "name": "stderr",
     "output_type": "stream",
     "text": [
      " 23%|██▎       | 800/3535 [35:25<1:40:40,  2.21s/it]"
     ]
    },
    {
     "name": "stdout",
     "output_type": "stream",
     "text": [
      "{'loss': 0.4851, 'grad_norm': 6.564990043640137, 'learning_rate': 3.868458274398868e-05, 'epoch': 0.23}\n"
     ]
    },
    {
     "name": "stderr",
     "output_type": "stream",
     "text": [
      " 24%|██▍       | 850/3535 [37:15<1:42:06,  2.28s/it]"
     ]
    },
    {
     "name": "stdout",
     "output_type": "stream",
     "text": [
      "{'loss': 0.5273, 'grad_norm': 7.652459144592285, 'learning_rate': 3.797736916548798e-05, 'epoch': 0.24}\n"
     ]
    },
    {
     "name": "stderr",
     "output_type": "stream",
     "text": [
      " 25%|██▌       | 900/3535 [38:59<1:31:11,  2.08s/it]"
     ]
    },
    {
     "name": "stdout",
     "output_type": "stream",
     "text": [
      "{'loss': 0.5194, 'grad_norm': 9.023978233337402, 'learning_rate': 3.727015558698727e-05, 'epoch': 0.25}\n"
     ]
    },
    {
     "name": "stderr",
     "output_type": "stream",
     "text": [
      "\n",
      " 25%|██▌       | 900/3535 [42:28<1:31:11,  2.08s/it]"
     ]
    },
    {
     "name": "stdout",
     "output_type": "stream",
     "text": [
      "{'eval_loss': 0.5903571844100952, 'eval_accuracy': 0.7144880615135573, 'eval_precision': 0.41109969167523125, 'eval_recall': 0.32310177705977383, 'eval_f1': 0.3618272274988693, 'eval_runtime': 208.3111, 'eval_samples_per_second': 23.724, 'eval_steps_per_second': 1.483, 'epoch': 0.25}\n"
     ]
    },
    {
     "name": "stderr",
     "output_type": "stream",
     "text": [
      " 27%|██▋       | 950/3535 [44:21<1:28:50,  2.06s/it] "
     ]
    },
    {
     "name": "stdout",
     "output_type": "stream",
     "text": [
      "{'loss': 0.5126, 'grad_norm': 8.765427589416504, 'learning_rate': 3.656294200848657e-05, 'epoch': 0.27}\n"
     ]
    },
    {
     "name": "stderr",
     "output_type": "stream",
     "text": [
      " 28%|██▊       | 1000/3535 [46:05<1:27:58,  2.08s/it]"
     ]
    },
    {
     "name": "stdout",
     "output_type": "stream",
     "text": [
      "{'loss': 0.4951, 'grad_norm': 2.2554988861083984, 'learning_rate': 3.585572842998586e-05, 'epoch': 0.28}\n"
     ]
    },
    {
     "name": "stderr",
     "output_type": "stream",
     "text": [
      " 30%|██▉       | 1050/3535 [47:49<1:26:15,  2.08s/it]"
     ]
    },
    {
     "name": "stdout",
     "output_type": "stream",
     "text": [
      "{'loss': 0.49, 'grad_norm': 7.136236190795898, 'learning_rate': 3.514851485148515e-05, 'epoch': 0.3}\n"
     ]
    },
    {
     "name": "stderr",
     "output_type": "stream",
     "text": [
      " 31%|███       | 1100/3535 [49:34<1:25:19,  2.10s/it]"
     ]
    },
    {
     "name": "stdout",
     "output_type": "stream",
     "text": [
      "{'loss': 0.4787, 'grad_norm': 17.397293090820312, 'learning_rate': 3.444130127298444e-05, 'epoch': 0.31}\n"
     ]
    },
    {
     "name": "stderr",
     "output_type": "stream",
     "text": [
      " 33%|███▎      | 1150/3535 [51:18<1:22:23,  2.07s/it]"
     ]
    },
    {
     "name": "stdout",
     "output_type": "stream",
     "text": [
      "{'loss': 0.5129, 'grad_norm': 5.601113319396973, 'learning_rate': 3.3734087694483734e-05, 'epoch': 0.33}\n"
     ]
    },
    {
     "name": "stderr",
     "output_type": "stream",
     "text": [
      " 34%|███▍      | 1200/3535 [53:03<1:21:33,  2.10s/it]"
     ]
    },
    {
     "name": "stdout",
     "output_type": "stream",
     "text": [
      "{'loss': 0.5003, 'grad_norm': 6.246832847595215, 'learning_rate': 3.302687411598303e-05, 'epoch': 0.34}\n"
     ]
    },
    {
     "name": "stderr",
     "output_type": "stream",
     "text": [
      "\n",
      " 34%|███▍      | 1200/3535 [56:31<1:21:33,  2.10s/it]"
     ]
    },
    {
     "name": "stdout",
     "output_type": "stream",
     "text": [
      "{'eval_loss': 0.5062294602394104, 'eval_accuracy': 0.7652772157021449, 'eval_precision': 0.7294117647058823, 'eval_recall': 0.10016155088852989, 'eval_f1': 0.17613636363636365, 'eval_runtime': 207.5056, 'eval_samples_per_second': 23.816, 'eval_steps_per_second': 1.489, 'epoch': 0.34}\n"
     ]
    },
    {
     "name": "stderr",
     "output_type": "stream",
     "text": [
      " 35%|███▌      | 1250/3535 [58:24<1:19:22,  2.08s/it] "
     ]
    },
    {
     "name": "stdout",
     "output_type": "stream",
     "text": [
      "{'loss': 0.4898, 'grad_norm': 7.332672119140625, 'learning_rate': 3.231966053748232e-05, 'epoch': 0.35}\n"
     ]
    },
    {
     "name": "stderr",
     "output_type": "stream",
     "text": [
      " 37%|███▋      | 1300/3535 [1:00:08<1:17:48,  2.09s/it]"
     ]
    },
    {
     "name": "stdout",
     "output_type": "stream",
     "text": [
      "{'loss': 0.4509, 'grad_norm': 7.240659713745117, 'learning_rate': 3.1612446958981614e-05, 'epoch': 0.37}\n"
     ]
    },
    {
     "name": "stderr",
     "output_type": "stream",
     "text": [
      " 38%|███▊      | 1350/3535 [1:01:55<1:18:26,  2.15s/it]"
     ]
    },
    {
     "name": "stdout",
     "output_type": "stream",
     "text": [
      "{'loss': 0.489, 'grad_norm': 11.285072326660156, 'learning_rate': 3.0905233380480905e-05, 'epoch': 0.38}\n"
     ]
    },
    {
     "name": "stderr",
     "output_type": "stream",
     "text": [
      " 40%|███▉      | 1400/3535 [1:03:44<1:17:59,  2.19s/it]"
     ]
    },
    {
     "name": "stdout",
     "output_type": "stream",
     "text": [
      "{'loss': 0.4896, 'grad_norm': 7.783987045288086, 'learning_rate': 3.01980198019802e-05, 'epoch': 0.4}\n"
     ]
    },
    {
     "name": "stderr",
     "output_type": "stream",
     "text": [
      " 41%|████      | 1450/3535 [1:05:39<1:26:58,  2.50s/it]"
     ]
    },
    {
     "name": "stdout",
     "output_type": "stream",
     "text": [
      "{'loss': 0.4717, 'grad_norm': 7.208779335021973, 'learning_rate': 2.9490806223479494e-05, 'epoch': 0.41}\n"
     ]
    },
    {
     "name": "stderr",
     "output_type": "stream",
     "text": [
      " 42%|████▏     | 1500/3535 [1:07:35<1:13:44,  2.17s/it]"
     ]
    },
    {
     "name": "stdout",
     "output_type": "stream",
     "text": [
      "{'loss': 0.4639, 'grad_norm': 32.550384521484375, 'learning_rate': 2.8783592644978786e-05, 'epoch': 0.42}\n"
     ]
    },
    {
     "name": "stderr",
     "output_type": "stream",
     "text": [
      "\n",
      " 42%|████▏     | 1500/3535 [1:11:54<1:13:44,  2.17s/it]"
     ]
    },
    {
     "name": "stdout",
     "output_type": "stream",
     "text": [
      "{'eval_loss': 0.6486820578575134, 'eval_accuracy': 0.6922298664508296, 'eval_precision': 0.37791199309749784, 'eval_recall': 0.35379644588045234, 'eval_f1': 0.36545682102628285, 'eval_runtime': 258.9935, 'eval_samples_per_second': 19.082, 'eval_steps_per_second': 1.193, 'epoch': 0.42}\n"
     ]
    },
    {
     "name": "stderr",
     "output_type": "stream",
     "text": [
      " 44%|████▍     | 1550/3535 [1:14:20<1:12:47,  2.20s/it] "
     ]
    },
    {
     "name": "stdout",
     "output_type": "stream",
     "text": [
      "{'loss': 0.4272, 'grad_norm': 18.859302520751953, 'learning_rate': 2.8076379066478077e-05, 'epoch': 0.44}\n"
     ]
    },
    {
     "name": "stderr",
     "output_type": "stream",
     "text": [
      " 45%|████▌     | 1600/3535 [1:16:15<1:11:59,  2.23s/it]"
     ]
    },
    {
     "name": "stdout",
     "output_type": "stream",
     "text": [
      "{'loss': 0.4401, 'grad_norm': 7.241287708282471, 'learning_rate': 2.736916548797737e-05, 'epoch': 0.45}\n"
     ]
    },
    {
     "name": "stderr",
     "output_type": "stream",
     "text": [
      " 47%|████▋     | 1650/3535 [1:18:13<1:12:04,  2.29s/it]"
     ]
    },
    {
     "name": "stdout",
     "output_type": "stream",
     "text": [
      "{'loss': 0.4168, 'grad_norm': 14.754653930664062, 'learning_rate': 2.6661951909476662e-05, 'epoch': 0.47}\n"
     ]
    },
    {
     "name": "stderr",
     "output_type": "stream",
     "text": [
      " 48%|████▊     | 1700/3535 [1:19:59<1:05:27,  2.14s/it]"
     ]
    },
    {
     "name": "stdout",
     "output_type": "stream",
     "text": [
      "{'loss': 0.4313, 'grad_norm': 19.21708106994629, 'learning_rate': 2.5954738330975957e-05, 'epoch': 0.48}\n"
     ]
    },
    {
     "name": "stderr",
     "output_type": "stream",
     "text": [
      " 50%|████▉     | 1750/3535 [1:21:45<1:01:56,  2.08s/it]"
     ]
    },
    {
     "name": "stdout",
     "output_type": "stream",
     "text": [
      "{'loss': 0.4073, 'grad_norm': 13.471037864685059, 'learning_rate': 2.5247524752475248e-05, 'epoch': 0.5}\n"
     ]
    },
    {
     "name": "stderr",
     "output_type": "stream",
     "text": [
      " 51%|█████     | 1800/3535 [1:23:30<1:00:53,  2.11s/it]"
     ]
    },
    {
     "name": "stdout",
     "output_type": "stream",
     "text": [
      "{'loss': 0.4156, 'grad_norm': 7.5939178466796875, 'learning_rate': 2.4540311173974543e-05, 'epoch': 0.51}\n"
     ]
    },
    {
     "name": "stderr",
     "output_type": "stream",
     "text": [
      "\n",
      " 51%|█████     | 1800/3535 [1:26:59<1:00:53,  2.11s/it]"
     ]
    },
    {
     "name": "stdout",
     "output_type": "stream",
     "text": [
      "{'eval_loss': 0.5956308245658875, 'eval_accuracy': 0.7029542695265075, 'eval_precision': 0.41099071207430343, 'eval_recall': 0.4289176090468498, 'eval_f1': 0.4197628458498024, 'eval_runtime': 209.4319, 'eval_samples_per_second': 23.597, 'eval_steps_per_second': 1.475, 'epoch': 0.51}\n"
     ]
    },
    {
     "name": "stderr",
     "output_type": "stream",
     "text": [
      " 52%|█████▏    | 1850/3535 [1:29:04<1:00:04,  2.14s/it] "
     ]
    },
    {
     "name": "stdout",
     "output_type": "stream",
     "text": [
      "{'loss': 0.4273, 'grad_norm': 9.760687828063965, 'learning_rate': 2.3833097595473834e-05, 'epoch': 0.52}\n"
     ]
    },
    {
     "name": "stderr",
     "output_type": "stream",
     "text": [
      " 54%|█████▎    | 1900/3535 [1:30:50<58:24,  2.14s/it]  "
     ]
    },
    {
     "name": "stdout",
     "output_type": "stream",
     "text": [
      "{'loss': 0.4387, 'grad_norm': 6.366621494293213, 'learning_rate': 2.3125884016973125e-05, 'epoch': 0.54}\n"
     ]
    },
    {
     "name": "stderr",
     "output_type": "stream",
     "text": [
      " 55%|█████▌    | 1950/3535 [1:32:37<55:55,  2.12s/it]"
     ]
    },
    {
     "name": "stdout",
     "output_type": "stream",
     "text": [
      "{'loss': 0.3983, 'grad_norm': 6.269037246704102, 'learning_rate': 2.241867043847242e-05, 'epoch': 0.55}\n"
     ]
    },
    {
     "name": "stderr",
     "output_type": "stream",
     "text": [
      " 57%|█████▋    | 2000/3535 [1:34:23<54:22,  2.13s/it]"
     ]
    },
    {
     "name": "stdout",
     "output_type": "stream",
     "text": [
      "{'loss': 0.4554, 'grad_norm': 11.899242401123047, 'learning_rate': 2.1711456859971714e-05, 'epoch': 0.57}\n"
     ]
    },
    {
     "name": "stderr",
     "output_type": "stream",
     "text": [
      " 58%|█████▊    | 2050/3535 [1:36:08<51:28,  2.08s/it]"
     ]
    },
    {
     "name": "stdout",
     "output_type": "stream",
     "text": [
      "{'loss': 0.4242, 'grad_norm': 5.764440059661865, 'learning_rate': 2.1004243281471006e-05, 'epoch': 0.58}\n"
     ]
    },
    {
     "name": "stderr",
     "output_type": "stream",
     "text": [
      " 59%|█████▉    | 2100/3535 [1:37:52<51:16,  2.14s/it]"
     ]
    },
    {
     "name": "stdout",
     "output_type": "stream",
     "text": [
      "{'loss': 0.4212, 'grad_norm': 5.597002029418945, 'learning_rate': 2.02970297029703e-05, 'epoch': 0.59}\n"
     ]
    },
    {
     "name": "stderr",
     "output_type": "stream",
     "text": [
      "\n",
      " 59%|█████▉    | 2100/3535 [1:41:20<51:16,  2.14s/it]"
     ]
    },
    {
     "name": "stdout",
     "output_type": "stream",
     "text": [
      "{'eval_loss': 0.5209869742393494, 'eval_accuracy': 0.7517199514366654, 'eval_precision': 0.5054187192118227, 'eval_recall': 0.41437802907915994, 'eval_f1': 0.45539280958721706, 'eval_runtime': 207.9, 'eval_samples_per_second': 23.771, 'eval_steps_per_second': 1.486, 'epoch': 0.59}\n"
     ]
    },
    {
     "name": "stderr",
     "output_type": "stream",
     "text": [
      " 61%|██████    | 2150/3535 [1:43:10<48:03,  2.08s/it]   "
     ]
    },
    {
     "name": "stdout",
     "output_type": "stream",
     "text": [
      "{'loss': 0.4158, 'grad_norm': 17.500038146972656, 'learning_rate': 1.958981612446959e-05, 'epoch': 0.61}\n"
     ]
    },
    {
     "name": "stderr",
     "output_type": "stream",
     "text": [
      " 62%|██████▏   | 2200/3535 [1:44:55<47:01,  2.11s/it]"
     ]
    },
    {
     "name": "stdout",
     "output_type": "stream",
     "text": [
      "{'loss': 0.4362, 'grad_norm': 6.9406418800354, 'learning_rate': 1.8882602545968883e-05, 'epoch': 0.62}\n"
     ]
    },
    {
     "name": "stderr",
     "output_type": "stream",
     "text": [
      " 64%|██████▎   | 2250/3535 [1:46:39<44:34,  2.08s/it]"
     ]
    },
    {
     "name": "stdout",
     "output_type": "stream",
     "text": [
      "{'loss': 0.4144, 'grad_norm': 6.233128547668457, 'learning_rate': 1.8175388967468177e-05, 'epoch': 0.64}\n"
     ]
    },
    {
     "name": "stderr",
     "output_type": "stream",
     "text": [
      " 65%|██████▌   | 2300/3535 [1:48:24<42:54,  2.08s/it]"
     ]
    },
    {
     "name": "stdout",
     "output_type": "stream",
     "text": [
      "{'loss': 0.4055, 'grad_norm': 12.33758544921875, 'learning_rate': 1.7468175388967468e-05, 'epoch': 0.65}\n"
     ]
    },
    {
     "name": "stderr",
     "output_type": "stream",
     "text": [
      " 66%|██████▋   | 2350/3535 [1:50:08<41:14,  2.09s/it]"
     ]
    },
    {
     "name": "stdout",
     "output_type": "stream",
     "text": [
      "{'loss': 0.3887, 'grad_norm': 10.848382949829102, 'learning_rate': 1.676096181046676e-05, 'epoch': 0.66}\n"
     ]
    },
    {
     "name": "stderr",
     "output_type": "stream",
     "text": [
      " 68%|██████▊   | 2400/3535 [1:51:53<39:56,  2.11s/it]"
     ]
    },
    {
     "name": "stdout",
     "output_type": "stream",
     "text": [
      "{'loss': 0.384, 'grad_norm': 5.507018089294434, 'learning_rate': 1.6053748231966054e-05, 'epoch': 0.68}\n"
     ]
    },
    {
     "name": "stderr",
     "output_type": "stream",
     "text": [
      "\n",
      " 68%|██████▊   | 2400/3535 [1:55:21<39:56,  2.11s/it]"
     ]
    },
    {
     "name": "stdout",
     "output_type": "stream",
     "text": [
      "{'eval_loss': 0.5448342561721802, 'eval_accuracy': 0.7693241602590044, 'eval_precision': 0.5644736842105263, 'eval_recall': 0.3465266558966074, 'eval_f1': 0.4294294294294294, 'eval_runtime': 208.1532, 'eval_samples_per_second': 23.742, 'eval_steps_per_second': 1.484, 'epoch': 0.68}\n"
     ]
    },
    {
     "name": "stderr",
     "output_type": "stream",
     "text": [
      " 69%|██████▉   | 2450/3535 [1:57:10<37:38,  2.08s/it]   "
     ]
    },
    {
     "name": "stdout",
     "output_type": "stream",
     "text": [
      "{'loss': 0.3837, 'grad_norm': 6.612639427185059, 'learning_rate': 1.534653465346535e-05, 'epoch': 0.69}\n"
     ]
    },
    {
     "name": "stderr",
     "output_type": "stream",
     "text": [
      " 71%|███████   | 2500/3535 [1:58:55<37:26,  2.17s/it]"
     ]
    },
    {
     "name": "stdout",
     "output_type": "stream",
     "text": [
      "{'loss': 0.4034, 'grad_norm': 7.746756553649902, 'learning_rate': 1.463932107496464e-05, 'epoch': 0.71}\n"
     ]
    },
    {
     "name": "stderr",
     "output_type": "stream",
     "text": [
      " 72%|███████▏  | 2550/3535 [2:00:39<34:07,  2.08s/it]"
     ]
    },
    {
     "name": "stdout",
     "output_type": "stream",
     "text": [
      "{'loss': 0.4034, 'grad_norm': 7.364539623260498, 'learning_rate': 1.3932107496463934e-05, 'epoch': 0.72}\n"
     ]
    },
    {
     "name": "stderr",
     "output_type": "stream",
     "text": [
      " 74%|███████▎  | 2600/3535 [2:02:23<32:10,  2.06s/it]"
     ]
    },
    {
     "name": "stdout",
     "output_type": "stream",
     "text": [
      "{'loss': 0.4019, 'grad_norm': 5.871461391448975, 'learning_rate': 1.3224893917963224e-05, 'epoch': 0.74}\n"
     ]
    },
    {
     "name": "stderr",
     "output_type": "stream",
     "text": [
      " 75%|███████▍  | 2650/3535 [2:04:07<30:39,  2.08s/it]"
     ]
    },
    {
     "name": "stdout",
     "output_type": "stream",
     "text": [
      "{'loss': 0.3629, 'grad_norm': 18.31525421142578, 'learning_rate': 1.2517680339462517e-05, 'epoch': 0.75}\n"
     ]
    },
    {
     "name": "stderr",
     "output_type": "stream",
     "text": [
      " 76%|███████▋  | 2700/3535 [2:05:51<28:46,  2.07s/it]"
     ]
    },
    {
     "name": "stdout",
     "output_type": "stream",
     "text": [
      "{'loss': 0.3824, 'grad_norm': 11.755447387695312, 'learning_rate': 1.1810466760961811e-05, 'epoch': 0.76}\n"
     ]
    },
    {
     "name": "stderr",
     "output_type": "stream",
     "text": [
      "\n",
      " 76%|███████▋  | 2700/3535 [2:09:19<28:46,  2.07s/it]"
     ]
    },
    {
     "name": "stdout",
     "output_type": "stream",
     "text": [
      "{'eval_loss': 0.6381913423538208, 'eval_accuracy': 0.7146904087414002, 'eval_precision': 0.42224231464737794, 'eval_recall': 0.3772213247172859, 'eval_f1': 0.3984641638225256, 'eval_runtime': 207.6934, 'eval_samples_per_second': 23.795, 'eval_steps_per_second': 1.488, 'epoch': 0.76}\n"
     ]
    },
    {
     "name": "stderr",
     "output_type": "stream",
     "text": [
      " 78%|███████▊  | 2750/3535 [2:11:12<27:12,  2.08s/it]   "
     ]
    },
    {
     "name": "stdout",
     "output_type": "stream",
     "text": [
      "{'loss': 0.4085, 'grad_norm': 9.48890495300293, 'learning_rate': 1.1103253182461104e-05, 'epoch': 0.78}\n"
     ]
    },
    {
     "name": "stderr",
     "output_type": "stream",
     "text": [
      " 79%|███████▉  | 2800/3535 [2:12:56<25:28,  2.08s/it]"
     ]
    },
    {
     "name": "stdout",
     "output_type": "stream",
     "text": [
      "{'loss': 0.364, 'grad_norm': 10.479289054870605, 'learning_rate': 1.0396039603960395e-05, 'epoch': 0.79}\n"
     ]
    },
    {
     "name": "stderr",
     "output_type": "stream",
     "text": [
      " 81%|████████  | 2850/3535 [2:14:40<23:47,  2.08s/it]"
     ]
    },
    {
     "name": "stdout",
     "output_type": "stream",
     "text": [
      "{'loss': 0.3672, 'grad_norm': 24.66791343688965, 'learning_rate': 9.68882602545969e-06, 'epoch': 0.81}\n"
     ]
    },
    {
     "name": "stderr",
     "output_type": "stream",
     "text": [
      " 82%|████████▏ | 2900/3535 [2:16:24<21:56,  2.07s/it]"
     ]
    },
    {
     "name": "stdout",
     "output_type": "stream",
     "text": [
      "{'loss': 0.3661, 'grad_norm': 12.358805656433105, 'learning_rate': 8.981612446958983e-06, 'epoch': 0.82}\n"
     ]
    },
    {
     "name": "stderr",
     "output_type": "stream",
     "text": [
      " 83%|████████▎ | 2950/3535 [2:18:08<20:16,  2.08s/it]"
     ]
    },
    {
     "name": "stdout",
     "output_type": "stream",
     "text": [
      "{'loss': 0.3336, 'grad_norm': 19.67015266418457, 'learning_rate': 8.274398868458274e-06, 'epoch': 0.83}\n"
     ]
    },
    {
     "name": "stderr",
     "output_type": "stream",
     "text": [
      " 85%|████████▍ | 3000/3535 [2:19:52<18:41,  2.10s/it]"
     ]
    },
    {
     "name": "stdout",
     "output_type": "stream",
     "text": [
      "{'loss': 0.3526, 'grad_norm': 9.212236404418945, 'learning_rate': 7.567185289957568e-06, 'epoch': 0.85}\n"
     ]
    },
    {
     "name": "stderr",
     "output_type": "stream",
     "text": [
      "\n",
      " 85%|████████▍ | 3000/3535 [2:23:20<18:41,  2.10s/it]"
     ]
    },
    {
     "name": "stdout",
     "output_type": "stream",
     "text": [
      "{'eval_loss': 0.6239327192306519, 'eval_accuracy': 0.7409955483609875, 'eval_precision': 0.4798076923076923, 'eval_recall': 0.40306946688206785, 'eval_f1': 0.43810359964881473, 'eval_runtime': 208.0333, 'eval_samples_per_second': 23.756, 'eval_steps_per_second': 1.485, 'epoch': 0.85}\n"
     ]
    },
    {
     "name": "stderr",
     "output_type": "stream",
     "text": [
      " 86%|████████▋ | 3050/3535 [2:25:10<16:42,  2.07s/it]  "
     ]
    },
    {
     "name": "stdout",
     "output_type": "stream",
     "text": [
      "{'loss': 0.3495, 'grad_norm': 6.823259353637695, 'learning_rate': 6.85997171145686e-06, 'epoch': 0.86}\n"
     ]
    },
    {
     "name": "stderr",
     "output_type": "stream",
     "text": [
      " 88%|████████▊ | 3100/3535 [2:26:54<15:20,  2.12s/it]"
     ]
    },
    {
     "name": "stdout",
     "output_type": "stream",
     "text": [
      "{'loss': 0.402, 'grad_norm': 9.763500213623047, 'learning_rate': 6.152758132956153e-06, 'epoch': 0.88}\n"
     ]
    },
    {
     "name": "stderr",
     "output_type": "stream",
     "text": [
      " 89%|████████▉ | 3150/3535 [2:28:38<13:23,  2.09s/it]"
     ]
    },
    {
     "name": "stdout",
     "output_type": "stream",
     "text": [
      "{'loss': 0.3582, 'grad_norm': 11.19636058807373, 'learning_rate': 5.445544554455446e-06, 'epoch': 0.89}\n"
     ]
    },
    {
     "name": "stderr",
     "output_type": "stream",
     "text": [
      " 91%|█████████ | 3200/3535 [2:30:23<11:42,  2.10s/it]"
     ]
    },
    {
     "name": "stdout",
     "output_type": "stream",
     "text": [
      "{'loss': 0.4129, 'grad_norm': 9.126856803894043, 'learning_rate': 4.7383309759547385e-06, 'epoch': 0.91}\n"
     ]
    },
    {
     "name": "stderr",
     "output_type": "stream",
     "text": [
      " 92%|█████████▏| 3250/3535 [2:32:07<09:59,  2.10s/it]"
     ]
    },
    {
     "name": "stdout",
     "output_type": "stream",
     "text": [
      "{'loss': 0.3663, 'grad_norm': 13.847618103027344, 'learning_rate': 4.031117397454031e-06, 'epoch': 0.92}\n"
     ]
    },
    {
     "name": "stderr",
     "output_type": "stream",
     "text": [
      " 93%|█████████▎| 3300/3535 [2:33:52<08:12,  2.10s/it]"
     ]
    },
    {
     "name": "stdout",
     "output_type": "stream",
     "text": [
      "{'loss': 0.3531, 'grad_norm': 6.392059326171875, 'learning_rate': 3.3239038189533243e-06, 'epoch': 0.93}\n"
     ]
    },
    {
     "name": "stderr",
     "output_type": "stream",
     "text": [
      "\n",
      " 93%|█████████▎| 3300/3535 [2:37:20<08:12,  2.10s/it]"
     ]
    },
    {
     "name": "stdout",
     "output_type": "stream",
     "text": [
      "{'eval_loss': 0.8346706628799438, 'eval_accuracy': 0.6675435046539863, 'eval_precision': 0.3779385171790235, 'eval_recall': 0.5064620355411955, 'eval_f1': 0.432861580945806, 'eval_runtime': 207.8865, 'eval_samples_per_second': 23.773, 'eval_steps_per_second': 1.486, 'epoch': 0.93}\n"
     ]
    },
    {
     "name": "stderr",
     "output_type": "stream",
     "text": [
      " 95%|█████████▍| 3350/3535 [2:39:08<06:27,  2.10s/it]  "
     ]
    },
    {
     "name": "stdout",
     "output_type": "stream",
     "text": [
      "{'loss': 0.3953, 'grad_norm': 14.928522109985352, 'learning_rate': 2.6166902404526168e-06, 'epoch': 0.95}\n"
     ]
    },
    {
     "name": "stderr",
     "output_type": "stream",
     "text": [
      " 96%|█████████▌| 3400/3535 [2:40:52<04:43,  2.10s/it]"
     ]
    },
    {
     "name": "stdout",
     "output_type": "stream",
     "text": [
      "{'loss': 0.394, 'grad_norm': 9.05545425415039, 'learning_rate': 1.9094766619519096e-06, 'epoch': 0.96}\n"
     ]
    },
    {
     "name": "stderr",
     "output_type": "stream",
     "text": [
      " 98%|█████████▊| 3450/3535 [2:42:36<02:59,  2.11s/it]"
     ]
    },
    {
     "name": "stdout",
     "output_type": "stream",
     "text": [
      "{'loss': 0.3612, 'grad_norm': 13.447049140930176, 'learning_rate': 1.2022630834512023e-06, 'epoch': 0.98}\n"
     ]
    },
    {
     "name": "stderr",
     "output_type": "stream",
     "text": [
      " 99%|█████████▉| 3500/3535 [2:44:20<01:12,  2.08s/it]"
     ]
    },
    {
     "name": "stdout",
     "output_type": "stream",
     "text": [
      "{'loss': 0.3476, 'grad_norm': 8.826951026916504, 'learning_rate': 4.950495049504951e-07, 'epoch': 0.99}\n"
     ]
    },
    {
     "name": "stderr",
     "output_type": "stream",
     "text": [
      "100%|██████████| 3535/3535 [2:45:40<00:00,  2.81s/it]"
     ]
    },
    {
     "name": "stdout",
     "output_type": "stream",
     "text": [
      "{'train_runtime': 9940.6593, 'train_samples_per_second': 5.689, 'train_steps_per_second': 0.356, 'train_loss': 0.45058048477941726, 'epoch': 1.0}\n"
     ]
    },
    {
     "name": "stderr",
     "output_type": "stream",
     "text": [
      "\n"
     ]
    },
    {
     "data": {
      "text/plain": [
       "TrainOutput(global_step=3535, training_loss=0.45058048477941726, metrics={'train_runtime': 9940.6593, 'train_samples_per_second': 5.689, 'train_steps_per_second': 0.356, 'total_flos': 1.487945640271872e+16, 'train_loss': 0.45058048477941726, 'epoch': 1.0})"
      ]
     },
     "execution_count": 53,
     "metadata": {},
     "output_type": "execute_result"
    }
   ],
   "source": [
    "trainer.train()"
   ]
  },
  {
   "cell_type": "markdown",
   "metadata": {},
   "source": [
    "Wyuczony model zapisuję na dysku.\n",
    "\n",
    "Tu akurat widać zapis modelu walidowanego na podstawie funkcji \"loss\", ale wcześniej zapisałem w ten sam sposob model walidowany f1-score."
   ]
  },
  {
   "cell_type": "code",
   "execution_count": 54,
   "metadata": {},
   "outputs": [
    {
     "data": {
      "text/plain": [
       "('./best_model_f1_rand/tokenizer_config.json',\n",
       " './best_model_f1_rand/special_tokens_map.json',\n",
       " './best_model_f1_rand/vocab.json',\n",
       " './best_model_f1_rand/merges.txt',\n",
       " './best_model_f1_rand/added_tokens.json',\n",
       " './best_model_f1_rand/tokenizer.json')"
      ]
     },
     "execution_count": 54,
     "metadata": {},
     "output_type": "execute_result"
    }
   ],
   "source": [
    "model.save_pretrained('./best_model_f1_rand')\n",
    "pl_tokenizer.save_pretrained('./best_model_f1_rand')"
   ]
  },
  {
   "cell_type": "markdown",
   "metadata": {},
   "source": [
    "Na tych samych zasadach co zbiory treningowy i walidacyjny, przygotowuję zbiór testowy dla sprawdzenia jakości modelu."
   ]
  },
  {
   "cell_type": "code",
   "execution_count": 55,
   "metadata": {},
   "outputs": [
    {
     "name": "stdout",
     "output_type": "stream",
     "text": [
      "Index 'mw_nlp_lab5_test' deleted successfully.\n",
      "Index created.\n",
      "All documents indexed successfully.\n"
     ]
    }
   ],
   "source": [
    "test_query_to_corpus_dict = utils.prepare_fiqa_qrels(qrels, ['test'])\n",
    "test_corpus_dict = utils.prepare_fiqa_corpus_related_to_selected_subsets(corpus, test_query_to_corpus_dict, True)\n",
    "\n",
    "test_index_name = \"mw_nlp_lab5_test\"\n",
    "fts_url, test_index_url = utils.create_fts_index(test_index_name)\n",
    "utils.bulk_load(fts_url, test_index_name, test_corpus_dict)"
   ]
  },
  {
   "cell_type": "code",
   "execution_count": 56,
   "metadata": {},
   "outputs": [
    {
     "name": "stderr",
     "output_type": "stream",
     "text": [
      "Map: 100%|██████████| 6824/6824 [00:01<00:00, 3433.42 examples/s]\n"
     ]
    }
   ],
   "source": [
    "test_dataset = collect_training_dataset(test_index_url, test_corpus_dict, ['test'], separator)\n",
    "tokenized_test_dataset = test_dataset.map(tokenize_function, batched=True)"
   ]
  },
  {
   "cell_type": "markdown",
   "metadata": {},
   "source": [
    "Jak widać po poniższych wartościach oceniających jakość modelu, nie mamy tu do czynienia z modelem o wysokiej skuteczności.\n",
    "\n",
    "Accuracy wynosi całkiem niezłe: 0.7386, ale już recall i f1-score odpowiednio 0.5088 i 0.4932, czyli nie najlepiej, a przecież to na ich jakość stawialiśmy najbardziej w trakcie treningu."
   ]
  },
  {
   "cell_type": "code",
   "execution_count": 59,
   "metadata": {},
   "outputs": [],
   "source": [
    "model = AutoModelForSequenceClassification.from_pretrained(\"./best_model_f1_rand\", num_labels=2)\n",
    "\n",
    "trainer = Trainer(\n",
    "    model=model,\n",
    "    args=arguments,\n",
    "    eval_dataset=tokenized_test_dataset.shuffle(seed=42),\n",
    "    compute_metrics=compute_metrics,\n",
    ")"
   ]
  },
  {
   "cell_type": "code",
   "execution_count": 166,
   "metadata": {},
   "outputs": [
    {
     "name": "stderr",
     "output_type": "stream",
     "text": [
      "100%|██████████| 427/427 [05:02<00:00,  1.41it/s]"
     ]
    },
    {
     "name": "stdout",
     "output_type": "stream",
     "text": [
      "{'eval_loss': 0.5758367776870728, 'eval_model_preparation_time': 0.0028, 'eval_accuracy': 0.738569753810082, 'eval_precision': 0.4785005512679162, 'eval_recall': 0.5087924970691676, 'eval_f1': 0.49318181818181817, 'eval_runtime': 313.5382, 'eval_samples_per_second': 21.764, 'eval_steps_per_second': 1.362}\n"
     ]
    },
    {
     "name": "stderr",
     "output_type": "stream",
     "text": [
      "\n"
     ]
    }
   ],
   "source": [
    "results = trainer.evaluate(tokenized_test_dataset)\n",
    "print(results)"
   ]
  },
  {
   "cell_type": "markdown",
   "metadata": {},
   "source": [
    "Poniżej wartości dla kilku innych metrych wiodących przy szkoleniu modelu, które wypróbowałem:"
   ]
  },
  {
   "cell_type": "markdown",
   "metadata": {},
   "source": [
    "best_model_loss:\n",
    "{'eval_loss': 0.5315373539924622, 'eval_model_preparation_time': 0.0021, 'eval_accuracy': 0.766559202813599, 'eval_precision': 0.6996466431095406, 'eval_recall': 0.1160609613130129, 'eval_f1': 0.19909502262443438, 'eval_runtime': 303.5541, 'eval_samples_per_second': 22.48, 'eval_steps_per_second': 1.407}\n",
    "\n",
    "best_model_f1:\n",
    "{'eval_loss': 0.5758367776870728, 'eval_model_preparation_time': 0.0029, 'eval_accuracy': 0.738569753810082, 'eval_precision': 0.4785005512679162, 'eval_recall': 0.5087924970691676, 'eval_f1': 0.49318181818181817, 'eval_runtime': 304.6841, 'eval_samples_per_second': 22.397, 'eval_steps_per_second': 1.401}\n",
    "\n",
    "best_model_accuracy:\n",
    "{'eval_loss': 0.5615702271461487, 'eval_model_preparation_time': 0.0027, 'eval_accuracy': 0.75, 'eval_precision': 0.0, 'eval_recall': 0.0, 'eval_f1': 0.0, 'eval_runtime': 324.3951, 'eval_samples_per_second': 21.036, 'eval_steps_per_second': 1.316}\n",
    "\n"
   ]
  },
  {
   "cell_type": "markdown",
   "metadata": {},
   "source": [
    "Podany poniżej przykład, zaczerpnięty został ze zbioru testowego i pokazuje, że model w tym przypadku dobrze klasyfikuje należność pierwszego przypadku do klasy pozytywnej (1), oraz przypadku drugiego do klasy negatywnej (0). "
   ]
  },
  {
   "cell_type": "code",
   "execution_count": 60,
   "metadata": {},
   "outputs": [
    {
     "data": {
      "text/plain": [
       "tensor([[0.5923, 0.4077],\n",
       "        [0.7275, 0.2725]])"
      ]
     },
     "execution_count": 60,
     "metadata": {},
     "output_type": "execute_result"
    }
   ],
   "source": [
    "from transformers import AutoTokenizer, AutoModel\n",
    "import torch\n",
    "\n",
    "tokenizer = AutoTokenizer.from_pretrained(\"./best_model_f1_rand\")\n",
    "model = AutoModelForSequenceClassification.from_pretrained(\"./best_model_f1_rand\", num_labels=2)\n",
    "\n",
    "sentences = [\n",
    "    \"'Gdzie powinienem zaparkować mój fundusz na deszczowy dzień / awaryjny?</s>Sugerowałbym lokalną kasę kredytową lub lokalny bank dla bezpieczeństwa i płynności. Płynność jest prawdopodobnie najważniejszą kwestią dla funduszu awaryjnego.'\",\n",
    "    \"'Gdzie powinienem zaparkować mój fundusz na deszczowy dzień / awaryjny?</s>W katastrofie mieszkaniowej w 2008 r. królowała gotówka. Gotówka może spłacić kredyt hipoteczny, kupić artykuły spożywcze, usługi komunalne itp. Dla osób z gotówką dostępne były świetne oferty na nieruchomości należące do banku. Uzyskanie kredytu hipotecznego w latach 2008-2011 było trudne. Jeśli obawiasz się krachu na giełdzie, kluczem jest dywersyfikacja. Nie miej wszystkich swoich inwestycji w jednym funduszu lub sektorze. Złoto i metale szlachetne mają miejsce w portfelu, powiedzmy 5-10 procent jako polisa ubezpieczeniowa. Dni, w których używano Złotego Podwójnego Orła do płacenia podatków od nieruchomości, w dużej mierze minęły, chociaż Utah na to pozwala. Największą lekcją, jaką wyniosłem z katastrofy, jest to, że nie można zaoszczędzić zbyt dużo gotówki. Zbuduj fundusz na deszczowy dzień.'\"\n",
    "]\n",
    "\n",
    "inputs = tokenizer(\n",
    "    sentences,\n",
    "    padding=\"max_length\",\n",
    "    truncation=True,\n",
    "    return_tensors=\"pt\"\n",
    ")\n",
    "\n",
    "model.eval()\n",
    "with torch.no_grad():\n",
    "    outputs = model(**inputs)\n",
    "\n",
    "logits = outputs.logits\n",
    "probabilities = torch.nn.functional.softmax(logits, dim=-1)\n",
    "probabilities"
   ]
  },
  {
   "cell_type": "markdown",
   "metadata": {},
   "source": [
    "Przygotowuję więc zbiór danych, króry zawiera wszystkie odpowiedzi z korpusu, i umieszczam go w indeksie Elasticsearch. Na takim zbiorze danych pracowałem w lab2 i dla niego chcę powtórzyć eksperyment."
   ]
  },
  {
   "cell_type": "code",
   "execution_count": 61,
   "metadata": {},
   "outputs": [
    {
     "name": "stdout",
     "output_type": "stream",
     "text": [
      "Index 'mw_nlp_lab5_all' deleted successfully.\n",
      "Index created.\n",
      "All documents indexed successfully.\n"
     ]
    }
   ],
   "source": [
    "all_corpus_dict = utils.prepare_fiqa_corpus_related_to_selected_subsets(corpus, {}, False)\n",
    "\n",
    "all_index_name = \"mw_nlp_lab5_all\"\n",
    "fts_url, all_index_url = utils.create_fts_index(all_index_name)\n",
    "utils.bulk_load(fts_url, all_index_name, all_corpus_dict)"
   ]
  },
  {
   "cell_type": "markdown",
   "metadata": {},
   "source": [
    "Poniżej przygotowuję struktury pomocnicze do obliczenia NDCG@5 dla stworzonego zbioru. Ładuję również własciwy model wraz z tokenizerem oraz definiuję funkcje odpowiadająe za reranking dokumetnów zwróconych przez Elasticsearch."
   ]
  },
  {
   "cell_type": "code",
   "execution_count": 66,
   "metadata": {},
   "outputs": [],
   "source": [
    "\n",
    "from transformers import AutoTokenizer\n",
    "import torch\n",
    "\n",
    "test_query_to_corpus_dict = utils.prepare_fiqa_qrels(qrels, ['test'])\n",
    "test_queries_dict = utils.prepare_fiqa_queries_for_selected_subset(queries, test_query_to_corpus_dict)\n",
    "\n",
    "tokenizer = AutoTokenizer.from_pretrained(\"./best_model_f1_rand\")\n",
    "model = AutoModelForSequenceClassification.from_pretrained(\"./best_model_f1_rand\", num_labels=2)\n",
    "\n",
    "def rerank(query, corpus_ids_with_scores):\n",
    "    corpus_ids = list(corpus_ids_with_scores.keys())\n",
    "    sentences = [f\"{query}</s>{all_corpus_dict[corpus_id]}\" for corpus_id in corpus_ids]\n",
    "    probs = fetch_probs(sentences)\n",
    "\n",
    "    tmp_results = {}\n",
    "    for i, prob in enumerate(probs):   \n",
    "        corpus_id = corpus_ids[i]\n",
    "        tmp_results[corpus_id] = float(prob)\n",
    "\n",
    "    return dict(sorted(tmp_results.items(), key=lambda item: item[1], reverse=True))\n",
    "\n",
    "def fetch_probs(sentences):\n",
    "    inputs = tokenizer(\n",
    "        sentences,\n",
    "        padding=\"max_length\",\n",
    "        truncation=True,\n",
    "        return_tensors=\"pt\"\n",
    "    )\n",
    "\n",
    "    model.eval()\n",
    "    with torch.no_grad():\n",
    "        outputs = model(**inputs)\n",
    "\n",
    "    logits = outputs.logits\n",
    "    probabilities = torch.nn.functional.softmax(logits, dim=-1)\n",
    "    return probabilities[:, 1]\n",
    "\n",
    "def rerank_nothing(query, corpus_ids_with_scores):\n",
    "    return corpus_ids_with_scores"
   ]
  },
  {
   "cell_type": "markdown",
   "metadata": {},
   "source": [
    "Poniżej znana nam dobrze funkcja do prezentowania NDCG w formie graficznej."
   ]
  },
  {
   "cell_type": "code",
   "execution_count": 67,
   "metadata": {},
   "outputs": [],
   "source": [
    "import matplotlib.pyplot as plt\n",
    "import numpy as np\n",
    "def present_results(ndcgs):\n",
    "\n",
    "    zeros = []\n",
    "    non_zeros = []\n",
    "\n",
    "    for ndcg in ndcgs:\n",
    "        if ndcg == 0:\n",
    "            zeros.append(ndcg)\n",
    "        else:\n",
    "            non_zeros.append(ndcg)\n",
    "\n",
    "    labels = ['>0 Results', '0 Results']\n",
    "    sizes = [len(non_zeros), len(zeros)]\n",
    "\n",
    "    plt.pie(sizes, labels=labels, autopct='%1.1f%%')\n",
    "    plt.title('NDCG@5 Results Proportion: 0 to >0')\n",
    "    plt.show()\n",
    "\n",
    "    plt.hist(non_zeros, bins=10, edgecolor='black')\n",
    "    plt.title(\"Histogram of Non-Zero NDCG@5\")\n",
    "    plt.xlabel(\"Score\")\n",
    "    plt.ylabel(\"Number of Documents\")\n",
    "    plt.show()\n",
    "\n",
    "    print(f\"NDCG@5 Mean: {np.mean(ndcgs)} and Std: {np.std(ndcgs)}\")\n",
    "    print(f\"NDCG@5 > 0 Mean: {np.mean(non_zeros)} and Std: {np.std(non_zeros)}\")"
   ]
  },
  {
   "cell_type": "markdown",
   "metadata": {},
   "source": [
    "Zaczyam od ponownego obliczenia NDCG@5 bez użycia rerankera, czyli dokładnie tak, jak w lab2. Widzimy, że otrzymane wyniki są identyczne z tymi z lab2."
   ]
  },
  {
   "cell_type": "code",
   "execution_count": 156,
   "metadata": {},
   "outputs": [
    {
     "data": {
      "image/png": "[encoded data removed]",
      "text/plain": [
       "<Figure size 640x480 with 1 Axes>"
      ]
     },
     "metadata": {},
     "output_type": "display_data"
    },
    {
     "data": {
      "image/png": "[encoded data removed]",
      "text/plain": [
       "<Figure size 640x480 with 1 Axes>"
      ]
     },
     "metadata": {},
     "output_type": "display_data"
    },
    {
     "name": "stdout",
     "output_type": "stream",
     "text": [
      "NDCG@5 Mean: 0.1851291130797741 and Std: 0.2968688062149335\n",
      "NDCG@5 > 0 Mean: 0.5379536559448144 and Std: 0.2574697485799596\n"
     ]
    }
   ],
   "source": [
    "fts_size = 5\n",
    "ndcgs_size = 5\n",
    "\n",
    "ndcgs_no_rerank = utils.calculate_ndcgs(test_queries_dict, test_query_to_corpus_dict, all_index_url, 'text', fts_size, ndcgs_size, rerank_nothing)\n",
    "present_results(ndcgs_no_rerank)"
   ]
  },
  {
   "cell_type": "markdown",
   "metadata": {},
   "source": [
    "Niestety zastosowanie rerankera tylko pogorszyło wartość metryki NDCG@5."
   ]
  },
  {
   "cell_type": "code",
   "execution_count": 71,
   "metadata": {},
   "outputs": [
    {
     "data": {
      "image/png": "[encoded data removed]",
      "text/plain": [
       "<Figure size 640x480 with 1 Axes>"
      ]
     },
     "metadata": {},
     "output_type": "display_data"
    },
    {
     "data": {
      "image/png": "[encoded data removed]",
      "text/plain": [
       "<Figure size 640x480 with 1 Axes>"
      ]
     },
     "metadata": {},
     "output_type": "display_data"
    },
    {
     "name": "stdout",
     "output_type": "stream",
     "text": [
      "NDCG@5 Mean: 0.2136085613648404 and Std: 0.3129766085063662\n",
      "NDCG@5 > 0 Mean: 0.5449541250567582 and Std: 0.26330813493663024\n"
     ]
    }
   ],
   "source": [
    "fts_size = 10\n",
    "ndcgs_size = 5\n",
    "\n",
    "ndcgs_rerank_f1_rand = utils.calculate_ndcgs(test_queries_dict, test_query_to_corpus_dict, all_index_url, 'text', fts_size, ndcgs_size, rerank)\n",
    "present_results(ndcgs_rerank_f1_rand)"
   ]
  },
  {
   "cell_type": "code",
   "execution_count": null,
   "metadata": {},
   "outputs": [
    {
     "data": {
      "image/png": "[encoded data removed]",
      "text/plain": [
       "<Figure size 640x480 with 1 Axes>"
      ]
     },
     "metadata": {},
     "output_type": "display_data"
    },
    {
     "data": {
      "image/png": "[encoded data removed]",
      "text/plain": [
       "<Figure size 640x480 with 1 Axes>"
      ]
     },
     "metadata": {},
     "output_type": "display_data"
    },
    {
     "name": "stdout",
     "output_type": "stream",
     "text": [
      "NDCG@5 Mean: 0.20129882201793167 and Std: 0.30223479864742964\n",
      "NDCG@5 > 0 Mean: 0.5217665466704788 and Std: 0.26374071762919554\n"
     ]
    }
   ],
   "source": [
    "fts_size = 50\n",
    "ndcgs_size = 5\n",
    "\n",
    "ndcgs_rerank_f1_rand = utils.calculate_ndcgs(test_queries_dict, test_query_to_corpus_dict, all_index_url, 'text', fts_size, ndcgs_size, rerank)\n",
    "present_results(ndcgs_rerank_f1_rand)"
   ]
  },
  {
   "cell_type": "code",
   "execution_count": 69,
   "metadata": {},
   "outputs": [
    {
     "data": {
      "text/plain": [
       "<module 'lab5_utils' from '/Users/mwardynski/Documents/ds/_semestr_9/przetwarzanie_jezyka_naturalnego/labs/lab5/lab5_utils.py'>"
      ]
     },
     "execution_count": 69,
     "metadata": {},
     "output_type": "execute_result"
    }
   ],
   "source": [
    "import importlib\n",
    "import lab5_utils\n",
    "importlib.reload(lab5_utils)"
   ]
  }
 ],
 "metadata": {
  "kernelspec": {
   "display_name": ".venv",
   "language": "python",
   "name": "python3"
  },
  "language_info": {
   "codemirror_mode": {
    "name": "ipython",
    "version": 3
   },
   "file_extension": ".py",
   "mimetype": "text/x-python",
   "name": "python",
   "nbconvert_exporter": "python",
   "pygments_lexer": "ipython3",
   "version": "3.12.7"
  }
 },
 "nbformat": 4,
 "nbformat_minor": 2
}
