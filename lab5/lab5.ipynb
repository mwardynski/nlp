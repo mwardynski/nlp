{
 "cells": [
  {
   "cell_type": "markdown",
   "metadata": {},
   "source": [
    "Marcin Wardyński  \n",
    "czwartek, 8:00\n",
    "\n",
    "### Laboratorium 5: Klasyfikacja"
   ]
  },
  {
   "cell_type": "markdown",
   "metadata": {},
   "source": [
    "Tym razem wyekstrahowałem wiele funkcji pomocniczych do zewnętrzenego pliku utils, żeby zwiększyć przejrzystość tego notatnika. Funkcje te najczęściej pojawiały się w poprzednich laboratoriach i zostały tylko trochę dopasowane na potrzeby tego laboratorium. Są to m.in. funkcje do:\n",
    "- wczytywania dataset-ów i ich obróbki\n",
    "- operacji na Elasticsearch, typu: zakładanie indeksu, bulk eksport danych oraz wyszukiwanie\n",
    "- obliczanie NDCG z uwzględnieniem rerankera"
   ]
  },
  {
   "cell_type": "markdown",
   "metadata": {},
   "source": [
    "### Przygotowanie danych\n",
    "\n",
    "Ćwiczenie zaczynam od wczytania dobrze już nam znanego zbioru danych FIQA-PL:"
   ]
  },
  {
   "cell_type": "code",
   "execution_count": 5,
   "metadata": {},
   "outputs": [],
   "source": [
    "import lab5_utils as utils\n",
    "\n",
    "corpus, queries, qrels = utils.load_fiqa()"
   ]
  },
  {
   "cell_type": "code",
   "execution_count": 2,
   "metadata": {},
   "outputs": [],
   "source": [
    "#TODO check the intersection between test, validation and test. Reconsider sizes of the datasets."
   ]
  },
  {
   "cell_type": "markdown",
   "metadata": {},
   "source": [
    "Ponieważ do przygotowania danych z FIQA na potrzeby transformera potrzebuję znać używany w jego tokenizerze separator, ładuję już na tym etapie ten tokenizer i zapisuję seperator w zmiennej pomocniczej."
   ]
  },
  {
   "cell_type": "code",
   "execution_count": 6,
   "metadata": {},
   "outputs": [],
   "source": [
    "from transformers import AutoTokenizer\n",
    "\n",
    "pl_tokenizer = AutoTokenizer.from_pretrained(\"allegro/herbert-base-cased\")\n",
    "separator = pl_tokenizer.sep_token"
   ]
  },
  {
   "cell_type": "markdown",
   "metadata": {},
   "source": [
    "Do zrozumienia kolejnych kroków w notatniku podam kilka decyzji, które podjąłem w sprawie przygotowanych danych:\n",
    "1. korzystam z predifiniowanego podziału zapytań w zbioze FIQA na zbiory: `train`, `validation` oraz `test`.\n",
    "2. Odpowiedzi z korpusu, które nie są odpowiedzią na żadne pytanie z powyższych zbiorów, również zostaną uwzglęnione.\n",
    "3. Stosunek danych z klasy pozytywnej do negatywnej ustalam na 1:3.\n",
    "4. W celu stworzenia klasy negatywnej, wybieram odpowiedzi na pytania, które zostały zwrócone przez Elasticsearch na zadane pytanie, lecz nie są poprawnymi odpowiedziami wg zbioru danych.\n",
    "\n",
    "AD.1. Podjąłem taką decyzję, gdyż ostatecznie NDCG będzie porównywane z tym z lab2, a tam użyliśmy zbioru `test` z FIQA. `validation` odpowiada rozmiarem zbiorowi `test`, więc go również nie zmieniałem. W tym wypadku pozostajemy z dość sporym zbiorem `train` o wielkości 14166, `validation` i `test` mają odpowiednio 1238 i 1706 relacji pytania do odpowiedzi. Przyglądając się różnym zbiorom danych tekstowych, można zauważyć, że tak duży zbiór `train` jest częstą praktyką.\n",
    "\n",
    "AD.2. Nie ma powodu, żeby ograniczać zbiór odpowiedzi wyłącznie do tych, które nadają się na odpowiedź, w lab2 postępowałem identycznie. Poza tym zbiory danych do treningu, walidacji i testowania budowane są w ten sposób, żeby odpowiedzi nie przenikały z jednego kroku do drugiego.\n",
    "\n",
    "AD.3. Zgodnie z poleceniem danych z klas negatywnych ma być znacznie więcej, niż tych z klasy pozytywnej, stąd stosunek 1:3. Ponieważ FIQA zawiera tylko prawdziwe relacje pomiędzy zapytaniami i korpusem, elementy z klasy negatywnej tworzę sam. Więcej o tym procesie w kolejnym punkcie.\n",
    "\n",
    "AD.4. Ostatecznie trenowany transformer ma pełnić funkcję rerankera w pipeline FTS. Skoro taki jest jego cel, to budując dane treningowe należy skupić się na właśnie takim przypadku i już w trakcie treningu wskazywać transformerowi wśród dokumentów wysoko ocenianych przez FTS, które z nich faktycznie są poprawnymi odpowiedziami, a które nie. W związku z tym, już na etapie budowania zbiorów danych dla treningu i walidacji modelu językowego posiłkuję się różnymi indeksami Elasticsearch i do klasy negatywnej wybieram wysoko-punktowane odpowiedzi Elasticsearch.  \n",
    "Zdaję sobie sprawę, że syntaktycznie odpowiedzi te będą podobne do siebie i istnieje ryzyko, że przy dość małym zbiorze danych jakim dysponujemy, oraz małej bazowej wersji użytego transformera, nauka nie przyniesie pożądanych wyników, jednakże samo podejście wydaje mi się prawidłowym dla rozważanego przypadku użycia transformera jako reranker.\n",
    "\n",
    "Znając podstawowe założenia możemy kontynuować, zaczynam od budowy indeksu dla danych treningowych, który wyklucza odpowiedzi pojawiające się dla pytań z zbiorów `validation` oraz `test`:"
   ]
  },
  {
   "cell_type": "code",
   "execution_count": 7,
   "metadata": {},
   "outputs": [],
   "source": [
    "\n",
    "vate_query_to_corpus_dict = utils.prepare_fiqa_qrels(qrels, ['validation', 'test'])\n",
    "no_vate_corpus_dict = utils.prepare_fiqa_corpus_related_to_selected_subsets(corpus, vate_query_to_corpus_dict, False)"
   ]
  },
  {
   "cell_type": "code",
   "execution_count": 8,
   "metadata": {},
   "outputs": [
    {
     "name": "stdout",
     "output_type": "stream",
     "text": [
      "Failed to delete index 'mw_nlp_lab5_train': {\"error\":{\"root_cause\":[{\"type\":\"index_not_found_exception\",\"reason\":\"no such index [mw_nlp_lab5_train]\",\"resource.type\":\"index_or_alias\",\"resource.id\":\"mw_nlp_lab5_train\",\"index_uuid\":\"_na_\",\"index\":\"mw_nlp_lab5_train\"}],\"type\":\"index_not_found_exception\",\"reason\":\"no such index [mw_nlp_lab5_train]\",\"resource.type\":\"index_or_alias\",\"resource.id\":\"mw_nlp_lab5_train\",\"index_uuid\":\"_na_\",\"index\":\"mw_nlp_lab5_train\"},\"status\":404}\n",
      "Index created.\n",
      "All documents indexed successfully.\n"
     ]
    }
   ],
   "source": [
    "train_index_name = \"mw_nlp_lab5_train\"\n",
    "fts_url, train_index_url = utils.create_fts_index(train_index_name)\n",
    "utils.bulk_load(fts_url, train_index_name, no_vate_corpus_dict)"
   ]
  },
  {
   "cell_type": "markdown",
   "metadata": {},
   "source": [
    "To samo co wyżej, tylko tym razem dla zbioru walidacyjnego:"
   ]
  },
  {
   "cell_type": "code",
   "execution_count": 9,
   "metadata": {},
   "outputs": [
    {
     "name": "stdout",
     "output_type": "stream",
     "text": [
      "Failed to delete index 'mw_nlp_lab5_validation': {\"error\":{\"root_cause\":[{\"type\":\"index_not_found_exception\",\"reason\":\"no such index [mw_nlp_lab5_validation]\",\"resource.type\":\"index_or_alias\",\"resource.id\":\"mw_nlp_lab5_validation\",\"index_uuid\":\"_na_\",\"index\":\"mw_nlp_lab5_validation\"}],\"type\":\"index_not_found_exception\",\"reason\":\"no such index [mw_nlp_lab5_validation]\",\"resource.type\":\"index_or_alias\",\"resource.id\":\"mw_nlp_lab5_validation\",\"index_uuid\":\"_na_\",\"index\":\"mw_nlp_lab5_validation\"},\"status\":404}\n",
      "Index created.\n",
      "All documents indexed successfully.\n"
     ]
    }
   ],
   "source": [
    "va_query_to_corpus_dict = utils.prepare_fiqa_qrels(qrels, ['validation'])\n",
    "va_corpus_dict = utils.prepare_fiqa_corpus_related_to_selected_subsets(corpus, va_query_to_corpus_dict, True)\n",
    "\n",
    "validation_index_name = \"mw_nlp_lab5_validation\"\n",
    "fts_url, validation_index_url = utils.create_fts_index(validation_index_name)\n",
    "utils.bulk_load(fts_url, validation_index_name, va_corpus_dict)"
   ]
  },
  {
   "cell_type": "markdown",
   "metadata": {},
   "source": [
    "Mając odpowiednie dane wyizolowane i poindeksowane w Elasticsearch, przygotowuję funkcje pomocnicze do zbudowania krotek w formacie odpowiadającym transformerowi:"
   ]
  },
  {
   "cell_type": "code",
   "execution_count": 10,
   "metadata": {},
   "outputs": [],
   "source": [
    "from datasets import Dataset\n",
    "\n",
    "def collect_training_dataset(index_url, corpus_dict, subsets, separator):\n",
    "    query_to_corpus_dict = utils.prepare_fiqa_qrels(qrels, subsets)\n",
    "    queries_dict = utils.prepare_fiqa_queries_for_selected_subset(queries, query_to_corpus_dict)\n",
    "\n",
    "    results = []\n",
    "\n",
    "    for q_id, q_text in queries_dict.items():\n",
    "        collect_passages_for_query(q_id, q_text, corpus_dict, query_to_corpus_dict, index_url, results, separator)\n",
    "\n",
    "    return Dataset.from_list(results)\n",
    "\n",
    "def collect_passages_for_query(q_id, q_text, p_dict, q_to_p_dict, index_url, results, separator):\n",
    "    q_p_ids = list(q_to_p_dict[q_id].keys())\n",
    "\n",
    "    for q_p_id in q_p_ids:\n",
    "        results.append(convert_to_json(q_text, p_dict[q_p_id], 1, separator))\n",
    "        \n",
    "    fts_results = utils.find_for_phrase_with_exclusion(index_url, q_text, 'text', 3*len(q_p_ids), q_p_ids)\n",
    "    for fts_result_id in fts_results:\n",
    "        results.append(convert_to_json(q_text, p_dict[fts_result_id], 0, separator))\n",
    "\n",
    "def convert_to_json(q_text, p_text, label, separator):\n",
    "    return {\n",
    "            \"text\": f\"{q_text}{separator}{p_text}\",\n",
    "            \"label\": label,\n",
    "        }\n",
    "        "
   ]
  },
  {
   "cell_type": "markdown",
   "metadata": {},
   "source": [
    "Po czym używam tych funkcji do zbudowania dataset-ów dla etapu trenowania i walidacji transformera. Zbudowane zbiory umieszczam w słowniku zbiorów, a ponieważ sam proces ich przygotowania był trochę pracochłonny, zapisuję gotowe zbiory na dysku."
   ]
  },
  {
   "cell_type": "code",
   "execution_count": 11,
   "metadata": {},
   "outputs": [],
   "source": [
    "train_dataset = collect_training_dataset(train_index_url, no_vate_corpus_dict, ['train'], separator)"
   ]
  },
  {
   "cell_type": "code",
   "execution_count": 12,
   "metadata": {},
   "outputs": [],
   "source": [
    "validation_dataset = collect_training_dataset(validation_index_url, va_corpus_dict, ['validation'], separator)"
   ]
  },
  {
   "cell_type": "code",
   "execution_count": 13,
   "metadata": {},
   "outputs": [
    {
     "name": "stderr",
     "output_type": "stream",
     "text": [
      "Saving the dataset (1/1 shards): 100%|██████████| 56664/56664 [00:00<00:00, 615611.47 examples/s]\n",
      "Saving the dataset (1/1 shards): 100%|██████████| 4952/4952 [00:00<00:00, 483961.91 examples/s]\n"
     ]
    }
   ],
   "source": [
    "from datasets import DatasetDict\n",
    "\n",
    "datasets = DatasetDict({\"train\": train_dataset, \"validation\": validation_dataset})\n",
    "datasets.save_to_disk(\"./question-passage-classification\")\n"
   ]
  },
  {
   "cell_type": "markdown",
   "metadata": {},
   "source": [
    "### Przygotowanie modelu\n",
    "\n",
    "Ustalam funkcję tokenizującą o paddingu maksymalnej długości oraz obcinaniem zbyt długich wpisów, a następnie wykorzystuję ją w zdefiniowanym już wcześniej tokenizerze, żeby stokenizować zbiory `train` i `validation`."
   ]
  },
  {
   "cell_type": "code",
   "execution_count": 14,
   "metadata": {},
   "outputs": [
    {
     "name": "stderr",
     "output_type": "stream",
     "text": [
      "Map: 100%|██████████| 56664/56664 [00:11<00:00, 4814.01 examples/s]\n",
      "Map: 100%|██████████| 4952/4952 [00:01<00:00, 4339.01 examples/s]\n"
     ]
    },
    {
     "data": {
      "text/plain": [
       "Dataset({\n",
       "    features: ['text', 'label', 'input_ids', 'token_type_ids', 'attention_mask'],\n",
       "    num_rows: 56664\n",
       "})"
      ]
     },
     "execution_count": 14,
     "metadata": {},
     "output_type": "execute_result"
    }
   ],
   "source": [
    "def tokenize_function(examples):\n",
    "    return pl_tokenizer(examples[\"text\"], padding=\"max_length\", truncation=True)\n",
    "\n",
    "\n",
    "tokenized_datasets = datasets.map(tokenize_function, batched=True)\n",
    "tokenized_datasets[\"train\"]"
   ]
  },
  {
   "cell_type": "markdown",
   "metadata": {},
   "source": [
    "Pokrótce sprawdzam, czy dane zostały przygotowane prawidłowo"
   ]
  },
  {
   "cell_type": "code",
   "execution_count": 77,
   "metadata": {},
   "outputs": [
    {
     "name": "stdout",
     "output_type": "stream",
     "text": [
      "Co jest uważane za wydatek służbowy w podróży służbowej?</s>Wytyczne IRS dotyczące tematu. Ogólnie rzecz biorąc, najlepsze, co mogę powiedzieć, to to, że Twój wydatek biznesowy może podlegać odliczeniu. Ale to zależy od okoliczności i tego, co chcesz odliczyć. Podróże Podatnicy, którzy wyjeżdżają z domu w celach służbowych, mogą odliczyć związane z tym wydatki, w tym koszty dotarcia do miejsca docelowego, koszty zakwaterowania i wyżywienia oraz inne zwykłe i niezbędne wydatki. Podatnicy są uważani za „wyjeżdżających poza dom”, jeśli ich obowiązki wymagają od nich przebywania poza domem znacznie dłużej niż zwykły dzień pracy i muszą spać lub odpoczywać, aby sprostać wymogom pracy. Można odliczyć rzeczywisty koszt posiłków i nieprzewidziane wydatki lub skorzystać ze standardowej diety żywieniowej i obniżonych wymogów ewidencji. Niezależnie od zastosowanej metody odliczenia posiłków są zazwyczaj ograniczone do 50 procent, jak wspomniano wcześniej. Jako koszt można zgłaszać tylko rzeczywiste koszty zakwaterowania, a rachunki należy przechowywać do dokumentacji. Wydatki muszą być rozsądne i odpowiednie; potrącenia z tytułu nadmiernych wydatków nie są dopuszczalne. Więcej informacji można znaleźć w publikacji 463, Podróże, rozrywka, prezenty i wydatki na samochód. Rozrywka Wydatki na rozrywkę dla klientów, klientów lub pracowników mogą być odliczane, jeśli są one zarówno zwyczajne, jak i konieczne oraz spełniają jeden z następujących testów: Test bezpośrednio związany: Głównym celem działalności rozrywkowej jest prowadzenie działalności, działalność była faktycznie prowadzona podczas działalność i podatnik mieli więcej niż ogólne oczekiwanie uzyskania dochodu lub innej konkretnej korzyści biznesowej w przyszłości. Powiązany test: rozrywka była związana z aktywnym prowadzeniem działalności handlowej lub biznesowej podatnika i miała miejsce bezpośrednio przed lub po istotnej dyskusji biznesowej. Publikacja 463 zawiera obszerniejsze wyjaśnienie tych testów, jak również innych ograniczeń i wymagań dotyczących odliczania wydatków na rozrywkę. Prezenty Podatnicy mogą odliczyć część lub całość kosztów prezentów wręczanych w ramach ich działalności handlowej lub biznesowej. Ogólnie rzecz biorąc, odliczenie jest ograniczone do 25 USD za prezenty wręczane bezpośrednio lub pośrednio jednej osobie w ciągu roku podatkowego. Więcej omówienia zasad i ograniczeń można znaleźć w Publikacji 463. Jeśli Twoja spółka LLC zwróci Ci wydatki wykraczające poza te wytyczne, należy je traktować jako dochód dla celów podatkowych. Edytuj koszty posiłków: Kwota standardowego dodatku na posiłki. Standardowy dodatek na posiłki to federalna stawka M&IE. W przypadku podróży w 2010 r. stawka dla większości małych miejscowości w Stanach Zjednoczonych wynosi 46 USD dziennie. Źródło IRS P463 Alternatywnie możesz dokonać zwrotu według stawki dziennej\n",
      "[0, 3407, 2092, 39104, 2163, 23004, 11418, 2348, 1019, 10273, 45454, 1550, 2, 2331, 4603, 45, 19295, 5666, 16094, 1899, 38126, 4662, 13786, 1947, 9104, 1947, 2249, 5492, 4041, 1947, 2063, 2063, 1947, 2040, 22761, 23004, 6596, 11088, 2402, 36663, 21386, 4068, 1899, 2894, 2063, 6466, 2173, 11056, 1009, 2210, 1947, 2249, 13792, 43844, 1899, 2579, 19886, 38900, 2510, 1947, 2634, 28991, 1046, 3537, 1019, 24173, 25502, 1947, 3065, 43844, 5307, 1046, 2194, 10166, 1947, 1019, 2194, 6159, 7578, 2333, 2041, 3845, 33663, 2512, 1947, 6159, 26226, 9578, 1009, 20440, 4397, 2248, 3914, 22717, 1009, 11434, 10166, 1899, 38900, 2510, 2264, 3329, 2572, 2163, 1791, 10138, 3862, 4445, 5157, 1956, 1947, 3346, 2186, 11137, 13899, 2173, 2531, 45946, 4445, 16713, 4432, 7847, 2876, 17533, 3501, 2631, 1009, 4730, 17088, 2491, 14714, 2726, 1947, 2802, 29335, 15040, 14229, 2631, 1899, 5354, 43844, 48244, 8890, 28069, 1009, 2013, 21070, 10166, 2491, 8981, 2343, 6740, 11577, 21308, 30022, 6910, 1009, 9997, 2589, 17834, 20116, 1899, 23897, 2173, 6171, 4695, 11244, 21386, 2700, 28069, 2264, 10307, 22454, 2041, 2693, 5195, 1947, 2217, 7640, 2890, 3695, 1899, 6843, 8890, 2545, 16451, 2308, 36870, 6159, 26226, 9578, 1947, 1011, 18567, 3406, 13465, 2726, 2041, 14348, 1899, 44001, 4730, 2458, 14482, 2079, 1009, 10161, 1195, 17877, 4081, 1046, 6234, 12631, 2089, 9752, 1997, 2264, 34310, 1899, 10249, 4338, 2545, 5378, 1019, 14020, 24, 5783, 1947, 2579, 19886, 1947, 11932, 6958, 1947, 24274, 1009, 10166, 1998, 6704, 1899, 44942, 6958, 44001, 1998, 11932, 14335, 2211, 7128, 1947, 7128, 2491, 4424, 3065, 2458, 2021, 2519, 2414, 1947, 3346, 2264, 2290, 4635, 10073, 2079, 1947, 2217, 1009, 10375, 2248, 23352, 3247, 1046, 22358, 26641, 1335, 39309, 7616, 10743, 1335, 11692, 7432, 4654, 19695, 4137, 2092, 4649, 4654, 1947, 5142, 2663, 11782, 11786, 3095, 5142, 1009, 39055, 4153, 2944, 2876, 18991, 18687, 10521, 16776, 2491, 8049, 24278, 10948, 6596, 8906, 1019, 6174, 1899, 52, 2945, 2003, 2067, 14825, 1335, 11932, 6958, 2663, 13413, 1046, 43885, 16481, 4654, 25243, 2491, 6596, 8906, 29951, 1009, 3943, 2963, 7616, 2534, 2491, 2184, 4666, 2130, 6204, 6596, 8906, 1899, 6787, 20292, 24, 5783, 9138, 15150, 3955, 18880, 2513, 26641, 1947, 2217, 2604, 3112, 18609, 1009, 20702, 7371, 21386, 6819, 9752, 1998, 11932, 14335, 1899, 16244, 2162, 38900, 2510, 3065, 43844, 3865, 2491, 13680, 6510, 38641, 5004, 1988, 2826, 1019, 4300, 2186, 4654, 25243, 2491, 6596, 8906, 1899, 38126, 4662, 13786, 1947, 21386, 2824, 2092, 22454, 2041, 2698, 20123, 2163, 24274, 5004, 39803, 7616, 2491, 24424, 4192, 14507, 1019, 3747, 2254, 23934, 1899, 10249, 83, 17304, 8045, 1009, 18609, 2545, 5378, 1019, 6787, 4712, 24, 5783, 1899, 3484, 13462, 10160, 48, 48, 1023, 32547, 7086, 10166, 23787, 43725, 4445, 2322, 48866, 1947, 3406, 2193, 16217, 2628, 13131, 2211, 10664, 15415, 1899, 12828, 41956, 6159, 28069, 1335, 33892, 6740, 13975, 10276, 1998, 25520, 1899, 27336, 10962, 11080, 1998, 25520, 2063, 11098, 18957, 20941, 1058, 1664, 12065, 1899, 1049, 3714, 10273, 1019, 9441, 1024, 1899, 20941, 2211, 6043, 7918, 6020, 1019, 13531, 9034, 5979, 3523, 20123, 9216, 1899, 23301, 45, 19295, 52, 24, 5783, 34465, 17643, 11814, 12241, 13452, 2]\n",
      "[1, 1, 1, 1, 1, 1, 1, 1, 1, 1, 1, 1, 1, 1, 1, 1, 1, 1, 1, 1, 1, 1, 1, 1, 1, 1, 1, 1, 1, 1, 1, 1, 1, 1, 1, 1, 1, 1, 1, 1, 1, 1, 1, 1, 1, 1, 1, 1, 1, 1, 1, 1, 1, 1, 1, 1, 1, 1, 1, 1, 1, 1, 1, 1, 1, 1, 1, 1, 1, 1, 1, 1, 1, 1, 1, 1, 1, 1, 1, 1, 1, 1, 1, 1, 1, 1, 1, 1, 1, 1, 1, 1, 1, 1, 1, 1, 1, 1, 1, 1, 1, 1, 1, 1, 1, 1, 1, 1, 1, 1, 1, 1, 1, 1, 1, 1, 1, 1, 1, 1, 1, 1, 1, 1, 1, 1, 1, 1, 1, 1, 1, 1, 1, 1, 1, 1, 1, 1, 1, 1, 1, 1, 1, 1, 1, 1, 1, 1, 1, 1, 1, 1, 1, 1, 1, 1, 1, 1, 1, 1, 1, 1, 1, 1, 1, 1, 1, 1, 1, 1, 1, 1, 1, 1, 1, 1, 1, 1, 1, 1, 1, 1, 1, 1, 1, 1, 1, 1, 1, 1, 1, 1, 1, 1, 1, 1, 1, 1, 1, 1, 1, 1, 1, 1, 1, 1, 1, 1, 1, 1, 1, 1, 1, 1, 1, 1, 1, 1, 1, 1, 1, 1, 1, 1, 1, 1, 1, 1, 1, 1, 1, 1, 1, 1, 1, 1, 1, 1, 1, 1, 1, 1, 1, 1, 1, 1, 1, 1, 1, 1, 1, 1, 1, 1, 1, 1, 1, 1, 1, 1, 1, 1, 1, 1, 1, 1, 1, 1, 1, 1, 1, 1, 1, 1, 1, 1, 1, 1, 1, 1, 1, 1, 1, 1, 1, 1, 1, 1, 1, 1, 1, 1, 1, 1, 1, 1, 1, 1, 1, 1, 1, 1, 1, 1, 1, 1, 1, 1, 1, 1, 1, 1, 1, 1, 1, 1, 1, 1, 1, 1, 1, 1, 1, 1, 1, 1, 1, 1, 1, 1, 1, 1, 1, 1, 1, 1, 1, 1, 1, 1, 1, 1, 1, 1, 1, 1, 1, 1, 1, 1, 1, 1, 1, 1, 1, 1, 1, 1, 1, 1, 1, 1, 1, 1, 1, 1, 1, 1, 1, 1, 1, 1, 1, 1, 1, 1, 1, 1, 1, 1, 1, 1, 1, 1, 1, 1, 1, 1, 1, 1, 1, 1, 1, 1, 1, 1, 1, 1, 1, 1, 1, 1, 1, 1, 1, 1, 1, 1, 1, 1, 1, 1, 1, 1, 1, 1, 1, 1, 1, 1, 1, 1, 1, 1, 1, 1, 1, 1, 1, 1, 1, 1, 1, 1, 1, 1, 1, 1, 1, 1, 1, 1, 1, 1, 1, 1, 1, 1, 1, 1, 1, 1, 1, 1, 1, 1, 1, 1, 1, 1, 1, 1, 1, 1, 1, 1, 1, 1, 1, 1, 1, 1, 1, 1, 1, 1, 1, 1, 1, 1, 1, 1, 1, 1, 1, 1, 1, 1, 1, 1, 1, 1, 1, 1, 1, 1, 1, 1, 1, 1, 1, 1, 1, 1, 1, 1, 1, 1, 1, 1, 1, 1]\n",
      "<s>|Co</w>|jest</w>|uważane</w>|za</w>|wydatek</w>|służb|owy</w>|w</w>|podróży</w>|służbowej</w>|?</w>|</s>|Wy|tyczne</w>|I|RS</w>|dotyczące</w>|tematu</w>|.</w>|Ogólnie</w>|rzecz</w>|biorąc</w>|,</w>|najlepsze</w>|,</w>|co</w>|mogę</w>|powiedzieć</w>|,</w>|to</w>|to</w>|,</w>|że</w>|Twój</w>|wydatek</w>|bizne|sowy</w>|może</w>|podlegać</w>|odli|czeniu</w>|.</w>|Ale</w>|to</w>|zależy</w>|od</w>|okoliczności</w>|i</w>|tego</w>|,</w>|co</w>|chcesz</w>|odliczyć</w>|.</w>|Pod|róże</w>|Podat|nicy</w>|,</w>|którzy</w>|wyjeżdżają</w>|z</w>|domu</w>|w</w>|celach</w>|służbowych</w>|,</w>|mogą</w>|odliczyć</w>|związane</w>|z</w>|tym</w>|wydatki</w>|,</w>|w</w>|tym</w>|koszty</w>|dotar|cia</w>|do</w>|miejsca</w>|docel|owego</w>|,</w>|koszty</w>|zakwate|rowania</w>|i</w>|wyży|wienia</w>|oraz</w>|inne</w>|zwykłe</w>|i</w>|niezbędne</w>|wydatki</w>|.</w>|Podat|nicy</w>|są</w>|uważ|ani</w>|za</w>|„</w>|wyjeżdż|ających</w>|poza</w>|dom</w>|”</w>|,</w>|jeśli</w>|ich</w>|obowiązki</w>|wymagają</w>|od</w>|nich</w>|przebywania</w>|poza</w>|domem</w>|znacznie</w>|dłużej</w>|niż</w>|zwykły</w>|dzień</w>|pracy</w>|i</w>|muszą</w>|spać</w>|lub</w>|odpoczy|wać</w>|,</w>|aby</w>|sprostać</w>|wymo|gom</w>|pracy</w>|.</w>|Można</w>|odliczyć</w>|rzeczywisty</w>|koszt</w>|posiłków</w>|i</w>|nie|przewidziane</w>|wydatki</w>|lub</w>|skorzystać</w>|ze</w>|standar|dowej</w>|diety</w>|żywie|niowej</w>|i</w>|obniż|onych</w>|wymogów</w>|ewidencji</w>|.</w>|Niezależnie</w>|od</w>|zastos|owanej</w>|metody</w>|odli|czenia</w>|posiłków</w>|są</w>|zazwyczaj</w>|ograniczone</w>|do</w>|50</w>|procent</w>|,</w>|jak</w>|wspomni|ano</w>|wcześniej</w>|.</w>|Jako</w>|koszt</w>|można</w>|zgłaszać</w>|tylko</w>|rzeczywiste</w>|koszty</w>|zakwate|rowania</w>|,</w>|a</w>|rachunki</w>|należy</w>|przechowy|wać</w>|do</w>|dokumentacji</w>|.</w>|Wydatki</w>|muszą</w>|być</w>|rozsąd|ne</w>|i</w>|odpowiednie</w>|;</w>|potrą|cenia</w>|z</w>|tytułu</w>|nadmier|nych</w>|wydatków</w>|nie</w>|są</w>|dopuszczalne</w>|.</w>|Więcej</w>|informacji</w>|można</w>|znaleźć</w>|w</w>|publikacji</w>|4|63</w>|,</w>|Pod|róże</w>|,</w>|rozry|wka</w>|,</w>|prezenty</w>|i</w>|wydatki</w>|na</w>|samochód</w>|.</w>|Rozry|wka</w>|Wydatki</w>|na</w>|rozry|wkę</w>|dla</w>|klientów</w>|,</w>|klientów</w>|lub</w>|pracowników</w>|mogą</w>|być</w>|od|licz|ane</w>|,</w>|jeśli</w>|są</w>|one</w>|zarówno</w>|zwyczaj|ne</w>|,</w>|jak</w>|i</w>|konieczne</w>|oraz</w>|spełniają</w>|jeden</w>|z</w>|następujących</w>|testów</w>|:</w>|Test</w>|bezpośrednio</w>|związany</w>|:</w>|Głównym</w>|celem</w>|działalności</w>|rozryw|kowej</w>|jest</w>|prowadzenie</w>|działalności</w>|,</w>|działalność</w>|była</w>|faktycznie</w>|prowadzona</w>|podczas</w>|działalność</w>|i</w>|podatnik</w>|mieli</w>|więcej</w>|niż</w>|ogólne</w>|oczekiwanie</w>|uzyskania</w>|dochodu</w>|lub</w>|innej</w>|konkretnej</w>|korzyści</w>|bizne|sowej</w>|w</w>|przyszłości</w>|.</w>|P|owią|za|ny</w>|test</w>|:</w>|rozry|wka</w>|była</w>|związana</w>|z</w>|aktywnym</w>|prowadzeniem</w>|działalności</w>|handlowej</w>|lub</w>|bizne|sowej</w>|podatnika</w>|i</w>|miała</w>|miejsce</w>|bezpośrednio</w>|przed</w>|lub</w>|po</w>|istot|nej</w>|dyskusji</w>|bizne|sowej</w>|.</w>|Publi|kacja</w>|4|63</w>|zawiera</w>|obszer|niejsze</w>|wyjaśnienie</w>|tych</w>|testów</w>|,</w>|jak</w>|również</w>|innych</w>|ograniczeń</w>|i</w>|wymagań</w>|dotyczących</w>|odli|czania</w>|wydatków</w>|na</w>|rozry|wkę</w>|.</w>|Prezen|ty</w>|Podat|nicy</w>|mogą</w>|odliczyć</w>|część</w>|lub</w>|całość</w>|kosztów</w>|prezentów</w>|wrę|cz|anych</w>|w</w>|ramach</w>|ich</w>|działalności</w>|handlowej</w>|lub</w>|bizne|sowej</w>|.</w>|Ogólnie</w>|rzecz</w>|biorąc</w>|,</w>|odli|czenie</w>|jest</w>|ograniczone</w>|do</w>|25</w>|USD</w>|za</w>|prezenty</w>|wrę|czane</w>|bezpośrednio</w>|lub</w>|pośrednio</w>|jednej</w>|osobie</w>|w</w>|ciągu</w>|roku</w>|podatkowego</w>|.</w>|Więcej</w>|o|mówienia</w>|zasad</w>|i</w>|ograniczeń</w>|można</w>|znaleźć</w>|w</w>|Publi|kacji</w>|4|63</w>|.</w>|Jeśli</w>|Twoja</w>|spółka</w>|L|L|C</w>|zwróci</w>|Ci</w>|wydatki</w>|wykra|czające</w>|poza</w>|te</w>|wytyczne</w>|,</w>|należy</w>|je</w>|traktować</w>|jako</w>|dochód</w>|dla</w>|celów</w>|podatkowych</w>|.</w>|Edy|tuj</w>|koszty</w>|posiłków</w>|:</w>|Kwota</w>|standar|dowego</w>|dodatku</w>|na</w>|posiłki</w>|.</w>|Standar|dowy</w>|dodatek</w>|na</w>|posiłki</w>|to</w>|fede|ralna</w>|stawka</w>|M</w>|&</w>|IE</w>|.</w>|W</w>|przypadku</w>|podróży</w>|w</w>|2010</w>|r</w>|.</w>|stawka</w>|dla</w>|większości</w>|małych</w>|miejscowości</w>|w</w>|Stanach</w>|Zjednoczonych</w>|wynosi</w>|46</w>|USD</w>|dziennie</w>|.</w>|Źródło</w>|I|RS</w>|P|4|63</w>|Alterna|tywnie</w>|możesz</w>|dokonać</w>|zwrotu</w>|</s>\n",
      "512\n",
      "512\n"
     ]
    }
   ],
   "source": [
    "example = tokenized_datasets[\"train\"][0]\n",
    "print(example[\"text\"])\n",
    "print(example[\"input_ids\"])\n",
    "print(example[\"attention_mask\"])\n",
    "print(\"|\".join(pl_tokenizer.convert_ids_to_tokens(list(example[\"input_ids\"]))))\n",
    "\n",
    "print(len([e for e in example[\"input_ids\"] if e != 1]))\n",
    "print(len([e for e in example[\"attention_mask\"] if e == 1]))"
   ]
  },
  {
   "cell_type": "markdown",
   "metadata": {},
   "source": [
    "Instancjonuję model językowy klasyfikujący, bazujący na `allegro/herbert-base-cased`. Jak widzimy w komunikacie poniżej, należy w nim ustawić niektóre wagi, co zostanie uczynione w procesie trenowania."
   ]
  },
  {
   "cell_type": "code",
   "execution_count": 78,
   "metadata": {},
   "outputs": [
    {
     "name": "stderr",
     "output_type": "stream",
     "text": [
      "Some weights of BertForSequenceClassification were not initialized from the model checkpoint at allegro/herbert-base-cased and are newly initialized: ['classifier.bias', 'classifier.weight']\n",
      "You should probably TRAIN this model on a down-stream task to be able to use it for predictions and inference.\n"
     ]
    },
    {
     "data": {
      "text/plain": [
       "BertForSequenceClassification(\n",
       "  (bert): BertModel(\n",
       "    (embeddings): BertEmbeddings(\n",
       "      (word_embeddings): Embedding(50000, 768, padding_idx=1)\n",
       "      (position_embeddings): Embedding(514, 768)\n",
       "      (token_type_embeddings): Embedding(2, 768)\n",
       "      (LayerNorm): LayerNorm((768,), eps=1e-12, elementwise_affine=True)\n",
       "      (dropout): Dropout(p=0.1, inplace=False)\n",
       "    )\n",
       "    (encoder): BertEncoder(\n",
       "      (layer): ModuleList(\n",
       "        (0-11): 12 x BertLayer(\n",
       "          (attention): BertAttention(\n",
       "            (self): BertSdpaSelfAttention(\n",
       "              (query): Linear(in_features=768, out_features=768, bias=True)\n",
       "              (key): Linear(in_features=768, out_features=768, bias=True)\n",
       "              (value): Linear(in_features=768, out_features=768, bias=True)\n",
       "              (dropout): Dropout(p=0.1, inplace=False)\n",
       "            )\n",
       "            (output): BertSelfOutput(\n",
       "              (dense): Linear(in_features=768, out_features=768, bias=True)\n",
       "              (LayerNorm): LayerNorm((768,), eps=1e-12, elementwise_affine=True)\n",
       "              (dropout): Dropout(p=0.1, inplace=False)\n",
       "            )\n",
       "          )\n",
       "          (intermediate): BertIntermediate(\n",
       "            (dense): Linear(in_features=768, out_features=3072, bias=True)\n",
       "            (intermediate_act_fn): GELUActivation()\n",
       "          )\n",
       "          (output): BertOutput(\n",
       "            (dense): Linear(in_features=3072, out_features=768, bias=True)\n",
       "            (LayerNorm): LayerNorm((768,), eps=1e-12, elementwise_affine=True)\n",
       "            (dropout): Dropout(p=0.1, inplace=False)\n",
       "          )\n",
       "        )\n",
       "      )\n",
       "    )\n",
       "    (pooler): BertPooler(\n",
       "      (dense): Linear(in_features=768, out_features=768, bias=True)\n",
       "      (activation): Tanh()\n",
       "    )\n",
       "  )\n",
       "  (dropout): Dropout(p=0.1, inplace=False)\n",
       "  (classifier): Linear(in_features=768, out_features=2, bias=True)\n",
       ")"
      ]
     },
     "execution_count": 78,
     "metadata": {},
     "output_type": "execute_result"
    }
   ],
   "source": [
    "from transformers import AutoModelForSequenceClassification\n",
    "\n",
    "model = AutoModelForSequenceClassification.from_pretrained(\n",
    "    \"allegro/herbert-base-cased\", num_labels=2\n",
    ")\n",
    "\n",
    "model"
   ]
  },
  {
   "cell_type": "markdown",
   "metadata": {},
   "source": [
    "Poniższej znajdują się argumenty dla trenera wybranego modelu. Wiele wartości jest typowymi wartościami używanymi przy uczeniu transformerów, niestety zasoby sprzętowe nie pozwalają mi na skorzystanie z optymalizatorów uczenia typu Optuna.\n",
    "\n",
    "Większość użytych argumentów powinna nie wymagać wyjaśnień. Zaznaczę tylko, że ewaluacji modelu dokonuję co 300 kroków, zapisuję trzy najlepsze modele a kończąc etap uczenia, ładuję ten dotychczas najlepszy.\n",
    "\n",
    "Warto zauważyć, że do oceny jakości modelu używam metryki `f1-score`. W przypadku niezbalansowanego zbioru danych, jakim dysponujemy, nie warto używać metryki `accuracy`, natomiast warto rozważyć `precision` oraz `recall`, `f1-score` łączy te dwie metryki w jednej.  \n",
    "Użycie metryki `accuracy` przy tak niezbalansowanym zbiorze danych zachęcałoby model do bezmyślnego wrzucania wszystkich przypadków testowych do jednej klasy. W naszym przypadku, gdzie stosunek ilości elementów z klasy pozytywnej do negatywnej wynosi 1:3, skutkowałoby `accuracy=0.75`."
   ]
  },
  {
   "cell_type": "code",
   "execution_count": null,
   "metadata": {},
   "outputs": [],
   "source": [
    "from transformers import TrainingArguments\n",
    "\n",
    "arguments = TrainingArguments(\n",
    "    output_dir=\"./output\",\n",
    "    do_train=True,\n",
    "    do_eval=True,\n",
    "    eval_strategy=\"steps\",\n",
    "    eval_steps=300,\n",
    "    per_device_train_batch_size=16,\n",
    "    per_device_eval_batch_size=16,\n",
    "    learning_rate=5e-05,\n",
    "    num_train_epochs=1,\n",
    "    logging_first_step=True,\n",
    "    logging_strategy=\"steps\",\n",
    "    logging_steps=50,\n",
    "    save_strategy=\"steps\",\n",
    "    save_steps=300,\n",
    "    fp16=False,\n",
    "    load_best_model_at_end=True,\n",
    "    metric_for_best_model=\"f1\",\n",
    "    save_total_limit=3,\n",
    ")"
   ]
  },
  {
   "cell_type": "markdown",
   "metadata": {},
   "source": [
    "Przygotowana przeze mnie funkcja obliczająca jakość modelu w różnych metrykach daje nam wybór czterech różnych metryk. Jak pisałem wyżej, skupiam się na użyciu f1-score."
   ]
  },
  {
   "cell_type": "code",
   "execution_count": 31,
   "metadata": {},
   "outputs": [],
   "source": [
    "from sklearn.metrics import accuracy_score, precision_recall_fscore_support\n",
    "import numpy as np\n",
    "\n",
    "def compute_metrics(p):\n",
    "    preds, labels = p\n",
    "    preds = np.argmax(preds, axis=1)\n",
    "    accuracy = accuracy_score(labels, preds)\n",
    "    precision, recall, f1, _ = precision_recall_fscore_support(labels, preds, average='binary')\n",
    "    return {\n",
    "        'accuracy': accuracy,\n",
    "        'precision': precision,\n",
    "        'recall': recall,\n",
    "        'f1': f1\n",
    "    }"
   ]
  },
  {
   "cell_type": "markdown",
   "metadata": {},
   "source": [
    "Instancjonuję trenera dla modelu:"
   ]
  },
  {
   "cell_type": "code",
   "execution_count": null,
   "metadata": {},
   "outputs": [],
   "source": [
    "from transformers import Trainer\n",
    "\n",
    "trainer = Trainer(\n",
    "    model=model,\n",
    "    args=arguments,\n",
    "    train_dataset=tokenized_datasets[\"train\"].shuffle(seed=42),\n",
    "    eval_dataset=tokenized_datasets[\"validation\"].shuffle(seed=42),\n",
    "    compute_metrics=compute_metrics,\n",
    ")"
   ]
  },
  {
   "cell_type": "markdown",
   "metadata": {},
   "source": [
    "oraz tablicę umożliwiającą podgląd postępu treningu:"
   ]
  },
  {
   "cell_type": "code",
   "execution_count": 81,
   "metadata": {},
   "outputs": [
    {
     "name": "stdout",
     "output_type": "stream",
     "text": [
      "The tensorboard extension is already loaded. To reload it, use:\n",
      "  %reload_ext tensorboard\n"
     ]
    },
    {
     "data": {
      "text/plain": [
       "Reusing TensorBoard on port 6006 (pid 11113), started 4:47:57 ago. (Use '!kill 11113' to kill it.)"
      ]
     },
     "metadata": {},
     "output_type": "display_data"
    },
    {
     "data": {
      "text/html": [
       "\n",
       "      <iframe id=\"tensorboard-frame-1c80317fa3b1799d\" width=\"100%\" height=\"800\" frameborder=\"0\">\n",
       "      </iframe>\n",
       "      <script>\n",
       "        (function() {\n",
       "          const frame = document.getElementById(\"tensorboard-frame-1c80317fa3b1799d\");\n",
       "          const url = new URL(\"http://localhost\");\n",
       "          const port = 6006;\n",
       "          if (port) {\n",
       "            url.port = port;\n",
       "          }\n",
       "          frame.src = url;\n",
       "        })();\n",
       "      </script>\n",
       "    "
      ],
      "text/plain": [
       "<IPython.core.display.HTML object>"
      ]
     },
     "metadata": {},
     "output_type": "display_data"
    }
   ],
   "source": [
    "%load_ext tensorboard\n",
    "%tensorboard --logdir ./output/runs\n",
    "%reload_ext tensorboard"
   ]
  },
  {
   "cell_type": "markdown",
   "metadata": {},
   "source": [
    "Sam trening na architekturze MPS (Apple M1 Pro) zajmuje sporo czasu, jedna epoko to +/- 2,5h."
   ]
  },
  {
   "cell_type": "code",
   "execution_count": 82,
   "metadata": {},
   "outputs": [
    {
     "name": "stderr",
     "output_type": "stream",
     "text": [
      "  0%|          | 1/3542 [00:05<5:44:26,  5.84s/it]"
     ]
    },
    {
     "name": "stdout",
     "output_type": "stream",
     "text": [
      "{'loss': 0.674, 'grad_norm': 7.987086296081543, 'learning_rate': 4.9985883681535854e-05, 'epoch': 0.0}\n"
     ]
    },
    {
     "name": "stderr",
     "output_type": "stream",
     "text": [
      "  1%|▏         | 50/3542 [01:50<2:03:56,  2.13s/it]"
     ]
    },
    {
     "name": "stdout",
     "output_type": "stream",
     "text": [
      "{'loss': 0.5767, 'grad_norm': 2.2258918285369873, 'learning_rate': 4.9294184076792775e-05, 'epoch': 0.01}\n"
     ]
    },
    {
     "name": "stderr",
     "output_type": "stream",
     "text": [
      "  3%|▎         | 100/3542 [03:35<2:01:38,  2.12s/it]"
     ]
    },
    {
     "name": "stdout",
     "output_type": "stream",
     "text": [
      "{'loss': 0.5446, 'grad_norm': 3.818147897720337, 'learning_rate': 4.858836815358554e-05, 'epoch': 0.03}\n"
     ]
    },
    {
     "name": "stderr",
     "output_type": "stream",
     "text": [
      "  4%|▍         | 150/3542 [05:22<2:06:33,  2.24s/it]"
     ]
    },
    {
     "name": "stdout",
     "output_type": "stream",
     "text": [
      "{'loss': 0.5555, 'grad_norm': 5.973161220550537, 'learning_rate': 4.788255223037832e-05, 'epoch': 0.04}\n"
     ]
    },
    {
     "name": "stderr",
     "output_type": "stream",
     "text": [
      "  6%|▌         | 200/3542 [07:13<2:03:05,  2.21s/it]"
     ]
    },
    {
     "name": "stdout",
     "output_type": "stream",
     "text": [
      "{'loss': 0.5301, 'grad_norm': 5.272395610809326, 'learning_rate': 4.7176736307171095e-05, 'epoch': 0.06}\n"
     ]
    },
    {
     "name": "stderr",
     "output_type": "stream",
     "text": [
      "  7%|▋         | 250/3542 [09:04<2:01:27,  2.21s/it]"
     ]
    },
    {
     "name": "stdout",
     "output_type": "stream",
     "text": [
      "{'loss': 0.5352, 'grad_norm': 6.139444351196289, 'learning_rate': 4.647092038396386e-05, 'epoch': 0.07}\n"
     ]
    },
    {
     "name": "stderr",
     "output_type": "stream",
     "text": [
      "  8%|▊         | 300/3542 [10:54<1:59:32,  2.21s/it]"
     ]
    },
    {
     "name": "stdout",
     "output_type": "stream",
     "text": [
      "{'loss': 0.5398, 'grad_norm': 5.045125484466553, 'learning_rate': 4.5765104460756634e-05, 'epoch': 0.08}\n"
     ]
    },
    {
     "name": "stderr",
     "output_type": "stream",
     "text": [
      "\n",
      "  8%|▊         | 300/3542 [14:28<1:59:32,  2.21s/it]"
     ]
    },
    {
     "name": "stdout",
     "output_type": "stream",
     "text": [
      "{'eval_loss': 0.531876802444458, 'eval_runtime': 213.3379, 'eval_samples_per_second': 23.212, 'eval_steps_per_second': 1.453, 'epoch': 0.08}\n"
     ]
    },
    {
     "name": "stderr",
     "output_type": "stream",
     "text": [
      " 10%|▉         | 350/3542 [16:27<1:55:01,  2.16s/it] "
     ]
    },
    {
     "name": "stdout",
     "output_type": "stream",
     "text": [
      "{'loss': 0.5349, 'grad_norm': 2.646746873855591, 'learning_rate': 4.505928853754941e-05, 'epoch': 0.1}\n"
     ]
    },
    {
     "name": "stderr",
     "output_type": "stream",
     "text": [
      " 11%|█▏        | 400/3542 [18:21<1:54:32,  2.19s/it]"
     ]
    },
    {
     "name": "stdout",
     "output_type": "stream",
     "text": [
      "{'loss': 0.4933, 'grad_norm': 3.546496868133545, 'learning_rate': 4.435347261434219e-05, 'epoch': 0.11}\n"
     ]
    },
    {
     "name": "stderr",
     "output_type": "stream",
     "text": [
      " 13%|█▎        | 450/3542 [20:08<1:51:13,  2.16s/it]"
     ]
    },
    {
     "name": "stdout",
     "output_type": "stream",
     "text": [
      "{'loss': 0.4894, 'grad_norm': 15.792004585266113, 'learning_rate': 4.364765669113495e-05, 'epoch': 0.13}\n"
     ]
    },
    {
     "name": "stderr",
     "output_type": "stream",
     "text": [
      " 14%|█▍        | 500/3542 [21:57<1:52:46,  2.22s/it]"
     ]
    },
    {
     "name": "stdout",
     "output_type": "stream",
     "text": [
      "{'loss': 0.4803, 'grad_norm': 21.12766456604004, 'learning_rate': 4.2941840767927726e-05, 'epoch': 0.14}\n"
     ]
    },
    {
     "name": "stderr",
     "output_type": "stream",
     "text": [
      " 16%|█▌        | 550/3542 [23:46<1:47:23,  2.15s/it]"
     ]
    },
    {
     "name": "stdout",
     "output_type": "stream",
     "text": [
      "{'loss': 0.4838, 'grad_norm': 12.974838256835938, 'learning_rate': 4.22360248447205e-05, 'epoch': 0.16}\n"
     ]
    },
    {
     "name": "stderr",
     "output_type": "stream",
     "text": [
      " 17%|█▋        | 600/3542 [25:34<1:46:23,  2.17s/it]"
     ]
    },
    {
     "name": "stdout",
     "output_type": "stream",
     "text": [
      "{'loss': 0.481, 'grad_norm': 13.92585563659668, 'learning_rate': 4.153020892151327e-05, 'epoch': 0.17}\n"
     ]
    },
    {
     "name": "stderr",
     "output_type": "stream",
     "text": [
      "\n",
      " 17%|█▋        | 600/3542 [29:06<1:46:23,  2.17s/it]"
     ]
    },
    {
     "name": "stdout",
     "output_type": "stream",
     "text": [
      "{'eval_loss': 0.7449521422386169, 'eval_runtime': 212.0348, 'eval_samples_per_second': 23.355, 'eval_steps_per_second': 1.462, 'epoch': 0.17}\n"
     ]
    },
    {
     "name": "stderr",
     "output_type": "stream",
     "text": [
      " 18%|█▊        | 650/3542 [31:04<1:42:02,  2.12s/it] "
     ]
    },
    {
     "name": "stdout",
     "output_type": "stream",
     "text": [
      "{'loss': 0.5483, 'grad_norm': 4.4926228523254395, 'learning_rate': 4.0824392998306045e-05, 'epoch': 0.18}\n"
     ]
    },
    {
     "name": "stderr",
     "output_type": "stream",
     "text": [
      " 20%|█▉        | 700/3542 [32:51<1:39:54,  2.11s/it]"
     ]
    },
    {
     "name": "stdout",
     "output_type": "stream",
     "text": [
      "{'loss': 0.4702, 'grad_norm': 11.212841033935547, 'learning_rate': 4.011857707509882e-05, 'epoch': 0.2}\n"
     ]
    },
    {
     "name": "stderr",
     "output_type": "stream",
     "text": [
      " 21%|██        | 750/3542 [34:42<1:44:46,  2.25s/it]"
     ]
    },
    {
     "name": "stdout",
     "output_type": "stream",
     "text": [
      "{'loss': 0.4757, 'grad_norm': 12.159475326538086, 'learning_rate': 3.9412761151891584e-05, 'epoch': 0.21}\n"
     ]
    },
    {
     "name": "stderr",
     "output_type": "stream",
     "text": [
      " 23%|██▎       | 800/3542 [36:33<1:41:41,  2.23s/it]"
     ]
    },
    {
     "name": "stdout",
     "output_type": "stream",
     "text": [
      "{'loss': 0.5018, 'grad_norm': 12.02319622039795, 'learning_rate': 3.870694522868436e-05, 'epoch': 0.23}\n"
     ]
    },
    {
     "name": "stderr",
     "output_type": "stream",
     "text": [
      " 24%|██▍       | 850/3542 [38:24<1:39:01,  2.21s/it]"
     ]
    },
    {
     "name": "stdout",
     "output_type": "stream",
     "text": [
      "{'loss': 0.5052, 'grad_norm': 6.827784538269043, 'learning_rate': 3.800112930547714e-05, 'epoch': 0.24}\n"
     ]
    },
    {
     "name": "stderr",
     "output_type": "stream",
     "text": [
      " 25%|██▌       | 900/3542 [40:15<1:37:35,  2.22s/it]"
     ]
    },
    {
     "name": "stdout",
     "output_type": "stream",
     "text": [
      "{'loss': 0.4957, 'grad_norm': 4.35949182510376, 'learning_rate': 3.729531338226991e-05, 'epoch': 0.25}\n"
     ]
    },
    {
     "name": "stderr",
     "output_type": "stream",
     "text": [
      "\n",
      " 25%|██▌       | 900/3542 [43:55<1:37:35,  2.22s/it]"
     ]
    },
    {
     "name": "stdout",
     "output_type": "stream",
     "text": [
      "{'eval_loss': 0.5653873085975647, 'eval_runtime': 219.0372, 'eval_samples_per_second': 22.608, 'eval_steps_per_second': 1.415, 'epoch': 0.25}\n"
     ]
    },
    {
     "name": "stderr",
     "output_type": "stream",
     "text": [
      " 27%|██▋       | 950/3542 [45:59<1:35:51,  2.22s/it] "
     ]
    },
    {
     "name": "stdout",
     "output_type": "stream",
     "text": [
      "{'loss': 0.466, 'grad_norm': 7.35865592956543, 'learning_rate': 3.6589497459062677e-05, 'epoch': 0.27}\n"
     ]
    },
    {
     "name": "stderr",
     "output_type": "stream",
     "text": [
      " 28%|██▊       | 1000/3542 [47:51<1:35:15,  2.25s/it]"
     ]
    },
    {
     "name": "stdout",
     "output_type": "stream",
     "text": [
      "{'loss': 0.5068, 'grad_norm': 7.639536380767822, 'learning_rate': 3.588368153585545e-05, 'epoch': 0.28}\n"
     ]
    },
    {
     "name": "stderr",
     "output_type": "stream",
     "text": [
      " 30%|██▉       | 1050/3542 [49:42<1:32:23,  2.22s/it]"
     ]
    },
    {
     "name": "stdout",
     "output_type": "stream",
     "text": [
      "{'loss': 0.4857, 'grad_norm': 5.494039058685303, 'learning_rate': 3.517786561264822e-05, 'epoch': 0.3}\n"
     ]
    },
    {
     "name": "stderr",
     "output_type": "stream",
     "text": [
      " 31%|███       | 1100/3542 [51:33<1:31:41,  2.25s/it]"
     ]
    },
    {
     "name": "stdout",
     "output_type": "stream",
     "text": [
      "{'loss': 0.4438, 'grad_norm': 2.339285373687744, 'learning_rate': 3.4472049689440996e-05, 'epoch': 0.31}\n"
     ]
    },
    {
     "name": "stderr",
     "output_type": "stream",
     "text": [
      " 32%|███▏      | 1150/3542 [53:24<1:28:25,  2.22s/it]"
     ]
    },
    {
     "name": "stdout",
     "output_type": "stream",
     "text": [
      "{'loss': 0.445, 'grad_norm': 2.976661205291748, 'learning_rate': 3.376623376623377e-05, 'epoch': 0.32}\n"
     ]
    },
    {
     "name": "stderr",
     "output_type": "stream",
     "text": [
      " 34%|███▍      | 1200/3542 [55:14<1:26:41,  2.22s/it]"
     ]
    },
    {
     "name": "stdout",
     "output_type": "stream",
     "text": [
      "{'loss': 0.4818, 'grad_norm': 11.79533576965332, 'learning_rate': 3.306041784302654e-05, 'epoch': 0.34}\n"
     ]
    },
    {
     "name": "stderr",
     "output_type": "stream",
     "text": [
      "\n",
      " 34%|███▍      | 1200/3542 [58:53<1:26:41,  2.22s/it]"
     ]
    },
    {
     "name": "stdout",
     "output_type": "stream",
     "text": [
      "{'eval_loss': 0.6219040751457214, 'eval_runtime': 218.9913, 'eval_samples_per_second': 22.613, 'eval_steps_per_second': 1.416, 'epoch': 0.34}\n"
     ]
    },
    {
     "name": "stderr",
     "output_type": "stream",
     "text": [
      " 35%|███▌      | 1250/3542 [1:00:53<1:26:41,  2.27s/it]"
     ]
    },
    {
     "name": "stdout",
     "output_type": "stream",
     "text": [
      "{'loss': 0.4936, 'grad_norm': 6.819698810577393, 'learning_rate': 3.235460191981931e-05, 'epoch': 0.35}\n"
     ]
    },
    {
     "name": "stderr",
     "output_type": "stream",
     "text": [
      " 37%|███▋      | 1300/3542 [1:02:45<1:22:44,  2.21s/it]"
     ]
    },
    {
     "name": "stdout",
     "output_type": "stream",
     "text": [
      "{'loss': 0.4676, 'grad_norm': 9.891575813293457, 'learning_rate': 3.164878599661209e-05, 'epoch': 0.37}\n"
     ]
    },
    {
     "name": "stderr",
     "output_type": "stream",
     "text": [
      " 38%|███▊      | 1350/3542 [1:04:36<1:21:09,  2.22s/it]"
     ]
    },
    {
     "name": "stdout",
     "output_type": "stream",
     "text": [
      "{'loss': 0.4589, 'grad_norm': 8.981084823608398, 'learning_rate': 3.094297007340486e-05, 'epoch': 0.38}\n"
     ]
    },
    {
     "name": "stderr",
     "output_type": "stream",
     "text": [
      " 40%|███▉      | 1400/3542 [1:06:27<1:18:50,  2.21s/it]"
     ]
    },
    {
     "name": "stdout",
     "output_type": "stream",
     "text": [
      "{'loss': 0.4877, 'grad_norm': 8.89108657836914, 'learning_rate': 3.0237154150197627e-05, 'epoch': 0.4}\n"
     ]
    },
    {
     "name": "stderr",
     "output_type": "stream",
     "text": [
      " 41%|████      | 1450/3542 [1:08:18<1:16:57,  2.21s/it]"
     ]
    },
    {
     "name": "stdout",
     "output_type": "stream",
     "text": [
      "{'loss': 0.4367, 'grad_norm': 6.975196361541748, 'learning_rate': 2.95313382269904e-05, 'epoch': 0.41}\n"
     ]
    },
    {
     "name": "stderr",
     "output_type": "stream",
     "text": [
      " 42%|████▏     | 1500/3542 [1:10:07<1:10:09,  2.06s/it]"
     ]
    },
    {
     "name": "stdout",
     "output_type": "stream",
     "text": [
      "{'loss': 0.4603, 'grad_norm': 4.109880447387695, 'learning_rate': 2.8825522303783176e-05, 'epoch': 0.42}\n"
     ]
    },
    {
     "name": "stderr",
     "output_type": "stream",
     "text": [
      "\n",
      " 42%|████▏     | 1500/3542 [1:13:31<1:10:09,  2.06s/it]"
     ]
    },
    {
     "name": "stdout",
     "output_type": "stream",
     "text": [
      "{'eval_loss': 0.5778191089630127, 'eval_runtime': 203.8892, 'eval_samples_per_second': 24.288, 'eval_steps_per_second': 1.52, 'epoch': 0.42}\n"
     ]
    },
    {
     "name": "stderr",
     "output_type": "stream",
     "text": [
      " 44%|████▍     | 1550/3542 [1:15:23<1:08:41,  2.07s/it] "
     ]
    },
    {
     "name": "stdout",
     "output_type": "stream",
     "text": [
      "{'loss': 0.43, 'grad_norm': 3.9166276454925537, 'learning_rate': 2.811970638057595e-05, 'epoch': 0.44}\n"
     ]
    },
    {
     "name": "stderr",
     "output_type": "stream",
     "text": [
      " 45%|████▌     | 1600/3542 [1:17:07<1:06:45,  2.06s/it]"
     ]
    },
    {
     "name": "stdout",
     "output_type": "stream",
     "text": [
      "{'loss': 0.4764, 'grad_norm': 5.622836112976074, 'learning_rate': 2.741389045736872e-05, 'epoch': 0.45}\n"
     ]
    },
    {
     "name": "stderr",
     "output_type": "stream",
     "text": [
      " 47%|████▋     | 1650/3542 [1:18:50<1:05:16,  2.07s/it]"
     ]
    },
    {
     "name": "stdout",
     "output_type": "stream",
     "text": [
      "{'loss': 0.3772, 'grad_norm': 8.2365083694458, 'learning_rate': 2.6708074534161492e-05, 'epoch': 0.47}\n"
     ]
    },
    {
     "name": "stderr",
     "output_type": "stream",
     "text": [
      " 48%|████▊     | 1700/3542 [1:20:34<1:03:16,  2.06s/it]"
     ]
    },
    {
     "name": "stdout",
     "output_type": "stream",
     "text": [
      "{'loss': 0.3981, 'grad_norm': 3.015646457672119, 'learning_rate': 2.6002258610954265e-05, 'epoch': 0.48}\n"
     ]
    },
    {
     "name": "stderr",
     "output_type": "stream",
     "text": [
      " 49%|████▉     | 1750/3542 [1:22:17<1:01:51,  2.07s/it]"
     ]
    },
    {
     "name": "stdout",
     "output_type": "stream",
     "text": [
      "{'loss': 0.4371, 'grad_norm': 8.32249927520752, 'learning_rate': 2.5296442687747035e-05, 'epoch': 0.49}\n"
     ]
    },
    {
     "name": "stderr",
     "output_type": "stream",
     "text": [
      " 51%|█████     | 1800/3542 [1:24:01<1:00:03,  2.07s/it]"
     ]
    },
    {
     "name": "stdout",
     "output_type": "stream",
     "text": [
      "{'loss': 0.4324, 'grad_norm': 71.1843032836914, 'learning_rate': 2.4590626764539808e-05, 'epoch': 0.51}\n"
     ]
    },
    {
     "name": "stderr",
     "output_type": "stream",
     "text": [
      "\n",
      " 51%|█████     | 1800/3542 [1:27:24<1:00:03,  2.07s/it]"
     ]
    },
    {
     "name": "stdout",
     "output_type": "stream",
     "text": [
      "{'eval_loss': 0.7000254988670349, 'eval_runtime': 203.774, 'eval_samples_per_second': 24.301, 'eval_steps_per_second': 1.521, 'epoch': 0.51}\n"
     ]
    },
    {
     "name": "stderr",
     "output_type": "stream",
     "text": [
      " 52%|█████▏    | 1850/3542 [1:29:16<58:36,  2.08s/it]   "
     ]
    },
    {
     "name": "stdout",
     "output_type": "stream",
     "text": [
      "{'loss': 0.4305, 'grad_norm': 16.41997528076172, 'learning_rate': 2.388481084133258e-05, 'epoch': 0.52}\n"
     ]
    },
    {
     "name": "stderr",
     "output_type": "stream",
     "text": [
      " 54%|█████▎    | 1900/3542 [1:31:00<56:47,  2.08s/it]"
     ]
    },
    {
     "name": "stdout",
     "output_type": "stream",
     "text": [
      "{'loss': 0.4224, 'grad_norm': 6.573004722595215, 'learning_rate': 2.3178994918125354e-05, 'epoch': 0.54}\n"
     ]
    },
    {
     "name": "stderr",
     "output_type": "stream",
     "text": [
      " 55%|█████▌    | 1950/3542 [1:32:43<54:53,  2.07s/it]"
     ]
    },
    {
     "name": "stdout",
     "output_type": "stream",
     "text": [
      "{'loss': 0.4016, 'grad_norm': 5.831249713897705, 'learning_rate': 2.2473178994918127e-05, 'epoch': 0.55}\n"
     ]
    },
    {
     "name": "stderr",
     "output_type": "stream",
     "text": [
      " 56%|█████▋    | 2000/3542 [1:34:27<53:05,  2.07s/it]"
     ]
    },
    {
     "name": "stdout",
     "output_type": "stream",
     "text": [
      "{'loss': 0.4247, 'grad_norm': 4.170872211456299, 'learning_rate': 2.17673630717109e-05, 'epoch': 0.56}\n"
     ]
    },
    {
     "name": "stderr",
     "output_type": "stream",
     "text": [
      " 58%|█████▊    | 2050/3542 [1:36:10<51:26,  2.07s/it]"
     ]
    },
    {
     "name": "stdout",
     "output_type": "stream",
     "text": [
      "{'loss': 0.4304, 'grad_norm': 6.229367256164551, 'learning_rate': 2.106154714850367e-05, 'epoch': 0.58}\n"
     ]
    },
    {
     "name": "stderr",
     "output_type": "stream",
     "text": [
      " 59%|█████▉    | 2100/3542 [1:37:54<49:48,  2.07s/it]"
     ]
    },
    {
     "name": "stdout",
     "output_type": "stream",
     "text": [
      "{'loss': 0.4247, 'grad_norm': 13.025911331176758, 'learning_rate': 2.0355731225296443e-05, 'epoch': 0.59}\n"
     ]
    },
    {
     "name": "stderr",
     "output_type": "stream",
     "text": [
      "\n",
      " 59%|█████▉    | 2100/3542 [1:41:18<49:48,  2.07s/it]"
     ]
    },
    {
     "name": "stdout",
     "output_type": "stream",
     "text": [
      "{'eval_loss': 0.6287449598312378, 'eval_runtime': 203.7186, 'eval_samples_per_second': 24.308, 'eval_steps_per_second': 1.522, 'epoch': 0.59}\n"
     ]
    },
    {
     "name": "stderr",
     "output_type": "stream",
     "text": [
      " 61%|██████    | 2150/3542 [1:43:08<47:59,  2.07s/it]   "
     ]
    },
    {
     "name": "stdout",
     "output_type": "stream",
     "text": [
      "{'loss': 0.4198, 'grad_norm': 5.425909519195557, 'learning_rate': 1.9649915302089216e-05, 'epoch': 0.61}\n"
     ]
    },
    {
     "name": "stderr",
     "output_type": "stream",
     "text": [
      " 62%|██████▏   | 2200/3542 [1:44:52<46:11,  2.07s/it]"
     ]
    },
    {
     "name": "stdout",
     "output_type": "stream",
     "text": [
      "{'loss': 0.4136, 'grad_norm': 4.994242191314697, 'learning_rate': 1.894409937888199e-05, 'epoch': 0.62}\n"
     ]
    },
    {
     "name": "stderr",
     "output_type": "stream",
     "text": [
      " 64%|██████▎   | 2250/3542 [1:46:35<44:28,  2.07s/it]"
     ]
    },
    {
     "name": "stdout",
     "output_type": "stream",
     "text": [
      "{'loss': 0.4174, 'grad_norm': 6.670489311218262, 'learning_rate': 1.8238283455674762e-05, 'epoch': 0.64}\n"
     ]
    },
    {
     "name": "stderr",
     "output_type": "stream",
     "text": [
      " 65%|██████▍   | 2300/3542 [1:48:19<42:40,  2.06s/it]"
     ]
    },
    {
     "name": "stdout",
     "output_type": "stream",
     "text": [
      "{'loss': 0.4339, 'grad_norm': 59.06018829345703, 'learning_rate': 1.7532467532467535e-05, 'epoch': 0.65}\n"
     ]
    },
    {
     "name": "stderr",
     "output_type": "stream",
     "text": [
      " 66%|██████▋   | 2350/3542 [1:50:03<41:03,  2.07s/it]"
     ]
    },
    {
     "name": "stdout",
     "output_type": "stream",
     "text": [
      "{'loss': 0.4242, 'grad_norm': 8.13891887664795, 'learning_rate': 1.6826651609260305e-05, 'epoch': 0.66}\n"
     ]
    },
    {
     "name": "stderr",
     "output_type": "stream",
     "text": [
      " 68%|██████▊   | 2400/3542 [1:51:47<40:06,  2.11s/it]"
     ]
    },
    {
     "name": "stdout",
     "output_type": "stream",
     "text": [
      "{'loss': 0.4064, 'grad_norm': 7.439423561096191, 'learning_rate': 1.6120835686053078e-05, 'epoch': 0.68}\n"
     ]
    },
    {
     "name": "stderr",
     "output_type": "stream",
     "text": [
      "\n",
      " 68%|██████▊   | 2400/3542 [1:55:10<40:06,  2.11s/it]"
     ]
    },
    {
     "name": "stdout",
     "output_type": "stream",
     "text": [
      "{'eval_loss': 0.6913226842880249, 'eval_runtime': 203.7854, 'eval_samples_per_second': 24.3, 'eval_steps_per_second': 1.521, 'epoch': 0.68}\n"
     ]
    },
    {
     "name": "stderr",
     "output_type": "stream",
     "text": [
      " 69%|██████▉   | 2450/3542 [1:57:00<37:42,  2.07s/it]   "
     ]
    },
    {
     "name": "stdout",
     "output_type": "stream",
     "text": [
      "{'loss': 0.4099, 'grad_norm': 5.401651382446289, 'learning_rate': 1.541501976284585e-05, 'epoch': 0.69}\n"
     ]
    },
    {
     "name": "stderr",
     "output_type": "stream",
     "text": [
      " 71%|███████   | 2500/3542 [1:58:44<35:54,  2.07s/it]"
     ]
    },
    {
     "name": "stdout",
     "output_type": "stream",
     "text": [
      "{'loss': 0.4106, 'grad_norm': 10.460515975952148, 'learning_rate': 1.4709203839638622e-05, 'epoch': 0.71}\n"
     ]
    },
    {
     "name": "stderr",
     "output_type": "stream",
     "text": [
      " 72%|███████▏  | 2550/3542 [2:00:27<34:05,  2.06s/it]"
     ]
    },
    {
     "name": "stdout",
     "output_type": "stream",
     "text": [
      "{'loss': 0.3913, 'grad_norm': 9.021902084350586, 'learning_rate': 1.4003387916431395e-05, 'epoch': 0.72}\n"
     ]
    },
    {
     "name": "stderr",
     "output_type": "stream",
     "text": [
      " 73%|███████▎  | 2600/3542 [2:02:11<32:27,  2.07s/it]"
     ]
    },
    {
     "name": "stdout",
     "output_type": "stream",
     "text": [
      "{'loss': 0.4146, 'grad_norm': 10.119050979614258, 'learning_rate': 1.3297571993224166e-05, 'epoch': 0.73}\n"
     ]
    },
    {
     "name": "stderr",
     "output_type": "stream",
     "text": [
      " 75%|███████▍  | 2650/3542 [2:03:55<30:44,  2.07s/it]"
     ]
    },
    {
     "name": "stdout",
     "output_type": "stream",
     "text": [
      "{'loss': 0.3725, 'grad_norm': 9.640691757202148, 'learning_rate': 1.2591756070016941e-05, 'epoch': 0.75}\n"
     ]
    },
    {
     "name": "stderr",
     "output_type": "stream",
     "text": [
      " 76%|███████▌  | 2700/3542 [2:05:38<29:02,  2.07s/it]"
     ]
    },
    {
     "name": "stdout",
     "output_type": "stream",
     "text": [
      "{'loss': 0.3557, 'grad_norm': 4.511234283447266, 'learning_rate': 1.1885940146809712e-05, 'epoch': 0.76}\n"
     ]
    },
    {
     "name": "stderr",
     "output_type": "stream",
     "text": [
      "\n",
      " 76%|███████▌  | 2700/3542 [2:09:02<29:02,  2.07s/it]"
     ]
    },
    {
     "name": "stdout",
     "output_type": "stream",
     "text": [
      "{'eval_loss': 0.5557083487510681, 'eval_runtime': 203.8231, 'eval_samples_per_second': 24.296, 'eval_steps_per_second': 1.521, 'epoch': 0.76}\n"
     ]
    },
    {
     "name": "stderr",
     "output_type": "stream",
     "text": [
      " 78%|███████▊  | 2750/3542 [2:10:51<27:19,  2.07s/it]   "
     ]
    },
    {
     "name": "stdout",
     "output_type": "stream",
     "text": [
      "{'loss': 0.3968, 'grad_norm': 3.7885348796844482, 'learning_rate': 1.1180124223602485e-05, 'epoch': 0.78}\n"
     ]
    },
    {
     "name": "stderr",
     "output_type": "stream",
     "text": [
      " 79%|███████▉  | 2800/3542 [2:12:35<25:37,  2.07s/it]"
     ]
    },
    {
     "name": "stdout",
     "output_type": "stream",
     "text": [
      "{'loss': 0.3965, 'grad_norm': 8.352874755859375, 'learning_rate': 1.0474308300395258e-05, 'epoch': 0.79}\n"
     ]
    },
    {
     "name": "stderr",
     "output_type": "stream",
     "text": [
      " 80%|████████  | 2850/3542 [2:14:19<23:46,  2.06s/it]"
     ]
    },
    {
     "name": "stdout",
     "output_type": "stream",
     "text": [
      "{'loss': 0.3896, 'grad_norm': 13.673216819763184, 'learning_rate': 9.76849237718803e-06, 'epoch': 0.8}\n"
     ]
    },
    {
     "name": "stderr",
     "output_type": "stream",
     "text": [
      " 82%|████████▏ | 2900/3542 [2:16:03<22:09,  2.07s/it]"
     ]
    },
    {
     "name": "stdout",
     "output_type": "stream",
     "text": [
      "{'loss': 0.3962, 'grad_norm': 8.163147926330566, 'learning_rate': 9.062676453980803e-06, 'epoch': 0.82}\n"
     ]
    },
    {
     "name": "stderr",
     "output_type": "stream",
     "text": [
      " 83%|████████▎ | 2950/3542 [2:17:46<20:30,  2.08s/it]"
     ]
    },
    {
     "name": "stdout",
     "output_type": "stream",
     "text": [
      "{'loss': 0.404, 'grad_norm': 6.338461399078369, 'learning_rate': 8.356860530773574e-06, 'epoch': 0.83}\n"
     ]
    },
    {
     "name": "stderr",
     "output_type": "stream",
     "text": [
      " 85%|████████▍ | 3000/3542 [2:19:30<18:52,  2.09s/it]"
     ]
    },
    {
     "name": "stdout",
     "output_type": "stream",
     "text": [
      "{'loss': 0.4088, 'grad_norm': 20.07931900024414, 'learning_rate': 7.651044607566347e-06, 'epoch': 0.85}\n"
     ]
    },
    {
     "name": "stderr",
     "output_type": "stream",
     "text": [
      "\n",
      " 85%|████████▍ | 3000/3542 [2:22:54<18:52,  2.09s/it]"
     ]
    },
    {
     "name": "stdout",
     "output_type": "stream",
     "text": [
      "{'eval_loss': 0.606942892074585, 'eval_runtime': 203.8798, 'eval_samples_per_second': 24.289, 'eval_steps_per_second': 1.521, 'epoch': 0.85}\n"
     ]
    },
    {
     "name": "stderr",
     "output_type": "stream",
     "text": [
      " 86%|████████▌ | 3050/3542 [2:24:46<16:59,  2.07s/it]  "
     ]
    },
    {
     "name": "stdout",
     "output_type": "stream",
     "text": [
      "{'loss': 0.3845, 'grad_norm': 34.269073486328125, 'learning_rate': 6.9452286843591186e-06, 'epoch': 0.86}\n"
     ]
    },
    {
     "name": "stderr",
     "output_type": "stream",
     "text": [
      " 88%|████████▊ | 3100/3542 [2:26:30<15:22,  2.09s/it]"
     ]
    },
    {
     "name": "stdout",
     "output_type": "stream",
     "text": [
      "{'loss': 0.3458, 'grad_norm': 11.270559310913086, 'learning_rate': 6.239412761151892e-06, 'epoch': 0.88}\n"
     ]
    },
    {
     "name": "stderr",
     "output_type": "stream",
     "text": [
      " 89%|████████▉ | 3150/3542 [2:28:14<13:30,  2.07s/it]"
     ]
    },
    {
     "name": "stdout",
     "output_type": "stream",
     "text": [
      "{'loss': 0.3498, 'grad_norm': 5.497777938842773, 'learning_rate': 5.533596837944665e-06, 'epoch': 0.89}\n"
     ]
    },
    {
     "name": "stderr",
     "output_type": "stream",
     "text": [
      " 90%|█████████ | 3200/3542 [2:29:57<11:46,  2.07s/it]"
     ]
    },
    {
     "name": "stdout",
     "output_type": "stream",
     "text": [
      "{'loss': 0.3549, 'grad_norm': 2.935401678085327, 'learning_rate': 4.827780914737437e-06, 'epoch': 0.9}\n"
     ]
    },
    {
     "name": "stderr",
     "output_type": "stream",
     "text": [
      " 92%|█████████▏| 3250/3542 [2:31:41<10:06,  2.08s/it]"
     ]
    },
    {
     "name": "stdout",
     "output_type": "stream",
     "text": [
      "{'loss': 0.3392, 'grad_norm': 8.289687156677246, 'learning_rate': 4.121964991530209e-06, 'epoch': 0.92}\n"
     ]
    },
    {
     "name": "stderr",
     "output_type": "stream",
     "text": [
      " 93%|█████████▎| 3300/3542 [2:33:25<08:21,  2.07s/it]"
     ]
    },
    {
     "name": "stdout",
     "output_type": "stream",
     "text": [
      "{'loss': 0.3684, 'grad_norm': 6.116330146789551, 'learning_rate': 3.4161490683229816e-06, 'epoch': 0.93}\n"
     ]
    },
    {
     "name": "stderr",
     "output_type": "stream",
     "text": [
      "\n",
      " 93%|█████████▎| 3300/3542 [2:36:49<08:21,  2.07s/it]"
     ]
    },
    {
     "name": "stdout",
     "output_type": "stream",
     "text": [
      "{'eval_loss': 0.6602376103401184, 'eval_runtime': 203.9007, 'eval_samples_per_second': 24.286, 'eval_steps_per_second': 1.52, 'epoch': 0.93}\n"
     ]
    },
    {
     "name": "stderr",
     "output_type": "stream",
     "text": [
      " 95%|█████████▍| 3350/3542 [2:38:40<06:40,  2.08s/it]  "
     ]
    },
    {
     "name": "stdout",
     "output_type": "stream",
     "text": [
      "{'loss': 0.3533, 'grad_norm': 17.537870407104492, 'learning_rate': 2.7103331451157542e-06, 'epoch': 0.95}\n"
     ]
    },
    {
     "name": "stderr",
     "output_type": "stream",
     "text": [
      " 96%|█████████▌| 3400/3542 [2:40:24<04:52,  2.06s/it]"
     ]
    },
    {
     "name": "stdout",
     "output_type": "stream",
     "text": [
      "{'loss': 0.3429, 'grad_norm': 4.868119716644287, 'learning_rate': 2.0045172219085264e-06, 'epoch': 0.96}\n"
     ]
    },
    {
     "name": "stderr",
     "output_type": "stream",
     "text": [
      " 97%|█████████▋| 3450/3542 [2:42:07<03:10,  2.07s/it]"
     ]
    },
    {
     "name": "stdout",
     "output_type": "stream",
     "text": [
      "{'loss': 0.3665, 'grad_norm': 10.142683982849121, 'learning_rate': 1.2987012987012988e-06, 'epoch': 0.97}\n"
     ]
    },
    {
     "name": "stderr",
     "output_type": "stream",
     "text": [
      " 99%|█████████▉| 3500/3542 [2:43:51<01:26,  2.07s/it]"
     ]
    },
    {
     "name": "stdout",
     "output_type": "stream",
     "text": [
      "{'loss': 0.3607, 'grad_norm': 10.068657875061035, 'learning_rate': 5.928853754940711e-07, 'epoch': 0.99}\n"
     ]
    },
    {
     "name": "stderr",
     "output_type": "stream",
     "text": [
      "100%|██████████| 3542/3542 [2:45:22<00:00,  2.80s/it]"
     ]
    },
    {
     "name": "stdout",
     "output_type": "stream",
     "text": [
      "{'train_runtime': 9922.3845, 'train_samples_per_second': 5.711, 'train_steps_per_second': 0.357, 'train_loss': 0.4387751028808344, 'epoch': 1.0}\n"
     ]
    },
    {
     "name": "stderr",
     "output_type": "stream",
     "text": [
      "\n"
     ]
    },
    {
     "data": {
      "text/plain": [
       "TrainOutput(global_step=3542, training_loss=0.4387751028808344, metrics={'train_runtime': 9922.3845, 'train_samples_per_second': 5.711, 'train_steps_per_second': 0.357, 'total_flos': 1.490892484091904e+16, 'train_loss': 0.4387751028808344, 'epoch': 1.0})"
      ]
     },
     "execution_count": 82,
     "metadata": {},
     "output_type": "execute_result"
    }
   ],
   "source": [
    "trainer.train()"
   ]
  },
  {
   "cell_type": "markdown",
   "metadata": {},
   "source": [
    "Wyuczony model zapisuję na dysku.\n",
    "\n",
    "Tu akurat widać zapis modelu walidowanego na podstawie funkcji \"loss\", ale wcześniej zapisałem w ten sam sposob model walidowany f1-score."
   ]
  },
  {
   "cell_type": "code",
   "execution_count": null,
   "metadata": {},
   "outputs": [
    {
     "data": {
      "text/plain": [
       "('./best_model_loss/tokenizer_config.json',\n",
       " './best_model_loss/special_tokens_map.json',\n",
       " './best_model_loss/vocab.json',\n",
       " './best_model_loss/merges.txt',\n",
       " './best_model_loss/added_tokens.json',\n",
       " './best_model_loss/tokenizer.json')"
      ]
     },
     "execution_count": 83,
     "metadata": {},
     "output_type": "execute_result"
    }
   ],
   "source": [
    "model.save_pretrained('./best_model_loss')\n",
    "pl_tokenizer.save_pretrained('./best_model_loss')"
   ]
  },
  {
   "cell_type": "markdown",
   "metadata": {},
   "source": [
    "Na tych samych zasadach co zbiory treningowy i walidacyjny, przygotowuję zbiór testowy dla sprawdzenia jakości modelu."
   ]
  },
  {
   "cell_type": "code",
   "execution_count": 84,
   "metadata": {},
   "outputs": [
    {
     "name": "stdout",
     "output_type": "stream",
     "text": [
      "Index 'mw_nlp_lab5_test' deleted successfully.\n",
      "Index created.\n",
      "All documents indexed successfully.\n"
     ]
    }
   ],
   "source": [
    "test_query_to_corpus_dict = utils.prepare_fiqa_qrels(qrels, ['test'])\n",
    "test_corpus_dict = utils.prepare_fiqa_corpus_related_to_selected_subsets(corpus, test_query_to_corpus_dict, True)\n",
    "\n",
    "test_index_name = \"mw_nlp_lab5_test\"\n",
    "fts_url, test_index_url = utils.create_fts_index(test_index_name)\n",
    "utils.bulk_load(fts_url, test_index_name, test_corpus_dict)"
   ]
  },
  {
   "cell_type": "code",
   "execution_count": 93,
   "metadata": {},
   "outputs": [
    {
     "name": "stderr",
     "output_type": "stream",
     "text": [
      "Map: 100%|██████████| 6824/6824 [00:01<00:00, 4273.92 examples/s]\n"
     ]
    }
   ],
   "source": [
    "test_dataset = collect_training_dataset(test_index_url, test_corpus_dict, ['test'], separator)\n",
    "tokenized_test_dataset = test_dataset.map(tokenize_function, batched=True)"
   ]
  },
  {
   "cell_type": "markdown",
   "metadata": {},
   "source": [
    "Jak widać po poniższych wartościach oceniających jakość modelu, nie mamy tu do czynienia z modelem o wysokiej skuteczności.\n",
    "\n",
    "Accuracy wynosi całkiem niezłe: 0.7386, ale już recall i f1-score odpowiednio 0.5088 i 0.4932, czyli nie najlepiej, a przecież to na ich jakość stawialiśmy najbardziej w trakcie treningu."
   ]
  },
  {
   "cell_type": "code",
   "execution_count": 165,
   "metadata": {},
   "outputs": [],
   "source": [
    "model = AutoModelForSequenceClassification.from_pretrained(\"./best_model_f1\", num_labels=2)\n",
    "\n",
    "trainer = Trainer(\n",
    "    model=model,\n",
    "    args=arguments,\n",
    "    eval_dataset=tokenized_test_dataset.shuffle(seed=42),\n",
    "    compute_metrics=compute_metrics,\n",
    ")"
   ]
  },
  {
   "cell_type": "code",
   "execution_count": 166,
   "metadata": {},
   "outputs": [
    {
     "name": "stderr",
     "output_type": "stream",
     "text": [
      "100%|██████████| 427/427 [05:02<00:00,  1.41it/s]"
     ]
    },
    {
     "name": "stdout",
     "output_type": "stream",
     "text": [
      "{'eval_loss': 0.5758367776870728, 'eval_model_preparation_time': 0.0028, 'eval_accuracy': 0.738569753810082, 'eval_precision': 0.4785005512679162, 'eval_recall': 0.5087924970691676, 'eval_f1': 0.49318181818181817, 'eval_runtime': 313.5382, 'eval_samples_per_second': 21.764, 'eval_steps_per_second': 1.362}\n"
     ]
    },
    {
     "name": "stderr",
     "output_type": "stream",
     "text": [
      "\n"
     ]
    }
   ],
   "source": [
    "results = trainer.evaluate(tokenized_test_dataset)\n",
    "print(results)"
   ]
  },
  {
   "cell_type": "markdown",
   "metadata": {},
   "source": [
    "Poniżej wartości dla kilku innych metrych wiodących przy szkoleniu modelu, które wypróbowałem:"
   ]
  },
  {
   "cell_type": "markdown",
   "metadata": {},
   "source": [
    "best_model_loss:\n",
    "{'eval_loss': 0.5315373539924622, 'eval_model_preparation_time': 0.0021, 'eval_accuracy': 0.766559202813599, 'eval_precision': 0.6996466431095406, 'eval_recall': 0.1160609613130129, 'eval_f1': 0.19909502262443438, 'eval_runtime': 303.5541, 'eval_samples_per_second': 22.48, 'eval_steps_per_second': 1.407}\n",
    "\n",
    "best_model_f1:\n",
    "{'eval_loss': 0.5758367776870728, 'eval_model_preparation_time': 0.0029, 'eval_accuracy': 0.738569753810082, 'eval_precision': 0.4785005512679162, 'eval_recall': 0.5087924970691676, 'eval_f1': 0.49318181818181817, 'eval_runtime': 304.6841, 'eval_samples_per_second': 22.397, 'eval_steps_per_second': 1.401}\n",
    "\n",
    "best_model_accuracy:\n",
    "{'eval_loss': 0.5615702271461487, 'eval_model_preparation_time': 0.0027, 'eval_accuracy': 0.75, 'eval_precision': 0.0, 'eval_recall': 0.0, 'eval_f1': 0.0, 'eval_runtime': 324.3951, 'eval_samples_per_second': 21.036, 'eval_steps_per_second': 1.316}\n",
    "\n"
   ]
  },
  {
   "cell_type": "markdown",
   "metadata": {},
   "source": [
    "Podany poniżej przykład, zaczerpnięty został ze zbioru testowego i pokazuje, że model w tym przypadku dobrze klasyfikuje należność pierwszego przypadku do klasy pozytywnej (1), oraz przypadku drugiego do klasy negatywnej (0). "
   ]
  },
  {
   "cell_type": "code",
   "execution_count": 168,
   "metadata": {},
   "outputs": [
    {
     "data": {
      "text/plain": [
       "tensor([[0.0258, 0.9742],\n",
       "        [0.6440, 0.3560]])"
      ]
     },
     "execution_count": 168,
     "metadata": {},
     "output_type": "execute_result"
    }
   ],
   "source": [
    "from transformers import AutoTokenizer, AutoModel\n",
    "import torch\n",
    "\n",
    "tokenizer = AutoTokenizer.from_pretrained(\"./best_model_f1\")\n",
    "model = AutoModelForSequenceClassification.from_pretrained(\"./best_model_f1\", num_labels=2)\n",
    "\n",
    "sentences = [\n",
    "    \"'Gdzie powinienem zaparkować mój fundusz na deszczowy dzień / awaryjny?</s>Sugerowałbym lokalną kasę kredytową lub lokalny bank dla bezpieczeństwa i płynności. Płynność jest prawdopodobnie najważniejszą kwestią dla funduszu awaryjnego.'\",\n",
    "    \"'Gdzie powinienem zaparkować mój fundusz na deszczowy dzień / awaryjny?</s>W katastrofie mieszkaniowej w 2008 r. królowała gotówka. Gotówka może spłacić kredyt hipoteczny, kupić artykuły spożywcze, usługi komunalne itp. Dla osób z gotówką dostępne były świetne oferty na nieruchomości należące do banku. Uzyskanie kredytu hipotecznego w latach 2008-2011 było trudne. Jeśli obawiasz się krachu na giełdzie, kluczem jest dywersyfikacja. Nie miej wszystkich swoich inwestycji w jednym funduszu lub sektorze. Złoto i metale szlachetne mają miejsce w portfelu, powiedzmy 5-10 procent jako polisa ubezpieczeniowa. Dni, w których używano Złotego Podwójnego Orła do płacenia podatków od nieruchomości, w dużej mierze minęły, chociaż Utah na to pozwala. Największą lekcją, jaką wyniosłem z katastrofy, jest to, że nie można zaoszczędzić zbyt dużo gotówki. Zbuduj fundusz na deszczowy dzień.'\"\n",
    "]\n",
    "\n",
    "inputs = tokenizer(\n",
    "    sentences,\n",
    "    padding=\"max_length\",\n",
    "    truncation=True,\n",
    "    return_tensors=\"pt\"\n",
    ")\n",
    "\n",
    "model.eval()\n",
    "with torch.no_grad():\n",
    "    outputs = model(**inputs)\n",
    "\n",
    "logits = outputs.logits\n",
    "probabilities = torch.nn.functional.softmax(logits, dim=-1)\n",
    "probabilities"
   ]
  },
  {
   "cell_type": "markdown",
   "metadata": {},
   "source": [
    "Przygotowuję więc zbiór danych, króry zawiera wszystkie odpowiedzi z korpusu, i umieszczam go w indeksie Elasticsearch. Na takim zbiorze danych pracowałem w lab2 i dla niego chcę powtórzyć eksperyment."
   ]
  },
  {
   "cell_type": "code",
   "execution_count": 110,
   "metadata": {},
   "outputs": [
    {
     "name": "stdout",
     "output_type": "stream",
     "text": [
      "Failed to delete index 'mw_nlp_lab5_all': {\"error\":{\"root_cause\":[{\"type\":\"index_not_found_exception\",\"reason\":\"no such index [mw_nlp_lab5_all]\",\"resource.type\":\"index_or_alias\",\"resource.id\":\"mw_nlp_lab5_all\",\"index_uuid\":\"_na_\",\"index\":\"mw_nlp_lab5_all\"}],\"type\":\"index_not_found_exception\",\"reason\":\"no such index [mw_nlp_lab5_all]\",\"resource.type\":\"index_or_alias\",\"resource.id\":\"mw_nlp_lab5_all\",\"index_uuid\":\"_na_\",\"index\":\"mw_nlp_lab5_all\"},\"status\":404}\n",
      "Index created.\n",
      "All documents indexed successfully.\n"
     ]
    }
   ],
   "source": [
    "all_corpus_dict = utils.prepare_fiqa_corpus_related_to_selected_subsets(corpus, {}, False)\n",
    "\n",
    "all_index_name = \"mw_nlp_lab5_all\"\n",
    "fts_url, all_index_url = utils.create_fts_index(all_index_name)\n",
    "utils.bulk_load(fts_url, all_index_name, all_corpus_dict)"
   ]
  },
  {
   "cell_type": "markdown",
   "metadata": {},
   "source": [
    "Poniżej przygotowuję struktury pomocnicze do obliczenia NDCG@5 dla stworzonego zbioru. Ładuję również własciwy model wraz z tokenizerem oraz definiuję funkcje odpowiadająe za reranking dokumetnów zwróconych przez Elasticsearch."
   ]
  },
  {
   "cell_type": "code",
   "execution_count": 187,
   "metadata": {},
   "outputs": [],
   "source": [
    "\n",
    "from transformers import AutoTokenizer\n",
    "import torch\n",
    "\n",
    "test_query_to_corpus_dict = utils.prepare_fiqa_qrels(qrels, ['test'])\n",
    "test_queries_dict = utils.prepare_fiqa_queries_for_selected_subset(queries, test_query_to_corpus_dict)\n",
    "\n",
    "tokenizer = AutoTokenizer.from_pretrained(\"./best_model_f1\")\n",
    "model = AutoModelForSequenceClassification.from_pretrained(\"./best_model_f1\", num_labels=2)\n",
    "\n",
    "def rerank(query, corpus_ids_with_scores):\n",
    "    corpus_ids = list(corpus_ids_with_scores.keys())\n",
    "    sentences = [f\"{query}</s>{all_corpus_dict[corpus_id]}\" for corpus_id in corpus_ids]\n",
    "    probs = fetch_probs(sentences)\n",
    "\n",
    "    tmp_results = {}\n",
    "    for i, prob in enumerate(probs):   \n",
    "        corpus_id = corpus_ids[i]\n",
    "        tmp_results[corpus_id] = float(prob)\n",
    "\n",
    "    return dict(sorted(tmp_results.items(), key=lambda item: item[1], reverse=True))\n",
    "\n",
    "def fetch_probs(sentences):\n",
    "    inputs = tokenizer(\n",
    "        sentences,\n",
    "        padding=\"max_length\",\n",
    "        truncation=True,\n",
    "        return_tensors=\"pt\"\n",
    "    )\n",
    "\n",
    "    model.eval()\n",
    "    with torch.no_grad():\n",
    "        outputs = model(**inputs)\n",
    "\n",
    "    logits = outputs.logits\n",
    "    probabilities = torch.nn.functional.softmax(logits, dim=-1)\n",
    "    return probabilities[:, 1]\n",
    "\n",
    "# just to reprint the outcome from lab2\n",
    "def rerank_nothing(query, corpus_ids_with_scores):\n",
    "    return corpus_ids_with_scores"
   ]
  },
  {
   "cell_type": "markdown",
   "metadata": {},
   "source": [
    "Poniżej znana nam dobrze funkcja do prezentowania NDCG w formie graficznej."
   ]
  },
  {
   "cell_type": "code",
   "execution_count": 179,
   "metadata": {},
   "outputs": [],
   "source": [
    "import matplotlib.pyplot as plt\n",
    "import numpy as np\n",
    "def present_results(ndcgs):\n",
    "\n",
    "    zeros = []\n",
    "    non_zeros = []\n",
    "\n",
    "    for ndcg in ndcgs:\n",
    "        if ndcg == 0:\n",
    "            zeros.append(ndcg)\n",
    "        else:\n",
    "            non_zeros.append(ndcg)\n",
    "\n",
    "    labels = ['>0 Results', '0 Results']\n",
    "    sizes = [len(non_zeros), len(zeros)]\n",
    "\n",
    "    plt.pie(sizes, labels=labels, autopct='%1.1f%%')\n",
    "    plt.title('NDCG@5 Results Proportion: 0 to >0')\n",
    "    plt.show()\n",
    "\n",
    "    plt.hist(non_zeros, bins=10, edgecolor='black')\n",
    "    plt.title(\"Histogram of Non-Zero NDCG@5\")\n",
    "    plt.xlabel(\"Score\")\n",
    "    plt.ylabel(\"Number of Documents\")\n",
    "    plt.show()\n",
    "\n",
    "    print(f\"NDCG@5 Mean: {np.mean(ndcgs)} and Std: {np.std(ndcgs)}\")\n",
    "    print(f\"NDCG@5 > 0 Mean: {np.mean(non_zeros)} and Std: {np.std(non_zeros)}\")"
   ]
  },
  {
   "cell_type": "markdown",
   "metadata": {},
   "source": [
    "Zaczyam od ponownego obliczenia NDCG@5 bez użycia rerankera, czyli dokładnie tak, jak w lab2. Widzimy, że otrzymane wyniki są identyczne z tymi z lab2."
   ]
  },
  {
   "cell_type": "code",
   "execution_count": 156,
   "metadata": {},
   "outputs": [
    {
     "data": {
      "image/png": "[encoded data removed]",
      "text/plain": [
       "<Figure size 640x480 with 1 Axes>"
      ]
     },
     "metadata": {},
     "output_type": "display_data"
    },
    {
     "data": {
      "image/png": "[encoded data removed]",
      "text/plain": [
       "<Figure size 640x480 with 1 Axes>"
      ]
     },
     "metadata": {},
     "output_type": "display_data"
    },
    {
     "name": "stdout",
     "output_type": "stream",
     "text": [
      "NDCG@5 Mean: 0.1851291130797741 and Std: 0.2968688062149335\n",
      "NDCG@5 > 0 Mean: 0.5379536559448144 and Std: 0.2574697485799596\n"
     ]
    }
   ],
   "source": [
    "fts_size = 5\n",
    "ndcgs_size = 5\n",
    "\n",
    "ndcgs_no_rerank = utils.calculate_ndcgs(test_queries_dict, test_query_to_corpus_dict, all_index_url, 'text', fts_size, ndcgs_size, rerank_nothing)\n",
    "present_results(ndcgs_no_rerank)"
   ]
  },
  {
   "cell_type": "markdown",
   "metadata": {},
   "source": [
    "Obliczam NDCG@5 przy użyciu modeli stosujących do ewaluacji podczas treningu dwóch metryk:\n",
    "- loss"
   ]
  },
  {
   "cell_type": "code",
   "execution_count": null,
   "metadata": {},
   "outputs": [
    {
     "data": {
      "image/png": "[encoded data removed]",
      "text/plain": [
       "<Figure size 640x480 with 1 Axes>"
      ]
     },
     "metadata": {},
     "output_type": "display_data"
    },
    {
     "data": {
      "image/png": "[encoded data removed]",
      "text/plain": [
       "<Figure size 640x480 with 1 Axes>"
      ]
     },
     "metadata": {},
     "output_type": "display_data"
    },
    {
     "name": "stdout",
     "output_type": "stream",
     "text": [
      "NDCG@5 Mean: 0.09312053373796315 and Std: 0.19087909688663673\n",
      "NDCG@5 > 0 Mean: 0.3868083709115393 and Std: 0.1942775413261533\n"
     ]
    }
   ],
   "source": [
    "#model upon run: best_model_loss\n",
    "\n",
    "fts_size = 10\n",
    "ndcgs_size = 5\n",
    "\n",
    "ndcgs_rerank_loss = utils.calculate_ndcgs(test_queries_dict, test_query_to_corpus_dict, all_index_url, 'text', fts_size, ndcgs_size, rerank)\n",
    "present_results(ndcgs_rerank_loss)"
   ]
  },
  {
   "cell_type": "markdown",
   "metadata": {},
   "source": [
    "- f1-score"
   ]
  },
  {
   "cell_type": "code",
   "execution_count": null,
   "metadata": {},
   "outputs": [
    {
     "data": {
      "image/png": "[encoded data removed]",
      "text/plain": [
       "<Figure size 640x480 with 1 Axes>"
      ]
     },
     "metadata": {},
     "output_type": "display_data"
    },
    {
     "data": {
      "image/png": "[encoded data removed]",
      "text/plain": [
       "<Figure size 640x480 with 1 Axes>"
      ]
     },
     "metadata": {},
     "output_type": "display_data"
    },
    {
     "name": "stdout",
     "output_type": "stream",
     "text": [
      "NDCG@5 Mean: 0.1767660990973717 and Std: 0.28040838639615423\n",
      "NDCG@5 > 0 Mean: 0.49372600092714164 and Std: 0.2512512767035267\n"
     ]
    }
   ],
   "source": [
    "#model upon run: best_model_f1\n",
    "\n",
    "fts_size = 10\n",
    "ndcgs_size = 5\n",
    "\n",
    "ndcgs_rerank_f1 = utils.calculate_ndcgs(test_queries_dict, test_query_to_corpus_dict, all_index_url, 'text', fts_size, ndcgs_size, rerank)\n",
    "present_results(ndcgs_rerank_f1)"
   ]
  },
  {
   "cell_type": "markdown",
   "metadata": {},
   "source": [
    "Reranker korygowany podczas treningu funkcją straty radzi sobie bardzo słabo i znacznie obniżył on NDCG@5, więc dalej skupię się jedynie na modelu ocenianym metryką f1-score podczas treningu.\n",
    "\n",
    "Po wdrożeniu rerankera liczba zapytań, dla których NDCG@5 wynosi zero nieznacznie spadła i obecnie niezerowe NDCG@5 wyznaczamy dla 35.8% zapytań (bez rerankera było to 34.4%). Jednakże wartośći NDCG@5 wśród tych niezerowych zapytań, odrobinkę spadły: średnia obecnie wynosi 0.49 z odchyleniem standardowym 0.25 (bez rerankera: średnia: 0.54, odchylenie standardowe: 0.26). \n",
    "\n",
    "Wyniki te nie dają jasnej odpowiedzi na pytanie, czy użycie rerankera podniosło jakość zwracanych odpowiedzi, świadczą raczej o małej zasadności dla użycia rerankera, gdyż wiąże się to z dodatkowym nakładem pracy i skomplikowaniem przetwarzania. Sprawdźmy, jakie podłoże może mieć niewystarczająca jakość wyników z rerankera:\n",
    "- możliwe, że poprawne odpowiedzi, które przyczyniłyby się do wzrostu wartości NDCG@5 nie zostały zwrócone przez FTS, a co za tym idzie, reranker nie miał realnej możliwości polepszenia wyników, gdyż reranking stosował na z góry niewłaściwych rezultatach\n",
    "- sam reranker nie jest oparty o model o dużej dokładności, brakuje nam do tego danych, mocy obliczeniowej oraz złożoności modelu (pracujemy z użyciem modelu 'base'). Ewaluacja samego modelu nie wyszła najlepiej, więc i poprawki przez niego serwowane niekoniecznie są najwyższych lotów."
   ]
  },
  {
   "cell_type": "markdown",
   "metadata": {},
   "source": [
    "Spróbujmy wykluczyć pierwsze zastrzeżenie z powyższej listy i dostarczmy do rerankera większą liczbę odpowiedzi przez FTS:"
   ]
  },
  {
   "cell_type": "code",
   "execution_count": null,
   "metadata": {},
   "outputs": [
    {
     "data": {
      "image/png": "[encoded data removed]",
      "text/plain": [
       "<Figure size 640x480 with 1 Axes>"
      ]
     },
     "metadata": {},
     "output_type": "display_data"
    },
    {
     "data": {
      "image/png": "[encoded data removed]",
      "text/plain": [
       "<Figure size 640x480 with 1 Axes>"
      ]
     },
     "metadata": {},
     "output_type": "display_data"
    },
    {
     "name": "stdout",
     "output_type": "stream",
     "text": [
      "NDCG@5 Mean: 0.1266116108794265 and Std: 0.2286344221933009\n",
      "NDCG@5 > 0 Mean: 0.43181223078878084 and Std: 0.21561879691196476\n"
     ]
    }
   ],
   "source": [
    "#model upon run: best_model_f1\n",
    "\n",
    "fts_size = 25\n",
    "ndcgs_size = 5\n",
    "\n",
    "ndcgs_rerank_f1 = utils.calculate_ndcgs(test_queries_dict, test_query_to_corpus_dict, all_index_url, 'text', fts_size, ndcgs_size, rerank)\n",
    "present_results(ndcgs_rerank_f1)"
   ]
  },
  {
   "cell_type": "code",
   "execution_count": null,
   "metadata": {},
   "outputs": [
    {
     "data": {
      "image/png": "[encoded data removed]",
      "text/plain": [
       "<Figure size 640x480 with 1 Axes>"
      ]
     },
     "metadata": {},
     "output_type": "display_data"
    },
    {
     "data": {
      "image/png": "[encoded data removed]",
      "text/plain": [
       "<Figure size 640x480 with 1 Axes>"
      ]
     },
     "metadata": {},
     "output_type": "display_data"
    },
    {
     "name": "stdout",
     "output_type": "stream",
     "text": [
      "NDCG@5 Mean: 0.07167465526805612 and Std: 0.1663996093522199\n",
      "NDCG@5 > 0 Mean: 0.36285294229453413 and Std: 0.1857950582161774\n"
     ]
    }
   ],
   "source": [
    "#model upon run: best_model_f1\n",
    "\n",
    "fts_size = 50\n",
    "ndcgs_size = 5\n",
    "\n",
    "ndcgs_rerank_f1 = utils.calculate_ndcgs(test_queries_dict, test_query_to_corpus_dict, all_index_url, 'text', fts_size, ndcgs_size, rerank)\n",
    "present_results(ndcgs_rerank_f1)"
   ]
  },
  {
   "cell_type": "markdown",
   "metadata": {},
   "source": [
    "Niestety widzimy, że wraz ze wzrostem liczby rezultatów dostarczanych przez FTS do rerankera, wartość metryki NDCG@5 dla badanego zbioru spada. Świadczy to jednoznacznie, że to model użyty w rerankingu nie jest wystarczający do użytego celu.\n",
    "\n",
    "W ramach eksperymentu sprawdzę jeszcze, czy przygotowanie danych treningowych i walidacyjnych w inny sposób pozwoli uzyskać lepsze wyniki. W tym celu w innym notatniku przygotowałem dane, które w dalszym ciągu bazują na wynikach pracy FTS dla danego zapytania z wyłączeniem odpowiedzi zaklasyfikowanych jako prawidłowe, z tym że tym razem dla elementów z klasy negatywnej nie ustawiałem trzech najlepszych trafień FTS, lecz losowe trzy z 50 zwróconych wyników. Na tak przygotowanych zbiorach wyuczyłem model ewaluowany metryką `f1-score`, a najlepszy model zapisałem do pliku i użyję go poniżej jako rerankera w wyznaczaniu NDCG@5."
   ]
  },
  {
   "cell_type": "code",
   "execution_count": null,
   "metadata": {},
   "outputs": [
    {
     "data": {
      "image/png": "[encoded data removed]",
      "text/plain": [
       "<Figure size 640x480 with 1 Axes>"
      ]
     },
     "metadata": {},
     "output_type": "display_data"
    },
    {
     "data": {
      "image/png": "[encoded data removed]",
      "text/plain": [
       "<Figure size 640x480 with 1 Axes>"
      ]
     },
     "metadata": {},
     "output_type": "display_data"
    },
    {
     "name": "stdout",
     "output_type": "stream",
     "text": [
      "NDCG@5 Mean: 0.2136085613648404 and Std: 0.3129766085063662\n",
      "NDCG@5 > 0 Mean: 0.5449541250567582 and Std: 0.26330813493663024\n"
     ]
    }
   ],
   "source": [
    "#model upon run: best_model_f1_rand\n",
    "\n",
    "fts_size = 10\n",
    "ndcgs_size = 5\n",
    "\n",
    "ndcgs_rerank_f1_rand = utils.calculate_ndcgs(test_queries_dict, test_query_to_corpus_dict, all_index_url, 'text', fts_size, ndcgs_size, rerank)\n",
    "present_results(ndcgs_rerank_f1_rand)"
   ]
  },
  {
   "cell_type": "code",
   "execution_count": null,
   "metadata": {},
   "outputs": [
    {
     "data": {
      "image/png": "[encoded data removed]",
      "text/plain": [
       "<Figure size 640x480 with 1 Axes>"
      ]
     },
     "metadata": {},
     "output_type": "display_data"
    },
    {
     "data": {
      "image/png": "[encoded data removed]",
      "text/plain": [
       "<Figure size 640x480 with 1 Axes>"
      ]
     },
     "metadata": {},
     "output_type": "display_data"
    },
    {
     "name": "stdout",
     "output_type": "stream",
     "text": [
      "NDCG@5 Mean: 0.20129882201793167 and Std: 0.30223479864742964\n",
      "NDCG@5 > 0 Mean: 0.5217665466704788 and Std: 0.26374071762919554\n"
     ]
    }
   ],
   "source": [
    "#model upon run: best_model_f1_rand\n",
    "\n",
    "fts_size = 25\n",
    "ndcgs_size = 5\n",
    "\n",
    "ndcgs_rerank_f1_rand = utils.calculate_ndcgs(test_queries_dict, test_query_to_corpus_dict, all_index_url, 'text', fts_size, ndcgs_size, rerank)\n",
    "present_results(ndcgs_rerank_f1_rand)"
   ]
  },
  {
   "cell_type": "markdown",
   "metadata": {},
   "source": [
    "Okazuje się, że większa losowość w przygotowanych danych poskutkowała lepszą jakością wyników w metryce NDCG@5. Skok jakościowy jest znaczący, ilość elementów z niezerowym NDCG@5 wzrosła z 34.4% do 39.2% dla podejść odpowiednio bez i z rerankerem. Wartości punktowe dla tych niezerowych wyników pozostały w przypadku obydwu podejść zbliżone, z delikatną przewagą podejścia z rerankerem.\n",
    "\n",
    "Niestety i w tym przypadku zwiększenie ilości wyników od FTS przyczynia się do zmniejszenia NDCG@5 po rerankingu, lecz zmiana ta jest minimalna minimalna i oscyluje ok 1%. Widać, że model cechuję się wciąż sporą niepewnością przy rerankingu elementów.\n",
    "\n",
    "Lepsze wyniki dla transformera trenowanego na bardziej losowych danych tłumaczę w następujący sposób: uważam że pojemność tego transformera jest zbyta mała na uchwycenie subtelnych różnic pomiędzy dokumentami z top rezultatów od FTS, które to są do siebie bardzo podobne syntaktycznie. Model nie jest w stanie wydzielić jasnej różnicy w klasach na podstawie danych treningowych, przez co przy pracy na danych testowych jego wyniki również są niezadawalające.  \n",
    "Model uczący się na danych o większej rozbieżności lepiej uczy się podziału na klasy i nawet jeśli nie radzi sobie z niuansami pomiędzy bardzo podobnymi dokumentami na poziomie syntatkcznym, nie wprowadza niepotrzebnej reorganizacji dokumentów na podstawie kiepsko wyuczonych zasad klasyfikacji.\n",
    "\n",
    "Rozwiązanie byłoby używanie modelu o większej ilości parametrów oraz większego zbioru danych wejściowych, lecz jest to zadanie niewykonalne w ramach prostego laboratorium."
   ]
  },
  {
   "cell_type": "code",
   "execution_count": 176,
   "metadata": {},
   "outputs": [
    {
     "data": {
      "text/plain": [
       "<module 'lab5_utils' from '/Users/mwardynski/Documents/ds/_semestr_9/przetwarzanie_jezyka_naturalnego/labs/lab5/lab5_utils.py'>"
      ]
     },
     "execution_count": 176,
     "metadata": {},
     "output_type": "execute_result"
    }
   ],
   "source": [
    "import importlib\n",
    "import lab5_utils\n",
    "importlib.reload(lab5_utils)"
   ]
  },
  {
   "cell_type": "markdown",
   "metadata": {},
   "source": [
    "### Pytania do ćwiczenia:\n",
    "\n",
    "1. Czy prostsze modele, np. bajesowski bag-of-words nadaje się do klasyfikacji par zdań.\n",
    "\n",
    "Odpowiadając na to pytanie, ciśnie mi się na usta słowo \"nie\", ale jak wszystko, nie jest to tak jednostronne.\n",
    "\n",
    "Jeśliby wziąć pod uwagę język naturalny, w jego pełnej krasie, to faktycznie bajesowskie bag-of-words będzie sobie radziło dość słabo. W przeciwieństwie do modeli językowych typu transformer nie rozumie kontekstu, co wiąże się również z problemem zrozumienia negacji. Poza tym, duże zbiory danych byłyby dla prostego modelu bajesowskiego zbyt wymagające do przetworzenie, albo wręcz niemożliwe do przetworzenia. Proste zliczanie występowania pojedyńczych słów zbliża nas w tym wypadku do jakości oferowanej przez FTS (które co prawda nie jest przeznaczone do klasyfikacji, lecz przy pewnej dozie pomysłowości mogłoby być użyte w tym celu).\n",
    "\n",
    "Model oparty o bajesowki bag-of-words nadawałby się do klasyfikacji stosunkowo małych zbiorów par zdań, których to skomplikowanie byłoby dość małe, a podobieństwo między zdaniami mierzone w zliczonych wyrazach, znaczące. W zamian za tak spore ograniczenia co do właściwości użytego zbioru danych, bajesowki model bow może się nam odpłacić małymi wymaganiami sprzętowymi potrzebnymi do jego wytrenowania oraz użycia.\n",
    "\n",
    "2. Jakie hiperparametry użyłeś podczas treningu i na jakiej podstawie.\n",
    "\n",
    "Głównym źródłem ustawionych parametrów przy uczeniu był dla mnie podlinkowany notatnik z przykładem: https://github.com/apohllo/sztuczna-inteligencja/tree/master/lab5\n",
    "Przejąłem z niego początkowo wszystkie parametry, ale większą część z nich zaadoptowałem do swoich potrzeb. Z początkowego zestawu hiperparametrów nie zakwestionowałem jedynie stałej uczącej, która to wydała mi się odpowiednia dla zadania, a brak mi zasobów, żeby empirycznie odkryć lepszą wartość.\n",
    "\n",
    "Wartości dla parametry takich jak: strategia ewaluacji, ilość kroków pomiędzy ewaluacjami, liczba epok i interwały pomiędzy zapisywanymi modelami podyktowane były ograniczeniami sprzętowymi, które to niejako wymagały zakończenia treningu po jednej ukończonej epoce.\n",
    "\n",
    "Za to sprawdziłem kilka możliwych metryk użytych do ewaluacji modelu podczas treningu, co faktycznie przełożyło się w znaczny sposób na jakość prezentowanych wyników. Wyjaśniałem już motyw dla takiego, a nie innego doboru metryk na początku ćwiczenia, więc nie powtarzam tej dyskusji tutaj.\n",
    "\n",
    "Dużo wysiłku ulokowałem również we właściwe przygotowanie danych oraz wypróbowałem najlepszy model dla danych w podejściu bazowym (które nadal wydaje mi się najbardziej adekwatne do problemu) z danymi przygotowanymi w bardziej losowy sposób i uzyskałem zaskakujące wyniki.\n",
    "\n",
    "3. Wymień zalety i wady przetwarzania języka naturalnego przy użyciu modeli opartych na sieciach neuronowych\n",
    "\n",
    "Wiele wad i zalet padało już podczas opisywania wyników we wcześniejszych sekcjach, więc tu postaram się je tylko krótko zebrać w postaci punktów. Skupię się na modelu sieci neuronowej, który używamy w tym laboratorium, czyli transformer.\n",
    "\n",
    "Zalety:\n",
    "- rozumują lepiej semantykę, w tym kontekst oraz negację, \n",
    "- przy odpowiednio dużym zbiorze danych, lepiej ekstrahuje zawarte w nim cechy\n",
    "- szeroka baza pretrenowanych modeli do dalszego finetuningu.\n",
    "\n",
    "Wady:\n",
    "- potrzebują sporo czasu na trening\n",
    "- są wymagające sprzętowo\n",
    "- wymagają dużych wolumenów danych wejściowych (FTS działa równie dobrze na 10, 10K oraz 10M dokumentów)"
   ]
  }
 ],
 "metadata": {
  "kernelspec": {
   "display_name": ".venv",
   "language": "python",
   "name": "python3"
  },
  "language_info": {
   "codemirror_mode": {
    "name": "ipython",
    "version": 3
   },
   "file_extension": ".py",
   "mimetype": "text/x-python",
   "name": "python",
   "nbconvert_exporter": "python",
   "pygments_lexer": "ipython3",
   "version": "3.12.7"
  }
 },
 "nbformat": 4,
 "nbformat_minor": 2
}
