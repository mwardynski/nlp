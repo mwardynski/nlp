{
 "cells": [
  {
   "cell_type": "markdown",
   "metadata": {},
   "source": [
    "Marcin Wardyński  \n",
    "czwartek, 8:00"
   ]
  },
  {
   "cell_type": "markdown",
   "metadata": {},
   "source": [
    "### Przygotowanie danych oraz funkcji pomocniczych\n",
    "\n",
    "Zaczynamy od załadowania tysiąca losowych pasaży ze zbioru FIQA-PL:"
   ]
  },
  {
   "cell_type": "code",
   "execution_count": 1,
   "metadata": {},
   "outputs": [
    {
     "name": "stderr",
     "output_type": "stream",
     "text": [
      "/Users/mwardynski/Documents/ds/_semestr_9/przetwarzanie_jezyka_naturalnego/labs/.venv/lib/python3.12/site-packages/tqdm/auto.py:21: TqdmWarning: IProgress not found. Please update jupyter and ipywidgets. See https://ipywidgets.readthedocs.io/en/stable/user_install.html\n",
      "  from .autonotebook import tqdm as notebook_tqdm\n"
     ]
    }
   ],
   "source": [
    "from datasets import load_dataset\n",
    "seed = 7\n",
    "passage_number = 1000\n",
    "\n",
    "corpus = load_dataset(\"clarin-knext/fiqa-pl\", name=\"corpus\")\n",
    "passages = corpus['corpus'].shuffle(seed=seed).select(range(passage_number))['text']"
   ]
  },
  {
   "cell_type": "markdown",
   "metadata": {},
   "source": [
    "Poniższy kod zawiera zapytania do LLM `Mistral` o siedmiu miliardach parametrów, który został uruchomiony w ramach środowiska `Ollama`. Ponieważ zapytania do LLM trwają kilka sekund, odpowiedzi na prompty zostały dodatkowo zachowane w cache-u na dysku, co w znacznym stopniu przyśpiesza późniejsze polecenia.\n",
    "\n",
    "(Utworzyłem też funkcję korzystającą z cache w pamięci, lecz z niej nie korzystam, gdyż cache na dysku w zupełności wystarcza)."
   ]
  },
  {
   "cell_type": "code",
   "execution_count": 160,
   "metadata": {},
   "outputs": [],
   "source": [
    "import requests\n",
    "import hashlib\n",
    "from diskcache import Cache\n",
    "from functools import lru_cache\n",
    "\n",
    "OLLAMA_SERVER_URL = \"http://localhost:11434\"\n",
    "cache = Cache(\"ollama_cache\")\n",
    "model_mistral = \"mistral\"\n",
    "\n",
    "@lru_cache(maxsize=1100)\n",
    "def ask_ollama_with_memory_cache(model, prompt):\n",
    "    return ask_ollama_with_disk_cache(model, prompt)\n",
    "\n",
    "def ask_ollama_with_disk_cache(model, prompt):\n",
    "    \n",
    "    cache_key = hashlib.sha256((model+prompt).encode()).hexdigest()\n",
    "    \n",
    "    if cache_key in cache:\n",
    "        answer = cache[cache_key]\n",
    "        return (1, answer)\n",
    "    else:\n",
    "        answer = ask_ollama_server(model, prompt)\n",
    "        cache[cache_key] = answer\n",
    "        return (0, answer)\n",
    "\n",
    "\n",
    "def ask_ollama_server(model, prompt):\n",
    "    url = f\"{OLLAMA_SERVER_URL}/api/generate\"\n",
    "    \n",
    "    payload = {\n",
    "        \"model\": model,\n",
    "        \"prompt\": prompt,\n",
    "        \"stream\": False,\n",
    "        \"options\": {\"num_ctx\": 8192}\n",
    "    }\n",
    "\n",
    "    try:\n",
    "        response = requests.post(url, json=payload)\n",
    "        response.raise_for_status()\n",
    "        data = response.json()\n",
    "        return data[\"response\"]\n",
    "\n",
    "    except requests.exceptions.RequestException as e:\n",
    "        print(f\"An error occurred: {e}\")\n",
    "        return None\n"
   ]
  },
  {
   "cell_type": "code",
   "execution_count": 46,
   "metadata": {},
   "outputs": [
    {
     "name": "stderr",
     "output_type": "stream",
     "text": [
      "Python(73480) MallocStackLogging: can't turn off malloc stack logging because it was not enabled.\n"
     ]
    },
    {
     "name": "stdout",
     "output_type": "stream",
     "text": [
      "Collecting pl-core-news-sm==3.8.0\n",
      "  Downloading https://github.com/explosion/spacy-models/releases/download/pl_core_news_sm-3.8.0/pl_core_news_sm-3.8.0-py3-none-any.whl (20.2 MB)\n",
      "\u001b[2K     \u001b[90m━━━━━━━━━━━━━━━━━━━━━━━━━━━━━━━━━━━━━━━━\u001b[0m \u001b[32m20.2/20.2 MB\u001b[0m \u001b[31m20.0 MB/s\u001b[0m eta \u001b[36m0:00:00\u001b[0m00:01\u001b[0m00:01\u001b[0m\n",
      "\u001b[?25hInstalling collected packages: pl-core-news-sm\n",
      "Successfully installed pl-core-news-sm-3.8.0\n",
      "\u001b[38;5;2m✔ Download and installation successful\u001b[0m\n",
      "You can now load the package via spacy.load('pl_core_news_sm')\n"
     ]
    }
   ],
   "source": [
    "!python -m spacy download pl_core_news_sm"
   ]
  },
  {
   "cell_type": "markdown",
   "metadata": {},
   "source": [
    "Funkcja `find_named_entities_spacy()` przeprowadza operację NER używając pakietu `SpaCy`:"
   ]
  },
  {
   "cell_type": "code",
   "execution_count": 100,
   "metadata": {},
   "outputs": [],
   "source": [
    "import pl_core_news_sm\n",
    "\n",
    "nlp = pl_core_news_sm.load()\n",
    "\n",
    "def find_named_entities_spacy(passage):\n",
    "    results = {\"persName\": [],\n",
    "                \"orgName\": [],\n",
    "                \"placeName\": [],\n",
    "                \"geogName\": [],\n",
    "                \"date\": [],\n",
    "                \"time\": []}\n",
    "\n",
    "    doc = nlp(passage)\n",
    "    for ent in doc.ents:\n",
    "        results[ent.label_].append(str(ent))\n",
    "    \n",
    "    \n",
    "    return results"
   ]
  },
  {
   "cell_type": "markdown",
   "metadata": {},
   "source": [
    "### Prompt Engineering"
   ]
  },
  {
   "cell_type": "markdown",
   "metadata": {},
   "source": [
    "Poniższe elememty składowe prompta są wynikiem kilku iteracji dopracowywania jego treści. Jego ważnymi elementami w wydaniu dla zapytani `zero-shot` są:\n",
    "- jasne polecenie zadania podstawowego\n",
    "- wykaz klas do uwzględnienia przy klasyfikacji\n",
    "- nazwanie formatu wyjściowego, JSON\n",
    "- sposób potraktowania przypadków szczególnych, np: pusta lista dla klasy bez elemntów\n",
    "- powtórzenie ogólnych wymagań dotyczących formatu wyjściowego\n",
    "- dokładna specyfikacja formatu wyjściowego\n",
    "- jasna specyfikacja sekcji polecenia, formatu wyjściowego, paragrafu do przetworzenia oraz oczekiwanego wyniku"
   ]
  },
  {
   "cell_type": "code",
   "execution_count": 254,
   "metadata": {},
   "outputs": [],
   "source": [
    "prompt_intro = \"Przeanalizuj podany tekst i wypisz nazwy własne, w odmianie w jakiej występują w tekście, podzielone na kategorie: osoby, organizacje, nazwy administracyjne miejsc, nazwy geograficzne, daty, czas. Twoja odpowiedź powinna składać się wyłącznie z obiektu JSON o formacie zdefiniowanym poniżej. Jeśli pewna kategoria nie ma odnalezionych reprezentantów, zwróć dla niej pustą listę. Upewnij się, że wynik jest czysty i zawiera wyłącznie obiekt JSON, bez żadnych komentarzy!\\n\"\n",
    "prompt_json_format = \"Format JSON:\\n{\\\"persName\\\": [\\\"lista osób\\\"],  \\\"orgName\\\": [\\\"lista organizacji\\\"], \\\"placeName\\\": [\\\"lista nazw administracyjnych miejsc\\\"], \\\"geogName\\\": [\\\"lista nazw geograficznych\\\"], \\\"date\\\": [\\\"lista dat\\\"], \\\"time\\\": [\\\"lista określeń czasu\\\"]}\\n\"\n",
    "prompt_output = \"Wynik:\""
   ]
  },
  {
   "cell_type": "code",
   "execution_count": 282,
   "metadata": {},
   "outputs": [
    {
     "name": "stdout",
     "output_type": "stream",
     "text": [
      "0 1 2 3 4 5 6 7 8 9 10 11 12 13 14 15 16 17 18 19 20 21 22 23 24\n",
      "25 26 27 28 29 30 31 32 33 34 35 36 37 38 39 40 41 42 43 44 45 46 47 48 49\n",
      "50 51 52 53 54 55 56 57 58 59 60 61 62 63 64 65 66 67 68 69 70 71 72 73 74\n",
      "75 76 77 78 79 80 81 82 83 84 85 86 87 88 89 90 91 92 93 94 95 96 97 98 99\n",
      "100 101 102 103 104 105 106 107 108 109 110 111 112 113 114 115 116 117 118 119 120 121 122 123 124\n",
      "125 126 127 128 129 130 131 132 133 134 135 136 137 138 139 140 141 142 143 144 145 146 147 148 149\n",
      "150 151 152 153 154 155 156 157 158 159 160 161 162 163 164 165 166 167 168 169 170 171 172 173 174\n",
      "175 176 177 178 179 180 181 182 183 184 185 186 187 188 189 190 191 192 193 194 195 196 197 198 199\n",
      "200 201 202 203 204 205 206 207 208 209 210 211 212 213 214 215 216 217 218 219 220 221 222 223 224\n",
      "225 226 227 228 229 230 231 232 233 234 235 236 237 238 239 240 241 242 243 244 245 246 247 248 249\n",
      "250 251 252 253 254 255 256 257 258 259 260 261 262 263 264 265 266 267 268 269 270 271 272 273 274\n",
      "275 276 277 278 279 280 281 282 283 284 285 286 287 288 289 290 291 292 293 294 295 296 297 298 299\n",
      "300 301 302 303 304 305 306 307 308 309 310 311 312 313 314 315 316 317 318 319 320 321 322 323 324\n",
      "325 326 327 328 329 330 331 332 333 334 335 336 337 338 339 340 341 342 343 344 345 346 347 348 349\n",
      "350 351 352 353 354 355 356 357 358 359 360 361 362 363 364 365 366 367 368 369 370 371 372 373 374\n",
      "375 376 377 378 379 380 381 382 383 384 385 386 387 388 389 390 391 392 393 394 395 396 397 398 399\n",
      "400 401 402 403 404 405 406 407 408 409 410 411 412 413 414 415 416 417 418 419 420 421 422 423 424\n",
      "425 426 427 428 429 430 431 432 433 434 435 436 437 438 439 440 441 442 443 444 445 446 447 448 449\n",
      "450 451 452 453 454 455 456 457 458 459 460 461 462 463 464 465 466 467 468 469 470 471 472 473 474\n",
      "475 476 477 478 479 480 481 482 483 484 485 486 487 488 489 490 491 492 493 494 495 496 497 498 499\n",
      "500 501 502 503 504 505 506 507 508 509 510 511 512 513 514 515 516 517 518 519 520 521 522 523 524\n",
      "525 526 527 528 529 530 531 532 533 534 535 536 537 538 539 540 541 542 543 544 545 546 547 548 549\n",
      "550 551 552 553 554 555 556 557 558 559 560 561 562 563 564 565 566 567 568 569 570 571 572 573 574\n",
      "575 576 577 578 579 580 581 582 583 584 585 586 587 588 589 590 591 592 593 594 595 596 597 598 599\n",
      "600 601 602 603 604 605 606 607 608 609 610 611 612 613 614 615 616 617 618 619 620 621 622 623 624\n",
      "625 626 627 628 629 630 631 632 633 634 635 636 637 638 639 640 641 642 643 644 645 646 647 648 649\n",
      "650 651 652 653 654 655 656 657 658 659 660 661 662 663 664 665 666 667 668 669 670 671 672 673 674\n",
      "675 676 677 678 679 680 681 682 683 684 685 686 687 688 689 690 691 692 693 694 695 696 697 698 699\n",
      "700 701 702 703 704 705 706 707 708 709 710 711 712 713 714 715 716 717 718 719 720 721 722 723 724\n",
      "725 726 727 728 729 730 731 732 733 734 735 736 737 738 739 740 741 742 743 744 745 746 747 748 749\n",
      "750 751 752 753 754 755 756 757 758 759 760 761 762 763 764 765 766 767 768 769 770 771 772 773 774\n",
      "775 776 777 778 779 780 781 782 783 784 785 786 787 788 789 790 791 792 793 794 795 796 797 798 799\n",
      "800 801 802 803 804 805 806 807 808 809 810 811 812 813 814 815 816 817 818 819 820 821 822 823 824\n",
      "825 826 827 828 829 830 831 832 833 834 835 836 837 838 839 840 841 842 843 844 845 846 847 848 849\n",
      "850 851 852 853 854 855 856 857 858 859 860 861 862 863 864 865 866 867 868 869 870 871 872 873 874\n",
      "875 876 877 878 879 880 881 882 883 884 885 886 887 888 889 890 891 892 893 894 895 896 897 898 899\n",
      "900 901 902 903 904 905 906 907 908 909 910 911 912 913 914 915 916 917 918 919 920 921 922 923 924\n",
      "925 926 927 928 929 930 931 932 933 934 935 936 937 938 939 940 941 942 943 944 945 946 947 948 949\n",
      "950 951 952 953 954 955 956 957 958 959 960 961 962 963 964 965 966 967 968 969 970 971 972 973 974\n",
      "975 976 977 978 979 980 981 982 983 984 985 986 987 988 989 990 991 992 993 994 995 996 997 998 999\n",
      "Elapsed time: 0.030833005905151367s\n"
     ]
    }
   ],
   "source": [
    "import json\n",
    "import time\n",
    "\n",
    "def perform_zero_shot_prompt(passage):\n",
    "    prompt_input = f\"Tekst wejściowy:\\n\\\"{passage}\\\"\\n\"\n",
    "    prompt = prompt_intro + prompt_json_format + prompt_input + prompt_output\n",
    "        \n",
    "    result = ask_ollama_with_disk_cache(model_mistral, prompt)[1].replace('\\n', '')\n",
    "    try:\n",
    "        return json.loads(result)\n",
    "    except json.JSONDecodeError as e:\n",
    "        pass\n",
    "    \n",
    "    \n",
    "start_time = time.time()\n",
    "\n",
    "for i, passage in enumerate(passages):\n",
    "    print(i, end=\"\\n\" if (i+1) % 25 == 0 else \" \")\n",
    "    perform_zero_shot_prompt(passage)\n",
    "\n",
    "elapsed_time = time.time() - start_time\n",
    "print(f\"Elapsed time: {elapsed_time}s\")\n"
   ]
  },
  {
   "cell_type": "markdown",
   "metadata": {},
   "source": [
    "Dodatkowo z wyniku LLM wycinane są znaki nowej linii `\\n`, które przeszkadzają w parsowaniu formatu JSON.\n",
    "\n",
    "Pomimo jasnej specyfikacji oczekiwanego formatu, dla pasażów 280 oraz 753 LLM zwraca wynik w złym formacie:\n",
    "- `' {\"persName\": [\"Client\"], \"orgName\": [\"facet\", \"lowball\", \"luxury price company\"]}   {\"placeName\": [], \"geogName\": []}   {\"date\": [], \"time\": []}`\n",
    "- `' {      \"persName\": [\"sam\"],      \"orgName\": [],      \"placeName\": [],      \"geogName\": [],      \"date\": [],      \"time\": [\"kilka godzin\", \"rok\", \"oteł\"] // OTEL jest czasem polskim oznaczającym okres (w tym przypadku rok)   }'`\n",
    "\n",
    "W pierwszym przypadku obiekt JSON został zamknięty już za nazwami organizacji, po czym ponownie otwarty. Natomiast dla drugiego pasażu LLM pomimo jasnych wskazówek dodał komentarz, który uniemożliwił parsing.\n",
    "\n",
    "Obydwa przypadki zostały odrzucone i biorą udziału w dalszym teście."
   ]
  },
  {
   "cell_type": "markdown",
   "metadata": {},
   "source": [
    "Przy zapytaniu `few-shot` zapytanie `zero-shot` jest uzupełniane o kolejną jasno zdefiniowaną sekcję: sekcję przykładów. Poza nią została dodana kolejna wskazówka dla modelu, który zaczął w kilku odpowiedziach pomijać `:` dla klasy `time`."
   ]
  },
  {
   "cell_type": "code",
   "execution_count": 284,
   "metadata": {},
   "outputs": [],
   "source": [
    "example1_text = \"Czy możesz mi pokazać gdzie? Ponieważ z pewnością, kiedy Obama nałożył podatek na finansowanie ACA, gospodarka rozkwitła, zatrudniono milion lekarzy, setki szpitali i tysiące spacerów w klinikach, które zbudowaliśmy. A giełda rozwijała się bardziej.\"\n",
    "example1_answer = \"{\\\"persName\\\": [\\\"Obama\\\"],  \\\"orgName\\\": [\\\"ACA\\\"], \\\"placeName\\\": [], \\\"geogName\\\": [], \\\"date\\\": [], \\\"time\\\": []}\"\n",
    "\n",
    "example2_text = \"„Postęp komputerowy w coraz większym stopniu pozwala producentom dostosowywać zamówienia i szybciej wysyłać towary. W nowym świecie wytwarzanie produktów w odległych krajach o niskich płacach, takich jak Chiny, może być wadą: wysyłanie gotowych produktów do Stanów Zjednoczonych może trwać zbyt długo – tygodnie, miesiące. „Chodzi o bliskość z klientem” – powiedział Michael Mandel, główny strateg ekonomiczny w Progressive Policy Institute. „„Zdobędziesz trwałą i trwałą przewagę nad konkurencją zagraniczną”. który okupował Biały Dom. Mimo to prezydent Donald Trump skorzystał z okazji, by w środę wziąć udział w ogłoszeniu przez Foxconna, mówiąc, że „zdecydowanie” wydarzyło się z powodu jego wyboru i dążenia do cięć podatkowych i regulacyjnych. [źródło] ://hosted.ap.org/dynamic/stories/U/US_BC_US_AMAZON_AND_FOXCONN_SPEED_TO_CUSTOMERS?SITE=AP&SECTION=HOME&TEMPLATE=DEFAULT&CTIME=2017-07-27-03-16-36)\\\"\"\n",
    "example2_answer = \"{\\\"persName\\\": [\\\"Michael Mandel\\\", \\\"Donald Trump\\\"],  \\\"orgName\\\": [\\\"Progressive Policy Institute\\\", \\\"Biały Dom\\\", \\\"Foxconna\\\"], \\\"placeName\\\": [\\\"Chiny\\\", \\\"Stanów Zjednoczonych\\\"], \\\"geogName\\\": [], \\\"date\\\": [], \\\"time\\\": []}\"\n",
    "\n",
    "example3_text = \"„Płać za grę? Masz na myśli, że płacą za mocniejsze źródła danych, których inne firmy nie potrzebują, na pewno tak. Ale każdy może teraz handlować na giełdach amerykańskich (NYSE, NASDAQ, BATS itp.), co nie było prawdą 20 lat temu kiedy NYSE miała specjalistyczny monopol, więc tak, rynki są bardziej demokratyczne niż kiedykolwiek. Uwaga na marginesie, giełdy czerpią bezpośrednie zyski ze zwiększonego wolumenu obrotu, ponieważ przyjmują niewielki procent każdej transakcji, więc nie jestem pewien, co to znaczy, że nie czerpią z tego bezpośrednich korzyści. Mam też wrażenie, że nie rozumiesz zakresu działalności HFT, szczytowe zyski HFT były rzędu 7 miliardów w czasie największego wolumenu w ostatniej dekadzie (2005-2010 ). Są teraz około 1B. W porównaniu z bilionami dolarów, które zmieniają właściciela w ciągu roku, jest to kiepska wymiana, trudno nazwać „kran z darmowymi pieniędzmi”. Również Katsayuma otworzyła kolejną ciemną pulę, która obsługuje duże wolumeny klientów (twoich goldmans i merrils) Jedyną różnicą w IEX jest to, że ma darmową kampanię marketingową ign, aby przyciągnąć klientów. Poważnie, IEX jest niczym innym jak istniejącymi stałymi, krzyżowymi ciemnymi basenami, które przy okazji wkurzają inwestorów detalicznych bardziej niż oświetlone giełdy, takie jak NASDAQ. Katsayuma został zmiażdżony w swoich egzekucjach, ponieważ nie mógł nadążyć z czasem, a potem trafił w dziesiątkę, namawiając Michaela Lewisa, by namalował go jako „bohatera”, szczerze mówiąc, jestem zdziwiony, jakie szczęście miał ten koleś. Dealerzy brokerów BTW otrzymują preferencyjne traktowanie w IEX, co oznacza, że ​​mogą ciąć przed inwestorami detalicznymi. Dlaczego tak się na to zastanawiasz, czy wykonałeś kilka złych transakcji na eTrade i potrzebujesz kozła ofiarnego?”\"\n",
    "example3_answer = \"{\\\"persName\\\": [\\\"Katsayuma\\\", \\\"Katsayuma\\\", \\\"Michaela Lewisa\\\"],  \\\"orgName\\\": [\\\"NYSE\\\", \\\"NASDAQ\\\", \\\"BATS\\\", \\\"NYSE\\\", \\\"HFT\\\", \\\"goldmans\\\", \\\"merrils\\\", \\\"IEX\\\", \\\"ign\\\", \\\"IEX\\\", \\\"NASDAQ\\\", \\\"IEX\\\", \\\"eTrade\\\"], \\\"placeName\\\": [], \\\"geogName\\\": [], \\\"date\\\": [\\\"2005\\\", \\\"2010\\\"], \\\"time\\\": []}\"\n",
    "example2_full = f\"Przykład 3:\\n\\\"{example2_text}\\\"\\nOdpowiedź do przykładu 1:\\n\\\"{example2_answer}\\\"\\n\"\n",
    "\n",
    "example4_text = \"Nie zaczynaj od inwestowania w kilka pojedynczych firm. To ryzykowne. Chcesz przykładu? Myślę o dużej firmie, powiedzmy około 120 miliardów dolarów, znanej firmie i dobrych stałych dywidendach. Radzili sobie całkiem nieźle i generalnie byli zajęci przekonywaniem ludzi, że patrzą w przyszłość z nowymi, przyjaznymi dla środowiska technologiami. Potem... poszli i wylali garść ropy do Zatoki Meksykańskiej. Tak, to nie był ładny obraz, gdyby BP było tego dnia jedną z pięciu spółek w twoim portfelu. Sprawy wyglądałyby jednak znacznie lepiej, gdyby byli jedną z 500 lub 5000 firm. Więc. Po pierwsze, dążyć do dywersyfikacji za pośrednictwem funduszy inwestycyjnych lub ETF. (Osobiście uważam, że prawdopodobnie powinieneś zacząć od funduszy wzajemnych: po pierwsze unikasz opłat transakcyjnych. Łatwiej jest również umieścić średnie kwoty w dolarach w funduszach niż w ETF-ach, nawet jeśli otrzymujesz wolny od opłat handel ETF-ami. może dać ci lepsze wskaźniki wydatków, ale im mniej pieniędzy zainwestowałeś, tym mniej ważne.) Gdy masz przyzwoity portfel – dziesiątki tysięcy dolarów lub więcej – możesz zacząć rozważać posiadanie akcji poszczególnych spółek. Zwróć uwagę na opłaty, w tym opłaty transakcyjne / prowizje. Jeśli kupisz akcje o wartości 2000 USD i zapłacisz 20 USD prowizji, stracisz już 1%. Jeśli trzymasz fundusz powierniczy lub ETF, spójrz na wskaźnik wydatków. Roczna realna stopa zwrotu na giełdzie wynosi około 4%. (Prawdziwy zwrot jest po uwzględnieniu inflacji.) Jeśli Twoja opłata wynosi 1%, to około jedna czwarta Twoich zarobków, co jest ogromne. I chociaż funduszowi powierniczemu łatwo jest od czasu do czasu przewyższyć rynek o 1%, to naprawdę ciężko jest robić to konsekwentnie. Kiedy już przyjrzysz się poszczególnym firmom, powinieneś przeprowadzić wiele nieznośnych, nudnych, głupich poszukiwań, a nie kupować tylko akcji na podstawie ich marki. Będziesz zainteresowany kilkoma danymi. Głównym z nich jest prawdopodobnie wskaźnik P/E (cena/zysk). Jeśli weźmiesz odwrotność tego, uzyskasz wskaźnik, w jakim Twoja inwestycja przyniesie Ci pieniądze (np. P/E 20 to 5%, P/E 10 to 10%). Jeśli wszystko inne jest równe, niższy wskaźnik P/E jest dobrą rzeczą: oznacza to, że kupujesz dochód firmy naprawdę tanio. Jednak wszystko inne rzadko jest równe: jeśli akcje są naprawdę tanie, zwykle dzieje się tak dlatego, że inwestorzy nie myślą, że mają przed sobą długą przyszłość. Zarobki nie zawsze są spójne. Istnieje wiele innych miar, takich jak beta (korelacja z ogólnym rynkiem: bardziej ryzykowne akcje niestabilne mają wyższe wartości), marże brutto, cena do nielewarowanych wolnych przepływów pieniężnych i tym podobne. Ponownie wykonaj nudne badania, w przeciwnym razie po prostu grasz w gry ze swoimi pieniędzmi.\"\n",
    "example4_answer = \"{\\\"persName\\\": [],  \\\"orgName\\\": [\\\"BP\\\"], \\\"placeName\\\": [], \\\"geogName\\\": [\\\"Zatoki Meksykańskiej\\\"], \\\"date\\\": [], \\\"time\\\": []}\"\n",
    "\n",
    "example5_text = \"„To najlepszy tl;dr, jaki mogłem zrobić, [oryginał](https://www.bloomberg.com/news/articles/2017-08-22/hong-kong-braces-for-storm-hato-stock- handel może zostać zakłócony) zmniejszony o 73% (jestem botem) ***** > Hongkong podniósł poziom ostrzeżenia przed burzą do najwyższego poziomu po raz pierwszy od pięciu lat i odwołał poranną sesję handlową jako Poważna Tajfun Hato zbliżył się do centrum finansowego.> Jeśli sygnał będzie obowiązywał do południa, handel na czwartym co do wielkości rynku akcji na świecie zostanie dziś zlikwidowany, zgodnie z zasadami Hong Kong Exchanges & Clearing Ltd. > O godzinie 9 rano ciężki tajfun Hato znajdował się około 80 kilometrów na południe od Hongkongu, podało Obserwatorium.***** [**Rozszerzone podsumowanie**](http://np.reddit.com/r/autotldr/ komentarze/6vgq2t/hong_kong_delays_morning_trading_as_typhoon_hato/) | [FAQ](http://np.reddit.com/r/autotldr/comments/31b9fm/faq_autotldr_bot/ \\\"\\\"Wersja 1.65, ~196625 tl\\\");[do tej pory drs.\\\" Opinia](http://np.reddit.com/message/compose?to=%23autotldr \\\"\\\"PM i komentarze są monitorowane, mile widziane są konstruktywne opinie.\\\"\\\") | *Najlepsze* *Słowa kluczowe*: **Hong**^#1 **Kong**^#2 **Zamknij**^#3 **Tajfun**^#4 **Handel**^#5\\\"\"\n",
    "example5_answer = \"{\\\"persName\\\": [],  \\\"orgName\\\": [\\\"Hong Kong Exchanges & Clearing Ltd.\\\"], \\\"placeName\\\": [\\\"Hongkong\\\", \\\"Hongkongu\\\"], \\\"geogName\\\": [], \\\"date\\\": [], \\\"time\\\": [\\\"9 rano\\\"]}\"\n",
    "\n",
    "examples_text = [example1_text, example2_text, example3_text, example4_text, example5_text]\n",
    "examples_answer = [example1_answer, example2_answer, example3_answer, example4_answer, example5_answer]\n",
    "\n",
    "additional_hint = \"Nie zapominaj o znaku \\\":\\\" pomiędzy \\\"time\\\" i \\\"[\\\"\\n\"\n",
    "\n",
    "examples_snippet = []\n",
    "for i in range(len(examples_text)):\n",
    "    examples_snippet.append(f\"Przykład {i+1}:\\n{examples_text[i]}\\nOdpowiedź do przykładu {i+1}:\\n{examples_answer[i]}\\n\")"
   ]
  },
  {
   "cell_type": "markdown",
   "metadata": {},
   "source": [
    "Ponieważ prompt z przykładami potrafi dojść do prawie 7 000 tokenów, limit `Ollama` musiał zostać podniesiony z 2048 tokenów do 8192 tokenów, co jest maksymalnym rozmiarem kontekstu dla użytego LLM: Mistral"
   ]
  },
  {
   "cell_type": "code",
   "execution_count": 292,
   "metadata": {},
   "outputs": [
    {
     "name": "stdout",
     "output_type": "stream",
     "text": [
      "0 1 2 3 4 5 6 7 8 9 10 11 12 13 14 15 16 17 18 19 20 21 22 23 24\n",
      "25 26 27 28 29 30 31 32 33 34 35 36 37 38 39 40 41 42 43 44 45 46 47 48 49\n",
      "50 51 52 53 54 55 56 57 58 59 60 61 62 63 64 65 66 67 68 69 70 71 72 73 74\n",
      "75 76 77 78 79 80 81 82 83 84 85 86 87 88 89 90 91 92 93 94 95 96 97 98 99\n",
      "100 101 102 103 104 105 106 107 108 109 110 111 112 113 114 115 116 117 118 119 120 121 122 123 124\n",
      "125 126 127 128 129 130 131 132 133 134 135 136 137 138 139 140 141 142 143 144 145 146 147 148 149\n",
      "150 151 152 153 154 155 156 157 158 159 160 161 162 163 164 165 166 167 168 169 170 171 172 173 174\n",
      "175 176 177 178 179 180 181 182 183 184 185 186 187 188 189 190 191 192 193 194 195 196 197 198 199\n",
      "200 201 202 203 204 205 206 207 208 209 210 211 212 213 214 215 216 217 218 219 220 221 222 223 224\n",
      "225 226 227 228 229 230 231 232 233 234 235 236 237 238 239 240 241 242 243 244 245 246 247 248 249\n",
      "250 251 252 253 254 255 256 257 258 259 260 261 262 263 264 265 266 267 268 269 270 271 272 273 274\n",
      "275 276 277 278 279 280 281 282 283 284 285 286 287 288 289 290 291 292 293 294 295 296 297 298 299\n",
      "300 301 302 303 304 305 306 307 308 309 310 311 312 313 314 315 316 317 318 319 320 321 322 323 324\n",
      "325 326 327 328 329 330 331 332 333 334 335 336 337 338 339 340 341 342 343 344 345 346 347 348 349\n",
      "350 351 352 353 354 355 356 357 358 359 360 361 362 363 364 365 366 367 368 369 370 371 372 373 374\n",
      "375 376 377 378 379 380 381 382 383 384 385 386 387 388 389 390 391 392 393 394 395 396 397 398 399\n",
      "400 401 402 403 404 405 406 407 408 409 410 411 412 413 414 415 416 417 418 419 420 421 422 423 424\n",
      "425 426 427 428 429 430 431 432 433 434 435 436 437 438 439 440 441 442 443 444 445 446 447 448 449\n",
      "450 451 452 453 454 455 456 457 458 459 460 461 462 463 464 465 466 467 468 469 470 471 472 473 474\n",
      "475 476 477 478 479 480 481 482 483 484 485 486 487 488 489 490 491 492 493 494 495 496 497 498 499\n",
      "500 501 502 503 504 505 506 507 508 509 510 511 512 513 514 515 516 517 518 519 520 521 522 523 524\n",
      "525 526 527 528 529 530 531 532 533 534 535 536 537 538 539 540 541 542 543 544 545 546 547 548 549\n",
      "550 551 552 553 554 555 556 557 558 559 560 561 562 563 564 565 566 567 568 569 570 571 572 573 574\n",
      "575 576 577 578 579 580 581 582 583 584 585 586 587 588 589 590 591 592 593 594 595 596 597 598 599\n",
      "600 601 602 603 604 605 606 607 608 609 610 611 612 613 614 615 616 617 618 619 620 621 622 623 624\n",
      "625 626 627 628 629 630 631 632 633 634 635 636 637 638 639 640 641 642 643 644 645 646 647 648 649\n",
      "650 651 652 653 654 655 656 657 658 659 660 661 662 663 664 665 666 667 668 669 670 671 672 673 674\n",
      "675 676 677 678 679 680 681 682 683 684 685 686 687 688 689 690 691 692 693 694 695 696 697 698 699\n",
      "700 701 702 703 704 705 706 707 708 709 710 711 712 713 714 715 716 717 718 719 720 721 722 723 724\n",
      "725 726 727 728 729 730 731 732 733 734 735 736 737 738 739 740 741 742 743 744 745 746 747 748 749\n",
      "750 751 752 753 754 755 756 757 758 759 760 761 762 763 764 765 766 767 768 769 770 771 772 773 774\n",
      "775 776 777 778 779 780 781 782 783 784 785 786 787 788 789 790 791 792 793 794 795 796 797 798 799\n",
      "800 801 802 803 804 805 806 807 808 809 810 811 812 813 814 815 816 817 818 819 820 821 822 823 824\n",
      "825 826 827 828 829 830 831 832 833 834 835 836 837 838 839 840 841 842 843 844 845 846 847 848 849\n",
      "850 851 852 853 854 855 856 857 858 859 860 861 862 863 864 865 866 867 868 869 870 871 872 873 874\n",
      "875 876 877 878 879 880 881 882 883 884 885 886 887 888 889 890 891 892 893 894 895 896 897 898 899\n",
      "900 901 902 903 904 905 906 907 908 909 910 911 912 913 914 915 916 917 918 919 920 921 922 923 924\n",
      "925 926 927 928 929 930 931 932 933 934 935 936 937 938 939 940 941 942 943 944 945 946 947 948 949\n",
      "950 951 952 953 954 955 956 957 958 959 960 961 962 963 964 965 966 967 968 969 970 971 972 973 974\n",
      "975 976 977 978 979 980 981 982 983 984 985 986 987 988 989 990 991 992 993 994 995 996 997 998 999\n",
      "\n",
      "Elapsed time: 0.04784893989562988s\n"
     ]
    }
   ],
   "source": [
    "def perform_few_shot_prompt(passage):\n",
    "    prompt_input = f\"Tekst wejściowy:\\n\\\"{passage}\\\"\\n\"\n",
    "    prompt = prompt_intro + prompt_json_format + \"\".join(examples_snippet) + additional_hint + prompt_input + prompt_output\n",
    "        \n",
    "    result = ask_ollama_with_disk_cache(model_mistral, prompt)[1].replace('\\n', '').replace('\"time[]\"', '\"time\": []')\n",
    "    try:\n",
    "        return json.loads(result)\n",
    "    except json.JSONDecodeError as e:\n",
    "        pass\n",
    "    \n",
    "start_time = time.time()\n",
    "\n",
    "for i, passage in enumerate(passages):\n",
    "    print(i, end=\"\\n\" if (i+1) % 25 == 0 else \" \")\n",
    "    perform_few_shot_prompt(passage)\n",
    "\n",
    "elapsed_time = time.time() - start_time\n",
    "print(f\"\\nElapsed time: {elapsed_time}s\")"
   ]
  },
  {
   "cell_type": "markdown",
   "metadata": {},
   "source": [
    "Częstym błędem w formacie odpowiedzi na prompt `few-shot` był zły zapis klasy `time` z pominięciem dwukropku. Błąd nie został wyeliminowany przez LLM po dodaniu dodatkowego polecenia z tym związanego, więc usuwam ten błąd już po stronie mojej funkcji kodem `result.replace('\"time[]\"', '\"time\": []')`"
   ]
  },
  {
   "cell_type": "markdown",
   "metadata": {},
   "source": [
    "### Obliczanie metryk"
   ]
  },
  {
   "cell_type": "markdown",
   "metadata": {},
   "source": [
    "Poniższy zestaw funkcji oblicza metryki `precision`, `recall` oraz `f1-score` dla operacji NER wykonanej dwoma metodami, z tym że wynik pierwszej z metod traktowany jest jako baseline.\n",
    "\n",
    "Metryki nie są uśrednianie dla wartości per pasaż, lecz zbierane kumulatywnie i obliczone dla całego zbioru wypróbowanych pasaży. Podjąłem decyzję o takim obliczaniu metryk, ponieważ nie interesują nas ich wartości dla poszczególnych dokumentów, lecz dla całego zbioru. Poza tym, rozkład nazw własnych wśród dokumentów nie jest zrównoważony, przez co uśrednianie wyników obliczonych per dokument tylko zaciemniłoby faktyczną jakość klasyfikacji nazw własnych.\n",
    "\n",
    "Ponieważ występuje wiele nieścisłości w przygotowanych danych oraz sposobie wyznaczania nazw własnych, przygotowałem dwa mechanizmy porównujące obecność jednej nazwy własnej w drugim zbiorze. Jedna bazuje na dokładnym dopasowaniu, podczas gdy druga zwraca wyniki również dla operacji zawierania sprawdzonej w obydwu kierunkach.\n",
    "\n",
    "Do porównywania wyników poszczególnych metod użyję tylko tej bardziej wymagającej metody, natomiast dodatkowe poluzowanie pokazuje nam ewentualne przyrost jakości wyników, gdyby dane były przygotowane w lepszy sposób, lub też model lepiej odnajdował nazwy własne. Oczywiście wyniki drugiej metody należy traktować jedynia jako pewne przybliżenie, a poniższe wyniki zawierają przykłady opisujące różne przypadki niedopasowania."
   ]
  },
  {
   "cell_type": "code",
   "execution_count": 318,
   "metadata": {},
   "outputs": [],
   "source": [
    "def get_corr_ent_strict(other_ent, base_ents):\n",
    "    return other_ent if other_ent in base_ents else None\n",
    "\n",
    "def get_corr_ent_not_strict(other_ent, base_ents):\n",
    "    for base_ent in base_ents:\n",
    "        if other_ent in base_ent or base_ent in other_ent:\n",
    "            return base_ent\n",
    "    return None\n",
    "\n",
    "def calculate_conf_matrix(baseline_entities, other_entities, strict):\n",
    "    base_ents_tmp = baseline_entities[:]\n",
    "    other_ents_tmp = other_entities[:]\n",
    "\n",
    "    tp_list = []\n",
    "\n",
    "    for other_ent in other_entities:\n",
    "        base_ent = get_corr_ent_strict(other_ent, base_ents_tmp) if strict else get_corr_ent_not_strict(other_ent, base_ents_tmp)\n",
    "        if base_ent:\n",
    "            base_ents_tmp.remove(base_ent)\n",
    "            other_ents_tmp.remove(other_ent)\n",
    "            tp_list.append(other_ent)\n",
    "\n",
    "    tp = len(tp_list)\n",
    "    fp = len(other_ents_tmp)\n",
    "    fn = len(base_ents_tmp)\n",
    "\n",
    "    return tp, fp, fn\n",
    "\n",
    "def calculate_precision_recall_f1_score(conf_matrix_by_class):\n",
    "    results = {}\n",
    "    for entity_class, conf_matrix in conf_matrix_by_class.items():\n",
    "        results[entity_class] = {}\n",
    "\n",
    "        if conf_matrix[\"TP\"]+conf_matrix[\"FP\"] != 0:\n",
    "            precision = conf_matrix[\"TP\"]/(conf_matrix[\"TP\"]+conf_matrix[\"FP\"])\n",
    "\n",
    "        else:\n",
    "            precision = 0\n",
    "        results[entity_class][\"precision\"] = precision\n",
    "\n",
    "\n",
    "        if conf_matrix[\"TP\"]+conf_matrix[\"FN\"] != 0:\n",
    "            recall = conf_matrix[\"TP\"]/(conf_matrix[\"TP\"]+conf_matrix[\"FN\"])\n",
    "        else:\n",
    "            recall = 0\n",
    "        results[entity_class][\"recall\"] = recall\n",
    "\n",
    "        if precision + recall != 0:\n",
    "            f1_score = 2 * (precision * recall) / (precision + recall)\n",
    "        else:\n",
    "            f1_score = 0\n",
    "        results[entity_class][\"f1_score\"] = f1_score\n",
    "    \n",
    "    return results\n",
    "\n",
    "def calculate_metrics(passages, baseline_fun, other_fun, strict=True):\n",
    "    conf_matrix_by_class = {\"persName\": {\"TP\": 0, \"FP\": 0, \"FN\": 0},\n",
    "                                \"orgName\": {\"TP\": 0, \"FP\": 0, \"FN\": 0},\n",
    "                                \"placeName\": {\"TP\": 0, \"FP\": 0, \"FN\": 0},\n",
    "                                \"geogName\": {\"TP\": 0, \"FP\": 0, \"FN\": 0},\n",
    "                                \"date\": {\"TP\": 0, \"FP\": 0, \"FN\": 0},\n",
    "                                \"time\": {\"TP\": 0, \"FP\": 0, \"FN\": 0},\n",
    "                                \"total\": {\"TP\": 0, \"FP\": 0, \"FN\": 0}}\n",
    "    \n",
    "    for passage in passages:\n",
    "        results_baseline = baseline_fun(passage)\n",
    "        results_other = other_fun(passage)\n",
    "\n",
    "        if results_other is None:\n",
    "            continue\n",
    "\n",
    "        for entity_class in results_baseline.keys():\n",
    "            if entity_class not in results_other.keys():\n",
    "                continue \n",
    "\n",
    "            baseline_entities = results_baseline[entity_class]            \n",
    "            other_entities = results_other[entity_class]\n",
    "\n",
    "            tp, fp, fn = calculate_conf_matrix(baseline_entities, other_entities, strict)\n",
    "\n",
    "            conf_matrix_by_class[entity_class][\"TP\"] += tp\n",
    "            conf_matrix_by_class[\"total\"][\"TP\"] += tp\n",
    "            conf_matrix_by_class[entity_class][\"FP\"] += fp\n",
    "            conf_matrix_by_class[\"total\"][\"FP\"] += fp\n",
    "            conf_matrix_by_class[entity_class][\"FN\"] += fn\n",
    "            conf_matrix_by_class[\"total\"][\"FN\"] += fn\n",
    "\n",
    "    return calculate_precision_recall_f1_score(conf_matrix_by_class)"
   ]
  },
  {
   "cell_type": "markdown",
   "metadata": {},
   "source": [
    "Poniżej rozpoczynam badanie jakości wyników dla wybranych pasaży z korpusu FIQA-PL.\n",
    "\n",
    "W poprzednim laboratorium mogliśmy zaobserwować, że klasyfikacja nazw własnych dostarczona przez NER od SpaCy nie jest idealna, a wręcz jest ona od ideału daleka, gdyż jest to mały model stosujący podejście naiwne. Stąd też nie należy od poniższych wynikach sporo oczekiwać.\n",
    "\n",
    "Może dziwić decyzja użycia wyniów ze SpaCy jako baseline-u do oceny LLM, więc poniższe wyniki traktuję tylko jako ciekawostkę, jak może wyglądać w pełni zautomatyzowany pomiar jakości operacji NER, bez udziału człowieka. Przy odpowiedzi na pytania do laboratorium skupię się głównie na dalszej sekcji, gdzie to człowiek ingeruje w ocenę jakości operacji NER."
   ]
  },
  {
   "cell_type": "code",
   "execution_count": 319,
   "metadata": {},
   "outputs": [
    {
     "data": {
      "text/plain": [
       "{'persName': {'precision': 0.15578947368421053,\n",
       "  'recall': 0.09585492227979274,\n",
       "  'f1_score': 0.11868484362469928},\n",
       " 'orgName': {'precision': 0.18989071038251365,\n",
       "  'recall': 0.15010799136069114,\n",
       "  'f1_score': 0.16767189384800965},\n",
       " 'placeName': {'precision': 0.22422680412371135,\n",
       "  'recall': 0.12305516265912306,\n",
       "  'f1_score': 0.1589041095890411},\n",
       " 'geogName': {'precision': 0.014925373134328358,\n",
       "  'recall': 0.016,\n",
       "  'f1_score': 0.015444015444015444},\n",
       " 'date': {'precision': 0.20754716981132076,\n",
       "  'recall': 0.1896551724137931,\n",
       "  'f1_score': 0.1981981981981982},\n",
       " 'time': {'precision': 0.0043859649122807015,\n",
       "  'recall': 0.3333333333333333,\n",
       "  'f1_score': 0.008658008658008658},\n",
       " 'total': {'precision': 0.15998155832180727,\n",
       "  'recall': 0.12549728752260397,\n",
       "  'f1_score': 0.1406566680178354}}"
      ]
     },
     "execution_count": 319,
     "metadata": {},
     "output_type": "execute_result"
    }
   ],
   "source": [
    "calculate_metrics(passages, find_named_entities_spacy, perform_zero_shot_prompt, True)"
   ]
  },
  {
   "cell_type": "markdown",
   "metadata": {},
   "source": [
    "|           | persName | orgName | placeName | geogName | date   | time   | **total**  |\n",
    "|-----------|----------|---------|-----------|----------|--------|--------|------------|\n",
    "| precision | 0.1557   | 0.1898  | 0.2242    | 0.0149   | 0.2075 | 0.0043 | **0.1599** |\n",
    "| recall    | 0.0958   | 0.1501  | 0.1230    | 0.0160   | 0.1896 | 0.3333 | **0.1254** |\n",
    "| f1_score  | 0.1186   | 0.1676  | 0.1589    | 0.0154   | 0.1981 | 0.0086 | **0.1406** |\n",
    "\n",
    "Powyższa tabela przedsawia wyniki metryk `precision`, `recall` oraz `f1-score` w ujęciu ogólnym oraz dla każdej kategorii z osobna dla wywołania `zero-shot`, używając SpaCy jako wyników referencyjnych.\n",
    "\n",
    "Wyniki prezentują się dość słabo, `precision` dla wszystkich wyników wynosi zaledwie 0.1599, natomiast `recall` jeszcze mniej: 0.1254, a więc i `f1-score` nie jest zbyt wysokie z wartością 0.1406. Wartości dla poszczególnych kategorii również nie zachwycają."
   ]
  },
  {
   "cell_type": "code",
   "execution_count": 320,
   "metadata": {},
   "outputs": [
    {
     "data": {
      "text/plain": [
       "{'persName': {'precision': 0.21739130434782608,\n",
       "  'recall': 0.09715025906735751,\n",
       "  'f1_score': 0.1342882721575649},\n",
       " 'orgName': {'precision': 0.22304832713754646,\n",
       "  'recall': 0.13043478260869565,\n",
       "  'f1_score': 0.1646090534979424},\n",
       " 'placeName': {'precision': 0.2485207100591716,\n",
       "  'recall': 0.0594059405940594,\n",
       "  'f1_score': 0.0958904109589041},\n",
       " 'geogName': {'precision': 0.08333333333333333,\n",
       "  'recall': 0.00819672131147541,\n",
       "  'f1_score': 0.01492537313432836},\n",
       " 'date': {'precision': 0.32786885245901637,\n",
       "  'recall': 0.08695652173913043,\n",
       "  'f1_score': 0.13745704467353953},\n",
       " 'time': {'precision': 0.0, 'recall': 0.0, 'f1_score': 0},\n",
       " 'total': {'precision': 0.22811671087533156,\n",
       "  'recall': 0.09368191721132897,\n",
       "  'f1_score': 0.1328185328185328}}"
      ]
     },
     "execution_count": 320,
     "metadata": {},
     "output_type": "execute_result"
    }
   ],
   "source": [
    "calculate_metrics(passages, find_named_entities_spacy, perform_few_shot_prompt, True)"
   ]
  },
  {
   "cell_type": "markdown",
   "metadata": {},
   "source": [
    "|           | persName | orgName | placeName | geogName | date   | time | **total**  |\n",
    "|-----------|----------|---------|-----------|----------|--------|------|------------|\n",
    "| precision | 0.2173   | 0.2230  | 0.2485    | 0.0833   | 0.3278 | 0.0  | **0.2281** |\n",
    "| recall    | 0.0971   | 0.1304  | 0.0594    | 0.0081   | 0.0869 | 0.0  | **0.0936** |\n",
    "| f1_score  | 0.1342   | 0.1646  | 0.0958    | 0.0149   | 0.1374 | 0.0  | **0.1328** |\n",
    "\n",
    "Użycie zapytania `few-shot` poprawia ogólne `precision` o kilka punktów procentowych, ale osłabia o podobną wartość `recall`, przez co `f1-score` wychodzi odrobinę mniejsze.\n",
    "\n",
    "Generalnie mniejszy `f1-score` dla metody `few-shot` może zaskakiwać, lecz przytoczone poniżej przykłady pokazują potencjalne źródło problemów.\n",
    "\n",
    "Sprawdzę poniżej, czy poluzowanie kryteriów dopasowania przyniesie poprawę."
   ]
  },
  {
   "cell_type": "code",
   "execution_count": 321,
   "metadata": {},
   "outputs": [
    {
     "data": {
      "text/plain": [
       "{'persName': {'precision': 0.2063157894736842,\n",
       "  'recall': 0.12694300518134716,\n",
       "  'f1_score': 0.15717722534081793},\n",
       " 'orgName': {'precision': 0.24726775956284153,\n",
       "  'recall': 0.19546436285097193,\n",
       "  'f1_score': 0.21833534378769603},\n",
       " 'placeName': {'precision': 0.28865979381443296,\n",
       "  'recall': 0.15841584158415842,\n",
       "  'f1_score': 0.20456621004566208},\n",
       " 'geogName': {'precision': 0.03731343283582089,\n",
       "  'recall': 0.04,\n",
       "  'f1_score': 0.0386100386100386},\n",
       " 'date': {'precision': 0.4339622641509434,\n",
       "  'recall': 0.39655172413793105,\n",
       "  'f1_score': 0.41441441441441446},\n",
       " 'time': {'precision': 0.013157894736842105,\n",
       "  'recall': 1.0,\n",
       "  'f1_score': 0.025974025974025976},\n",
       " 'total': {'precision': 0.22637159981558322,\n",
       "  'recall': 0.1775768535262206,\n",
       "  'f1_score': 0.19902715849209565}}"
      ]
     },
     "execution_count": 321,
     "metadata": {},
     "output_type": "execute_result"
    }
   ],
   "source": [
    "calculate_metrics(passages, find_named_entities_spacy, perform_zero_shot_prompt, False)"
   ]
  },
  {
   "cell_type": "code",
   "execution_count": 322,
   "metadata": {},
   "outputs": [
    {
     "data": {
      "text/plain": [
       "{'persName': {'precision': 0.2753623188405797,\n",
       "  'recall': 0.12305699481865284,\n",
       "  'f1_score': 0.17009847806624886},\n",
       " 'orgName': {'precision': 0.29182156133828996,\n",
       "  'recall': 0.17065217391304346,\n",
       "  'f1_score': 0.21536351165980797},\n",
       " 'placeName': {'precision': 0.3254437869822485,\n",
       "  'recall': 0.07779349363507779,\n",
       "  'f1_score': 0.12557077625570773},\n",
       " 'geogName': {'precision': 0.08333333333333333,\n",
       "  'recall': 0.00819672131147541,\n",
       "  'f1_score': 0.01492537313432836},\n",
       " 'date': {'precision': 0.7213114754098361,\n",
       "  'recall': 0.19130434782608696,\n",
       "  'f1_score': 0.302405498281787},\n",
       " 'time': {'precision': 0.0, 'recall': 0.0, 'f1_score': 0},\n",
       " 'total': {'precision': 0.3112290008841733,\n",
       "  'recall': 0.12781408859840232,\n",
       "  'f1_score': 0.1812097812097812}}"
      ]
     },
     "execution_count": 322,
     "metadata": {},
     "output_type": "execute_result"
    }
   ],
   "source": [
    "calculate_metrics(passages, find_named_entities_spacy, perform_few_shot_prompt, False)"
   ]
  },
  {
   "cell_type": "markdown",
   "metadata": {},
   "source": [
    "Już pobieżnie rzucając okiem na wyniki widać, że uległy one poprawie, zarówno generalnie, jak i dla poszczególnych kategorii. Wynika z tego, że mogą istnieć drobne różnice w odnalezionych nazwach własnych, które uniemożliwiają bezpośrednie dopasowanie.\n",
    "\n",
    "Poza rozłącznymi listami odnalezionych nazw własnych dla poszczególnych klas, istnieje wiele innych przykładów, które pokazują przyczynę problemu niskich metryk oceniających jakość działania:\n",
    "\n",
    "`zero-show`:\n",
    "1. persName:\n",
    "- baseline: ['G.', 'Edward Griffin'], LLM: 'G. Edward Griffin' - SpaCy rozdziela skrót imienia od reszty\n",
    "\n",
    "2. orgName:\n",
    "- baseline: 'Narodowego Instytutu Zdrowia](https://www.ncbi.nlm.nih.gov', LLM: 'Narodowy Instytut Zdrowia' - SpaCy dokleja kawałek URL do nazwy\n",
    "- baseline: 'Discover Bank CD', LLM: 'Discover Bank` - LLM obcina część nazwy\n",
    "- baseline: 'EBSA ds.', LLM: 'EBSA' - SpaCy dokleja kolejne słowa do nazwy\n",
    "\n",
    "3. placeName:\n",
    "- baseline: 'Japonii', LLM: 'Japonia' - LLM zmienia na mianownik pomimo wyraźnych instrukcji, żeby tego nie robić\n",
    "\n",
    "4. date:\n",
    "- baseline: 'sierpniu', LLM: 'sierpniowe' - różne tokeny rozpoznane, a istnieje tylko ten z baseline, LLM dziwnie zmienia odmianę\n",
    "- baseline: [], LLM: 'dowolny dzień' - LLM rozpoznaje określenie daty, ale to nie jest data\n",
    "\n",
    "5. Różne klasy\n",
    "- baseline['orgName'] = 'AHS', LLM['geogName'] = 'AHS' - dla SpaCy AHS jest organizacją, a dla LLM nazwą geograficzną. W tym wypadku SpaCy ma rację.\n",
    "\n",
    "6. Uznanie słów nie będących nazwą własną za takową:\n",
    "LLM: 'twoja firma'\n",
    "\n",
    "`few-show`:\n",
    "1. persName:\n",
    "- baseline: 'Obamy', LLM: 'Obama' - LLM zmienia na mianownik pomimo wyraźnych instrukcji, żeby tego nie robić\n",
    "\n",
    "2. orgName:\n",
    "- baseline: 'Citi Bankiem', LLM: 'Citi Bank' - LLM zmienia na mianownik pomimo wyraźnych instrukcji, żeby tego nie robić\n",
    "- baseline: 'The National Counseling Society Adres', LLM: 'The National Counseling Society' - SpaCy uwzglęnia więcej słów jako nazwę własną niż LLM\n",
    "\n",
    "3. placeName:\n",
    "- baseline: 'Kanadzie', LLM: 'Kanada' - LLM zmienia na mianownik pomimo wyraźnych instrukcji, żeby tego nie robić\n",
    "- baseline: 'Frankfurcie', LLM: 'Frankfurt' - podobnie, jak wyżej\n",
    "\n",
    "4. date:\n",
    "- baseline: '2006r.', LLM: '2006' - uznanie 'r.' za część daty lub nie\n",
    "\n",
    "Przypadki były zbierane na różnych fragmentach danych, stąd są one inne dla `zero-shot` i `few-shot`, ale widać powtarzalność zachowań.\n",
    "\n",
    "Uderza dość spore grono przypadków dla `few-shot`, gdzie LLM zmienił odmianę słowa, a robiąc to zignorował zalecenie podane w prompcie. Używany model ograniczony jest do wyłącznie siedmiu miliardów parametrów, a prompt oscyluje przy maksymalnej granicy długości, więc szansa, że model nie uwzględni wszystkich instrukcji zawartych w prompcie rośnie.\n",
    "\n",
    "Generalnie nie można powiedzieć, żeby wyniki od SpaCy były dużo lepsze od tych generowanych przez LLM, co podważa zasadność używania SpaCy jako baseline."
   ]
  },
  {
   "cell_type": "markdown",
   "metadata": {},
   "source": [
    "Czasy na przejście po wszystkich pasażach:\n",
    "\n",
    "Zero-Shot: 3200.7369158267975s ~53:20\n",
    "Few-Shot: 3537.733955144882s ~58:57"
   ]
  },
  {
   "cell_type": "markdown",
   "metadata": {},
   "source": [
    "### NER na danych ground truth\n",
    "\n",
    "W momencie opracowywania wyników we wspólnym arkuszu udało się zebrać 97 fragmentów tekstu z wyodrębnionymi nazwami własnymi. Arkusz ten wymagał dalszego przygotowania, postaci:\n",
    "- ujednolicenie zapisu odnalezionych nazw własnych i ich klas\n",
    "- sprowadzenie wszystkich słówek do odmiany występującej w tekście (lematyzację uznaję za dodatkowy krok, który nie jest wymagany w tym ćwiczeniu)\n",
    "- drobne poprawki przypisanych klas\n",
    "\n",
    "Nie przeprowadzałem gruntownej rewizji i ujednolicenia zebranych wyników. Ważnym była dla mnie spójność formatu oraz odmiany odnalezionych nazw własnych. W związku z tym należy się liczyć z kilkoma niespójnościami pomiędzy poszczególnymi elementami ze zbioru, które ważą na jakości dokonanej operacji NER."
   ]
  },
  {
   "cell_type": "markdown",
   "metadata": {},
   "source": [
    "Poniżej funkcja do wczytania danych z pliku i zmapowania uniwersalnych znaczników klas nazw własnych, do tych ze SpaCy, których używam w ćwiczeniu:"
   ]
  },
  {
   "cell_type": "code",
   "execution_count": 301,
   "metadata": {},
   "outputs": [],
   "source": [
    "import ast\n",
    "import csv\n",
    "\n",
    "cat_map = {   \n",
    "    'per': 'persName',\n",
    "    'org': 'orgName',\n",
    "    'gpe': 'placeName',\n",
    "    'loc': 'geogName',\n",
    "    'date': 'date',\n",
    "    'time': 'time'\n",
    " }\n",
    "\n",
    "def readInGroundTruthSents():\n",
    "    with open('LLM_NER_anotacje-mod-2.csv', mode='r', newline='') as file:\n",
    "        results = {}\n",
    "        sents = []\n",
    "        reader = csv.DictReader(file)\n",
    "        for row in reader:\n",
    "            sentence = row['Tekst']\n",
    "            sents.append(sentence)\n",
    "            named_entities = {}\n",
    "            entities = ast.literal_eval(row['Encje'])\n",
    "            for entity in entities:\n",
    "                entity_name = entity[0]\n",
    "                entity_cat = entity[1]\n",
    "                entity_cat_mapped = cat_map[entity_cat.lower()]\n",
    "                if entity_cat_mapped not in named_entities.keys():\n",
    "                    named_entities[entity_cat_mapped] = []\n",
    "                named_entities[entity_cat_mapped].append(entity_name)\n",
    "            results[sentence] = named_entities\n",
    "        return sents, results            "
   ]
  },
  {
   "cell_type": "code",
   "execution_count": 302,
   "metadata": {},
   "outputs": [],
   "source": [
    "groundTruthSents, groundTruthNer  = readInGroundTruthSents()\n",
    "\n",
    "def getGroundTruthNer(passage):\n",
    "    return groundTruthNer[passage]"
   ]
  },
  {
   "cell_type": "code",
   "execution_count": 323,
   "metadata": {},
   "outputs": [
    {
     "data": {
      "text/plain": [
       "{'persName': {'precision': 0.543859649122807,\n",
       "  'recall': 0.4492753623188406,\n",
       "  'f1_score': 0.49206349206349204},\n",
       " 'orgName': {'precision': 0.6619718309859155,\n",
       "  'recall': 0.34814814814814815,\n",
       "  'f1_score': 0.4563106796116505},\n",
       " 'placeName': {'precision': 0.3333333333333333,\n",
       "  'recall': 0.21348314606741572,\n",
       "  'f1_score': 0.2602739726027397},\n",
       " 'geogName': {'precision': 0.0, 'recall': 0.0, 'f1_score': 0},\n",
       " 'date': {'precision': 0.6086956521739131,\n",
       "  'recall': 0.56,\n",
       "  'f1_score': 0.5833333333333334},\n",
       " 'time': {'precision': 0.0, 'recall': 0.0, 'f1_score': 0},\n",
       " 'total': {'precision': 0.5235849056603774,\n",
       "  'recall': 0.3373860182370821,\n",
       "  'f1_score': 0.41035120147874315}}"
      ]
     },
     "execution_count": 323,
     "metadata": {},
     "output_type": "execute_result"
    }
   ],
   "source": [
    "calculate_metrics(groundTruthSents, getGroundTruthNer, perform_zero_shot_prompt, True)"
   ]
  },
  {
   "cell_type": "markdown",
   "metadata": {},
   "source": [
    "|           | persName | orgName | placeName | geogName | date   | time | **total**  |\n",
    "|-----------|----------|---------|-----------|----------|--------|------|------------|\n",
    "| precision | 0.5438   | 0.6619  | 0.3333    | 0.0      | 0.6086 | 0.0  | **0.5235** |\n",
    "| recall    | 0.4492   | 0.3481  | 0.2134    | 0.0      | 0.5600 | 0.0  | **0.3373** |\n",
    "| f1_score  | 0.4920   | 0.4563  | 0.2602    | 0.0      | 0.5833 | 0.0  | **0.4103** |"
   ]
  },
  {
   "cell_type": "markdown",
   "metadata": {},
   "source": [
    "Już widać, że jakość wyników dostarczonych przez LLM dla dobrze oznaczonych nazw własnych jest dużo lepsza, niż dla tych porównywanych ze SpaCy. Zarówno wartości ogólne, jak i dla poszczególnych kategorii są 2-3x lepsze od tych z poprzedniej sekcji laboratorium.\n",
    "\n",
    "Nie chcąc produkować zbyt dużo treści w tym sprawozdaniu pomijam wartości metryk dla poszczególnych klas i przy porównaniu poszczególnych podejść skupię się na wartościach generalnych, które dla `zero-shot` wynoszą odpowiednio: `precision = 0.5235`, `recall = 0.3373` i `f1-score = 0.4103`."
   ]
  },
  {
   "cell_type": "code",
   "execution_count": 324,
   "metadata": {},
   "outputs": [
    {
     "data": {
      "text/plain": [
       "{'persName': {'precision': 0.56,\n",
       "  'recall': 0.4057971014492754,\n",
       "  'f1_score': 0.4705882352941177},\n",
       " 'orgName': {'precision': 0.6176470588235294,\n",
       "  'recall': 0.3111111111111111,\n",
       "  'f1_score': 0.41379310344827586},\n",
       " 'placeName': {'precision': 0.6111111111111112,\n",
       "  'recall': 0.3626373626373626,\n",
       "  'f1_score': 0.4551724137931034},\n",
       " 'geogName': {'precision': 0, 'recall': 0.0, 'f1_score': 0},\n",
       " 'date': {'precision': 0.5714285714285714,\n",
       "  'recall': 0.3333333333333333,\n",
       "  'f1_score': 0.4210526315789474},\n",
       " 'time': {'precision': 0.0, 'recall': 0.0, 'f1_score': 0},\n",
       " 'total': {'precision': 0.5873015873015873,\n",
       "  'recall': 0.33636363636363636,\n",
       "  'f1_score': 0.4277456647398844}}"
      ]
     },
     "execution_count": 324,
     "metadata": {},
     "output_type": "execute_result"
    }
   ],
   "source": [
    "calculate_metrics(groundTruthSents, getGroundTruthNer, perform_few_shot_prompt, True)"
   ]
  },
  {
   "cell_type": "markdown",
   "metadata": {},
   "source": [
    "|           | persName | orgName | placeName | geogName | date   | time | **total**  |\n",
    "|-----------|----------|---------|-----------|----------|--------|------|------------|\n",
    "| precision | 0.56     | 0.6176  | 0.6111    | 0.0      | 0.5714 | 0.0  | **0.5873** |\n",
    "| recall    | 0.4057   | 0.3111  | 0.3626    | 0.0      | 0.3333 | 0.0  | **0.3363** |\n",
    "| f1_score  | 0.4705   | 0.4137  | 0.4551    | 0.0      | 0.4210 | 0.0  | **0.4277** |"
   ]
  },
  {
   "cell_type": "markdown",
   "metadata": {},
   "source": [
    "Tym razem zapytanie `few-shot` dostarcza lepszych wyników, które przewyżsa `zero-shot` z wartością 0.5863 dla `precision` o 6 punktów procentowych, ma bardzo zbliżony `recall = 0.3363`, a więc i `f1-score` jest większy i wynosi 0.4277, czyli 1.5pp więcej.\n",
    "\n",
    "`few-shot` będący bardziej dokładną formą prompta z reguły powinien dostarczać lepszych wyników, niż `zero-shot`, i tak też się dzieje w tym przypadku. Ewidentnie mniejsza jakość `few-shot` dla korpusu FIQA wynika z problemów samego baseline-u."
   ]
  },
  {
   "cell_type": "code",
   "execution_count": 325,
   "metadata": {},
   "outputs": [
    {
     "data": {
      "text/plain": [
       "{'persName': {'precision': 0.6363636363636364,\n",
       "  'recall': 0.6086956521739131,\n",
       "  'f1_score': 0.6222222222222223},\n",
       " 'orgName': {'precision': 0.6704545454545454,\n",
       "  'recall': 0.4338235294117647,\n",
       "  'f1_score': 0.5267857142857143},\n",
       " 'placeName': {'precision': 0.6736842105263158,\n",
       "  'recall': 0.6956521739130435,\n",
       "  'f1_score': 0.6844919786096257},\n",
       " 'geogName': {'precision': 0.75, 'recall': 0.5, 'f1_score': 0.6},\n",
       " 'date': {'precision': 0.41379310344827586,\n",
       "  'recall': 0.48,\n",
       "  'f1_score': 0.4444444444444445},\n",
       " 'time': {'precision': 0.0, 'recall': 0.0, 'f1_score': 0},\n",
       " 'total': {'precision': 0.6293706293706294,\n",
       "  'recall': 0.5405405405405406,\n",
       "  'f1_score': 0.5815831987075929}}"
      ]
     },
     "execution_count": 325,
     "metadata": {},
     "output_type": "execute_result"
    }
   ],
   "source": [
    "calculate_metrics(groundTruthSents, getGroundTruthNer, find_named_entities_spacy, True)"
   ]
  },
  {
   "cell_type": "markdown",
   "metadata": {},
   "source": [
    "|           | persName | orgName | placeName | geogName | date   | time | **total**  |\n",
    "|-----------|----------|---------|-----------|----------|--------|------|------------|\n",
    "| precision | 0.6363   | 0.6704  | 0.6736    | 0.75     | 0.4137 | 0.0  | **0.6293** |\n",
    "| recall    | 0.6086   | 0.4338  | 0.6956    | 0.5      | 0.4800 | 0.0  | **0.5405** |\n",
    "| f1_score  | 0.6222   | 0.5267  | 0.6844    | 0.6      | 0.4444 | 0.0  | **0.5815** |"
   ]
  },
  {
   "cell_type": "markdown",
   "metadata": {},
   "source": [
    "Okazuje się, że pomimo niewystarczającej jakości SpaCy do zastosowania jako baseline i kilku gorzkich słów pod jego adresem, wyniki uzyskane dla ręcznie otagowanych danych tą metodą przewyższają obydwa podejścia LLM we wszystkich metrykach: `precision = 0.6293`, `recall = 0.5405` i `f1-score = 0.5815`.\n",
    "\n",
    "Różnica jest znacząca i wyraźnie pokazuje, że naiwne modele wciąż mogą okazać się lepszym rozwiązaniem, niż modele LLM o niewystarczającej pojemności, lub zbyt generalnym przeszkoleniu."
   ]
  },
  {
   "cell_type": "markdown",
   "metadata": {},
   "source": [
    "Jak i poprzednio uruchamiam odpowiedniki powyższych funkcji z luźniejszą metodą dopasowywania nazw własnych i znów oczekuję poprawy metryk."
   ]
  },
  {
   "cell_type": "code",
   "execution_count": 305,
   "metadata": {},
   "outputs": [
    {
     "data": {
      "text/plain": [
       "{'persName': {'precision': 0.6666666666666666,\n",
       "  'recall': 0.5507246376811594,\n",
       "  'f1_score': 0.603174603174603},\n",
       " 'orgName': {'precision': 0.8028169014084507,\n",
       "  'recall': 0.4222222222222222,\n",
       "  'f1_score': 0.5533980582524272},\n",
       " 'placeName': {'precision': 0.49122807017543857,\n",
       "  'recall': 0.3146067415730337,\n",
       "  'f1_score': 0.3835616438356165},\n",
       " 'geogName': {'precision': 0.0, 'recall': 0.0, 'f1_score': 0},\n",
       " 'date': {'precision': 0.9130434782608695,\n",
       "  'recall': 0.84,\n",
       "  'f1_score': 0.8749999999999999},\n",
       " 'time': {'precision': 0.3333333333333333, 'recall': 0.2, 'f1_score': 0.25},\n",
       " 'total': {'precision': 0.6839622641509434,\n",
       "  'recall': 0.44072948328267475,\n",
       "  'f1_score': 0.5360443622920518}}"
      ]
     },
     "execution_count": 305,
     "metadata": {},
     "output_type": "execute_result"
    }
   ],
   "source": [
    "calculate_metrics(groundTruthSents, getGroundTruthNer, perform_zero_shot_prompt, False)"
   ]
  },
  {
   "cell_type": "code",
   "execution_count": 306,
   "metadata": {},
   "outputs": [
    {
     "data": {
      "text/plain": [
       "{'persName': {'precision': 0.68,\n",
       "  'recall': 0.4927536231884058,\n",
       "  'f1_score': 0.5714285714285715},\n",
       " 'orgName': {'precision': 0.75,\n",
       "  'recall': 0.37777777777777777,\n",
       "  'f1_score': 0.5024630541871921},\n",
       " 'placeName': {'precision': 0.7037037037037037,\n",
       "  'recall': 0.4175824175824176,\n",
       "  'f1_score': 0.5241379310344827},\n",
       " 'geogName': {'precision': 0, 'recall': 0.0, 'f1_score': 0},\n",
       " 'date': {'precision': 0.7857142857142857,\n",
       "  'recall': 0.4583333333333333,\n",
       "  'f1_score': 0.5789473684210527},\n",
       " 'time': {'precision': 1.0, 'recall': 0.6, 'f1_score': 0.7499999999999999},\n",
       " 'total': {'precision': 0.7248677248677249,\n",
       "  'recall': 0.41515151515151516,\n",
       "  'f1_score': 0.5279383429672446}}"
      ]
     },
     "execution_count": 306,
     "metadata": {},
     "output_type": "execute_result"
    }
   ],
   "source": [
    "calculate_metrics(groundTruthSents, getGroundTruthNer, perform_few_shot_prompt, False)"
   ]
  },
  {
   "cell_type": "code",
   "execution_count": 317,
   "metadata": {},
   "outputs": [
    {
     "data": {
      "text/plain": [
       "{'persName': {'precision': 0.803030303030303,\n",
       "  'recall': 0.7681159420289855,\n",
       "  'f1_score': 0.785185185185185},\n",
       " 'orgName': {'precision': 0.8181818181818182,\n",
       "  'recall': 0.5294117647058824,\n",
       "  'f1_score': 0.6428571428571428},\n",
       " 'placeName': {'precision': 0.6947368421052632,\n",
       "  'recall': 0.717391304347826,\n",
       "  'f1_score': 0.7058823529411765},\n",
       " 'geogName': {'precision': 0.75, 'recall': 0.5, 'f1_score': 0.6},\n",
       " 'date': {'precision': 0.7586206896551724,\n",
       "  'recall': 0.88,\n",
       "  'f1_score': 0.8148148148148148},\n",
       " 'time': {'precision': 0.5, 'recall': 0.4, 'f1_score': 0.4444444444444445},\n",
       " 'total': {'precision': 0.7622377622377622,\n",
       "  'recall': 0.6546546546546547,\n",
       "  'f1_score': 0.7043618739903069}}"
      ]
     },
     "execution_count": 317,
     "metadata": {},
     "output_type": "execute_result"
    }
   ],
   "source": [
    "calculate_metrics(groundTruthSents, getGroundTruthNer, find_named_entities_spacy, False)"
   ]
  },
  {
   "cell_type": "markdown",
   "metadata": {},
   "source": [
    "Faktycznie, wartości każej metryki są dużo lepsze. Znajdźmy kilka przykładów dla każdej z metody, które obrazowałyby przyczynę takiego stanu rzeczy.\n",
    "\n",
    "`zero-shot`:\n",
    "1. persName:\n",
    "- baseline: \"Mika'e Tysona\" LLM: \"Mike Tyson\" - sprowadzenie nazwy przez LLM do formy podstawowej\n",
    "- baseline\" \"Bosak\" LLM: brak rozpoznania nazwiska\n",
    "\n",
    "2. orgName:\n",
    "- baseline: \"Reuters\", LLM: \"Agencja Reuters\" - tu chyba LLM miał rację i to baseline jest niedokładnie wyspecyfikowany\n",
    "\n",
    "\n",
    "3. placeName:\n",
    "- baseline: \"Teksasie\" LLM: \"Teksas\" - odmiana przez LLM\n",
    "- baseline: \"Syrii\", LLM: \"środkowa część Syrii\" - zbyt duży fragment tekstu uznany za nazwę własną przez LLM\n",
    "\n",
    "4. dateName:\n",
    "- baseline: 'poniedziałek (9 grudnia)', LLM: '9 grudnia' - pominięcie dnia tygodnia przez LLM\n",
    "\n",
    "`few-shot`:\n",
    "\n",
    "Generalnie to przykłady dla `few-shot` są bardzo zbliżone do tych dla `zero-shot`, więc podam tu tylko jeden odstający przykład:\n",
    "\n",
    "1. persName:\n",
    "- baseline: \"Mika'e Tysona\" LLM: \"Mike'e Tyson\" - taka dziwna odmiana zaproponowana przez LLM \n",
    "\n",
    "Nie widać tego w podanych przykładach, ale dominującą formą rozbieżności pomiędzy wynikiem LLM (przy obydwu rodzajach prompta), a \"ground truth\" jest sprowadzanie nazw do mianownika przez LLM. Usunięcie tego mankamentu LLM dałoby dużo lepsze wyniki. "
   ]
  },
  {
   "cell_type": "markdown",
   "metadata": {},
   "source": [
    "`SpaCy`\n",
    "\n",
    "1. persName:\n",
    "- baseline: \"Steve'a Jobs'a\", SpaCy: [\"Steve'a\", \"Jobs'a\"] - oddzielenie imienia od nazwiska\n",
    "\n",
    "2. orgName:\n",
    "- Spacy: \"Inaki Pena\" - uznany za organizację\n",
    "- baseline: \"America PAC\", SpaCy: \"Muska komitetu America PAC\" - zbyt dużo uznane za nazwę własną\n",
    "\n",
    "3. placeName:\n",
    "- baseline: \"Teksasie\", SpaCy: \"Teksasie Jake Paul\" - dołączenie imienia i nazwiska do nazwy stanu\n",
    "\n",
    "4. date:\n",
    "- baseline: \"2023\", Spacy: \"2023 roku\" - tu SpaCy okazało się lepsze od baseline-u\n",
    "\n",
    "SpaCy robi róznego rodzaju błędy, czasem źle rozdzieli nazwę własną, a czasem połączy zbyt wiele słów jako pojedyńczą nazwę własną, bądź też pomyli kategorię rozważanego słowa. Błędy te są dość rozbieżne i niszowe, przez co dla badanych przykładów SpaCy pokonuje LLM, który bardzo często niepotrzebnie sprowadza dobrze odnalezioną nazwę własną do mianownika - wystarczyłoby przekonać LLM, może lepszym promptem lub pojemniejszym modelem, do pozostawiania słów takimi, jakimi są, żeby to LLM wysforował się na pierwsze miejsce.\n",
    "\n"
   ]
  },
  {
   "cell_type": "markdown",
   "metadata": {},
   "source": [
    "#### Porównanie NER do LLM NER\n",
    "\n",
    "Czas, pamięć, miejsce na HDD, miejsce w pamięci i obciążenie CPU"
   ]
  },
  {
   "cell_type": "markdown",
   "metadata": {},
   "source": [
    "Zachowanie odmiany, bo lematyzacja jest osobnym krokiem - zwłaszcza możliwy problem z nazwami własnymi:\n",
    "- Wisła - Wiśle\n",
    "- Polska - Polski\n",
    "\n",
    "Co z zapisem lat: 2017 vs 2017 r. a może 2025 roku\n",
    "Skomplikowany zapis: poniedziałek (9 grudnia)\n",
    "również dla nazw własnych: Rady Biznesu USA-Chiny (USCBC)\n",
    "rzecznik Prokuratury Okręgowej w Warszawie, prok. Piotr Skiba\n",
    "telewizja TVN czy samo TVN, czy też linii Wizz Air czy samo Wizz Air"
   ]
  }
 ],
 "metadata": {
  "kernelspec": {
   "display_name": ".venv",
   "language": "python",
   "name": "python3"
  },
  "language_info": {
   "codemirror_mode": {
    "name": "ipython",
    "version": 3
   },
   "file_extension": ".py",
   "mimetype": "text/x-python",
   "name": "python",
   "nbconvert_exporter": "python",
   "pygments_lexer": "ipython3",
   "version": "3.12.7"
  }
 },
 "nbformat": 4,
 "nbformat_minor": 2
}
