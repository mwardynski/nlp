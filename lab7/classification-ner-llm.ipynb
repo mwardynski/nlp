{
 "cells": [
  {
   "cell_type": "markdown",
   "metadata": {},
   "source": [
    "Marcin Wardyński  \n",
    "czwartek, 8:00"
   ]
  },
  {
   "cell_type": "code",
   "execution_count": 1,
   "metadata": {},
   "outputs": [
    {
     "name": "stderr",
     "output_type": "stream",
     "text": [
      "/Users/mwardynski/Documents/ds/_semestr_9/przetwarzanie_jezyka_naturalnego/labs/.venv/lib/python3.12/site-packages/tqdm/auto.py:21: TqdmWarning: IProgress not found. Please update jupyter and ipywidgets. See https://ipywidgets.readthedocs.io/en/stable/user_install.html\n",
      "  from .autonotebook import tqdm as notebook_tqdm\n"
     ]
    }
   ],
   "source": [
    "from datasets import load_dataset\n",
    "seed = 7\n",
    "passage_number = 1000\n",
    "\n",
    "corpus = load_dataset(\"clarin-knext/fiqa-pl\", name=\"corpus\")\n",
    "passages = corpus['corpus'].shuffle(seed=seed).select(range(passage_number))['text']"
   ]
  },
  {
   "cell_type": "markdown",
   "metadata": {},
   "source": [
    "Przy opracowywaniu prompt-a:\n",
    "- użyj szablonu\n",
    "- dopasuj treść prompta\n",
    "- jeśli to konieczne użyj kontraprzykładu"
   ]
  },
  {
   "cell_type": "markdown",
   "metadata": {},
   "source": [
    "Klasy NER-ów:\n",
    "- PER\n",
    "- ORG\n",
    "- GPE\n",
    "- LOC\n",
    "- DATE"
   ]
  },
  {
   "cell_type": "code",
   "execution_count": 160,
   "metadata": {},
   "outputs": [],
   "source": [
    "import requests\n",
    "import hashlib\n",
    "from diskcache import Cache\n",
    "from functools import lru_cache\n",
    "\n",
    "OLLAMA_SERVER_URL = \"http://localhost:11434\"\n",
    "cache = Cache(\"ollama_cache\")\n",
    "model_mistral = \"mistral\"\n",
    "\n",
    "@lru_cache(maxsize=1100)\n",
    "def ask_ollama_with_memory_cache(model, prompt):\n",
    "    return ask_ollama_with_disk_cache(model, prompt)\n",
    "\n",
    "def ask_ollama_with_disk_cache(model, prompt):\n",
    "    \n",
    "    cache_key = hashlib.sha256((model+prompt).encode()).hexdigest()\n",
    "    \n",
    "    if cache_key in cache:\n",
    "        answer = cache[cache_key]\n",
    "        return (1, answer)\n",
    "    else:\n",
    "        answer = ask_ollama_server(model, prompt)\n",
    "        cache[cache_key] = answer\n",
    "        return (0, answer)\n",
    "\n",
    "\n",
    "def ask_ollama_server(model, prompt):\n",
    "    url = f\"{OLLAMA_SERVER_URL}/api/generate\"\n",
    "    \n",
    "    payload = {\n",
    "        \"model\": model,\n",
    "        \"prompt\": prompt,\n",
    "        \"stream\": False,\n",
    "        \"options\": {\"num_ctx\": 8192}\n",
    "    }\n",
    "\n",
    "    try:\n",
    "        response = requests.post(url, json=payload)\n",
    "        response.raise_for_status()\n",
    "        data = response.json()\n",
    "        return data[\"response\"]\n",
    "\n",
    "    except requests.exceptions.RequestException as e:\n",
    "        print(f\"An error occurred: {e}\")\n",
    "        return None\n"
   ]
  },
  {
   "cell_type": "code",
   "execution_count": 46,
   "metadata": {},
   "outputs": [
    {
     "name": "stderr",
     "output_type": "stream",
     "text": [
      "Python(73480) MallocStackLogging: can't turn off malloc stack logging because it was not enabled.\n"
     ]
    },
    {
     "name": "stdout",
     "output_type": "stream",
     "text": [
      "Collecting pl-core-news-sm==3.8.0\n",
      "  Downloading https://github.com/explosion/spacy-models/releases/download/pl_core_news_sm-3.8.0/pl_core_news_sm-3.8.0-py3-none-any.whl (20.2 MB)\n",
      "\u001b[2K     \u001b[90m━━━━━━━━━━━━━━━━━━━━━━━━━━━━━━━━━━━━━━━━\u001b[0m \u001b[32m20.2/20.2 MB\u001b[0m \u001b[31m20.0 MB/s\u001b[0m eta \u001b[36m0:00:00\u001b[0m00:01\u001b[0m00:01\u001b[0m\n",
      "\u001b[?25hInstalling collected packages: pl-core-news-sm\n",
      "Successfully installed pl-core-news-sm-3.8.0\n",
      "\u001b[38;5;2m✔ Download and installation successful\u001b[0m\n",
      "You can now load the package via spacy.load('pl_core_news_sm')\n"
     ]
    }
   ],
   "source": [
    "!python -m spacy download pl_core_news_sm"
   ]
  },
  {
   "cell_type": "code",
   "execution_count": 100,
   "metadata": {},
   "outputs": [],
   "source": [
    "import pl_core_news_sm\n",
    "\n",
    "nlp = pl_core_news_sm.load()\n",
    "\n",
    "def find_named_entities_spacy(passage):\n",
    "    results = {\"persName\": [],\n",
    "                \"orgName\": [],\n",
    "                \"placeName\": [],\n",
    "                \"geogName\": [],\n",
    "                \"date\": [],\n",
    "                \"time\": []}\n",
    "\n",
    "    doc = nlp(passage)\n",
    "    for ent in doc.ents:\n",
    "        results[ent.label_].append(str(ent))\n",
    "    \n",
    "    \n",
    "    return results"
   ]
  },
  {
   "cell_type": "code",
   "execution_count": 102,
   "metadata": {},
   "outputs": [
    {
     "data": {
      "text/plain": [
       "{'persName': ['G.', 'Edward Griffin'],\n",
       " 'orgName': ['The Creature From Jekyll Island'],\n",
       " 'placeName': [],\n",
       " 'geogName': [],\n",
       " 'date': [],\n",
       " 'time': []}"
      ]
     },
     "execution_count": 102,
     "metadata": {},
     "output_type": "execute_result"
    }
   ],
   "source": [
    "find_named_entities_spacy(passages)"
   ]
  },
  {
   "cell_type": "code",
   "execution_count": 140,
   "metadata": {},
   "outputs": [],
   "source": [
    "prompt_intro = \"Przeanalizuj podany tekst i wypisz nazwy własne podzielone na kategorie: osoby, organizacje, nazwy administracyjne miejsc, nazwy geograficzne, daty, czas. Twoja odpowiedź powinna składać się wyłącznie z obiektu JSON o formacie zdefiniowanym poniżej. Jeśli pewna kategoria nie ma odnalezionych reprezentantów, zwróć dla niej pustą listę. Upewnij się, że wynik jest czysty i zawiera wyłącznie obiekt JSON, bez żadnych komentarzy!\\n\"\n",
    "prompt_json_format = \"Format JSON:\\n{\\\"persName\\\": [\\\"lista osób\\\"],  \\\"orgName\\\": [\\\"lista organizacji\\\"], \\\"placeName\\\": [\\\"lista nazw administracyjnych miejsc\\\"], \\\"geogName\\\": [\\\"lista nazw geograficznych\\\"], \\\"date\\\": [\\\"lista dat\\\"], \\\"time\\\": [\\\"lista określeń czasu\\\"]}\\n\"\n",
    "prompt_output = \"Wynik:\""
   ]
  },
  {
   "cell_type": "code",
   "execution_count": 175,
   "metadata": {},
   "outputs": [
    {
     "name": "stdout",
     "output_type": "stream",
     "text": [
      "0 1 2 3 4 5 6 7 8 9 10 11 12 13 14 15 16 17 18 19 20 21 22 23 24\n",
      "25 26 27 28 29 30 31 32 33 34 35 36 37 38 39 40 41 42 43 44 45 46 47 48 49\n",
      "50 51 52 53 54 55 56 57 58 59 60 61 62 63 64 65 66 67 68 69 70 71 72 73 74\n",
      "75 76 77 78 79 80 81 82 83 84 85 86 87 88 89 90 91 92 93 94 95 96 97 98 99\n",
      "100 101 102 103 104 105 106 107 108 109 110 111 112 113 114 115 116 117 118 119 120 121 122 123 124\n",
      "125 126 127 128 129 130 131 132 133 134 135 136 137 138 139 140 141 142 143 144 145 146 147 148 149\n",
      "150 151 152 153 154 155 156 157 158 159 160 161 162 163 164 165 166 167 168 169 170 171 172 173 174\n",
      "175 176 177 178 179 180 181 182 183 184 185 186 187 188 189 190 191 192 193 194 195 196 197 198 199\n",
      "200 201 202 203 204 205 206 207 208 209 210 211 212 213 214 215 216 217 218 219 220 221 222 223 224\n",
      "225 226 227 228 229 230 231 232 233 234 235 236 237 238 239 240 241 242 243 244 245 246 247 248 249\n",
      "250 251 252 253 254 255 256 257 258 259 260 261 262 263 264 265 266 267 268 269 270 271 272 273 274\n",
      "275 276 277 278 279 280 281 282 283 284 285 286 287 288 289 290 291 292 293 294 295 296 297 298 299\n",
      "300 301 302 303 304 305 306 307 308 309 310 311 312 313 314 315 316 317 318 319 320 321 322 323 324\n",
      "325 326 327 328 329 330 331 332 333 334 335 336 337 338 339 340 341 342 343 344 345 346 347 348 349\n",
      "350 351 352 353 354 355 356 357 358 359 360 361 362 363 364 365 366 367 368 369 370 371 372 373 374\n",
      "375 376 377 378 379 380 381 382 383 384 385 386 387 388 389 390 391 392 393 394 395 396 397 398 399\n",
      "400 401 402 403 404 405 406 407 408 409 410 411 412 413 414 415 416 417 418 419 420 421 422 423 424\n",
      "425 426 427 428 429 430 431 432 433 434 435 436 437 438 439 440 441 442 443 444 445 446 447 448 449\n",
      "450 451 452 453 454 455 456 457 458 459 460 461 462 463 464 465 466 467 468 469 470 471 472 473 474\n",
      "475 476 477 478 479 480 481 482 483 484 485 486 487 488 489 490 491 492 493 494 495 496 497 498 499\n",
      "500 501 502 503 504 505 506 507 508 509 510 511 512 513 514 515 516 517 518 519 520 521 522 523 524\n",
      "525 526 527 528 529 530 531 532 533 534 535 536 537 538 539 540 541 542 543 544 545 546 547 548 549\n",
      "550 551 552 553 554 555 556 557 558 559 560 561 562 563 564 565 566 567 568 569 570 571 572 573 574\n",
      "575 576 577 578 579 580 581 582 583 584 585 586 587 588 589 590 591 592 593 594 595 596 597 598 599\n",
      "600 601 602 603 604 605 606 607 608 609 610 611 612 613 614 615 616 617 618 619 620 621 622 623 624\n",
      "625 626 627 628 629 630 631 632 633 634 635 636 637 638 639 640 641 642 643 644 645 646 647 648 649\n",
      "650 651 652 653 654 655 656 657 658 659 660 661 662 663 664 665 666 667 668 669 670 671 672 673 674\n",
      "675 676 677 678 679 680 681 682 683 684 685 686 687 688 689 690 691 692 693 694 695 696 697 698 699\n",
      "700 701 702 703 704 705 706 707 708 709 710 711 712 713 714 715 716 717 718 719 720 721 722 723 724\n",
      "725 726 727 728 729 730 731 732 733 734 735 736 737 738 739 740 741 742 743 744 745 746 747 748 749\n",
      "750 751 752 753 754 755 756 757 758 759 760 761 762 763 764 765 766 767 768 769 770 771 772 773 774\n",
      "775 776 777 778 779 780 781 782 783 784 785 786 787 788 789 790 791 792 793 794 795 796 797 798 799\n",
      "800 801 802 803 804 805 806 807 808 809 810 811 812 813 814 815 816 817 818 819 820 821 822 823 824\n",
      "825 826 827 828 829 830 831 832 833 834 835 836 837 838 839 840 841 842 843 844 845 846 847 848 849\n",
      "850 851 852 853 854 855 856 857 858 859 860 861 862 863 864 865 866 867 868 869 870 871 872 873 874\n",
      "875 876 877 878 879 880 881 882 883 884 885 886 887 888 889 890 891 892 893 894 895 896 897 898 899\n",
      "900 901 902 903 904 905 906 907 908 909 910 911 912 913 914 915 916 917 918 919 920 921 922 923 924\n",
      "925 926 927 928 929 930 931 932 933 934 935 936 937 938 939 940 941 942 943 944 945 946 947 948 949\n",
      "950 951 952 953 954 955 956 957 958 959 960 961 962 963 964 965 966 967 968 969 970 971 972 973 974\n",
      "975 976 977 978 979 980 981 982 983 984 985 986 987 988 989 990 991 992 993 994 995 996 997 998 999\n",
      "Elapsed time: 0.0247189998626709s\n"
     ]
    }
   ],
   "source": [
    "import json\n",
    "import time\n",
    "\n",
    "def perform_zero_shot_prompt(passage):\n",
    "    prompt_input = f\"Tekst wejściowy:\\n\\\"{passage}\\\"\\n\"\n",
    "    prompt = prompt_intro + prompt_json_format + prompt_input + prompt_output\n",
    "        \n",
    "    result = ask_ollama_with_disk_cache(model_mistral, prompt)[1].replace('\\n', '')\n",
    "    try:\n",
    "        return json.loads(result)\n",
    "    except json.JSONDecodeError as e:\n",
    "        pass\n",
    "    \n",
    "    \n",
    "start_time = time.time()\n",
    "\n",
    "for i, passage in enumerate(passages):\n",
    "    print(i, end=\"\\n\" if (i+1) % 25 == 0 else \" \")\n",
    "    perform_zero_shot_prompt(passage)\n",
    "\n",
    "elapsed_time = time.time() - start_time\n",
    "print(f\"Elapsed time: {elapsed_time}s\")\n"
   ]
  },
  {
   "cell_type": "markdown",
   "metadata": {},
   "source": [
    "Błędy przy parsowaniu json:\n",
    "- ' {\"persName\": []}  \"orgName\": []  \"placeName\": []  \"geogName\": []  \"date\": []  \"time\": []'"
   ]
  },
  {
   "cell_type": "code",
   "execution_count": 157,
   "metadata": {},
   "outputs": [],
   "source": [
    "example1_text = \"Czy możesz mi pokazać gdzie? Ponieważ z pewnością, kiedy Obama nałożył podatek na finansowanie ACA, gospodarka rozkwitła, zatrudniono milion lekarzy, setki szpitali i tysiące spacerów w klinikach, które zbudowaliśmy. A giełda rozwijała się bardziej.\"\n",
    "example1_answer = \"{\\\"persName\\\": [\\\"Obama\\\"],  \\\"orgName\\\": [\\\"ACA\\\"], \\\"placeName\\\": [], \\\"geogName\\\": [], \\\"date\\\": [], \\\"time\\\": []}\"\n",
    "\n",
    "example2_text = \"„Postęp komputerowy w coraz większym stopniu pozwala producentom dostosowywać zamówienia i szybciej wysyłać towary. W nowym świecie wytwarzanie produktów w odległych krajach o niskich płacach, takich jak Chiny, może być wadą: wysyłanie gotowych produktów do Stanów Zjednoczonych może trwać zbyt długo – tygodnie, miesiące. „Chodzi o bliskość z klientem” – powiedział Michael Mandel, główny strateg ekonomiczny w Progressive Policy Institute. „„Zdobędziesz trwałą i trwałą przewagę nad konkurencją zagraniczną”. który okupował Biały Dom. Mimo to prezydent Donald Trump skorzystał z okazji, by w środę wziąć udział w ogłoszeniu przez Foxconna, mówiąc, że „zdecydowanie” wydarzyło się z powodu jego wyboru i dążenia do cięć podatkowych i regulacyjnych. [źródło] ://hosted.ap.org/dynamic/stories/U/US_BC_US_AMAZON_AND_FOXCONN_SPEED_TO_CUSTOMERS?SITE=AP&SECTION=HOME&TEMPLATE=DEFAULT&CTIME=2017-07-27-03-16-36)\\\"\"\n",
    "example2_answer = \"{\\\"persName\\\": [\\\"Michael Mandel\\\", \\\"Donald Trump\\\"],  \\\"orgName\\\": [\\\"Progressive Policy Institute\\\", \\\"Biały Dom\\\", \\\"Foxconna\\\"], \\\"placeName\\\": [\\\"Chiny\\\", \\\"Stanów Zjednoczonych\\\"], \\\"geogName\\\": [], \\\"date\\\": [], \\\"time\\\": []}\"\n",
    "\n",
    "example3_text = \"„Płać za grę? Masz na myśli, że płacą za mocniejsze źródła danych, których inne firmy nie potrzebują, na pewno tak. Ale każdy może teraz handlować na giełdach amerykańskich (NYSE, NASDAQ, BATS itp.), co nie było prawdą 20 lat temu kiedy NYSE miała specjalistyczny monopol, więc tak, rynki są bardziej demokratyczne niż kiedykolwiek. Uwaga na marginesie, giełdy czerpią bezpośrednie zyski ze zwiększonego wolumenu obrotu, ponieważ przyjmują niewielki procent każdej transakcji, więc nie jestem pewien, co to znaczy, że nie czerpią z tego bezpośrednich korzyści. Mam też wrażenie, że nie rozumiesz zakresu działalności HFT, szczytowe zyski HFT były rzędu 7 miliardów w czasie największego wolumenu w ostatniej dekadzie (2005-2010 ). Są teraz około 1B. W porównaniu z bilionami dolarów, które zmieniają właściciela w ciągu roku, jest to kiepska wymiana, trudno nazwać „kran z darmowymi pieniędzmi”. Również Katsayuma otworzyła kolejną ciemną pulę, która obsługuje duże wolumeny klientów (twoich goldmans i merrils) Jedyną różnicą w IEX jest to, że ma darmową kampanię marketingową ign, aby przyciągnąć klientów. Poważnie, IEX jest niczym innym jak istniejącymi stałymi, krzyżowymi ciemnymi basenami, które przy okazji wkurzają inwestorów detalicznych bardziej niż oświetlone giełdy, takie jak NASDAQ. Katsayuma został zmiażdżony w swoich egzekucjach, ponieważ nie mógł nadążyć z czasem, a potem trafił w dziesiątkę, namawiając Michaela Lewisa, by namalował go jako „bohatera”, szczerze mówiąc, jestem zdziwiony, jakie szczęście miał ten koleś. Dealerzy brokerów BTW otrzymują preferencyjne traktowanie w IEX, co oznacza, że ​​mogą ciąć przed inwestorami detalicznymi. Dlaczego tak się na to zastanawiasz, czy wykonałeś kilka złych transakcji na eTrade i potrzebujesz kozła ofiarnego?”\"\n",
    "example3_answer = \"{\\\"persName\\\": [\\\"Katsayuma\\\", \\\"Katsayuma\\\", \\\"Michaela Lewisa\\\"],  \\\"orgName\\\": [\\\"NYSE\\\", \\\"NASDAQ\\\", \\\"BATS\\\", \\\"NYSE\\\", \\\"HFT\\\", \\\"goldmans\\\", \\\"merrils\\\", \\\"IEX\\\", \\\"ign\\\", \\\"IEX\\\", \\\"NASDAQ\\\", \\\"IEX\\\", \\\"eTrade\\\"], \\\"placeName\\\": [], \\\"geogName\\\": [], \\\"date\\\": [\\\"2005\\\", \\\"2010\\\"], \\\"time\\\": []}\"\n",
    "example2_full = f\"Przykład 3:\\n\\\"{example2_text}\\\"\\nOdpowiedź do przykładu 1:\\n\\\"{example2_answer}\\\"\\n\"\n",
    "\n",
    "example4_text = \"Nie zaczynaj od inwestowania w kilka pojedynczych firm. To ryzykowne. Chcesz przykładu? Myślę o dużej firmie, powiedzmy około 120 miliardów dolarów, znanej firmie i dobrych stałych dywidendach. Radzili sobie całkiem nieźle i generalnie byli zajęci przekonywaniem ludzi, że patrzą w przyszłość z nowymi, przyjaznymi dla środowiska technologiami. Potem... poszli i wylali garść ropy do Zatoki Meksykańskiej. Tak, to nie był ładny obraz, gdyby BP było tego dnia jedną z pięciu spółek w twoim portfelu. Sprawy wyglądałyby jednak znacznie lepiej, gdyby byli jedną z 500 lub 5000 firm. Więc. Po pierwsze, dążyć do dywersyfikacji za pośrednictwem funduszy inwestycyjnych lub ETF. (Osobiście uważam, że prawdopodobnie powinieneś zacząć od funduszy wzajemnych: po pierwsze unikasz opłat transakcyjnych. Łatwiej jest również umieścić średnie kwoty w dolarach w funduszach niż w ETF-ach, nawet jeśli otrzymujesz wolny od opłat handel ETF-ami. może dać ci lepsze wskaźniki wydatków, ale im mniej pieniędzy zainwestowałeś, tym mniej ważne.) Gdy masz przyzwoity portfel – dziesiątki tysięcy dolarów lub więcej – możesz zacząć rozważać posiadanie akcji poszczególnych spółek. Zwróć uwagę na opłaty, w tym opłaty transakcyjne / prowizje. Jeśli kupisz akcje o wartości 2000 USD i zapłacisz 20 USD prowizji, stracisz już 1%. Jeśli trzymasz fundusz powierniczy lub ETF, spójrz na wskaźnik wydatków. Roczna realna stopa zwrotu na giełdzie wynosi około 4%. (Prawdziwy zwrot jest po uwzględnieniu inflacji.) Jeśli Twoja opłata wynosi 1%, to około jedna czwarta Twoich zarobków, co jest ogromne. I chociaż funduszowi powierniczemu łatwo jest od czasu do czasu przewyższyć rynek o 1%, to naprawdę ciężko jest robić to konsekwentnie. Kiedy już przyjrzysz się poszczególnym firmom, powinieneś przeprowadzić wiele nieznośnych, nudnych, głupich poszukiwań, a nie kupować tylko akcji na podstawie ich marki. Będziesz zainteresowany kilkoma danymi. Głównym z nich jest prawdopodobnie wskaźnik P/E (cena/zysk). Jeśli weźmiesz odwrotność tego, uzyskasz wskaźnik, w jakim Twoja inwestycja przyniesie Ci pieniądze (np. P/E 20 to 5%, P/E 10 to 10%). Jeśli wszystko inne jest równe, niższy wskaźnik P/E jest dobrą rzeczą: oznacza to, że kupujesz dochód firmy naprawdę tanio. Jednak wszystko inne rzadko jest równe: jeśli akcje są naprawdę tanie, zwykle dzieje się tak dlatego, że inwestorzy nie myślą, że mają przed sobą długą przyszłość. Zarobki nie zawsze są spójne. Istnieje wiele innych miar, takich jak beta (korelacja z ogólnym rynkiem: bardziej ryzykowne akcje niestabilne mają wyższe wartości), marże brutto, cena do nielewarowanych wolnych przepływów pieniężnych i tym podobne. Ponownie wykonaj nudne badania, w przeciwnym razie po prostu grasz w gry ze swoimi pieniędzmi.\"\n",
    "example4_answer = \"{\\\"persName\\\": [],  \\\"orgName\\\": [\\\"BP\\\"], \\\"placeName\\\": [], \\\"geogName\\\": [\\\"Zatoki Meksykańskiej\\\"], \\\"date\\\": [], \\\"time\\\": []}\"\n",
    "\n",
    "example5_text = \"„To najlepszy tl;dr, jaki mogłem zrobić, [oryginał](https://www.bloomberg.com/news/articles/2017-08-22/hong-kong-braces-for-storm-hato-stock- handel może zostać zakłócony) zmniejszony o 73% (jestem botem) ***** > Hongkong podniósł poziom ostrzeżenia przed burzą do najwyższego poziomu po raz pierwszy od pięciu lat i odwołał poranną sesję handlową jako Poważna Tajfun Hato zbliżył się do centrum finansowego.> Jeśli sygnał będzie obowiązywał do południa, handel na czwartym co do wielkości rynku akcji na świecie zostanie dziś zlikwidowany, zgodnie z zasadami Hong Kong Exchanges & Clearing Ltd. > O godzinie 9 rano ciężki tajfun Hato znajdował się około 80 kilometrów na południe od Hongkongu, podało Obserwatorium.***** [**Rozszerzone podsumowanie**](http://np.reddit.com/r/autotldr/ komentarze/6vgq2t/hong_kong_delays_morning_trading_as_typhoon_hato/) | [FAQ](http://np.reddit.com/r/autotldr/comments/31b9fm/faq_autotldr_bot/ \\\"\\\"Wersja 1.65, ~196625 tl\\\");[do tej pory drs.\\\" Opinia](http://np.reddit.com/message/compose?to=%23autotldr \\\"\\\"PM i komentarze są monitorowane, mile widziane są konstruktywne opinie.\\\"\\\") | *Najlepsze* *Słowa kluczowe*: **Hong**^#1 **Kong**^#2 **Zamknij**^#3 **Tajfun**^#4 **Handel**^#5\\\"\"\n",
    "example5_answer = \"{\\\"persName\\\": [],  \\\"orgName\\\": [\\\"Hong Kong Exchanges & Clearing Ltd.\\\"], \\\"placeName\\\": [\\\"Hongkong\\\", \\\"Hongkongu\\\"], \\\"geogName\\\": [], \\\"date\\\": [], \\\"time\\\": [\\\"9 rano\\\"]}\"\n",
    "\n",
    "examples_text = [example1_text, example2_text, example3_text, example4_text, example5_text]\n",
    "examples_answer = [example1_answer, example2_answer, example3_answer, example4_answer, example5_answer]\n",
    "\n",
    "\n",
    "examples_snippet = []\n",
    "for i in range(len(examples_text)):\n",
    "    examples_snippet.append(f\"Przykład {i+1}:\\n{examples_text[i]}\\nOdpowiedź do przykładu {i+1}:\\n{examples_answer[i]}\\n\")"
   ]
  },
  {
   "cell_type": "markdown",
   "metadata": {},
   "source": [
    "Max length prompt=6861\n",
    "\n",
    "Mistral n_ctx = 8192"
   ]
  },
  {
   "cell_type": "code",
   "execution_count": 176,
   "metadata": {},
   "outputs": [
    {
     "name": "stdout",
     "output_type": "stream",
     "text": [
      "0 1 2 3 4 5 6 7 8 9 10 11 12 13 14 15 16 17 18 19 20 21 22 23 24\n",
      "25 26 27 28 29 30 31 32 33 34 35 36 37 38 39 40 41 42 43 44 45 46 47 48 49\n",
      "50 51 52 53 54 55 56 57 58 59 60 61 62 63 64 65 66 67 68 69 70 71 72 73 74\n",
      "75 76 77 78 79 80 81 82 83 84 85 86 87 88 89 90 91 92 93 94 95 96 97 98 99\n",
      "100 101 102 103 104 105 106 107 108 109 110 111 112 113 114 115 116 117 118 119 120 121 122 123 124\n",
      "125 126 127 128 129 130 131 132 133 134 135 136 137 138 139 140 141 142 143 144 145 146 147 148 149\n",
      "150 151 152 153 154 155 156 157 158 159 160 161 162 163 164 165 166 167 168 169 170 171 172 173 174\n",
      "175 176 177 178 179 180 181 182 183 184 185 186 187 188 189 190 191 192 193 194 195 196 197 198 199\n",
      "200 201 202 203 204 205 206 207 208 209 210 211 212 213 214 215 216 217 218 219 220 221 222 223 224\n",
      "225 226 227 228 229 230 231 232 233 234 235 236 237 238 239 240 241 242 243 244 245 246 247 248 249\n",
      "250 251 252 253 254 255 256 257 258 259 260 261 262 263 264 265 266 267 268 269 270 271 272 273 274\n",
      "275 276 277 278 279 280 281 282 283 284 285 286 287 288 289 290 291 292 293 294 295 296 297 298 299\n",
      "300 301 302 303 304 305 306 307 308 309 310 311 312 313 314 315 316 317 318 319 320 321 322 323 324\n",
      "325 326 327 328 329 330 331 332 333 334 335 336 337 338 339 340 341 342 343 344 345 346 347 348 349\n",
      "350 351 352 353 354 355 356 357 358 359 360 361 362 363 364 365 366 367 368 369 370 371 372 373 374\n",
      "375 376 377 378 379 380 381 382 383 384 385 386 387 388 389 390 391 392 393 394 395 396 397 398 399\n",
      "400 401 402 403 404 405 406 407 408 409 410 411 412 413 414 415 416 417 418 419 420 421 422 423 424\n",
      "425 426 427 428 429 430 431 432 433 434 435 436 437 438 439 440 441 442 443 444 445 446 447 448 449\n",
      "450 451 452 453 454 455 456 457 458 459 460 461 462 463 464 465 466 467 468 469 470 471 472 473 474\n",
      "475 476 477 478 479 480 481 482 483 484 485 486 487 488 489 490 491 492 493 494 495 496 497 498 499\n",
      "500 501 502 503 504 505 506 507 508 509 510 511 512 513 514 515 516 517 518 519 520 521 522 523 524\n",
      "525 526 527 528 529 530 531 532 533 534 535 536 537 538 539 540 541 542 543 544 545 546 547 548 549\n",
      "550 551 552 553 554 555 556 557 558 559 560 561 562 563 564 565 566 567 568 569 570 571 572 573 574\n",
      "575 576 577 578 579 580 581 582 583 584 585 586 587 588 589 590 591 592 593 594 595 596 597 598 599\n",
      "600 601 602 603 604 605 606 607 608 609 610 611 612 613 614 615 616 617 618 619 620 621 622 623 624\n",
      "625 626 627 628 629 630 631 632 633 634 635 636 637 638 639 640 641 642 643 644 645 646 647 648 649\n",
      "650 651 652 653 654 655 656 657 658 659 660 661 662 663 664 665 666 667 668 669 670 671 672 673 674\n",
      "675 676 677 678 679 680 681 682 683 684 685 686 687 688 689 690 691 692 693 694 695 696 697 698 699\n",
      "700 701 702 703 704 705 706 707 708 709 710 711 712 713 714 715 716 717 718 719 720 721 722 723 724\n",
      "725 726 727 728 729 730 731 732 733 734 735 736 737 738 739 740 741 742 743 744 745 746 747 748 749\n",
      "750 751 752 753 754 755 756 757 758 759 760 761 762 763 764 765 766 767 768 769 770 771 772 773 774\n",
      "775 776 777 778 779 780 781 782 783 784 785 786 787 788 789 790 791 792 793 794 795 796 797 798 799\n",
      "800 801 802 803 804 805 806 807 808 809 810 811 812 813 814 815 816 817 818 819 820 821 822 823 824\n",
      "825 826 827 828 829 830 831 832 833 834 835 836 837 838 839 840 841 842 843 844 845 846 847 848 849\n",
      "850 851 852 853 854 855 856 857 858 859 860 861 862 863 864 865 866 867 868 869 870 871 872 873 874\n",
      "875 876 877 878 879 880 881 882 883 884 885 886 887 888 889 890 891 892 893 894 895 896 897 898 899\n",
      "900 901 902 903 904 905 906 907 908 909 910 911 912 913 914 915 916 917 918 919 920 921 922 923 924\n",
      "925 926 927 928 929 930 931 932 933 934 935 936 937 938 939 940 941 942 943 944 945 946 947 948 949\n",
      "950 951 952 953 954 955 956 957 958 959 960 961 962 963 964 965 966 967 968 969 970 971 972 973 974\n",
      "975 976 977 978 979 980 981 982 983 984 985 986 987 988 989 990 991 992 993 994 995 996 997 998 999\n",
      "\n",
      "Elapsed time: 0.04328322410583496s\n"
     ]
    }
   ],
   "source": [
    "def perform_few_shot_prompt(passage):\n",
    "    prompt_input = f\"Tekst wejściowy:\\n\\\"{passage}\\\"\\n\"\n",
    "    prompt = prompt_intro + prompt_json_format + \"\".join(examples_snippet) + prompt_input + prompt_output\n",
    "        \n",
    "    result = ask_ollama_with_disk_cache(model_mistral, prompt)[1].replace('\\n', '')\n",
    "    try:\n",
    "        return json.loads(result)\n",
    "    except json.JSONDecodeError as e:\n",
    "        pass\n",
    "    \n",
    "start_time = time.time()\n",
    "\n",
    "for i, passage in enumerate(passages):\n",
    "    print(i, end=\"\\n\" if (i+1) % 25 == 0 else \" \")\n",
    "    perform_few_shot_prompt(passage)\n",
    "\n",
    "elapsed_time = time.time() - start_time\n",
    "print(f\"\\nElapsed time: {elapsed_time}s\")"
   ]
  },
  {
   "cell_type": "code",
   "execution_count": 180,
   "metadata": {},
   "outputs": [],
   "source": [
    "#does single entry occures multiple times, like in the text\n",
    "\n",
    "def get_corr_ent_strict(other_ent, base_ents):\n",
    "    return other_ent if other_ent in base_ents else None\n",
    "\n",
    "def get_corr_ent_not_strict(other_ent, base_ents):\n",
    "    for base_ent in base_ents:\n",
    "        if other_ent in base_ent or base_ent in other_ent:\n",
    "            return base_ent\n",
    "    return None\n",
    "\n",
    "def calculate_conf_matrix(baseline_entities, other_entities, strict):\n",
    "    base_ents_tmp = baseline_entities[:]\n",
    "    other_ents_tmp = other_entities[:]\n",
    "\n",
    "    tp_list = []\n",
    "\n",
    "    for other_ent in other_entities:\n",
    "        base_ent = get_corr_ent_strict(other_ent, base_ents_tmp) if strict else get_corr_ent_not_strict(other_ent, base_ents_tmp)\n",
    "        if base_ent:\n",
    "            base_ents_tmp.remove(base_ent)\n",
    "            other_ents_tmp.remove(other_ent)\n",
    "            tp_list.append(other_ent)\n",
    "\n",
    "    tp = len(tp_list)\n",
    "    fp = len(other_ents_tmp)\n",
    "    fn = len(base_ents_tmp)\n",
    "\n",
    "    return tp, fp, fn\n",
    "\n",
    "def calculate_precision_recall_f1_score(conf_matrix_by_class):\n",
    "    results = {}\n",
    "    for entity_class, conf_matrix in conf_matrix_by_class.items():\n",
    "        results[entity_class] = {}\n",
    "\n",
    "        if conf_matrix[\"TP\"]+conf_matrix[\"FP\"] != 0:\n",
    "            precision = conf_matrix[\"TP\"]/(conf_matrix[\"TP\"]+conf_matrix[\"FP\"])\n",
    "\n",
    "        else:\n",
    "            precision = 0\n",
    "        results[entity_class][\"precision\"] = precision\n",
    "\n",
    "\n",
    "        if conf_matrix[\"TP\"]+conf_matrix[\"FN\"] != 0:\n",
    "            recall = conf_matrix[\"TP\"]/(conf_matrix[\"TP\"]+conf_matrix[\"FN\"])\n",
    "        else:\n",
    "            recall = 0\n",
    "        results[entity_class][\"recall\"] = recall\n",
    "\n",
    "        if precision + recall != 0:\n",
    "            f1_score = 2 * (precision * recall) / (precision + recall)\n",
    "        else:\n",
    "            f1_score = 0\n",
    "        results[entity_class][\"f1_score\"] = f1_score\n",
    "    \n",
    "    return results\n",
    "\n",
    "def calculate_metrics(passages, baseline_fun, other_fun, strict=True):\n",
    "    conf_matrix_by_class = {\"persName\": {\"TP\": 0, \"FP\": 0, \"FN\": 0},\n",
    "                                \"orgName\": {\"TP\": 0, \"FP\": 0, \"FN\": 0},\n",
    "                                \"placeName\": {\"TP\": 0, \"FP\": 0, \"FN\": 0},\n",
    "                                \"geogName\": {\"TP\": 0, \"FP\": 0, \"FN\": 0},\n",
    "                                \"date\": {\"TP\": 0, \"FP\": 0, \"FN\": 0},\n",
    "                                \"time\": {\"TP\": 0, \"FP\": 0, \"FN\": 0},\n",
    "                                \"total\": {\"TP\": 0, \"FP\": 0, \"FN\": 0}}\n",
    "    \n",
    "    for passage in passages:\n",
    "        results_baseline = baseline_fun(passage)\n",
    "        results_other = other_fun(passage)\n",
    "\n",
    "        if results_other is None:\n",
    "            continue\n",
    "\n",
    "        for entity_class in results_baseline.keys():\n",
    "            if entity_class not in results_other.keys():\n",
    "                continue \n",
    "\n",
    "            baseline_entities = results_baseline[entity_class]            \n",
    "            other_entities = results_other[entity_class]\n",
    "\n",
    "            tp, fp, fn = calculate_conf_matrix(baseline_entities, other_entities, strict)\n",
    "\n",
    "            conf_matrix_by_class[entity_class][\"TP\"] += tp\n",
    "            conf_matrix_by_class[\"total\"][\"TP\"] += tp\n",
    "            conf_matrix_by_class[entity_class][\"FP\"] += fp\n",
    "            conf_matrix_by_class[\"total\"][\"FP\"] += fp\n",
    "            conf_matrix_by_class[entity_class][\"FN\"] += fn\n",
    "            conf_matrix_by_class[\"total\"][\"FN\"] += fn\n",
    "\n",
    "    return calculate_precision_recall_f1_score(conf_matrix_by_class)"
   ]
  },
  {
   "cell_type": "code",
   "execution_count": 177,
   "metadata": {},
   "outputs": [
    {
     "data": {
      "text/plain": [
       "{'persName': {'precision': 0.16666666666666666,\n",
       "  'recall': 0.10641627543035993,\n",
       "  'f1_score': 0.12989493791786055},\n",
       " 'orgName': {'precision': 0.17263427109974425,\n",
       "  'recall': 0.15358361774744028,\n",
       "  'f1_score': 0.16255267910897053},\n",
       " 'placeName': {'precision': 0.2116788321167883,\n",
       "  'recall': 0.12965722801788376,\n",
       "  'f1_score': 0.16081330868761554},\n",
       " 'geogName': {'precision': 0.0, 'recall': 0.0, 'f1_score': 0},\n",
       " 'date': {'precision': 0.16216216216216217,\n",
       "  'recall': 0.19047619047619047,\n",
       "  'f1_score': 0.17518248175182483},\n",
       " 'time': {'precision': 0.004807692307692308,\n",
       "  'recall': 0.3333333333333333,\n",
       "  'f1_score': 0.009478672985781991},\n",
       " 'total': {'precision': 0.15352112676056337,\n",
       "  'recall': 0.13085234093637454,\n",
       "  'f1_score': 0.14128321451717432}}"
      ]
     },
     "execution_count": 177,
     "metadata": {},
     "output_type": "execute_result"
    }
   ],
   "source": [
    "calculate_metrics(passages, find_named_entities_spacy, perform_zero_shot_prompt, True)"
   ]
  },
  {
   "cell_type": "code",
   "execution_count": 178,
   "metadata": {},
   "outputs": [
    {
     "data": {
      "text/plain": [
       "{'persName': {'precision': 0.16541353383458646,\n",
       "  'recall': 0.08560311284046693,\n",
       "  'f1_score': 0.11282051282051281},\n",
       " 'orgName': {'precision': 0.2113676731793961,\n",
       "  'recall': 0.12878787878787878,\n",
       "  'f1_score': 0.160053799596503},\n",
       " 'placeName': {'precision': 0.2565789473684211,\n",
       "  'recall': 0.055162659123055166,\n",
       "  'f1_score': 0.09080325960419092},\n",
       " 'geogName': {'precision': 0.05263157894736842,\n",
       "  'recall': 0.00819672131147541,\n",
       "  'f1_score': 0.014184397163120569},\n",
       " 'date': {'precision': 0.3,\n",
       "  'recall': 0.0782608695652174,\n",
       "  'f1_score': 0.12413793103448277},\n",
       " 'time': {'precision': 0.0, 'recall': 0.0, 'f1_score': 0},\n",
       " 'total': {'precision': 0.20334728033472804,\n",
       "  'recall': 0.088139281828074,\n",
       "  'f1_score': 0.1229757085020243}}"
      ]
     },
     "execution_count": 178,
     "metadata": {},
     "output_type": "execute_result"
    }
   ],
   "source": [
    "calculate_metrics(passages, find_named_entities_spacy, perform_few_shot_prompt, True)"
   ]
  },
  {
   "cell_type": "code",
   "execution_count": 181,
   "metadata": {},
   "outputs": [
    {
     "data": {
      "text/plain": [
       "{'persName': {'precision': 0.21568627450980393,\n",
       "  'recall': 0.13771517996870108,\n",
       "  'f1_score': 0.16809933142311365},\n",
       " 'orgName': {'precision': 0.22250639386189258,\n",
       "  'recall': 0.19795221843003413,\n",
       "  'f1_score': 0.20951234196267307},\n",
       " 'placeName': {'precision': 0.2749391727493917,\n",
       "  'recall': 0.16840536512667661,\n",
       "  'f1_score': 0.2088724584103512},\n",
       " 'geogName': {'precision': 0.030303030303030304,\n",
       "  'recall': 0.025423728813559324,\n",
       "  'f1_score': 0.027649769585253454},\n",
       " 'date': {'precision': 0.33783783783783783,\n",
       "  'recall': 0.3968253968253968,\n",
       "  'f1_score': 0.364963503649635},\n",
       " 'time': {'precision': 0.014423076923076924,\n",
       "  'recall': 1.0,\n",
       "  'f1_score': 0.028436018957345974},\n",
       " 'total': {'precision': 0.2140845070422535,\n",
       "  'recall': 0.18247298919567828,\n",
       "  'f1_score': 0.19701879455605964}}"
      ]
     },
     "execution_count": 181,
     "metadata": {},
     "output_type": "execute_result"
    }
   ],
   "source": [
    "calculate_metrics(passages, find_named_entities_spacy, perform_zero_shot_prompt, False)"
   ]
  },
  {
   "cell_type": "code",
   "execution_count": 182,
   "metadata": {},
   "outputs": [
    {
     "data": {
      "text/plain": [
       "{'persName': {'precision': 0.22556390977443608,\n",
       "  'recall': 0.11673151750972763,\n",
       "  'f1_score': 0.15384615384615385},\n",
       " 'orgName': {'precision': 0.2664298401420959,\n",
       "  'recall': 0.16233766233766234,\n",
       "  'f1_score': 0.20174848688634836},\n",
       " 'placeName': {'precision': 0.34210526315789475,\n",
       "  'recall': 0.07355021216407355,\n",
       "  'f1_score': 0.1210710128055879},\n",
       " 'geogName': {'precision': 0.05263157894736842,\n",
       "  'recall': 0.00819672131147541,\n",
       "  'f1_score': 0.014184397163120569},\n",
       " 'date': {'precision': 0.8166666666666667,\n",
       "  'recall': 0.21304347826086956,\n",
       "  'f1_score': 0.3379310344827586},\n",
       " 'time': {'precision': 0.0, 'recall': 0.0, 'f1_score': 0},\n",
       " 'total': {'precision': 0.28619246861924685,\n",
       "  'recall': 0.12404787812840043,\n",
       "  'f1_score': 0.17307692307692307}}"
      ]
     },
     "execution_count": 182,
     "metadata": {},
     "output_type": "execute_result"
    }
   ],
   "source": [
    "calculate_metrics(passages, find_named_entities_spacy, perform_few_shot_prompt, False)"
   ]
  },
  {
   "cell_type": "markdown",
   "metadata": {},
   "source": [
    "Problemy:\n",
    "SpaCy: \"G.\", \"Edward Griffin\"\n",
    "LLM: \"G. Edward Griffin\"\n",
    "\n",
    "Spacy: \"Narodowego Instytutu Zdrowia](https://www.ncbi.nlm.nih.gov/\"\n",
    "LLM: \"Narodowego Instytutu Zdrowia\""
   ]
  },
  {
   "cell_type": "markdown",
   "metadata": {},
   "source": [
    "Czasy na przejście po wszystkich pasażach:\n",
    "\n",
    "Zero-Shot: 3200.7369158267975s ~53:20\n",
    "Few-Shot: 3537.733955144882s ~58:57"
   ]
  },
  {
   "cell_type": "markdown",
   "metadata": {},
   "source": [
    "#### Porównanie NER do LLM NER\n",
    "\n",
    "Czas, pamięć, miejsce na HDD, miejsce w pamięci i obciążenie CPU"
   ]
  }
 ],
 "metadata": {
  "kernelspec": {
   "display_name": ".venv",
   "language": "python",
   "name": "python3"
  },
  "language_info": {
   "codemirror_mode": {
    "name": "ipython",
    "version": 3
   },
   "file_extension": ".py",
   "mimetype": "text/x-python",
   "name": "python",
   "nbconvert_exporter": "python",
   "pygments_lexer": "ipython3",
   "version": "3.12.7"
  }
 },
 "nbformat": 4,
 "nbformat_minor": 2
}
