{
 "cells": [
  {
   "cell_type": "code",
   "execution_count": 18,
   "metadata": {},
   "outputs": [
    {
     "name": "stderr",
     "output_type": "stream",
     "text": [
      "Batches: 100%|██████████| 1/1 [00:00<00:00,  8.32it/s]\n",
      "100it [00:00, 24212.34it/s]          \n",
      "Batches: 100%|██████████| 1/1 [00:00<00:00, 20.03it/s]"
     ]
    },
    {
     "name": "stdout",
     "output_type": "stream",
     "text": [
      "Document(id=cfe93bc1c274908801e6670440bf2bbba54fad792770d57421f85ffa2a4fcc94, content: 'There are over 7,000 languages spoken around the world today.', score: -0.00494105619758533)\n"
     ]
    },
    {
     "name": "stderr",
     "output_type": "stream",
     "text": [
      "\n"
     ]
    }
   ],
   "source": [
    "from haystack.document_stores.types import DuplicatePolicy\n",
    "from haystack import Document\n",
    "from haystack import Pipeline\n",
    "from haystack.components.embedders import SentenceTransformersTextEmbedder, SentenceTransformersDocumentEmbedder\n",
    "\n",
    "from haystack_integrations.components.retrievers.qdrant import QdrantEmbeddingRetriever\n",
    "from haystack_integrations.document_stores.qdrant import QdrantDocumentStore\n",
    "\n",
    "document_store = QdrantDocumentStore(\n",
    "    \":memory:\",\n",
    "    recreate_index=True,\n",
    "    return_embedding=True,\n",
    "    wait_result_from_api=True,\n",
    ")\n",
    "\n",
    "documents = [Document(content=\"There are over 7,000 languages spoken around the world today.\"),\n",
    "\t\t\t\t\t\tDocument(content=\"Elephants have been observed to behave in a way that indicates a high level of self-awareness, such as recognizing themselves in mirrors.\"),\n",
    "\t\t\t\t\t\tDocument(content=\"In certain parts of the world, like the Maldives, Puerto Rico, and San Diego, you can witness the phenomenon of bioluminescent waves.\")]\n",
    "\n",
    "# document_embedder = SentenceTransformersDocumentEmbedder(model=\"intfloat/e5-base\")  \n",
    "# document_embedder = SentenceTransformersDocumentEmbedder(model=\"sdadas/mmlw-retrieval-roberta-base\")  \n",
    "document_embedder = SentenceTransformersDocumentEmbedder(model=\"../lab5/best_model_f1_rand\")  \n",
    "document_embedder.warm_up()\n",
    "documents_with_embeddings = document_embedder.run(documents)\n",
    "\n",
    "document_store.write_documents(documents_with_embeddings.get(\"documents\"), policy=DuplicatePolicy.OVERWRITE)\n",
    "\n",
    "retriever1 = QdrantEmbeddingRetriever(document_store=document_store)\n",
    "\n",
    "query_pipeline = Pipeline()\n",
    "query_pipeline.add_component(\"text_embedder\", SentenceTransformersTextEmbedder())\n",
    "query_pipeline.add_component(\"retriever\", retriever1)\n",
    "query_pipeline.connect(\"text_embedder.embedding\", \"retriever.query_embedding\")\n",
    "\n",
    "query = \"How many languages are there?\"\n",
    "\n",
    "result = query_pipeline.run({\"text_embedder\": {\"text\": query}})\n",
    "\n",
    "print(result['retriever']['documents'][0])\n"
   ]
  },
  {
   "cell_type": "code",
   "execution_count": null,
   "metadata": {},
   "outputs": [],
   "source": [
    "from haystack.nodes import EmbeddingRetriever\n",
    "from haystack.document_stores import InMemoryDocumentStore\n",
    "\n",
    "doc_store = InMemoryDocumentStore(\n",
    "    similarity=\"cosine\",  # the e5 models were trained with a cosine similarity function\n",
    "    embedding_dim=768\n",
    ")\n",
    "\n",
    "e5 = EmbeddingRetriever(\n",
    "    document_store=doc_store,\n",
    "    embedding_model=\"intfloat/e5-base-v2\",\n",
    "    model_format=\"transformers\",  # Make sure we specify the transformers model format\n",
    "    pooling_strategy=\"reduce_mean\",  # This is the pooling method used to train the e5 models\n",
    "    top_k=20,\n",
    "    max_seq_len=512,\n",
    ")\n",
    "doc_store.update_embeddings(e5)"
   ]
  }
 ],
 "metadata": {
  "kernelspec": {
   "display_name": ".venv",
   "language": "python",
   "name": "python3"
  },
  "language_info": {
   "codemirror_mode": {
    "name": "ipython",
    "version": 3
   },
   "file_extension": ".py",
   "mimetype": "text/x-python",
   "name": "python",
   "nbconvert_exporter": "python",
   "pygments_lexer": "ipython3",
   "version": "3.12.7"
  }
 },
 "nbformat": 4,
 "nbformat_minor": 2
}
