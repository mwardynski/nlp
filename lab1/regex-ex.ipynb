{
 "cells": [
  {
   "cell_type": "markdown",
   "metadata": {},
   "source": [
    "Marcin Wardyński  \n",
    "czwartek, 8:00\n",
    "\n",
    "## Lab 1"
   ]
  },
  {
   "cell_type": "code",
   "execution_count": 96,
   "metadata": {},
   "outputs": [],
   "source": [
    "import regex\n",
    "from collections import Counter\n",
    "import matplotlib.pyplot as plt"
   ]
  },
  {
   "cell_type": "code",
   "execution_count": 97,
   "metadata": {},
   "outputs": [
    {
     "name": "stdout",
     "output_type": "stream",
     "text": [
      "There is 0 not empty titles in the dataset\n"
     ]
    }
   ],
   "source": [
    "from datasets import load_dataset\n",
    "\n",
    "dataset = load_dataset(\"clarin-knext/fiqa-pl\", name=\"corpus\")\n",
    "\n",
    "titles = dataset['corpus']['title']\n",
    "not_empty_titles = titles = [title for title in titles if title != '']\n",
    "print(f\"There is {len(not_empty_titles)} not empty titles in the dataset\")"
   ]
  },
  {
   "cell_type": "code",
   "execution_count": 98,
   "metadata": {},
   "outputs": [],
   "source": [
    "corpus = dataset['corpus']"
   ]
  },
  {
   "cell_type": "markdown",
   "metadata": {},
   "source": [
    "### Rozpoznawanie daty\n",
    "Za słownikiem WSJP, datą nazywamy \"numer określonego dnia, miesiąca, roku wskazany zgodnie z kalendarzem\" (https://wsjp.pl/haslo/podglad/25270/data), tożsamą definicję podaje PWN. Ponieważ w poleceniu jest podany przykład używający jedynie dzień i miesiąc, zostanie on również zaliczony przez wyrażenie regularne dla daty.\n",
    "\n",
    "Wszelkie pozostałe formaty definiujące punkt w czasie, np.: miesiąc i rok, lub też sam rok, zostaną pominięte."
   ]
  },
  {
   "cell_type": "markdown",
   "metadata": {},
   "source": [
    "Narodowe Centrum Kultury w poniższym artykule https://nck.pl/projekty-kulturalne/projekty/ojczysty-dodaj-do-ulubionych/ciekawostki-jezykowe/czy-wiecie-jak-poprawnie-zapisujemy-date-,c,50017 oraz słownik PWN w tym artykule: https://sjp.pwn.pl/poradnia/haslo/zapis-daty;10340.html podają właściwe sposoby zapisywania daty, użyję ich jako bazę do definicji przypadków zapisu dat, które powinny zostać rozpoznane przez wyrażenie regularne:\n",
    "- 18.05.2023, 3.6.2023, 4.5.06, ale też z użyciem myślnika 03-05-2024, 1-9-1995 - zapis wyłącznie cyframi arabskimi. Do sprawdzenia występowanie formatu amerykańskiego używającego / jako separatora.\n",
    "- 15 września 2021, 4 września 2021, też spotykane z miesiącem w mianowniku: 8 styczeń 2012 (możliwe, że i w innych przypadkach, co trzeba sprawdzić). Tylko ten format będzie akceptowany bez podanego roku, akceptacja pozostałych formatów bez podanego roku skutkowałaby zbyt dużą liczbą niewłaściwie rozpoznanych fragmentów tekstu jako daty.\n",
    "- 15 wrz 2021 - czyli to co wyżej, tylko z nazwą miesiąca zapisaną trzyliterowym skrótem\n",
    "- 10 X 2018, miesiąc w postaci liczby porządkowej w zapisie rzymskim\n",
    "\n",
    "Pierwszy podlinkowany artykuł wspomina też o formacie, w którym zapis daty jest kompletnie słowny (np. dwudziesty siódmy kwietnia dwa tysiące dwunastego roku), jednakże jest to tak rzadki przypadek, że nie będzie on brany pod uwagę."
   ]
  },
  {
   "cell_type": "markdown",
   "metadata": {},
   "source": [
    "#### Sprawdzanie przypadków szczególnych\n",
    "\n",
    "- format amerykański używający ukośnika (/)\n",
    "- dzień + miesiąc w innym przypadku, niż dopełniacz lub mianownik."
   ]
  },
  {
   "cell_type": "markdown",
   "metadata": {},
   "source": [
    "Najpierw data z ukośnikami:"
   ]
  },
  {
   "cell_type": "code",
   "execution_count": 119,
   "metadata": {},
   "outputs": [
    {
     "name": "stdout",
     "output_type": "stream",
     "text": [
      "6760\n",
      "„***JamieJBartlett***: >&#91;2012/10/22&#93;&#91;17:30:33&#93; >[&#91;Przetłumacz&#93;](http:// tran\n",
      "13187\n",
      "Jeśli chodzi o punkt c, jeśli uważasz, że firmy muszą płacić powyżej poziomu świadczeń socjalnych, r\n",
      "13680\n",
      "Plan podatkowy Trumpa jest silnie wzorowany na planie podatkowym republikańskiego gubernatora stanu \n",
      "13800\n",
      "POS to skrót od Point of Sale (podobnie jak konkretna lokalizacja sklepu), który wskazuje, że zakup \n",
      "15019\n",
      "Działania STEM, które oznaczają naukę, inżynierię, inżynierię i matematykę, to cały szum w edukacji.\n"
     ]
    }
   ],
   "source": [
    "am_date_pattern = regex.compile(r\"(?<!http\\S+)\\d{1,4}\\s*\\/\\s*\\d{1,2}\\/\\s*\\d{1,4}\", flags=regex.IGNORECASE | regex.MULTILINE)\n",
    "\n",
    "top = 5\n",
    "\n",
    "for entry in corpus:\n",
    "    found = regex.findall(am_date_pattern, entry['text'])\n",
    "\n",
    "    if found and top > 0:\n",
    "        top -= 1\n",
    "        print(entry['_id'])\n",
    "        print(entry['text'][0:100])"
   ]
  },
  {
   "cell_type": "markdown",
   "metadata": {},
   "source": [
    "Wynik powyższego kodu (ale bez ograniczania długości i ilości wyników) został przeglądnięty i z 95 odnalezionych dokumentów spełniających zadane wyrażenie regularne, jedynie następujących siedem jest faktycznymi datami w formacie amerykańskim: 307602, 320073, 338943, 359713, 395906, 397212, 456470. Zdecydowana większość wśród pozostałych to niewłaściwie sformatowane adresy URL, do których zakradła się spacja, a poza nimi wyrażenia określające proporcje, czy też nazwy własne."
   ]
  },
  {
   "cell_type": "markdown",
   "metadata": {},
   "source": [
    "Poniże sprawdzę inne przypadki miesiąca, niż mianownik i dopełniacz. Liczbę mnogą myślałem odrzucić bez sprawdzania, ale jednak dla pewności dopiszę do testowanych przypadków."
   ]
  },
  {
   "cell_type": "code",
   "execution_count": 100,
   "metadata": {},
   "outputs": [],
   "source": [
    "jan_pattern = \"styczniowi|styczniem|styczniu|stycznie|styczniów|styczni[^a]|styczniom|styczniami|styczniach\"\n",
    "feb_pattern = \"lutemu|lutym|lute[^g][^o]|lutych|lutymi\"\n",
    "mar_pattern = \"marcowi|marcem|marcu|marce|marców|marcom|marcami|marcach\"\n",
    "apr_pattern = \"kwietniowi|kwietniem|kwietniu|kwietnie|kwietni[^a]|kwietniów|kwietniom|kwietniami|kwietniach\"\n",
    "may_pattern = \"majowi|majem|maju|maje|majów|majom|majami|majach\"\n",
    "jun_pattern = \"czerwcowi|czerwcem|czerwcu|czerwce|czerwców|czerwcom|czerwcami|czerwcach\"\n",
    "jul_pattern = \"lipcowi|lipcem|lipcu|lipce|lipców|lipcom|lipcami|lipcach\"\n",
    "aug_pattern = \"sierpniowi|sierpniem|sierpniu|sierpnie|sierpni[^a]|sierpniów|sierpniom|sierpniami|sierpniach\"\n",
    "sep_pattern = \"wrześniowi|wrześniem|wrześniu|wrześnie|wrześni[^a]|wrześniów|wrześniom|wrześniami|wrześniach\"\n",
    "oct_pattern = \"październikowi|październikiem|październiku|październiki|październików|październikom|październikami|październikach\"\n",
    "nov_pattern = \"listopadowi|listopadem|listopadzie|listopady|listopadów|listopadom|listopadami|listopadach\"\n",
    "dec_pattern = \"grudniowi|grudniem|grudniu|grudnie|grudni[^a]|grudniów|grudniom|grudniami|grudniach\"\n",
    "\n",
    "pattern = regex.compile(rf\"\\d\\s*({jan_pattern}|{feb_pattern}|{mar_pattern}|{apr_pattern}|{may_pattern}|{jun_pattern}|{jul_pattern}|{aug_pattern}|{sep_pattern}|{oct_pattern}|{nov_pattern}|{dec_pattern})\", flags=regex.MULTILINE | regex.UNICODE)\n",
    "for entry in corpus:\n",
    "    found = regex.findall(pattern, entry['text'])\n",
    "\n",
    "    if found:\n",
    "        print(entry['_id'])\n",
    "        print(entry['text'])\n"
   ]
  },
  {
   "cell_type": "markdown",
   "metadata": {},
   "source": [
    "Jak widać, po podaniu numeru dnia, miesiące w innej odmianie przez przypadki niż mianownik lub dopełniacz nie występują, więc przy specyfikacji wyrażenia regularnego można je pominąć."
   ]
  },
  {
   "cell_type": "markdown",
   "metadata": {},
   "source": [
    "### Właściwe wyrażenie regularne do rozpoznawania dat"
   ]
  },
  {
   "cell_type": "code",
   "execution_count": 101,
   "metadata": {},
   "outputs": [],
   "source": [
    "months_nom = [\"styczeń\", \"luty\", \"marzec\", \"kwiecień\", \"maj\", \"czerwiec\", \"lipiec\", \"sierpień\", \"wrzesień\", \"październik\", \"listopad\", \"grudzień\"]\n",
    "months_gen = [\"stycznia\", \"lutego\", \"marca\", \"kwietnia\", \"maja\", \"czerwca\", \"lipca\", \"sierpnia\", \"września\", \"października\", \"listopada\", \"grudnia\"]\n",
    "months_3 = [\"sty\", \"lut\", \"mar\", \"kwi\", \"maj\", \"cze\", \"lip\", \"sie\", \"wrz\", \"paż\", \"lis\", \"gru\"]\n",
    "months_roman = [\"I\", \"II\", \"III\", \"IV\", \"V\", \"VI\", \"VII\", \"VIII\", \"IX\", \"X\", \"XI\", \"XII\"]\n",
    "\n",
    "months_nom_p = \"|\".join(months_nom)\n",
    "months_gen_p = \"|\".join(months_gen)\n",
    "months_3_p = \"|\".join(months_3)\n",
    "months_roman_p = \"(?-i)\"+\"|\".join(months_roman)+\"(?i)I\"\n",
    "\n",
    "months_w_year = f\"{months_3_p}|{months_roman_p}\"\n",
    "months_wo_year = f\"{months_nom_p}|{months_gen_p}\"\n",
    "separator = r\"(?:\\s+|\\s*[\\.\\-]\\s*)\"\n",
    "\n",
    "date_pattern = regex.compile(rf\"\\b(\\d{{1,4}}){separator}(?:(?:({months_wo_year})(?:{separator}(\\d{{1,4}}))?)|(?:(?:(1?\\d)|({months_w_year})){separator}(\\d{{1,4}})))\\b\", flags=regex.IGNORECASE | regex.MULTILINE)\n",
    "\n",
    "\n",
    "dates = []\n",
    "\n",
    "for entry in corpus:\n",
    "    found = regex.findall(date_pattern, entry['text'])\n",
    "    for date in found:\n",
    "        dates.append(date)"
   ]
  },
  {
   "cell_type": "markdown",
   "metadata": {},
   "source": [
    "#### Uwagi do stworzonego wyrażenia regularnego\n",
    "\n",
    "Powyższa list `dates` zawiera krotki gdzie poszczególne pozycje odpowiadają następującym wartościom:\n",
    "1. Dzień, chyba że data jest w formacie YMD, wtedy rok\n",
    "2. Pełna nazwa miesiąca w mianowniku lub dopełniaczu\n",
    "3. Rok, jeśli został podany po miesiącu o pełnej nazwie. Jeśli data w formacie YMD, to wtedy dzień\n",
    "4. Miesiąc w postaci cyfry arabskiej - może występować wyłącznie, gdy jest podany rok w grupie szóstej\n",
    "5. Miesiąc w postaci trzyliterowej lub rzymskiej - może występować wyłącznie, gdy jest podany rok w grupie szóstej\n",
    "6. Rok, gdy miesiąc znajduje się w grupie czwartej lub piątek. Dzień przy formacie daty YMD\n",
    "\n",
    "Jak widać w powyższym opisie, specyfikacja miesiąca w postaci liczb arabskich, rzymskich lub trzyliterowego skrótu zostaje uznana wyłącznie, gdy data posiada też rok. W innym wypadku wyrażenie regularne zbierało zbyt dużo fałszywych wyników, gdyż zapisy np. przedziałów, nazw własnych itp. w dużej mierze też się kwalifikowały."
   ]
  },
  {
   "cell_type": "code",
   "execution_count": 102,
   "metadata": {},
   "outputs": [
    {
     "data": {
      "text/plain": [
       "1637"
      ]
     },
     "execution_count": 102,
     "metadata": {},
     "output_type": "execute_result"
    }
   ],
   "source": [
    "def extract_month(date):\n",
    "    if date[1]:\n",
    "        try:\n",
    "            return months_gen.index(date[1].lower())+1\n",
    "        except ValueError:\n",
    "            pass\n",
    "\n",
    "        try:\n",
    "            return months_nom.index(date[1].lower())+1\n",
    "        except ValueError:\n",
    "            return None\n",
    "    elif date[3]:\n",
    "        month_idx = int(date[3])\n",
    "        return month_idx if 1 <= month_idx <= 12 else None\n",
    "    else:\n",
    "        try:\n",
    "            return months_roman.index(date[4].upper())+1\n",
    "        except ValueError:\n",
    "            pass\n",
    "\n",
    "        try:\n",
    "            return months_3.index(date[4].lower())+1\n",
    "        except ValueError:\n",
    "            return None\n",
    "\n",
    "def extract_day_and_year(date):\n",
    "    day = int(date[0])\n",
    "    year = None\n",
    "    if date[2]:\n",
    "        year = int(date[2])\n",
    "    elif date[5]:\n",
    "        year = int(date[5])\n",
    "\n",
    "    if year is None:\n",
    "        return (day, year) if 1 <= day <= 31 else (None, None)\n",
    "    else:\n",
    "        if 1 <= day <= 31 and year > 0:\n",
    "            return (day, year)\n",
    "        elif 1 <= year <= 31 and day > 0:\n",
    "            return (year, day)\n",
    "        else:\n",
    "            return (None, None)\n",
    "\n",
    "    \n",
    "\n",
    "def parse_date(date):\n",
    "    month = extract_month(date)\n",
    "    day, year = extract_day_and_year(date)\n",
    "    return (day, month, year) if day and month else (None, None, None)\n",
    "\n",
    "f_dates = []\n",
    "\n",
    "for date in dates:\n",
    "    day, month, year = parse_date(date)\n",
    "    if day and month:\n",
    "        f_dates.append((day, month, year))\n",
    "\n",
    "len(f_dates)\n"
   ]
  },
  {
   "cell_type": "code",
   "execution_count": 103,
   "metadata": {},
   "outputs": [
    {
     "data": {
      "image/png": "[encoded data removed]",
      "text/plain": [
       "<Figure size 640x480 with 1 Axes>"
      ]
     },
     "metadata": {},
     "output_type": "display_data"
    }
   ],
   "source": [
    "months = [date[1] for date in f_dates]\n",
    "months_counter = Counter(months)\n",
    "\n",
    "plt.bar(list(months_counter.keys()), list(months_counter.values()))\n",
    "plt.title('Occurrences of each month')\n",
    "plt.xlabel('Month')\n",
    "plt.ylabel('Count')\n",
    "plt.show()"
   ]
  },
  {
   "cell_type": "markdown",
   "metadata": {},
   "source": [
    "### Rozpoznawanie czasu\n",
    "\n",
    "Rozważane formaty podawania czasu:\n",
    "1. HH:MM\n",
    "2. HH:MM:SS\n",
    "Mogą istnieć dodatkowe elementy, jak specyfikacja strefy czasowej, lub setne/tycięczne sekundy"
   ]
  },
  {
   "cell_type": "code",
   "execution_count": 104,
   "metadata": {},
   "outputs": [
    {
     "data": {
      "text/plain": [
       "470"
      ]
     },
     "execution_count": 104,
     "metadata": {},
     "output_type": "execute_result"
    }
   ],
   "source": [
    "time_sperator = r\"(?:\\s*:)\"\n",
    "\n",
    "time_pattern = regex.compile(rf\"([0-2]?\\d){time_sperator}([0-5]\\d)(?:{time_sperator}([0-5]\\d))?\", flags=regex.IGNORECASE | regex.MULTILINE)\n",
    "\n",
    "times = []\n",
    "\n",
    "for entry in corpus:\n",
    "    found = regex.findall(time_pattern, entry['text'])\n",
    "    for time in found:\n",
    "        times.append(time)\n",
    "\n",
    "len(times)"
   ]
  },
  {
   "cell_type": "code",
   "execution_count": 105,
   "metadata": {},
   "outputs": [
    {
     "data": {
      "text/plain": [
       "465"
      ]
     },
     "execution_count": 105,
     "metadata": {},
     "output_type": "execute_result"
    }
   ],
   "source": [
    "def parse_time(time):\n",
    "    h = int(time[0])\n",
    "    m = int(time[1])\n",
    "    if 0 <= h <= 23 and 0 <= m <= 59:\n",
    "        s = int(time[2]) if time[2] else 0\n",
    "        if 0 <= s <= 59:\n",
    "            return (h, m, s)\n",
    "    return (None, None, None)\n",
    "\n",
    "\n",
    "f_times = []\n",
    "\n",
    "for time in times:\n",
    "    h, m, s = parse_time(time)\n",
    "    if h is not None and m is not None:\n",
    "        f_times.append((h, m, s))\n",
    "\n",
    "len(f_times)\n"
   ]
  },
  {
   "cell_type": "markdown",
   "metadata": {},
   "source": [
    "#### Uwagi do stworzonego wyrażenia regularnego\n",
    "\n",
    "Uzycie wszelkiego innego separatora, niż ':' znacznie zwiększa ilość otrzymywanych wyników, lecz większość z nich nie jest wyznaczeniem godziny, lecz numerem wersji, kwantyfikatorem lub nazwą własną. Z tego powodu jedynym słusznym sepratorem pozostaje dwukropek.\n",
    "\n",
    "Wymuszam użycie formatu dwucyfrowego dla podawanej liczby minut, żeby wyciąć szum związany z podawaniem np stosunku wartości, typu 1:4 (1 do 4).\n",
    "\n",
    "Istnieje kilka wpisów zawierających godzinę, w której to separatorowi ':' towarzyszy jakaś spacja, natomiast jeśli spacja następuje po separatorz, bardzo często łapią się wykazy, gdzie to po liczbie porządkowej danego przypadku następuje dwukropek, później spacja i wartość liczbowa odpowiadająca danemu przypadkowi. Żeby uwzględnić choć część godzin ze spacją przy separatorze, ale zarazem wykluczyć wszystkie wykazy dopuszczam spację wyłącznie przed separatorem."
   ]
  },
  {
   "cell_type": "code",
   "execution_count": 106,
   "metadata": {},
   "outputs": [
    {
     "data": {
      "image/png": "[encoded data removed]",
      "text/plain": [
       "<Figure size 640x480 with 1 Axes>"
      ]
     },
     "metadata": {},
     "output_type": "display_data"
    }
   ],
   "source": [
    "full_h_times = [time for time in f_times if time[1] == 0 and time[2] == 0]\n",
    "only_full_h = [h[0] for h in full_h_times]\n",
    "full_h_counter = Counter(only_full_h)\n",
    "\n",
    "plt.bar(list(full_h_counter.keys()), list(full_h_counter.values()))\n",
    "plt.title('Occurrences of each full hour')\n",
    "plt.xlabel('Hour')\n",
    "plt.ylabel('Count')\n",
    "plt.show()"
   ]
  },
  {
   "cell_type": "markdown",
   "metadata": {},
   "source": [
    "### Wnioski\n",
    "\n",
    "Generalnie sztuka tworzenia wyrażeń regularnych polega na odnalezieniu właściwego balansu pomiędzy wariantem restrykcyjnym i dość luźno dopasowującym. Wyrażenie regularne mają problem z uwzględnieniem kontekstu w efektywny sposób, więc zawsze należy się liczyć z pewną ilością zaakceptowanych próbek, które nie są prawidłowe.\n",
    "\n",
    "Zmniejszając precyzyjność wyrażenia regularnego możemy znaleźć więcej dat zapisanych w złym formacie, ale znajdziemy też zdecydowanie więcej elementów nie będących datą, np. separator pomiędzy grupami w postaci \"\\s*[\\.\\-]?\\s*\" pozwala na dość luźne obchodzenie się z pustymi znakami i separatorami w dacie, ale dozwala też cyfry bez separatora.  \n",
    "Dodatkowa obróka dla znalezionych wyrażeń, potencjalnie będących datami, wydaje się nieunikniona.\n",
    "\n",
    "Godziny mają mniej możliwych formatów i kolejność ich podawania jest jednoznaczna, stąd wyrażenie regularne było łatwiejsze do skonstruowania."
   ]
  },
  {
   "cell_type": "markdown",
   "metadata": {},
   "source": [
    "### Zliczanie słowa \"kwiecień\"\n",
    "#### Samo słowo \"kwiecień\" w pełnej odmianie:\n",
    "\n",
    "Za stroną http://morfeusz.sgjp.pl/ pełna fleksja słowa \"kwiecień\" wygląda w następujący sposób:\n",
    "\n",
    "- **kwie** *cień*\n",
    "- **kwie** *tni* a\n",
    "- **kwie** *tni* owi\n",
    "- **kwie** *tni* em\n",
    "- **kwie** *tni* u\n",
    "- **kwie** *tni* e\n",
    "- **kwie** *tni*\n",
    "- **kwie** *tni* ów\n",
    "- **kwie** *tni* om\n",
    "- **kwie** *tni* ami\n",
    "- **kwie** *tni* ach\n",
    "\n",
    "Jak widzimy powyżej, wszystkie formy zawierają rdzeń **kwie**, po czym dla mianownika liczby pojedyńczej następuje *cień*, natomiast w wszystkich pozostał przypadkach *tni* plus typowy dla przypadku suffix.  \n",
    "Właśnie opierając się o tą obserwację tworzę następujące wyrażenie regularne do użycia w kolejnym zadaniu: \"kwie(cień|tni)\""
   ]
  },
  {
   "cell_type": "code",
   "execution_count": 107,
   "metadata": {},
   "outputs": [
    {
     "name": "stdout",
     "output_type": "stream",
     "text": [
      "April (directly) found in 263 documents in total 359 times.\n",
      "April (compact) found in 263 documents in total 359 times.\n"
     ]
    }
   ],
   "source": [
    "april_flex = [\"kwiecień\", \"kwietnia\", \"kwietniowi\", \"kwietniem\", \"kwietniu\", \"kwietnie\", \"kwietni\", \"kwietniów\", \"kwietniom\", \"kwietniami\", \"kwietniach\"]\n",
    "april_flex_p = \"|\".join(april_flex)\n",
    "\n",
    "april_p = r\"kwie(cień|tni)\"\n",
    "\n",
    "def count_april_occurrences(what, pattern):\n",
    "    occurrences = {}\n",
    "    counter = 0\n",
    "\n",
    "    for entry in corpus:\n",
    "        found = regex.findall(pattern, entry['text'])\n",
    "        \n",
    "        counter += len(found)\n",
    "        if found:\n",
    "            occurrences[entry[\"_id\"]] = len(found)\n",
    "\n",
    "        \n",
    "        \n",
    "    print(f\"{what} found in {len(occurrences.keys())} documents in total {counter} times.\")\n",
    "    return occurrences\n",
    "\n",
    "\n",
    "occ_april = count_april_occurrences(\"April (directly)\", april_flex_p)\n",
    "occ_april = count_april_occurrences(\"April (compact)\", april_p)"
   ]
  },
  {
   "cell_type": "markdown",
   "metadata": {},
   "source": [
    "Kwiecień we wszystkich formach odmiany występuje w zadanym tekście 359 razy, w 263 różnych dokumentach.\n",
    "\n",
    "Kompaktowe wyrażenie regularne powinno być sformułowane poprawnie, gdyż daje dokładnie ten sam wynik, co wyrażenie zawierające wszystkie formy odmiany."
   ]
  },
  {
   "cell_type": "code",
   "execution_count": 108,
   "metadata": {},
   "outputs": [
    {
     "name": "stdout",
     "output_type": "stream",
     "text": [
      "April preceded by a number and a space found in 139 documents in total 201 times.\n"
     ]
    }
   ],
   "source": [
    "april_after_num_p = rf\"(?<=\\d ){april_p}\"\n",
    "occ_april_after_num = count_april_occurrences(\"April preceded by a number and a space\", april_after_num_p)"
   ]
  },
  {
   "cell_type": "code",
   "execution_count": 109,
   "metadata": {},
   "outputs": [
    {
     "name": "stdout",
     "output_type": "stream",
     "text": [
      "April not preceded by a number and a space found in 135 documents in total 158 times.\n"
     ]
    }
   ],
   "source": [
    "april_not_after_num_p = rf\"(?<!\\d ){april_p}\"\n",
    "occ_not_april_after_num = count_april_occurrences(\"April not preceded by a number and a space\", april_not_after_num_p)"
   ]
  },
  {
   "cell_type": "markdown",
   "metadata": {},
   "source": [
    "Co więcej, wyszukując nazwy \"Kwiecień\" jak w punkcie poprzednim, lecz dodając niezależnie dwa warunki: o występowaniu liczby i spacji przed nazwą miesiąca, oraz o nie występowaniu, suma tych dwóch wyszukiwań daje dokładnie ten sam wynik, co w punkcie poprzednim, który nie posiadał żadnych warunków.\n",
    "\n",
    "Poniższy kod dodatkowo jeszcze to spradza poprzez:\n",
    "- porównanie zbiorów zawierających identyfikatory dokumentów ze słowem \"kwiecień\"\n",
    "- sprawdzenie, czy dla każdego dokumentu, suma z wyrażeń warunkowych odpowiada liczbie wyników bez warunku."
   ]
  },
  {
   "cell_type": "code",
   "execution_count": 110,
   "metadata": {},
   "outputs": [
    {
     "data": {
      "text/plain": [
       "(set(), {})"
      ]
     },
     "execution_count": 110,
     "metadata": {},
     "output_type": "execute_result"
    }
   ],
   "source": [
    "def find_docs_with_diff_occ(all, sub1, sub2):\n",
    "    diff = {}\n",
    "    for key in all.keys():\n",
    "        all_v = all[key]\n",
    "        sub1_v = sub1[key] if key in sub1 else 0\n",
    "        sub2_v = sub2[key] if key in sub2 else 0\n",
    "        if all_v != sub1_v+sub2_v:\n",
    "            diff[key] = f\"all#: {all_v}, sub1{sub1_v}, sub2{sub2_v}\"\n",
    "\n",
    "    return diff\n",
    "\n",
    "docs_diff = set(occ_april.keys()) - (set(occ_april_after_num.keys()) | set(occ_not_april_after_num.keys()))\n",
    "occ_diff = find_docs_with_diff_occ(occ_april, occ_april_after_num, occ_not_april_after_num)\n",
    "\n",
    "(docs_diff, occ_diff)\n"
   ]
  },
  {
   "cell_type": "markdown",
   "metadata": {},
   "source": [
    "Jak widzimy zbiory i słowniki, które powinny zawierać różnice pomiędzy podejściami, są puste."
   ]
  },
  {
   "cell_type": "markdown",
   "metadata": {},
   "source": [
    "## Wyrażenia regularne do powyższych poleceń w wykonaniu Bielika\n",
    "\n",
    "Polecenia zostały wydane Bielikowi w wersji 1.0, wydanej 18.10.2024\n",
    "\n",
    "Polecenie z dnia 20.10.2024:\n",
    "```\n",
    "podaj mi jedno wyrażenie regularne, które dobrze znajduje godzinę, minuty i sekundy (jeśli te zostały podane)\n",
    "```\n",
    "\n",
    "Odpowiedź:\n",
    "```\n",
    "\\b(?:(?:[01]?[0-9]|2[0-3]):)?(?:[0-5][0-9])?(?::[0-5][0-9])?\\b\n",
    "```\n",
    "\n",
    "Polecenie z dnia 20.10.2024:\n",
    "```\n",
    "Podaj mi jedno wyrażenie regularne najlepiej nadające się do znajdowania daty w tekście, gdzie miesiąc mógł zostać zapisany słownie lub liczbowo używając cyfr arabski oraz rzymskich\n",
    "```\n",
    "\n",
    "Odpowiedź:\n",
    "```\n",
    "\\b(?:\\d{1,2}\\.){1,2}(?:\\d{1,4}|(?:\\d{1,2}\\.?\\d{1,2}))(?:\\s(?:stycznia|lutego|marca|kwietnia|maja|czerwca|lipca|sierpnia|września|października|listopada|grudnia|styczniu|lutym|marcu|kwietniu|maju|czerwcu|lipcu|sierpniu|wrześniu|październiku|listopadzie|grudniu))?\\b\n",
    "```\n",
    "\n",
    "Polecenie z dnia 20.10.2024:\n",
    "```\n",
    "Stwórz wyrażenie regularne, które odnajdue w tekście wszystkie wystąpienia słowa \"Kwiecień\" we wszystkich odmianach przez przypadki, ale samo wyrażenie nie może zawierać wszystkich przypadków zdefiniowanych wprost\n",
    "```\n",
    "\n",
    "Odpowiedź:\n",
    "```\n",
    "\\b(?:k|K)wiet[ań]?[ę]?\\b\n",
    "```\n",
    "\n",
    "Polecenie z dnia 20.10.2024:\n",
    "```\n",
    "zmodyfikuj powyższe wyrażenie regularne tak, żeby akceptowało słowo \"Kwiecień\" jedynie jeśli znajduje za liczbą i spacją\n",
    "```\n",
    "\n",
    "Odpowiedź:\n",
    "```\n",
    "\\b\\d+\\s(?:k|K)wiet[ań]?[ę]?\\b\n",
    "```\n",
    "\n",
    "Polecenie z dnia 20.10.2024:\n",
    "```\n",
    "Jeszcze raz zmodyfikuj początkowe wyrażenie do odnajdowania słowa \"Kwiecień\", jednak tym razem mają zostać odnalezione tylko te słowa, które nie znajdują się zaraz za liczbą i spacją\n",
    "```\n",
    "\n",
    "Odpowiedź:\n",
    "```\n",
    "\\b(?:(?<!\\d+\\s)k|K)wiet[ań]?[ę]?\\b\n",
    "```\n",
    "\n"
   ]
  },
  {
   "cell_type": "markdown",
   "metadata": {},
   "source": [
    "### Zliczanie wystąpień pełnych godzin przy użyciu wyrażenia regularnego od Bielika"
   ]
  },
  {
   "cell_type": "markdown",
   "metadata": {},
   "source": [
    "Niestety wyrażenie od Bielika nie nadaje się do użycia wprost, gdyż w zaproponowanej formie odnajduje wyłącznie puste ciągi znaków. Można zauważyć, że wszystkie wyspecyfikowane grupy w wyrażeniu nie są grupami matchującymi, a dodatkowo wystąpienie każdej z grup jest opcjonalne. Dobrze natomiast wygląda sama definicja zakresu cyfr mogących wystąpić w każdym miejscu podanego czasu.\n",
    "\n",
    "Dokonałem jego drobnej korekty, która przynosi porządane wyniki. Generalnie wyrażenie regularne od LLM było całkiem dobrze pomyślane, lecz detale nie pozwalały mu na właściwe funkcjonowanie."
   ]
  },
  {
   "cell_type": "code",
   "execution_count": 111,
   "metadata": {},
   "outputs": [
    {
     "name": "stdout",
     "output_type": "stream",
     "text": [
      "Matches after regex: 448\n",
      "Dates after cleaning: 448\n"
     ]
    },
    {
     "data": {
      "image/png": "[encoded data removed]",
      "text/plain": [
       "<Figure size 640x480 with 1 Axes>"
      ]
     },
     "metadata": {},
     "output_type": "display_data"
    }
   ],
   "source": [
    "time_llm_pattern = regex.compile(r\"\\b(?:(?:[01]?[0-9]|2[0-3]):)?(?:[0-5][0-9])?(?::[0-5][0-9])?\\b\", flags=regex.IGNORECASE | regex.MULTILINE)\n",
    "corrected_time_llm_pattern = regex.compile(r\"\\b(?:([01]?[0-9]|2[0-3]):)([0-5][0-9])(?::([0-5][0-9]))?\\b\", flags=regex.IGNORECASE | regex.MULTILINE)\n",
    "\n",
    "\n",
    "times = []\n",
    "for entry in corpus:\n",
    "    found = regex.findall(corrected_time_llm_pattern, entry['text'])\n",
    "    for time in found:\n",
    "        times.append(time)\n",
    "\n",
    "print(f\"Matches after regex: {len(times)}\")\n",
    "\n",
    "f_times = []\n",
    "for time in times:\n",
    "    h, m, s = parse_time(time)\n",
    "    if h is not None and m is not None:\n",
    "        f_times.append((h, m, s))\n",
    "\n",
    "print(f\"Dates after cleaning: {len(f_times)}\")\n",
    "\n",
    "full_h_times = [time for time in f_times if time[1] == 0 and time[2] == 0]\n",
    "only_full_h = [h[0] for h in full_h_times]\n",
    "full_h_counter = Counter(only_full_h)\n",
    "\n",
    "plt.bar(list(full_h_counter.keys()), list(full_h_counter.values()))\n",
    "plt.title('Occurrences of each full hour')\n",
    "plt.xlabel('Hour')\n",
    "plt.ylabel('Count')\n",
    "plt.show()\n"
   ]
  },
  {
   "cell_type": "markdown",
   "metadata": {},
   "source": [
    "Po wprowadzeniu poprawek do wyrażenia regularnego otrzymujemy wyniki niemalże identyczne z moimi. Poprawione wyrażenie regularne od LLM znalazło finalnie o 17 wystąpień czasu w tekście mniej, niż moje wyrażenie regularne.  \n",
    "Fakt ten nie powinien dziwić, gdyż wyrażenie to było bardziej rygorystyczne w swojej formie przez specyfikację zakresu cyfr na poszczególnych pozycjach. Dobrą jakość odnalezionych wyników przy pomocy wyrażenia regularnego widać też po tym, że czyszczenie wyników nie usunęło żadnego ze znalezionych rezultatów."
   ]
  },
  {
   "cell_type": "markdown",
   "metadata": {},
   "source": [
    "### Zliczanie wystąpień miesięcy przy użyciu wyrażenia regularnego od Bielika"
   ]
  },
  {
   "cell_type": "markdown",
   "metadata": {},
   "source": [
    "W przypadku odnalezie daty LLM kompletnie się pogubił i zaproponowane wyrażenie nie może przynosić dobrych wyników. Ponownie wszystkie zdefiniowane grupy nie są matchującymi, miesiące słownie zostały doklejone na końcu wyrażenia, a przecież raczej występują w środku daty, liczb rzymskich kompletnie zabrakło, i dodatkowo część wyrażenia odpowiadająca za rok może przyjąc postać czterocyfrową (czyli ok), lub dwa razy dwiecyfry, a pomiędzy każdą z tych dwójek kropka. "
   ]
  },
  {
   "cell_type": "code",
   "execution_count": 120,
   "metadata": {},
   "outputs": [
    {
     "data": {
      "text/plain": [
       "['0.1',\n",
       " '0.1',\n",
       " '0.1',\n",
       " '1.65',\n",
       " '0.0048',\n",
       " '0.58',\n",
       " '0.01',\n",
       " '0.01',\n",
       " '46.667',\n",
       " '3.333',\n",
       " '1.5',\n",
       " '1.65',\n",
       " '1.65',\n",
       " '16.500',\n",
       " '1.65',\n",
       " '14.05.2010',\n",
       " '18.05.2010',\n",
       " '14.07.2010',\n",
       " '4.1',\n",
       " '1.65',\n",
       " '1.200',\n",
       " '3.11',\n",
       " '1.65',\n",
       " '1.65',\n",
       " '1.05',\n",
       " '1.05',\n",
       " '1.65',\n",
       " '1.65',\n",
       " '1.65',\n",
       " '7.800']"
      ]
     },
     "execution_count": 120,
     "metadata": {},
     "output_type": "execute_result"
    }
   ],
   "source": [
    "date_llm_pattern = regex.compile(r\"\\b(?:\\d{1,2}\\.){1,2}(?:\\d{1,4}|(?:\\d{1,2}\\.?\\d{1,2}))(?:\\s(?:stycznia|lutego|marca|kwietnia|maja|czerwca|lipca|sierpnia|września|października|listopada|grudnia|styczniu|lutym|marcu|kwietniu|maju|czerwcu|lipcu|sierpniu|wrześniu|październiku|listopadzie|grudniu))?\\b\", flags=regex.IGNORECASE | regex.MULTILINE)\n",
    "\n",
    "dates = []\n",
    "\n",
    "for entry in corpus:\n",
    "    found = regex.findall(date_llm_pattern, entry['text'])\n",
    "    for date in found:\n",
    "        dates.append(date)\n",
    "\n",
    "dates[:30]"
   ]
  },
  {
   "cell_type": "markdown",
   "metadata": {},
   "source": [
    "W związku z tym, że powyższe wyrażenie regularne jedynie w wąskim zakresie będzie zwracało daty, a większość wyników to szum, nie wprowadzam dalszych korekt i nie przedstawię wykresu przedstawiającego liczbę miesięcy na jego podstawie, gdyż już teraz nie widać zasadności używania tego wyrażenia."
   ]
  },
  {
   "cell_type": "markdown",
   "metadata": {},
   "source": [
    "### Analiza przez Bielika występowania słowa \"Kwiecień\" w tekście\n",
    "\n",
    "Wyrażenie regularne zwrócone przez LLM do odnajdowania słowa \"Kwiecień\" we wszystkich przypadkach nie działa. Wyrażenie dla przypomnienia wygląda tak:`\\b(?:k|K)wiet[ań]?[ę]?\\b` i już na pierwszy rzut oka można powiedzieć, że w przeciwieństwie do prawidłowej definicji nie znajdzie ani jednego wystąpienia tego słowa.\n",
    "\n",
    "Wyrażenie oczekuje od dopasowywanego łańcucha znaków, żeby zaczynało się od \"kwiet\", a tym warunkiem wyklucza mianownik l.poj., natomiast po \"t\" oczekuje \"ań\" lub \"ę\", a wszystkie formy poza mianownikiem mają na tej pozycji litery \"ni\", czym wyklucza pozostałe przypadki. q.e.d. :D\n",
    "\n",
    "Warianty tego zapytania sprawdzające występowania, lub jego brak, liczby oraz spacji przed nazwą \"Kwiecień\" bazują na tym samym wyrażeniu, więc już wiemy, że nie zadziałają. Przyjrzyjmy się więc wyłącznie sposobowi realizacji warunku dotyczącego liczby i spacji:\n",
    "\n",
    "1. Wyrażenie dla liczby i spacji przed słowem \"Kwiecień\": `\\b\\d+\\s(?:k|K)wiet[ań]?[ę]?\\b` - dodatkowy warunek się zgadza, ale nie używa formuły *positive lookbehind*\n",
    "2. Wyrażenie bez liczby i spacji przed słowem \"Kwiecień\": `\\b(?:(?<!\\d+\\s)k|K)wiet[ań]?[ę]?\\b` - warunek się zgadza i używa formuły *negative lookbehind*\n",
    "\n"
   ]
  },
  {
   "cell_type": "markdown",
   "metadata": {},
   "source": [
    "## Dodatkowe pytania\n",
    "\n",
    "#### Czy wyrażenia regularne są dobre do rozpoznawania czasu?\n",
    "\n",
    "Jak zauważyłem przy tworzeniu wyrażenia regularnego dla rozpoznawania czasu, format podawania czasu w języku polskim jest dość prosty i dobrze ustandaryzowany, czyniąc go dobrym kandydatem do bycia rozpoznawanym przez wyrażenia regularne. Należy się liczyć z tym, że wciąż przypadkiem można zakwalifikować jako czas inne wyrażenie, np. stosunek 1:4, jednak przypadki te są marginalne w porównaniu do wyrażeń faktycznie zawierających czas, gdyż dwukropek pomiędzy dwoma liczbami jest bardzo charakterystyczny dla zapisu czasu.\n",
    "\n",
    "#### Czy wyrażenia regularne są dobre do rozpoznawania dat?\n",
    "\n",
    "Format daty jest na tyle złożony i dopuszczający wiele wariantów, że wyrażenia regularne zaczynają mieć problemy z ich właściwą kwalifikacją.  \n",
    "W formacie daty istnieje wiele czynników komplikujących jego definicję, jak:\n",
    "- kolejność DMY lub YMD\n",
    "- rok zapisany przy użyciu czterech cyfr, lub skrótowo dwóch\n",
    "- format zapisu miesiąca\n",
    "- separator pomiędzy poszczególnymi elementami daty\n",
    "\n",
    "Na domiar złego separatory elementów składowych daty, czyli najczęściej kopka lub spacja, występują na tyle często w innych wyrażeniach, że nie trudno o dużą liczbę false postives. Fakt ten zachęca do zwiększania dokładności wyrażenia, co z kolei doprowadzi do wykluczenia pewnych wyrażeń będących datami, lecz sformatowanymi odrobinę inaczej, lub z małym błędem.\n",
    "\n",
    "Jak pisałem we wnioskach do wykonanego ćwiczenia, wymagany jest tu balans pomiędzy restrykcyjnością wyrażenia, a akceptacją wyrażeń false positive. Do lepszego kwalifowania wyrażeń jako daty potrzebowalibyśmy informacji na temat kontekstu ich występowania.\n",
    "\n",
    "\n",
    "#### Jak można być pewnym, że wyrażenie regularne dopasowało wszystkie i wyłącznie poprawne wyrażenia danego typu?\n",
    "\n",
    "Pytanie to sprowadza się do problemu stosunku `Precision` do `Recall`, który ilustruje poniższa grafika:\n",
    "\n",
    "![precision-recall](_img_precision-recall.png)\n",
    "\n",
    "Przy przetwarzaniu języka naturalnego istnieje tak wiele składowych, że nawet przy rozważaniu dość prostego wyrażenia regularnego w stosunkowo dobrze przygotowanym tekście, wciąż możemy się natknąć na pewne niejednoznaczności językowe, które zaburzą otrzymane wyniki.\n",
    "\n",
    "Przykładem tekstu, gdzie uzyskanie `Precision` i `Recall` powinno być normą, to tekst tworzony przez maszynę w precyzyjnie określonym formacie, jak np. logi działającego serwera. Parsując takie logi, znamy dokładnie miejsce oraz format zapisu poszukiwanego wyrażenia, przez co np. wyszukiwanie wszystkich wpisów dokonancyh o wyspecyfikowanej dacie nie stwarza problemów.\n",
    "\n",
    "#### Czy LLM umie w regex?\n",
    "\n",
    "Nie, nie umie, a przynajmniej Bielik nie umie. Żadne z uzyskanych wyrażeń regularnych w tym zestawie ćwiczeń nie nadawało się do bezpośredniego wykorzystania.\n",
    "\n",
    "Jeszcze dla formatu czasu potrafię sobie wyobrażić, że odpowiednia budowa zapytania naprowadziłaby w końcu model na właściwe wyrażenie regularne, natomiast dla wyrażenia o większej złożoność, np. daty, wyzwanie to przerasta LLM. Prompt do wyrażenia daty byłby tak długi, że nawet jeśliby uwzględnić w nim wszystkie wymagania, LLM najpewnie pominąłby niektóre z nich, tak jak to miało miejsce z liczbami rzymskimi w naszym przypadku.\n",
    "\n",
    "Jednakże w obronie LLM mogę powiedzieć, że dla nie skrajnie trudnych wyrażeń regularnych warto rozpocząć pracę nad wyrażeniem od zapytania modelu, gdyż może on dostarczyć podstawę wyrażenia regularnego do dalszch prac."
   ]
  }
 ],
 "metadata": {
  "kernelspec": {
   "display_name": ".venv",
   "language": "python",
   "name": "python3"
  },
  "language_info": {
   "codemirror_mode": {
    "name": "ipython",
    "version": 3
   },
   "file_extension": ".py",
   "mimetype": "text/x-python",
   "name": "python",
   "nbconvert_exporter": "python",
   "pygments_lexer": "ipython3",
   "version": "3.12.7"
  }
 },
 "nbformat": 4,
 "nbformat_minor": 2
}
